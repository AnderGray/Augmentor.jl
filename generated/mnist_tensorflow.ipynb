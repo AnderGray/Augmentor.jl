{
 "cells": [
  {
   "cell_type": "markdown",
   "metadata": {},
   "source": [
    "# MNIST: TensorFlow CNN\n",
    "\n",
    "In this tutorial we will adapt the\n",
    "[MNIST example](https://github.com/malmaud/TensorFlow.jl/blob/master/examples/mnist_full.jl)\n",
    "from [TensorFlow.jl](https://github.com/malmaud/TensorFlow.jl)\n",
    "to utilize a custom augmentation pipeline.\n",
    "In order to showcase the effect that image augmentation can\n",
    "have on a neural network's ability to generalize, we will\n",
    "limit the training set to just the first 500 images (of the\n",
    "available 60,000!). For more information on the dataset see\n",
    "[MNIST1998].\n",
    "\n",
    "\n",
    "## Preparing the MNIST dataset\n",
    "\n",
    "In order to access, prepare, and visualize the MNIST images we\n",
    "employ the help of three additional Julia packages. In the\n",
    "interest of time and space we will not go into great detail\n",
    "about their functionality. Feel free to click on their\n",
    "respective names to find out more information about the\n",
    "utility they can provide.\n",
    "\n",
    "- [MLDatasets.jl](https://github.com/JuliaML/MLDatasets.jl)\n",
    "  has an MNIST submodule that offers a convenience interface\n",
    "  to read the MNIST database.\n",
    "\n",
    "- [Images.jl](https://github.com/JuliaImages/Images.jl) will\n",
    "  provide us with the necessary tools to process and display\n",
    "  the image data in Julia / Juypter.\n",
    "\n",
    "- [MLDataUtils.jl](https://github.com/JuliaML/MLDataUtils.jl)\n",
    "  implements a variety of functions to convert and partition\n",
    "  Machine Learning datasets. This will help us prepare the\n",
    "  MNIST data to be used with TensorFlow."
   ]
  },
  {
   "cell_type": "code",
   "execution_count": 1,
   "metadata": {
    "collapsed": true
   },
   "outputs": [],
   "source": [
    "using Images, MLDatasets, MLDataUtils\n",
    "srand(42);"
   ]
  },
  {
   "cell_type": "markdown",
   "metadata": {},
   "source": [
    "As you may have seen previously in the\n",
    "[elastic distortions tutorial](@ref elastic), the function\n",
    "`MNIST.traintensor` returns the MNIST training images\n",
    "corresponding to the given indices as a multi-dimensional\n",
    "array. These images are stored in the native horizontal-major\n",
    "memory layout as a single array of `Float64`. All the\n",
    "individual values are scaled to be between `0.0` and `1.0`.\n",
    "Also note, how the observations are laid out along the last\n",
    "array dimension"
   ]
  },
  {
   "cell_type": "code",
   "execution_count": 2,
   "metadata": {},
   "outputs": [
    {
     "name": "stdout",
     "output_type": "stream",
     "text": [
      "summary(MNIST.traintensor(1:500)) = \"28×28×500 Array{Float64,3}\"\n"
     ]
    }
   ],
   "source": [
    "@show summary(MNIST.traintensor(1:500));"
   ]
  },
  {
   "cell_type": "markdown",
   "metadata": {},
   "source": [
    "The corresponding label of each image is stored as an integer\n",
    "value between `0` and `9`. That means that if the label has\n",
    "the value `3`, then the corresponding image is known to be a\n",
    "handwritten \"3\". To show a more concrete example, the\n",
    "following code reveals that the first training image denotes a\n",
    "\"5\" and the second training image a \"0\" (etc)."
   ]
  },
  {
   "cell_type": "code",
   "execution_count": 3,
   "metadata": {},
   "outputs": [
    {
     "name": "stdout",
     "output_type": "stream",
     "text": [
      "summary(MNIST.trainlabels(1:500)) = \"500-element Array{Int64,1}\"\n",
      "First eight labels: 5, 0, 4, 1, 9, 2, 1, 3\n"
     ]
    }
   ],
   "source": [
    "@show summary(MNIST.trainlabels(1:500))\n",
    "println(\"First eight labels: \", join(MNIST.trainlabels(1:8),\", \"))"
   ]
  },
  {
   "cell_type": "markdown",
   "metadata": {},
   "source": [
    "For TensorFlow we will require a slightly different dimension\n",
    "layout for the images. More specifically, we will move the\n",
    "observations into the first array dimension. The labels will\n",
    "be transformed into a one-of-k matrix. For performance reasons,\n",
    "we will further convert all the numerical values to be of type\n",
    "`Float32`. We will do all this by creating a little utility\n",
    "function that we will name `prepare_mnist`."
   ]
  },
  {
   "cell_type": "code",
   "execution_count": 4,
   "metadata": {},
   "outputs": [
    {
     "data": {
      "text/plain": [
       "prepare_mnist"
      ]
     },
     "execution_count": 4,
     "metadata": {},
     "output_type": "execute_result"
    }
   ],
   "source": [
    "\"\"\"\n",
    "    prepare_mnist(tensor, labels) -> (X, Y)\n",
    "\n",
    "Change the dimension layout x1×x2×N of the given array\n",
    "`tensor` to N×x1×x2 and store the result in `X`.\n",
    "The given vector `labels` is transformed into a 10×N\n",
    "one-hot matrix `Y`. Both, `X` and `Y`, will have the\n",
    "element type `Float32`.\n",
    "\"\"\"\n",
    "function prepare_mnist(tensor, labels)\n",
    "    features = convert(Array{Float32}, permutedims(tensor, (3,1,2)))\n",
    "    targets = convertlabel(LabelEnc.OneOfK{Float32}, labels, 0:9, ObsDim.First())\n",
    "    features, targets\n",
    "end"
   ]
  },
  {
   "cell_type": "markdown",
   "metadata": {},
   "source": [
    "With `prepare_mnist` defined, we can now use it in conjunction\n",
    "with the functions in the `MLDatasets.MNIST` sub-module to load\n",
    "and prepare our training set. Recall that for this tutorial only\n",
    "use the first 500 images of the training set will be used."
   ]
  },
  {
   "cell_type": "code",
   "execution_count": 5,
   "metadata": {},
   "outputs": [
    {
     "name": "stdout",
     "output_type": "stream",
     "text": [
      "summary(train_x) = \"500×28×28 Array{Float32,3}\"\n",
      "summary(train_y) = \"500×10 Array{Float32,2}\"\n"
     ]
    },
    {
     "data": {
      "text/html": [
       "<table><tbody><tr><td style='text-align:center;vertical-align:middle; margin: 0.5em;border:1px #90999f solid;border-collapse:collapse'><img style='max-width: 100px; max-height:100px;display:inline' src=\"data:image/png;base64,iVBORw0KGgoAAAANSUhEUgAAAHAAAABwCAAAAADji6uXAAAABGdBTUEAALGPC/xhBQAAAAJiS0dEAP+Hj8y/AAAAB3RJTUUH4QkdABwykA+DaQAAAZxJREFUaN7t2r0rRXEcx/Hb9ZASsioGmVhkUMqiKDaFwWSQQVZFpNgsJv4ByoiMBhmZFBkUi/K0SEomT+9POXW7nTqXuudBn9dyb93ueS/3d87vfM/NfcUs56CDDjrooIMOOpiC4DueCqxgDsO4wzhyqMEyHEw+eIMrbGIKY8iHaMEI9L4OvTiCg8kGT9GIfIRKbGHnxzEuEXZMB+MNamG3ISzSgyFogdcj6sfnYDJB2cMkNhDEuvAKfX4BnRAcTG9QXvAJHVjBbZQacDAdwcAsFOzDBxzMXlCLXTFFD+Bg9oJyDV1wtfGdwDp0UnAwO0HZRQOCC/Iq7uFgdoJyjgEE0WncwsHsBOUZuhGtgKL9cDBbwUA1FNRr2DDIwXQGz7CEQQSLvxNRG2QHkw9qaDeDJhQOiqqgQVHU9x1MLviANbSieNDXjX2UchwH4w8+4hDtCBvSalP8mwGDg/EFNWAfRdiQXQ+yNLh9Q6khB+MLnkAPHptRHKrFAoIB+184WP6g/gRQGOnAPBahm5e/hhyML1huDjrooIP/MPgNqMMZJ8UsgboAAAAASUVORK5C\"></td><td style='text-align:center;vertical-align:middle; margin: 0.5em;border:1px #90999f solid;border-collapse:collapse'><img style='max-width: 100px; max-height:100px;display:inline' src=\"data:image/png;base64,iVBORw0KGgoAAAANSUhEUgAAAHAAAABwCAAAAADji6uXAAAABGdBTUEAALGPC/xhBQAAAAJiS0dEAP+Hj8y/AAAAB3RJTUUH4QkdABwykA+DaQAAAbZJREFUaN7t2L0rRWEAx/HbVUopL4PyEkabSRELZWOxkCi7GEwGMrHJn2DGohiMSpEiVkbKIJsU0/X9yVMnOc5JOedc/T7LvZ2ee75neM45z31KlYyVHHTQQQcddPCfBS8whzL0eQkHqyd4hSbURDTDweoInqMDmiwKNaIF+n6KNzhYzOALTtAFnTwE+7CHcGwdDhYzOIPojR6Cso0R6NgUHCxeUC9bPazLn4axCX1vxzX2UcIkHCxW8OvLdgzPOMQGHhHG6gLqEbegcjD74A2moRPpJdsLPajjxoeHgX7jYP7BV4xDJ2jAEZ5wj6TgEBzMP6hFbbjZj1FJwcFiBQcQXrZpYh8nhH4zCAfzDR6gDpoAW0gbDJNmHg7mG9yFftiKBySF9KBfhoKj0CLLwWIEu5EmtgKN74Re1HFjHcw+uIifYvqjo0Wvxk4g6eIczC64A93EmgRxY7SpEDYaZpEUczDbYJg0tViAJscddFx/cHQhCunBoM28MzhYzGDQhh5Ej2mxu4o0IQezD2rjoB/fbahrgyjpoe5g/kHRAngN0eASbvGbmIPZB/+Cgw466KCDDhYw+A5wdjn4H8GI2wAAAABJRU5ErkJg\"></td><td style='text-align:center;vertical-align:middle; margin: 0.5em;border:1px #90999f solid;border-collapse:collapse'><img style='max-width: 100px; max-height:100px;display:inline' src=\"data:image/png;base64,iVBORw0KGgoAAAANSUhEUgAAAHAAAABwCAAAAADji6uXAAAABGdBTUEAALGPC/xhBQAAAAJiS0dEAP+Hj8y/AAAAB3RJTUUH4QkdABwykA+DaQAAAVVJREFUaN7t2b8uBFEYhvFBRCJCIvGnlS1UEq07kGBLFYlKoqLanmY3cQUKEYmGwhVoNHRCRY1CJ1qJ8LzdFjvYEztfjry/bmf22+cUZzIz2eKzYoWDDjrooIMOOuhgBsELTOEBDsYEL3GO1GATS3AwLriLNaTEPrCJOdzDwZhgDanBZ/RhHWXfcbD3wRmkBheh4B4cjAneYRipwQUoeA0HY4K6eWogJfiCaWj+EQ7GBDegAYW7DWqRmp3FKxyMDeqF5DeRN5xiBUPQ7Am+m3GwmuAZ2o/f4gb72MYWRjGCCSxDnwdQ9gDsYDVB/VA/xjHfRse0kEGMQTfaHWiDPOEdk9D5nzaag70NSgv1Dg5R9nB0AC1IL0IOxgdTrELBBhzMO3gFBx10MC5Y4BgO5hvUpjmCg3kH9SeJg/kGdeE7mG9QF3ylm8bBPw92w0EHHXTwHwa/AAmpEmV9KgHnAAAAAElFTkSuQmCC\"></td><td style='text-align:center;vertical-align:middle; margin: 0.5em;border:1px #90999f solid;border-collapse:collapse'><img style='max-width: 100px; max-height:100px;display:inline' src=\"data:image/png;base64,iVBORw0KGgoAAAANSUhEUgAAAHAAAABwCAAAAADji6uXAAAABGdBTUEAALGPC/xhBQAAAAJiS0dEAP+Hj8y/AAAAB3RJTUUH4QkdABwykA+DaQAAASxJREFUaN7t2aFuwlAUh/GmqViCQMDU3LAoLMkEhgfYC0wg5vcCIzwEkmBm9wBk2ZY9AHYO3EhmliCQ7DtJb1IFtCHrPcv/8ye/irb39jbZ/3GJQIECBQoUKFBgxOCEUkrojQT6AmfUoIwMfSeBvsBHyvIE+gMX1CLDurSmHQn0AX7QFYUbZk7HZgTGBY4ozRvQKTMC4wG/ySC7Wdr0QgL9gCvqUQDHdOqswDjAKYUN05B+SKAf8JmaZOANbajMvMB6QXvg00J3VPaCBdYL3lNW6JME+gGXdE0Bu6WymMB6wUsKWJ+2JNAXGDa91hNVwQTWB9pCaz9AwsJrB3gC/YD20rYDPIMu6IEOHcAKjA98pfDx2aGqkECBAquDX2SHBwL9gudOoECBAv8h+AtjF6KlHhmAugAAAABJRU5ErkJg\"></td><td style='text-align:center;vertical-align:middle; margin: 0.5em;border:1px #90999f solid;border-collapse:collapse'><img style='max-width: 100px; max-height:100px;display:inline' src=\"data:image/png;base64,iVBORw0KGgoAAAANSUhEUgAAAHAAAABwCAAAAADji6uXAAAABGdBTUEAALGPC/xhBQAAAAJiS0dEAP+Hj8y/AAAAB3RJTUUH4QkdABwykA+DaQAAAXRJREFUaN7t2bErRWEcxvGTa5BiUgzYyGI1WMSCyYQ/AmUxKWVTyqDMBosRk0lZMCuTySQWiSgGvk/dX51F54RO77k9n+ne897e7x1+nXPPudlXxTIHHXTQQQcddNBBBx100EFcYQmjaGvawSF0XOsOphvUpr1oQKEpKNxo0rFFOJhe8BMX6II2nsQZPvCCWURwGw6mF9xHDMYMnhFrB4i1QTzCwbSC69AwaMMV5GMygggeoWg/B6sNbkKxDszhDbH2jmN0Qp/ZQFHMwWqDT4iLrWL5tVuMIYZlAa9wMK3gA2LDO+j9FsbRjTgZtOMEZWIOVhvU0PQhfhw1cgbQD73WZ8rGHKw2KLq57IGCw1jDDe4xAQVX4WC6wZ+cI4O+yC4crF/wFHEyKLp5cTDNoDhY72DrT2nrB/fgYL2D14gLsIP1DMoQNDSXcLCewXjwrj+8dIPjYP2Cetg+DUXn8eeHew5WHozoMhQtOzgOphX8DQf/3Tdbyyamcn4srAAAAABJRU5ErkJg\"></td><td style='text-align:center;vertical-align:middle; margin: 0.5em;border:1px #90999f solid;border-collapse:collapse'><img style='max-width: 100px; max-height:100px;display:inline' src=\"data:image/png;base64,iVBORw0KGgoAAAANSUhEUgAAAHAAAABwCAAAAADji6uXAAAABGdBTUEAALGPC/xhBQAAAAJiS0dEAP+Hj8y/AAAAB3RJTUUH4QkdABwykA+DaQAAAbtJREFUaN7t2T8o5nEAx/Enlutw2SiKUiyKdNdNZuXPopTBZGFRNiZyuhvOdAOLQRmwMjCxYGCwKiQUoXCnlDvKvT/1fOvpVzyl/Pqqz2t5/nx/v+97+f17vk/mKWUZBx100EEHHXTQwciCtzjDNL7jHg6+j+Ah+tGAwhwDcDDu4C76UAQFClCFeuhzGbSNg/EFf0OhUuQeJHU4wh7Cd+twML7gDAoTanECjTsYf7AVYcIadOMYYXwJDsYdPMUoNnGB5LgeohyMO5hPLxx8X8Ff+AH9gNHrFyjWjEc4GGfwDttoR0FWBuF9BQ6Qbx4H0w/+wxYqoQOjGJq8CyUIJ3w5fuIvHIwnqJ0XESb9hg1o7ArJRQVZwEsLRA6mF9TBMowwURtuoLFLfIZO+A8YQSfCti1YxU6Wg+kHdRMdgnb+hElcQ2O6gH+FxrSosAZ9/wcr6IH2CfFqOJh+cAraWBfneegkX4Yu2GFhbwxhUSFpDm1ZWnBwMP2gbqaa9COaoIMj9wI9jnwPvM9xMJ1gI5I31g5MYB8PeE3MwfSC+iNyFoPQD85z5HvAdTCu4Fty0EEHHXTQQQcdfAP/Af1Wl1ghsDN/AAAAAElFTkSuQmCC\"></td><td style='text-align:center;vertical-align:middle; margin: 0.5em;border:1px #90999f solid;border-collapse:collapse'><img style='max-width: 100px; max-height:100px;display:inline' src=\"data:image/png;base64,iVBORw0KGgoAAAANSUhEUgAAAHAAAABwCAAAAADji6uXAAAABGdBTUEAALGPC/xhBQAAAAJiS0dEAP+Hj8y/AAAAB3RJTUUH4QkdABwykA+DaQAAANNJREFUaN7t2rEJAkEURdFh7cASBDOLsAQTmzDQHrSDtRexETNBE2MTc30PHNhUg9W33NvAST5/mNktz54rgICAgICAAwDXqqiZuirALPCixqpRI3VUgFngQy0UYC7oNgowF7yruQLMBW9qoiq4U58ewoC/Bd1WVdDtFWAW6ADzQV9mmneAmeDwpxQQEBCw3+W9VIB5YHdo3EkBZoEr1QX9WASYBbYKMBt0U1UXuJf5WQFmgf5gUofGKGAeeFCA2aAf1/3zAGAu+G2AgICAgIB/CL4AdSaCtfJhq3UAAAAASUVORK5C\"></td><td style='text-align:center;vertical-align:middle; margin: 0.5em;border:1px #90999f solid;border-collapse:collapse'><img style='max-width: 100px; max-height:100px;display:inline' src=\"data:image/png;base64,iVBORw0KGgoAAAANSUhEUgAAAHAAAABwCAAAAADji6uXAAAABGdBTUEAALGPC/xhBQAAAAJiS0dEAP+Hj8y/AAAAB3RJTUUH4QkdABwykA+DaQAAAYJJREFUaN7t2T8vBFEUhvGJbRQkJBqFoNEoSKgVNBoS8QkoVCsUGrYTn0AhFCoSIUpahegkCjQqQqGS0Phb8JxkJ9nczMxuY+aQ99dtZnOeLWZ2794bfecsUlBBBRVUUEEFFSw4eINrbCBCU4IpfEBBX0GLLKEbXSjBhpdSzOAFCvoJTiAcmhU0Z1DQT3Ad8aBOVLCCStUoFPQd/MJ91SPC6/aQx18IZhrvUNBPsJ4DtCAOLiDtvQr6C+4hfPDTfnwV9BXcRT+aURsbwisU9BW8xSpGaoSLqHZs4QFZsxTMP3iJXoSLpDA4iUY+vILFBHsQbh4kbSocQ0F/QXOHNZzjKrCI+MZR0G8wyzMU/NvBfSjoM/iJI2QtarfRCgX9BU8xDhtim0Hh9SfsoA1xzDYVTqCgj+AA4kFlLAeGUbsQHsMh6sUULCaYxoK24T6HNzQSUzC/4AVmkRTqwyDmYX90Gg0pmG/Q2EHHJjpgITv8sNdJByUK+gz+FgUVVFDBfxj8AZOdD6lRVWPoAAAAAElFTkSuQmCC\"></td></tr></tbody></table>"
      ],
      "text/plain": [
       "8-element Array{Array{ColorTypes.Gray{Float32},2},1}:\n",
       " ColorTypes.Gray{Float32}[Gray{Float32}(1.0) Gray{Float32}(1.0) … Gray{Float32}(1.0) Gray{Float32}(1.0); Gray{Float32}(1.0) Gray{Float32}(1.0) … Gray{Float32}(1.0) Gray{Float32}(1.0); … ; Gray{Float32}(1.0) Gray{Float32}(1.0) … Gray{Float32}(1.0) Gray{Float32}(1.0); Gray{Float32}(1.0) Gray{Float32}(1.0) … Gray{Float32}(1.0) Gray{Float32}(1.0)]\n",
       " ColorTypes.Gray{Float32}[Gray{Float32}(1.0) Gray{Float32}(1.0) … Gray{Float32}(1.0) Gray{Float32}(1.0); Gray{Float32}(1.0) Gray{Float32}(1.0) … Gray{Float32}(1.0) Gray{Float32}(1.0); … ; Gray{Float32}(1.0) Gray{Float32}(1.0) … Gray{Float32}(1.0) Gray{Float32}(1.0); Gray{Float32}(1.0) Gray{Float32}(1.0) … Gray{Float32}(1.0) Gray{Float32}(1.0)]\n",
       " ColorTypes.Gray{Float32}[Gray{Float32}(1.0) Gray{Float32}(1.0) … Gray{Float32}(1.0) Gray{Float32}(1.0); Gray{Float32}(1.0) Gray{Float32}(1.0) … Gray{Float32}(1.0) Gray{Float32}(1.0); … ; Gray{Float32}(1.0) Gray{Float32}(1.0) … Gray{Float32}(1.0) Gray{Float32}(1.0); Gray{Float32}(1.0) Gray{Float32}(1.0) … Gray{Float32}(1.0) Gray{Float32}(1.0)]\n",
       " ColorTypes.Gray{Float32}[Gray{Float32}(1.0) Gray{Float32}(1.0) … Gray{Float32}(1.0) Gray{Float32}(1.0); Gray{Float32}(1.0) Gray{Float32}(1.0) … Gray{Float32}(1.0) Gray{Float32}(1.0); … ; Gray{Float32}(1.0) Gray{Float32}(1.0) … Gray{Float32}(1.0) Gray{Float32}(1.0); Gray{Float32}(1.0) Gray{Float32}(1.0) … Gray{Float32}(1.0) Gray{Float32}(1.0)]\n",
       " ColorTypes.Gray{Float32}[Gray{Float32}(1.0) Gray{Float32}(1.0) … Gray{Float32}(1.0) Gray{Float32}(1.0); Gray{Float32}(1.0) Gray{Float32}(1.0) … Gray{Float32}(1.0) Gray{Float32}(1.0); … ; Gray{Float32}(1.0) Gray{Float32}(1.0) … Gray{Float32}(1.0) Gray{Float32}(1.0); Gray{Float32}(1.0) Gray{Float32}(1.0) … Gray{Float32}(1.0) Gray{Float32}(1.0)]\n",
       " ColorTypes.Gray{Float32}[Gray{Float32}(1.0) Gray{Float32}(1.0) … Gray{Float32}(1.0) Gray{Float32}(1.0); Gray{Float32}(1.0) Gray{Float32}(1.0) … Gray{Float32}(1.0) Gray{Float32}(1.0); … ; Gray{Float32}(1.0) Gray{Float32}(1.0) … Gray{Float32}(1.0) Gray{Float32}(1.0); Gray{Float32}(1.0) Gray{Float32}(1.0) … Gray{Float32}(1.0) Gray{Float32}(1.0)]\n",
       " ColorTypes.Gray{Float32}[Gray{Float32}(1.0) Gray{Float32}(1.0) … Gray{Float32}(1.0) Gray{Float32}(1.0); Gray{Float32}(1.0) Gray{Float32}(1.0) … Gray{Float32}(1.0) Gray{Float32}(1.0); … ; Gray{Float32}(1.0) Gray{Float32}(1.0) … Gray{Float32}(1.0) Gray{Float32}(1.0); Gray{Float32}(1.0) Gray{Float32}(1.0) … Gray{Float32}(1.0) Gray{Float32}(1.0)]\n",
       " ColorTypes.Gray{Float32}[Gray{Float32}(1.0) Gray{Float32}(1.0) … Gray{Float32}(1.0) Gray{Float32}(1.0); Gray{Float32}(1.0) Gray{Float32}(1.0) … Gray{Float32}(1.0) Gray{Float32}(1.0); … ; Gray{Float32}(1.0) Gray{Float32}(1.0) … Gray{Float32}(1.0) Gray{Float32}(1.0); Gray{Float32}(1.0) Gray{Float32}(1.0) … Gray{Float32}(1.0) Gray{Float32}(1.0)]"
      ]
     },
     "execution_count": 5,
     "metadata": {},
     "output_type": "execute_result"
    }
   ],
   "source": [
    "train_x, train_y = prepare_mnist(MNIST.traintensor(1:500), MNIST.trainlabels(1:500))\n",
    "@show summary(train_x) summary(train_y);\n",
    "[MNIST.convert2image(train_x[i,:,:]) for i in 1:8]"
   ]
  },
  {
   "cell_type": "markdown",
   "metadata": {},
   "source": [
    "Similarly, we use `MNIST.testtensor` and `MNIST.testlabels`\n",
    "to load the full MNIST test set. We will utilize that data to\n",
    "measure how well the network is able to generalize with and\n",
    "without augmentation."
   ]
  },
  {
   "cell_type": "code",
   "execution_count": 6,
   "metadata": {},
   "outputs": [
    {
     "name": "stdout",
     "output_type": "stream",
     "text": [
      "summary(test_x) = \"10000×28×28 Array{Float32,3}\"\n",
      "summary(test_y) = \"10000×10 Array{Float32,2}\"\n"
     ]
    },
    {
     "data": {
      "text/html": [
       "<table><tbody><tr><td style='text-align:center;vertical-align:middle; margin: 0.5em;border:1px #90999f solid;border-collapse:collapse'><img style='max-width: 100px; max-height:100px;display:inline' src=\"data:image/png;base64,iVBORw0KGgoAAAANSUhEUgAAAHAAAABwCAAAAADji6uXAAAABGdBTUEAALGPC/xhBQAAAAJiS0dEAP+Hj8y/AAAAB3RJTUUH4QkdABwz5wiz/wAAAUxJREFUaN7t2T1Lw1AYhuEofkxapOAgRVE6lyIu3YvgD3AQHDq6uzkILk46+ivaSQSXOvi5OHYoooOrUoUuDiLq/Q6BUiRtoZjz0udaQuAc7gwnCcmJfv5ZpKCCCiqooIIKKqigggqOVLCKdVSwg2s8QkE/wWWMdZlFqYdN3EPB9IN1HOMcdtxGDhZeROeFTGIB8fkuFEw/+Jd3XKCNeocbvCILC55AwTCDSWoYRwFvUNBX8AXziGDhpLEKhhnch93wc2hAQV9Be3BPwYKX6DVewfCCe7BYGZ9Q0FfwA6uYxi36maNgWMED2ILZQL9zFAwneIYJZHAHBX0FW1iBLZgtDDJXwfSDX1iDxfJ4goK+gg+If+KdYtD5CqYbfMYSLHaEbyjoKxh/uJikzRAFwwxeYQYK+g0eIo7Zi7cJBX0Gi0jaCFEw3OCwKDh0v1maUDW5byRtAAAAAElFTkSuQmCC\"></td><td style='text-align:center;vertical-align:middle; margin: 0.5em;border:1px #90999f solid;border-collapse:collapse'><img style='max-width: 100px; max-height:100px;display:inline' src=\"data:image/png;base64,iVBORw0KGgoAAAANSUhEUgAAAHAAAABwCAAAAADji6uXAAAABGdBTUEAALGPC/xhBQAAAAJiS0dEAP+Hj8y/AAAAB3RJTUUH4QkdABwz5wiz/wAAAWxJREFUaN7t2T9KA0EYhvEl+Cc5gOIFbAQFq2DrBUQRxc7CJiAYtbISJBbGW3gDtRcrG1uxEEFtbNRKLLTR54P9YFliYGN0ZvH9NYGZ3X2aGTLZJJ9/LFFQQQUV/MfBQ+xhEUmqgSMoGH9wCZVvjOMBCsYbzMcmsIk5+Ng+FIwzeIlB2EMncYdX2Nw7pmFz21AwzuAJBmCxR2TnbKEMw4JnUDDOoLnHC/LjU/CNr2DcwU7aqMJiM3iDguUJnsJjYzhHkfsVDB/chW/4DRS9X8GwQTv81mCxVfiBSsFyBO0QNQKLjeIWRWMKhg3aF61v+C30ElMwXPAY/sNlFr1seAXDBZ9RRz8WjIJhgjvw2AJ+smAUDBP0DW/yL4cULF/wCk85H7Dr7NPHbtDIWIe/eFAwbLCTZTSxgm7XtaBgmOA8KgUMoZqyP8raqQsoGCZoDtDKyC+QNfjcNbo9S8EwwX5SUEEFFVRQQQUV/AVfk8/GSO0xe44AAAAASUVORK5C\"></td><td style='text-align:center;vertical-align:middle; margin: 0.5em;border:1px #90999f solid;border-collapse:collapse'><img style='max-width: 100px; max-height:100px;display:inline' src=\"data:image/png;base64,iVBORw0KGgoAAAANSUhEUgAAAHAAAABwCAAAAADji6uXAAAABGdBTUEAALGPC/xhBQAAAAJiS0dEAP+Hj8y/AAAAB3RJTUUH4QkdABwz5wiz/wAAAP5JREFUaN7t17EKQVEcx/ErNmWwGCw2ZmVQ3sFiMhkZsdgVuycwKjHYlQwewGYyegFSUnz/b+De5N6/ft/5nD5nOOd0TvD6cYFAgQIFChT4h+CJUjQjgT7BBaVpRQJ9giPK0afjBSYLPFKWeiTQJ7gku7h3JNAnWKMSXUmgP/BMtmHKFGaewOSAczKwQQJ9gkMycEMC/YEHylOV7iTQHzimgNoUdq7AZIAtskO/JoH+wAsVqEJRFiswfnBKtmE6JNAn2CUD+yTQJ1gkA7ck0B+4pwwJ9AsOyDD7xDxJoC/wRvZwMnBCUTCB8YIPqlOTDBfoD/xWAgUKFChQYALBN0FqaMNwssMBAAAAAElFTkSuQmCC\"></td><td style='text-align:center;vertical-align:middle; margin: 0.5em;border:1px #90999f solid;border-collapse:collapse'><img style='max-width: 100px; max-height:100px;display:inline' src=\"data:image/png;base64,iVBORw0KGgoAAAANSUhEUgAAAHAAAABwCAAAAADji6uXAAAABGdBTUEAALGPC/xhBQAAAAJiS0dEAP+Hj8y/AAAAB3RJTUUH4QkdABwz5wiz/wAAAX5JREFUaN7t2TFKxEAAheGwpLQVFCsVvYEKdmolVlrYeAJBEBG29QaCIh7EQi3V2hOIoLbaamOz/g92YAjJxiJmJ/K+cjbk3yLJTCbZoGWZgw466KCDDv6D4Cf20cMSXuFgt4JPyIcUvYCD3Qm+YxUOdjN4hjXkEQV3cY57OJh2UCfPC+KxeTzCwTSDm8jQK5jELOIxB9ML3mEOxYvmAFfQDX+CMH4JB9MJvmAK8U2uG7yPL4TjtBiehn6fwCm+4eD4g8VF7wY+UHasJuH4jz3DwbSCy3hD1bG6cFbgYHrB306sekhokyFM1HtwcPzBY4SLpi7YyI3vYOPBRdQFtdGghVY8UWsyrnpIOJhe8BDxAlmL5gdUHe9gWkG9qCoQB7cw6pwOthtcQJiAr4dmEMbKNhoGNRxsN6gXy/hlJi8o22hwMK1gvFlQFdTv69CiKd5ocDCNoGjz7ghVwcY/djn4Z98Pb7ANhXZwC42N2mhwMK1gUxx00EEHHXQwweAPj37H6mOlHRsAAAAASUVORK5C\"></td><td style='text-align:center;vertical-align:middle; margin: 0.5em;border:1px #90999f solid;border-collapse:collapse'><img style='max-width: 100px; max-height:100px;display:inline' src=\"data:image/png;base64,iVBORw0KGgoAAAANSUhEUgAAAHAAAABwCAAAAADji6uXAAAABGdBTUEAALGPC/xhBQAAAAJiS0dEAP+Hj8y/AAAAB3RJTUUH4QkdABwz5wiz/wAAAWpJREFUaN7t2C9LBFEUhvFhZwVxMRk0uc2kFotBEMxW/4DgF7CZtLgmm7BBs939BAp+AUGDwSrYFARhxaBhfQ7sBZlw71hmz8j7i7uHeSbcmbt7s0HFMgUVVFBBBRVUUMERBu/QRmzmCs9Q0GfwBDOIzexhCwr6C35jBangBRbwAQV9Ba+R4xCxuVPY3CsU9BN8wBTm0EdsdhUK+gvay3gct4jNvSFDAwr6CfYwiXmkbmwfFlvDFxT0EdyEPcjniM09YRpjuEFsVsHqgu+YhQUHCbYx21yZxaVgdcEX2EV2kLpIWFzbUNBP8BNLWIRtrrEbawydQUE/QRMWwzIuC45gC8r+qOZDqZe8gtUHH7GBCeQFtuHaIUMT4TNbaAr6Cgb36BWE73YRgmWupeBogjHHCEE7gFCwfsEOwgZcZl5Bf8Hfi0bBegYPYLEWFKxn0H5M2SF8FwrWM7iO1IGegr6Df6Wgggoq+A+DPyetH0UqU2yjAAAAAElFTkSuQmCC\"></td><td style='text-align:center;vertical-align:middle; margin: 0.5em;border:1px #90999f solid;border-collapse:collapse'><img style='max-width: 100px; max-height:100px;display:inline' src=\"data:image/png;base64,iVBORw0KGgoAAAANSUhEUgAAAHAAAABwCAAAAADji6uXAAAABGdBTUEAALGPC/xhBQAAAAJiS0dEAP+Hj8y/AAAAB3RJTUUH4QkdABwz5wiz/wAAARZJREFUaN7t2jFqAmEQhmGXINYJpLPwAFrFziPYpA6BoOAhRA9hId7BRsTCC4iNTQ4RUiW1iIToO+CA5a6IuyPf2w9P88/C7v6lw40rCRQoUKBAgQIFFhBcUEJj+iOBscBfqlJyaksCY4EzcuyN/klgHHBHTXJwSWnmBBYH3JBjZUo7J7A4YJ8cbJPAeGCLDKvQJwmMBa7JD8wTZZkVWAxwRA4OSGA88J0Me6QvEhgLXNEDGVijrPMC8wfn5EvfI4HxwPOltxcagbFAe1D70jcoKyYwf3BKvvRDEhgPnJBhz/RDAuOBr2TgC+1JYCzQgDoZaB+FLsEE5gvaD+UOGfhBAuOB1jd1yS4JCIwJXiOBAgUKvEPwCL6Qb7RFSoE/AAAAAElFTkSuQmCC\"></td><td style='text-align:center;vertical-align:middle; margin: 0.5em;border:1px #90999f solid;border-collapse:collapse'><img style='max-width: 100px; max-height:100px;display:inline' src=\"data:image/png;base64,iVBORw0KGgoAAAANSUhEUgAAAHAAAABwCAAAAADji6uXAAAABGdBTUEAALGPC/xhBQAAAAJiS0dEAP+Hj8y/AAAAB3RJTUUH4QkdABwz5wiz/wAAAYlJREFUaN7t2L8rxGEAx/FzZVIGKcrILtksfuxKBoP8iGIy6oqUP8NgMDAZbWcwmJmYRGLyoyRJsfD+lG9d1/F8L93z/Z4+r+3unuf7/g7P3T3fp/AZWcFBBx100EEHHXQwo+A9hrGGa4TGP+MAH3Aw++ATOtGKKaSJ9aIdF3Aw2+AjxlDECkIxWYXGb6PW5w7GDZZR/PaAUOwcLZjECxzMNqgf7GUotoM0sW4ouIufxjkYLziDAgbxilBwC4ot4LdxDsYLzkILZhy1NkOJN2ygAxofujEH4wdlBBMoV1nHEJJxaTZZDsYLnqAHycX0pS5WqXyvD5dwMD9B0YPMEUrQxbtQqnCGJDiHUMzB+MGQK+hGBpBmo+xg/oLz0II5RNo5DuYnuA8tGB0AncLB5gvqoUXBadQzz8H8BHWA0IZ6FoyD+QkmBwjaVNU718F8BPuhP95F6LUOY2/gYPMFl7AHHQA29GHGwYYFk0MFhW/hYPMEjzGKTdzhHWnnOpiP4F846KCDDv7D4BdJCaWG1fnkAQAAAABJRU5ErkJg\"></td><td style='text-align:center;vertical-align:middle; margin: 0.5em;border:1px #90999f solid;border-collapse:collapse'><img style='max-width: 100px; max-height:100px;display:inline' src=\"data:image/png;base64,iVBORw0KGgoAAAANSUhEUgAAAHAAAABwCAAAAADji6uXAAAABGdBTUEAALGPC/xhBQAAAAJiS0dEAP+Hj8y/AAAAB3RJTUUH4QkdABwz5wiz/wAAAW9JREFUaN7t2r8rhVEcx/GHTBT5VRYxkNFmlIWyKRPDLaWUgWyMdv+CTYkFsz9CBkkMZFBikCJKvD/l1BO6bqnrfOvz2p5z676X0/me+3SL9zorHHTQQQcddNBBBx108I/BByxiFK9wMFZwC31o/HQHB+MEr9GFBqTgDO7hYIzgMhQpB6UdG3iBg/kGL9EKBYYxgXK0BzdwMN/gPrRZNHT1/IxNDEDrBUZQ6yHgYP2DO9Dm2EN5fRLpMBjDIxzMMzgFffE8yuvdSMFV1BJz8H+CadPo4D7FLnSBakIHFOzECRzMM6hDWZelr5coDeJzDEHPC3Awz6Acog0atoouQYNYn61Ba/24gIN5BlN0DisoD9snpAO+AgfzDVazDQV78duF2ME8g2/QUFZ0HQ7GC8oRmqHoGRyMFxS96NMwnoYOdQfjBW8xCEWP4WC8oFxBwVk4GDMo42jBTy8aHIwR1B8M9AP1AA7GDFbjoIMOfvMBmh6tJn9qocwAAAAASUVORK5C\"></td></tr></tbody></table>"
      ],
      "text/plain": [
       "8-element Array{Array{ColorTypes.Gray{Float32},2},1}:\n",
       " ColorTypes.Gray{Float32}[Gray{Float32}(1.0) Gray{Float32}(1.0) … Gray{Float32}(1.0) Gray{Float32}(1.0); Gray{Float32}(1.0) Gray{Float32}(1.0) … Gray{Float32}(1.0) Gray{Float32}(1.0); … ; Gray{Float32}(1.0) Gray{Float32}(1.0) … Gray{Float32}(1.0) Gray{Float32}(1.0); Gray{Float32}(1.0) Gray{Float32}(1.0) … Gray{Float32}(1.0) Gray{Float32}(1.0)]\n",
       " ColorTypes.Gray{Float32}[Gray{Float32}(1.0) Gray{Float32}(1.0) … Gray{Float32}(1.0) Gray{Float32}(1.0); Gray{Float32}(1.0) Gray{Float32}(1.0) … Gray{Float32}(1.0) Gray{Float32}(1.0); … ; Gray{Float32}(1.0) Gray{Float32}(1.0) … Gray{Float32}(1.0) Gray{Float32}(1.0); Gray{Float32}(1.0) Gray{Float32}(1.0) … Gray{Float32}(1.0) Gray{Float32}(1.0)]\n",
       " ColorTypes.Gray{Float32}[Gray{Float32}(1.0) Gray{Float32}(1.0) … Gray{Float32}(1.0) Gray{Float32}(1.0); Gray{Float32}(1.0) Gray{Float32}(1.0) … Gray{Float32}(1.0) Gray{Float32}(1.0); … ; Gray{Float32}(1.0) Gray{Float32}(1.0) … Gray{Float32}(1.0) Gray{Float32}(1.0); Gray{Float32}(1.0) Gray{Float32}(1.0) … Gray{Float32}(1.0) Gray{Float32}(1.0)]\n",
       " ColorTypes.Gray{Float32}[Gray{Float32}(1.0) Gray{Float32}(1.0) … Gray{Float32}(1.0) Gray{Float32}(1.0); Gray{Float32}(1.0) Gray{Float32}(1.0) … Gray{Float32}(1.0) Gray{Float32}(1.0); … ; Gray{Float32}(1.0) Gray{Float32}(1.0) … Gray{Float32}(1.0) Gray{Float32}(1.0); Gray{Float32}(1.0) Gray{Float32}(1.0) … Gray{Float32}(1.0) Gray{Float32}(1.0)]\n",
       " ColorTypes.Gray{Float32}[Gray{Float32}(1.0) Gray{Float32}(1.0) … Gray{Float32}(1.0) Gray{Float32}(1.0); Gray{Float32}(1.0) Gray{Float32}(1.0) … Gray{Float32}(1.0) Gray{Float32}(1.0); … ; Gray{Float32}(1.0) Gray{Float32}(1.0) … Gray{Float32}(1.0) Gray{Float32}(1.0); Gray{Float32}(1.0) Gray{Float32}(1.0) … Gray{Float32}(1.0) Gray{Float32}(1.0)]\n",
       " ColorTypes.Gray{Float32}[Gray{Float32}(1.0) Gray{Float32}(1.0) … Gray{Float32}(1.0) Gray{Float32}(1.0); Gray{Float32}(1.0) Gray{Float32}(1.0) … Gray{Float32}(1.0) Gray{Float32}(1.0); … ; Gray{Float32}(1.0) Gray{Float32}(1.0) … Gray{Float32}(1.0) Gray{Float32}(1.0); Gray{Float32}(1.0) Gray{Float32}(1.0) … Gray{Float32}(1.0) Gray{Float32}(1.0)]\n",
       " ColorTypes.Gray{Float32}[Gray{Float32}(1.0) Gray{Float32}(1.0) … Gray{Float32}(1.0) Gray{Float32}(1.0); Gray{Float32}(1.0) Gray{Float32}(1.0) … Gray{Float32}(1.0) Gray{Float32}(1.0); … ; Gray{Float32}(1.0) Gray{Float32}(1.0) … Gray{Float32}(1.0) Gray{Float32}(1.0); Gray{Float32}(1.0) Gray{Float32}(1.0) … Gray{Float32}(1.0) Gray{Float32}(1.0)]\n",
       " ColorTypes.Gray{Float32}[Gray{Float32}(1.0) Gray{Float32}(1.0) … Gray{Float32}(1.0) Gray{Float32}(1.0); Gray{Float32}(1.0) Gray{Float32}(1.0) … Gray{Float32}(1.0) Gray{Float32}(1.0); … ; Gray{Float32}(1.0) Gray{Float32}(1.0) … Gray{Float32}(1.0) Gray{Float32}(1.0); Gray{Float32}(1.0) Gray{Float32}(1.0) … Gray{Float32}(1.0) Gray{Float32}(1.0)]"
      ]
     },
     "execution_count": 6,
     "metadata": {},
     "output_type": "execute_result"
    }
   ],
   "source": [
    "test_x, test_y = prepare_mnist(MNIST.testtensor(), MNIST.testlabels())\n",
    "@show summary(test_x) summary(test_y);\n",
    "[MNIST.convert2image(test_x[i,:,:]) for i in 1:8]"
   ]
  },
  {
   "cell_type": "markdown",
   "metadata": {},
   "source": [
    "## Defining the Network\n",
    "\n",
    "With the dataset prepared, we can now instantiate our neural\n",
    "network. To keep things simple, we will use the same\n",
    "convolutional network as defined in the\n",
    "[MNIST example](https://github.com/malmaud/TensorFlow.jl/blob/master/examples/mnist_full.jl)\n",
    "of Julia's TensorFlow package."
   ]
  },
  {
   "cell_type": "code",
   "execution_count": 7,
   "metadata": {},
   "outputs": [
    {
     "name": "stderr",
     "output_type": "stream",
     "text": [
      "2017-09-29 02:28:54.313988: W tensorflow/core/platform/cpu_feature_guard.cc:45] The TensorFlow library wasn't compiled to use SSE4.1 instructions, but these are available on your machine and could speed up CPU computations.\n",
      "2017-09-29 02:28:54.314009: W tensorflow/core/platform/cpu_feature_guard.cc:45] The TensorFlow library wasn't compiled to use SSE4.2 instructions, but these are available on your machine and could speed up CPU computations.\n",
      "2017-09-29 02:28:54.314013: W tensorflow/core/platform/cpu_feature_guard.cc:45] The TensorFlow library wasn't compiled to use AVX instructions, but these are available on your machine and could speed up CPU computations.\n",
      "2017-09-29 02:28:54.314028: W tensorflow/core/platform/cpu_feature_guard.cc:45] The TensorFlow library wasn't compiled to use AVX2 instructions, but these are available on your machine and could speed up CPU computations.\n",
      "2017-09-29 02:28:54.314031: W tensorflow/core/platform/cpu_feature_guard.cc:45] The TensorFlow library wasn't compiled to use FMA instructions, but these are available on your machine and could speed up CPU computations.\n",
      "2017-09-29 02:28:54.654851: I tensorflow/core/common_runtime/gpu/gpu_device.cc:955] Found device 0 with properties: \n",
      "name: Quadro M6000 24GB\n",
      "major: 5 minor: 2 memoryClockRate (GHz) 1.114\n",
      "pciBusID 0000:02:00.0\n",
      "Total memory: 23.86GiB\n",
      "Free memory: 23.48GiB\n",
      "2017-09-29 02:28:54.654870: I tensorflow/core/common_runtime/gpu/gpu_device.cc:976] DMA: 0 \n",
      "2017-09-29 02:28:54.654874: I tensorflow/core/common_runtime/gpu/gpu_device.cc:986] 0:   Y \n",
      "2017-09-29 02:28:54.654882: I tensorflow/core/common_runtime/gpu/gpu_device.cc:1045] Creating TensorFlow device (/gpu:0) -> (device: 0, name: Quadro M6000 24GB, pci bus id: 0000:02:00.0)\n"
     ]
    }
   ],
   "source": [
    "using TensorFlow, Distributions\n",
    "session = Session(Graph());"
   ]
  },
  {
   "cell_type": "code",
   "execution_count": 8,
   "metadata": {},
   "outputs": [
    {
     "data": {
      "text/plain": [
       "max_pool_2x2 (generic function with 1 method)"
      ]
     },
     "execution_count": 8,
     "metadata": {},
     "output_type": "execute_result"
    }
   ],
   "source": [
    "function weight_variable(shape...)\n",
    "    initial = map(Float32, rand(Normal(0, .001), shape...))\n",
    "    return Variable(initial)\n",
    "end\n",
    "\n",
    "function bias_variable(shape...)\n",
    "    initial = fill(Float32(.1), shape...)\n",
    "    return Variable(initial)\n",
    "end\n",
    "\n",
    "function conv2d(x, W)\n",
    "    nn.conv2d(x, W, [1, 1, 1, 1], \"SAME\")\n",
    "end\n",
    "\n",
    "function max_pool_2x2(x)\n",
    "    nn.max_pool(x, [1, 2, 2, 1], [1, 2, 2, 1], \"SAME\")\n",
    "end"
   ]
  },
  {
   "cell_type": "code",
   "execution_count": 9,
   "metadata": {},
   "outputs": [
    {
     "data": {
      "text/plain": [
       "<Tensor accuracy:1 shape=unknown dtype=Float32>"
      ]
     },
     "execution_count": 9,
     "metadata": {},
     "output_type": "execute_result"
    }
   ],
   "source": [
    "@tf begin\n",
    "    x = placeholder(Float32)\n",
    "    y = placeholder(Float32)\n",
    "\n",
    "    W_conv1 = weight_variable(5, 5, 1, 32)\n",
    "    b_conv1 = bias_variable(32)\n",
    "\n",
    "    x_image = reshape(x, [-1, 28, 28, 1])\n",
    "\n",
    "    h_conv1 = nn.relu(conv2d(x_image, W_conv1) + b_conv1)\n",
    "    h_pool1 = max_pool_2x2(h_conv1)\n",
    "\n",
    "    W_conv2 = weight_variable(5, 5, 32, 64)\n",
    "    b_conv2 = bias_variable(64)\n",
    "\n",
    "    h_conv2 = nn.relu(conv2d(h_pool1, W_conv2) + b_conv2)\n",
    "    h_pool2 = max_pool_2x2(h_conv2)\n",
    "\n",
    "    W_fc1 = weight_variable(7*7*64, 1024)\n",
    "    b_fc1 = bias_variable(1024)\n",
    "\n",
    "    h_pool2_flat = reshape(h_pool2, [-1, 7*7*64])\n",
    "    h_fc1 = nn.relu(h_pool2_flat * W_fc1 + b_fc1)\n",
    "\n",
    "    keep_prob = placeholder(Float32)\n",
    "    h_fc1_drop = nn.dropout(h_fc1, keep_prob)\n",
    "\n",
    "    W_fc2 = weight_variable(1024, 10)\n",
    "    b_fc2 = bias_variable(10)\n",
    "\n",
    "    y_conv = nn.softmax(h_fc1_drop * W_fc2 + b_fc2)\n",
    "\n",
    "    global cross_entropy = reduce_mean(-reduce_sum(y.*log(y_conv+1e-8), axis=[2]))\n",
    "    global optimizer = train.minimize(train.AdamOptimizer(1e-4), cross_entropy)\n",
    "\n",
    "    correct_prediction = broadcast(==, indmax(y_conv, 2), indmax(y, 2))\n",
    "    global accuracy = reduce_mean(cast(correct_prediction, Float32))\n",
    "end"
   ]
  },
  {
   "cell_type": "markdown",
   "metadata": {},
   "source": [
    "## Training without Augmentation\n",
    "\n",
    "In order to get an intuition for how useful augmentation can\n",
    "be, we need a sensible baseline to compare to. To that end, we\n",
    "will first train the network we just defined using only the\n",
    "(unaltered) 500 training examples.\n",
    "\n",
    "The package\n",
    "[ValueHistories.jl](https://github.com/JuliaML/ValueHistories.jl)\n",
    "will help us record the accuracy during the training process.\n",
    "We will use those logs later to visualize the differences\n",
    "between having augmentation or no augmentation."
   ]
  },
  {
   "cell_type": "code",
   "execution_count": 10,
   "metadata": {
    "collapsed": true
   },
   "outputs": [],
   "source": [
    "using ValueHistories"
   ]
  },
  {
   "cell_type": "markdown",
   "metadata": {},
   "source": [
    "To keep things simple, we will not overly optimize our\n",
    "training function. Thus, we will be content with using a\n",
    "closure. Because both, the baseline and the augmented version,\n",
    "will share this \"inefficiency\", we should still get a decent\n",
    "enough picture of their performance differences."
   ]
  },
  {
   "cell_type": "code",
   "execution_count": 11,
   "metadata": {},
   "outputs": [
    {
     "data": {
      "text/plain": [
       "train_baseline (generic function with 1 method)"
      ]
     },
     "execution_count": 11,
     "metadata": {},
     "output_type": "execute_result"
    }
   ],
   "source": [
    "function train_baseline(; epochs=500, batchsize=100, reset=true)\n",
    "    reset && run(session, global_variables_initializer())\n",
    "    log = MVHistory()\n",
    "    for epoch in 1:epochs\n",
    "        for (batch_x, batch_y) in eachbatch(shuffleobs((train_x, train_y), obsdim=1), size=batchsize, obsdim=1)\n",
    "            run(session, optimizer, Dict(x=>batch_x, y=>batch_y, keep_prob=>0.5))\n",
    "        end\n",
    "\n",
    "        if (epoch % 50) == 0\n",
    "            train = run(session, accuracy, Dict(x=>train_x, y=>train_y, keep_prob=>1.0))\n",
    "            test  = run(session, accuracy, Dict(x=>test_x,  y=>test_y,  keep_prob=>1.0))\n",
    "            @trace log epoch train test\n",
    "            msg = \"epoch \" * lpad(epoch,4) * \": train accuracy \" * rpad(round(train,3),5,\"0\") * \", test accuracy \" * rpad(round(test,3),5,\"0\")\n",
    "            println(msg)\n",
    "        end\n",
    "    end\n",
    "    log\n",
    "end"
   ]
  },
  {
   "cell_type": "markdown",
   "metadata": {},
   "source": [
    "Aside from the accuracy, we will also keep an eye on the\n",
    "training time. In particular we would like to see if and how\n",
    "the addition of augmentation causes our training time to\n",
    "increase."
   ]
  },
  {
   "cell_type": "code",
   "execution_count": 12,
   "metadata": {},
   "outputs": [
    {
     "name": "stdout",
     "output_type": "stream",
     "text": [
      "epoch   50: train accuracy 0.658, test accuracy 0.570\n",
      "epoch  100: train accuracy 0.846, test accuracy 0.749\n",
      "epoch  150: train accuracy 0.878, test accuracy 0.781\n",
      "epoch  200: train accuracy 0.906, test accuracy 0.807\n",
      "epoch  250: train accuracy 0.930, test accuracy 0.819\n",
      "epoch  300: train accuracy 0.950, test accuracy 0.824\n",
      "epoch  350: train accuracy 0.962, test accuracy 0.829\n",
      "epoch  400: train accuracy 0.980, test accuracy 0.835\n",
      "epoch  450: train accuracy 0.992, test accuracy 0.834\n",
      "epoch  500: train accuracy 0.994, test accuracy 0.832\n",
      "epoch  550: train accuracy 0.998, test accuracy 0.835\n",
      "epoch  600: train accuracy 1.000, test accuracy 0.836\n",
      "epoch  650: train accuracy 1.000, test accuracy 0.836\n",
      "epoch  700: train accuracy 1.000, test accuracy 0.838\n",
      "epoch  750: train accuracy 1.000, test accuracy 0.836\n",
      "epoch  800: train accuracy 1.000, test accuracy 0.843\n",
      "epoch  850: train accuracy 1.000, test accuracy 0.834\n",
      "epoch  900: train accuracy 1.000, test accuracy 0.839\n",
      "epoch  950: train accuracy 1.000, test accuracy 0.839\n",
      "epoch 1000: train accuracy 1.000, test accuracy 0.840\n",
      " 59.346103 seconds (3.15 M allocations: 2.579 GiB, 0.95% gc time)\n"
     ]
    }
   ],
   "source": [
    "train_baseline(epochs=1) # warm-up\n",
    "baseline_log = @time train_baseline(epochs=1000);"
   ]
  },
  {
   "cell_type": "markdown",
   "metadata": {},
   "source": [
    "As we can see, the accuracy on the training set is around a\n",
    "100%, while the accuracy on the test set peaks around 85%. For\n",
    "a mere 500 training examples, this isn't actually that bad of\n",
    "a result.\n",
    "\n",
    "## Integrating Augmentor\n",
    "\n",
    "Now that we have a network architecture with a baseline to\n",
    "compare to, let us finally see what it takes to add Augmentor\n",
    "to our experiment. First, we need to include the package to\n",
    "our experiment."
   ]
  },
  {
   "cell_type": "code",
   "execution_count": 13,
   "metadata": {
    "collapsed": true
   },
   "outputs": [],
   "source": [
    "using Augmentor"
   ]
  },
  {
   "cell_type": "markdown",
   "metadata": {},
   "source": [
    "The next step, and maybe the most human-hour consuming part of\n",
    "adding image augmentation to a prediction problem, is to\n",
    "design and select a sensible augmentation pipeline. Take a\n",
    "look at the [elastic distortions tutorial](@ref elastic) for\n",
    "an example of how to do just that.\n",
    "\n",
    "For this example, we already choose a quite complicated but\n",
    "promising augmentation pipeline for you. This pipeline was\n",
    "designed to yield a large variation of effects as well as to\n",
    "showcase how even deep pipelines are quite efficient in terms\n",
    "of performance."
   ]
  },
  {
   "cell_type": "code",
   "execution_count": 14,
   "metadata": {},
   "outputs": [
    {
     "data": {
      "text/plain": [
       "8-step Augmentor.ImmutablePipeline:\n",
       " 1.) Permute dimension order to (2, 1)\n",
       " 2.) Either: (50%) ShearX by ϕ ∈ -5:5 degree. (50%) ShearY by ψ ∈ -5:5 degree.\n",
       " 3.) Rotate by θ ∈ -15:15 degree\n",
       " 4.) Crop a 28×28 window around the center\n",
       " 5.) Zoom by I ∈ {0.9×0.9, 1.0×1.0, 1.1×1.1, 1.2×1.2}\n",
       " 6.) Cache into temporary buffer\n",
       " 7.) Distort using a smoothed and normalized 10×10 grid with pinned border\n",
       " 8.) Permute dimension order to (2, 1)"
      ]
     },
     "execution_count": 14,
     "metadata": {},
     "output_type": "execute_result"
    }
   ],
   "source": [
    "pl = PermuteDims(2,1) |>\n",
    "     ShearX(-5:5) * ShearY(-5:5) |>\n",
    "     Rotate(-15:15) |>\n",
    "     CropSize(28,28) |>\n",
    "     Zoom(0.9:0.1:1.2) |>\n",
    "     CacheImage() |>\n",
    "     ElasticDistortion(10) |>\n",
    "     PermuteDims(2,1)"
   ]
  },
  {
   "cell_type": "markdown",
   "metadata": {},
   "source": [
    "Most of the used operations are quite self explanatory, but\n",
    "there are some details about this pipeline worth pointing out\n",
    "explicitly.\n",
    "\n",
    "1. We use the operation [`PermuteDims`](@ref) to convert the\n",
    "   horizontal-major MNIST image to a julia-native\n",
    "   vertical-major image. The vertical-major image is then\n",
    "   processed and converted back to a horizontal-major array.\n",
    "   We mainly do this here to showcase the option, but it is\n",
    "   also to keep consistent with how the data is usually used\n",
    "   in the literature. Alternatively, one could just work with\n",
    "   the MNIST data in a vertical-major format all the way\n",
    "   through without any issue.\n",
    "\n",
    "2. As counter-intuitive as it sounds, the operation\n",
    "   [`CacheImage`](@ref) right before\n",
    "   [`ElasticDistortion`](@ref) is actually used to improve\n",
    "   performance. If we were to omit it, then the whole pipeline\n",
    "   would be applied in one single pass. In this case, applying\n",
    "   distortions on top of affine transformations lazily is in\n",
    "   fact less efficient than using a temporary variable.\n",
    "\n",
    "With the pipeline now defined, let us quickly peek at what\n",
    "kind of effects we can achieve with it. In particular, lets\n",
    "apply the pipeline multiple times to the first training image\n",
    "and look at what kind of results it produces."
   ]
  },
  {
   "cell_type": "code",
   "execution_count": 15,
   "metadata": {},
   "outputs": [
    {
     "data": {
      "text/html": [
       "<table><tbody><tr><td style='text-align:center;vertical-align:middle; margin: 0.5em;border:1px #90999f solid;border-collapse:collapse'><img style='max-width: 100px; max-height:100px;display:inline' src=\"data:image/png;base64,iVBORw0KGgoAAAANSUhEUgAAAHAAAABwCAAAAADji6uXAAAABGdBTUEAALGPC/xhBQAAAAJiS0dEAP+Hj8y/AAAAB3RJTUUH4QkdAB4nz+QFAAAAAppJREFUaN7t2kuoTVEcgPEbhbyVugPPQkleV/KIFCbCwMDAq5RE3IGBEANFEmbEwEAkA48iRkp5lAEDFEKEPEtR3s/L9X11d5nc3Tna9l7q/5ucwe2ebw/WXnuttU9Da8kaIph88Bd+IIL/T7AFL3ES67AJVxDBdIM/8QJXcRBnsQZDMBH78QoOngimE/Sfv+ELnmM3FmES5mIe1uMUvBgHUnvfFcFyg4Y+4AGOYTMWYih6YSqMX8ZjvEdeLILlBX2AvsM9HIGTsgOkDzqhG7pgNm6gtQ4R/PdBB8oj7MMyjEU/dG0zAt7oDp7VuIkIphV0kr6EycgGSQd0xCAcwl04oIw5MUQwraCT71OswhT4oB2O7shudCeGljb1xCJYTjCLXsdp+LkLTZiBo3iN9ha6EUwjqO/wpvbT6FpMwGKcgYPnNj7CDU6tFxDB8oJ/8kuvYQvGYSaWYCkOwPBb1DIRRLCaoL7iPrbBTcxI9Md4rMBh+Hcf4BFMMygHxUOcwEbMhwtlF1fTsQcuogs7oI1g4cEs+gkuhM/BA6Ee8JDBid3FsRN+BNMNZj7DSXsHesJNj5O6N78P5AimH7wFY7PQGW5eF8AD3LwFVQSrDzpYXFBtwBgY8qZ3s+pD2I1OoYMmgoUFHQgeol/AcgyEB7WD4aLYl15vkBeLYLVBH7oX4aLXmIe1o+AD2EFU6yFRBMsPOliym70ZA+BLktHYCRdNvsis9cIjWG7Q2DP40mQOGuFiyc1otnHJW/RGsNqgN7I/AvDgx5cmvdEXbjz3woP4wg7ZI1h4MDs82A4PfowNw0ocxxPkHRxEMI2gk7WLpWlwk2L8PLwQD2wLfzMTwUKDLmbvYCs8WPfHVU7UfxOIYDVB1ftgjWBlwd8DjRw3hNNxPgAAAABJRU5ErkJg\"></td><td style='text-align:center;vertical-align:middle; margin: 0.5em;border:1px #90999f solid;border-collapse:collapse'><img style='max-width: 100px; max-height:100px;display:inline' src=\"data:image/png;base64,iVBORw0KGgoAAAANSUhEUgAAAHAAAABwCAAAAADji6uXAAAABGdBTUEAALGPC/xhBQAAAAJiS0dEAP+Hj8y/AAAAB3RJTUUH4QkdAB4nz+QFAAAAAw9JREFUaN7t2lmoTVEcx/GbWciQ8UoiRAnhQUpkjhCFyBglDzKkhBQhDx4oZChPvAiRqTwYyhCRBzJFKOM1J/P8/dbedR9c955y9jnl/3k659571u/c+u+11l7/XfIrYyURGIERGIH/UeBPfMP3hO/9+Q98xZfEC9zGDVzFU7zEE5ThDRwnArMNdNBPeIxnuI/rcMBrOIXTOIuD2IT1WIk9OAZfj8QgrIVjRGB2gYY5+DLMxRLMw+zEMIzABIzFAPRFH0zHIvRHKTrCz99FBGYX6IX+EH7QDzVHS5Qm6qJGojqqoRbawi8yGcMxGL7eDSeDCMwuUB9xFF68nWCogzq4IQ3QGPVQE74fii3Ygc3Yjr24A/+JCMw20AX3FQ5gBabAonBwQ7piIHrDgmqGGbiVMOQBXIRdqNNxIzC7wJQT+T246E6FA3fAYpzDcazDRDjZ+/cWnButdONVXgRmHygv2tdws2SROCkfgpvcd7iJfTiCysaKwMIEyiJwQDdQ3bANhlkYn1GWiMDiDZQ3mavRGU7UTs7pwlpVEVjYQAvnBNxY9YNF9By5hEZgYQO9yL24XXDbYzQ24AKcBCKw+ANl4VyCBwpt0BMLcB4uyJUVUAQWPtDCeYvDGA9DnczdGHvg5+88HIzA4g2UA3qzuh8uxO3gzeocOAl4MxOBxR0oi+cDrmASPOhrCl97c+MEEYHFG2iYhwcuxja6LBwDPTAaAgvHLxOBxReYBtmkdMFdjjFwAvfwthVcjG2SVTSBR2DhAr2QPRy6DA/xusOD2UZogi5wQXZCf4+KxonAbAPThwQsFBuOOzEOrVEH9eFNzShshI3pyr54BOYn0IF9QMOGhhsgA7wx8QI26AxmwkM9G1xe5C62NkrW4CL+tnGKwPwHphOyDaqT8KGOXbDBZUF4qN4CtWHDuQfmw4amB345HwxF4D8P9CEdP7wUveDNiU3mhgk3RxaLTcpZsIn5CBbanxpaEZh9oI0OG8U+QLUKPrTjTck0LExshROAk0H5B+NyFYH5CayqXAskAjMJ/A0kEfw6TUGrqwAAAABJRU5ErkJg\"></td><td style='text-align:center;vertical-align:middle; margin: 0.5em;border:1px #90999f solid;border-collapse:collapse'><img style='max-width: 100px; max-height:100px;display:inline' src=\"data:image/png;base64,iVBORw0KGgoAAAANSUhEUgAAAHAAAABwCAAAAADji6uXAAAABGdBTUEAALGPC/xhBQAAAAJiS0dEAP+Hj8y/AAAAB3RJTUUH4QkdAB4nz+QFAAAAA1tJREFUaN7t2lmIjWEcx/HJ2LLvW/YtskUpinAlyY0suVEu7NsFkbIn+65IoZREKTeW4soSyR6hyZZ9zZJ9Gb7fmlPTMGfQzHuO+n9uzjnvvOf9nZr/ed7n+T8n50fCciIwAiPwrwLz8b2QbwXyi4jA7Az8jBe4hTxcwVX4+jEe4hFe4SO+4BO+It2HiMBkAi2Qu5iLkZiE6ZiIqZiDeViHQ8grcAwX8AReIwIzG2hxjEJt5KI8aqIZWsLnFdEQfTAMozENq3EaN3ENFlkEJhuoe1iC7qgLL16uED+Ej36QKqiF+mgPw1dgPoZjIMZiByIwucAPuIgtWIx+qAqDDPd5c7SAheWx6uiFMQV6oA48rz8WIgKTC5QTptc4gxloimpoixGYjSkwxNDOcFDfCgvGcwbDglmLc4jAZAPlhOgONsJB2iLxZrwPl3AemzAIXvgkbsAPeQSedwIOJN4UIjD5QL3DAfjl9QY8Hl74LSwsJ8R7sRsv4XucHDtJdjL9Hp7n8QjMTKCF42C+Ej3hl9li8KL+3YWMixsnzy5m0l0rAjMTKBeofsknoDcWwWL50/dHYOYDLRy/1HvQBU6QXZA6UDswRGD2B8oB+AEMckLlIOBEysVncU2ECMyuwBQbDgvQDU6KbRSlJkkR+H8E2og9CyfEjeFAsBnPEYHZFfi7ZrmF4XFDXWB6Q3Zy7MTqKJxQRWDmAr2YE1knTC5A3sAFi6+9+TpwO+F9BifGnnMQfWHxzIIDQARmJtBCuA43tdzssCGwH7tg03wNVsEGzza4+HQRatPVwApog+3wg0RgsoEu/g/DzSybdeNgA8FmXSd4k7V53gE+tkJHDIANIQvGZns9zIRFVdymZQSWfuBl2Ej3H98AbnrYMK8MH3ML+NqLWhyV4HObtTbRUxsnrVHSQjUCSz/QQrEQasBNLTet3PBwQ9LnXrARLJyusFgsGjc/vPE2QTu4iWkReRNONyGOwNIP9EQbPRbNENgoHwp/MOBGx2Q4aNtIXw8H76VYBhvvy+HzDdgJCybtjz8isNQD3dz3BxzHYZPnFBzIPe6k6TbcKPFC9+EPO5xYOeCnJlQef4qSmrMRWDaBhV+kNjd8s48uWJwEe7zol/lffkQXgWUfmIQIjMAI/MVPEKAoe3JgctoAAAAASUVORK5C\"></td><td style='text-align:center;vertical-align:middle; margin: 0.5em;border:1px #90999f solid;border-collapse:collapse'><img style='max-width: 100px; max-height:100px;display:inline' src=\"data:image/png;base64,iVBORw0KGgoAAAANSUhEUgAAAHAAAABwCAAAAADji6uXAAAABGdBTUEAALGPC/xhBQAAAAJiS0dEAP+Hj8y/AAAAB3RJTUUH4QkdAB4nz+QFAAAAAvxJREFUaN7t2lmITXEcwPEp69hKCAnZIlmyJ8kuovAgkRfiRfY1imyFJ8qDB/FkSUmUNUuWkj1rsitkK/vOzPh+6055mJsZzT1zyu/zdOveOd+m/ud/zvn/T15RwvIiGMEIRvA/DX7GOzzCbfj5Gg7hDO7hByKYnmABPuAFjmM1ZmMwuqA3BqI/xmAajmIX1mELDuMhviGCyQYL8RKbMQcetAUaoQaqokpGPhpjAKZiJNqjDYZiIxxoEUw2+BEH0AMNYaAyKqEmPGB3NIPf+ZsVWI+FGItBmITteIoIJh/ci25oi06oj+pwMMzCVqzFKPj9MdzHRRzEbjgROKl/QQSTDXohvYGlWIRlcBA0hSf2PvgbJwdD83AdP/EV7/EGTv4lXZQjmPugk7c/voorOI0F6Inx8IJcmPEJ/sYLtcGiUohg7oPFUW+kPMgzbIIDx0l7DbwxLulvIpie4J+czM9hCZzQPfkvwQHjiV3aUAQrLugBnZBPYApaw0ndCcCL7neUJRrB5IPFUSd0b4y8QfYmeARW4TwcWOV24kcwJ8HiqAfegc5ogo6YCy/SLhY54UcwvUH9whN4QXbRwAUFH3hmwqgTRATTHZQ3Vi4UbMNoGPVBZzJ8GHWCiGC6g3LwvMYRzIcTQUuMgxOD30cw3UE5eF7hFCbChSMndKNupmSLRjAdQQ/m4s9dnMQMuOButCsuINvmVwQrLliQYchFIxdxN8DNFBcc8jN64Say3VBFMNmgN78OEB863+IODLkxMgF94QNqA9SGn90geYAIVmzQkBEXXv1jF9F3YjGGox3cPHHzqw58QO2H5fBFAheNsv0TEcxt0AHi4qshI57YLgJNhwOkHoy4+VwXbkYPgQt/e/AYf3sJJIK5Dfog4k2RGyPD0AG+MFALvijgxrOxVvBBxkGyH77k4SArKoUI5jb4HCvRHNXgCwOe4C6u94EnvQsIblo6mZd1gT2CuQ960XSRzkFwC97QnsVleOPkyzhuLP9LKILJBJMQwXL3G/vnJYkdIbFeAAAAAElFTkSuQmCC\"></td><td style='text-align:center;vertical-align:middle; margin: 0.5em;border:1px #90999f solid;border-collapse:collapse'><img style='max-width: 100px; max-height:100px;display:inline' src=\"data:image/png;base64,iVBORw0KGgoAAAANSUhEUgAAAHAAAABwCAAAAADji6uXAAAABGdBTUEAALGPC/xhBQAAAAJiS0dEAP+Hj8y/AAAAB3RJTUUH4QkdAB4nz+QFAAAAAj9JREFUaN7t2UuIjWEcgPEpyi0KkaHEwp2FSU2UbISklMZG7JDCYiYl2WiSkJTd1CyUhVwWStiQkgVDCRGhZhq5xSB3hjOep85XmoXzqTnfe9L/t5upeZ+p+d7zve9/6voKVhfBCEYwghGMYAQjWKPBT+hCD57jLp7gI0qIYNqgP/ALvfiKz3AhI69wAUewG8ewDdMxG824jwimC/7EGzxGB87jOFqxHo0YjylogtHNZQdwDV8QwTRBH5aXOIRlWIL5mIwRGIYhZYtwGldxGy/wAf03fQSLD3ajBRMxGoNgYAbWYCnmwY3/Dt/gB8TfHsQIFheUm/YKDmITJmAm9uIBHuIcfNn+QF8OESw2KD/A3cS+aBdjOS6iVJYnEsG0Qbmhr2MDFuIE/F52wIpg7Qdd2MPvGbjxV2Af/PoRPBTnDUcwTTDjwvsxB+OwALtwCa+RJxrBtEE9w0mswzTMwlocRZ6fj2D6oA+GgwUHQYdRjzHwxdyJSi/lCKYPeuB1IHQLBodiJDbCzR/B2g16aPJl62BoCxwkTIUX1Qa04z0qrRPB4oJu8O9wWHAPbVgNIw6FstBWnMVb5PnFI1j9oBdQB0KXcQoOEFZiEtzkg+FheDsc6PkgOXzPezmNYPWC2RDIS4oXTze2CzsMGo5RmIudcHjuP7WyS2meUASrH3SgvgMOY32hjoUBh0GrsAd3UGkAG8F0Qf/4Xjg9CD2Fi9/ATTiA/dcBUASLD/ZX+sNAhCJYfLBaIhjBCEbwPwz+Bq6xR7ZhQa4KAAAAAElFTkSuQmCC\"></td><td style='text-align:center;vertical-align:middle; margin: 0.5em;border:1px #90999f solid;border-collapse:collapse'><img style='max-width: 100px; max-height:100px;display:inline' src=\"data:image/png;base64,iVBORw0KGgoAAAANSUhEUgAAAHAAAABwCAAAAADji6uXAAAABGdBTUEAALGPC/xhBQAAAAJiS0dEAP+Hj8y/AAAAB3RJTUUH4QkdAB4nz+QFAAAAArFJREFUaN7t2UmojXEYx/GbOfOcCCkhYxaGDREpdpZKEbEhZUwkGZNpYSUhQ5Fiw8JUMi0sUGaZiczkmqd7fb913jqdyHvrnvMeej4b98p9frc8/+k5FdUlVhGBERiBERiBEfgPBv7Ed3xF/t9XIQLLP9CghziCEziHM7iK5/iU8wFfEIHlF2ijHMcIdMBgjMdETMMq7MYBHMJZPMI7+LO/a6wILG2gi/4YxqAJGqIFWsI/u2IIRmEcpmMPDmMb9uICKhGB2QT6n/4AmzAb3VAHdWFoW/iL+H0rjMY8TEIXDMI6uHkkDRSBpQ1MQt2gL2IYmqMXpsINYABsoP5YjRWwgfphJNbjBVI1TQQWJTDhAh6LHliK83Cz9msLu+gf4wpO4jQO4iZ+IAKzDXQTv40J6Iv98OLkJesekgPYBrO4h6+Xqo8oPIQjMJtAvcRyuKC3wMCk2De8R/6/r8oprBOB2QXaCF6oBsJFfglu6vkBaepEYHaBLn4XuWE9sQBu0DZLTQYMEZhdoNyMfagMh6FeeK8h/4CNwPIOtDnewkenA4aOWAJDC4d/EViegXIDcLC3GR7GPmLW4i7SNE8EliYwGazLIl6S3uAZnsLi1zEFNo4bwS68QgRmF2hRL7cubB+WFr0FH6I7sQGLMQcLsREOghwItcEM3MDfDuMILE6gj0cLH8VWzMJcTEZv9EF3dILFHbg7nG0Kh32tMRN3YMNFYOkDn2A+vBi1gwUaox4aoD6awQCHewZ3hoveIe1QbMdnpGqaCKz1QB8kNosHqiHtYbjBjWDjOHR1KOsvtgjLsAY74IeZbhLVKURgcQLl5v0al7EPNsFKWNDh3Sl44b0PP/jwMLZJPKA9qGs8VIjAWg9MWMBCDn0qc3yIJsX/NLRLKwKLH1hsERiBERiB/2HgL3HPhriH8Is+AAAAAElFTkSuQmCC\"></td><td style='text-align:center;vertical-align:middle; margin: 0.5em;border:1px #90999f solid;border-collapse:collapse'><img style='max-width: 100px; max-height:100px;display:inline' src=\"data:image/png;base64,iVBORw0KGgoAAAANSUhEUgAAAHAAAABwCAAAAADji6uXAAAABGdBTUEAALGPC/xhBQAAAAJiS0dEAP+Hj8y/AAAAB3RJTUUH4QkdAB4nz+QFAAAAAiJJREFUaN7t2cuLjXEcx/HJnSKlKVFYkltIKQsWihKllBTKamKhUGokG6SQjeQPsDNTUqQolEtJpMygWZBLMy4Ncr/zftfMZpo6I5zfmenz2pzVed6b3+/7PM/vqftVZXUJJphgggkmmGCCCSb4F8Ef+I6v+ITP+Ah/3+MR7uEJ7uM0zuABEiwfNPYCD3EHl3EVXvACTmALNuModmAJ1uESEiwf7MQBbMRqLMRsDMLgLsMxFw1YiRVohAsowfJBF8wyjMRQdEdGoR5jMBGHcQ5ncQUOAgdDguWDr3AILoTFGIJJcBHtwVqsxzN0/8dB78Doea0EywS/4SVuYy/mYzva4M34Lq7hJypdK8EyQXmxx3AgL8B+dKCv/0+wfFBu5ma4+X1guoE38OE4wf4RlIPc2CyswkE4EBwA/3TjJ/jfgrqJNZiMqXAYuIA+oFI0wdoIOgB8yN2HeZgGX0hvwZt1gv0j+Bo+PG3AOEzAMTjME6zdoKGn8DDoCLbCBTMCDoHjeIsEay/oi6WHQx4YGFkEA2PhgpmJTWhBpWslWN2gg9iN7FDeBV9iDHiQ56GChwke+p2HLzo9D4ESLBd0kRhyg/uguxSjMQzTsRsX0Y4v6O0AKMFywec4iZ2Yg/FwoUyBh3nedN/hTyIJVi/o4UATlmMG3Oh+sNqGU/Dm25eXzgTLBX1IcjNfhwPZj42t8INypZeUBGsjWA0JJphgggMw+Bs5lYaGMVWm7wAAAABJRU5ErkJg\"></td><td style='text-align:center;vertical-align:middle; margin: 0.5em;border:1px #90999f solid;border-collapse:collapse'><img style='max-width: 100px; max-height:100px;display:inline' src=\"data:image/png;base64,iVBORw0KGgoAAAANSUhEUgAAAHAAAABwCAAAAADji6uXAAAABGdBTUEAALGPC/xhBQAAAAJiS0dEAP+Hj8y/AAAAB3RJTUUH4QkdAB4nz+QFAAAAAmhJREFUaN7t2VtojnEcwPGVJIxMUdocSqJEDpdWcoE15QIpUmpIOWXauLC1XFrhgtIyF0JSZItI3FFyCjdESMl55ZA5zPH7LU+9KTb0vM+Tfp+bd6f3/b5r/+f3PM9/Jd+KrCSCEYxgBCMYwQhGMKPgR7zEMzzCA/j4Au+QfP8pOuDXviKC2Qd90nscxXKswGY0oRnb0YrD8HEb9uAsruIcbuEzIphd8C32YgoGYyjKMRyl6IP+8HujMRtrsQDjsBKvEcFsgvKgvoyNWISx6IXeKMMEjMEgjEcddmET1mAfPiGC2QVdOJ3wAL6IdRiFkfANeKAbqIFvyp95jsdwmPvcwteLYPGDCf/wnoC3YBqqcQKebB3wt3Effvy714lgdsEveIOdmIl5OAXfyK8umCKYr6B88etYgumoxWncxQdEMP9BF4cH+kHMgkPccCPuwJN1BPMdlDcmr9COxfBEPAkOdYe3AyKC+Q4quVG9gVVw8UzGDhRe9EYwn8EuuPlzEw5yB4A3pBXwBsYFFcF8BV0gyQXUFbRgNaowEX0xAH5+DA73COYj6JB2U+gevFCqRyWGIdkMcnPIwT0f+/EE3f0CEUw36EFtxM2AazgJN13dPHDzZyD6wdAMbMABPISbB92dfCOYbtAfdtPgEo5gPebCzbvSH4wuxFa4kJKQC6ynN6URTC/oky5gKdwcHwIHs5uxDuep8AR7Bg4DN84L/wHSUxFMLyhfqAFu3o2AkTlYBoezA+FPFkgEix/0IPYGpQ27cQjHcR6eXB3ufxuKYHGCP0supLz5/JeFEsHsgmmIYAQjGMH/MPgdkSqeFwndJ30AAAAASUVORK5C\"></td></tr><tr><td style='text-align:center;vertical-align:middle; margin: 0.5em;border:1px #90999f solid;border-collapse:collapse'><img style='max-width: 100px; max-height:100px;display:inline' src=\"data:image/png;base64,iVBORw0KGgoAAAANSUhEUgAAAHAAAABwCAAAAADji6uXAAAABGdBTUEAALGPC/xhBQAAAAJiS0dEAP+Hj8y/AAAAB3RJTUUH4QkdAB4nz+QFAAAAAulJREFUaN7t2lmIjWEcx/Ep62Tfo1AKcTPKUshesl1JIkUukAtFWSKS5cIWuVAuyBIpa5IbuUEi+5Y1sm/Z93XG91vvqZOajZn3nIv/5+rM9M7ze2ue9f+cgpKUFURgBEZgBEZgyW/8SHzGo8QT+PMvRGD+BX7DS9zCUezGLmzCHMzEVGzFfizEGEzAGpxGBKYfWIx3eIADWIzJ6I0OiXZoiTboAQNGoTP8XXf4QhcRgekGOngNmocR6Ia2aIa6qI/maISaaIW5WI9lmA1/XoFDeI0ITDfQge5gLUINNIQN+7kJBmMKxsNn+uMI7uMebiTuwAkje0KPwHQCXVzPwQnYAT0WdpJCDMA2XIUvtRGrcBuZv3eR/pnwc3bbEZhOoA+5MdoDF1Un7z4w1MX2JpzcbdBOcRfvUVIBEZhOoBz8b/ARTzEDDvqROIOvMLQiIRGYm0AVJ95iJ9xAtYYL62W4sPpifw/uCMyfwAwbdIB7eClKjMMiHMZzVDQ0AnMTKDdCNrwDHljcFLsR7oIluASLCuVNBhGYu0C54DrY3WBtwEA0gAvzaOzDC5RVHIrA3AbKTuFG2YLDNWzGELRAL6zDQ0Rg/gZmB3+Aja9FU9SBxSALf26+IjB/A+00Bh3ESkyEYRYeOmIvnMgjMP8CMwfQ41iKYegEi3suxhYAh+MYSpvAIzA3gQ5yD6AW67bDYrpFdgu1LsDtMRTz4UXJY5S2MY7A3AR+wXmshhsnC7a14WXIICyAhxpfyGfLaisC0wvM3iydwCx4YWInqYeumA4XW4uzdqqKvHwEVn+gQf7jXWBPYQs8qHgAtaO4WbLjeJixUOuzlSnyRWD1Bbq4fsIz+OUAL4v7wqKsl1yZgT4JJ/Ed/1WgjcAqD/Syw8XVweyliBujwoRFA4uzy3EBFmUrGxSB1R/opVY/NEYtuLHtiWnwwHIW/3o5EoHpBL7CFdgpLLZehxtaL0ksEJT3BbkIzH1gWiKwyv0BxAN5ma1Yo5kAAAAASUVORK5C\"></td><td style='text-align:center;vertical-align:middle; margin: 0.5em;border:1px #90999f solid;border-collapse:collapse'><img style='max-width: 100px; max-height:100px;display:inline' src=\"data:image/png;base64,iVBORw0KGgoAAAANSUhEUgAAAHAAAABwCAAAAADji6uXAAAABGdBTUEAALGPC/xhBQAAAAJiS0dEAP+Hj8y/AAAAB3RJTUUH4QkdAB4nz+QFAAAAAjZJREFUaN7t2U9oznEcwPGVLMIsM0W77CCa0hyGHHBS22U1HHbRQhRqJwdF7YJSRi7i4iDampQcFicOLMVqrTVOIrFJEtuwP3i/D8/Js/bQ/J7vo8/r8qtn7fv+Hb7f35/vr+xnxsoiGMEIRjCCEfwPgj8wg9zxC97hPV7jHrrQD/8ewTSC3zGGD3Bwj4Nw0B504jouowV70AtPKoLFD37DE3TjAg5gL7bD4y5sRRsOYScOYwj5xotg9kEX9lVswCIsQAXKsQyLUYOjOI9reARPNIJpBKfRByfFJlTC6Co0YTOcKC70EXzGJGYbL4LZB+XEMXoHrViCRhi5iXN4gXwX6wimEZSTZwIX4cQ5AX/7Ch+gPBYyTgSLF8x5jHXYBx+u/C33YBzB0gh+wnHUYwB/+v8RLH7Qxf4AW+CN1wvBW+R7+YxgmkF9hC82a7EGZ/EKnkwESyOYi7qJsA2+zJzGS0SwdILefN/A6ELUwZfRcUQw7aAhJ8ddnMFuuMHQgFuYQgTTDHph9kbroEfgDXg1VmI9/O0Z5hongtkHfUlxg/0pOuDF2shyOFHa4Un4kWRebsARnNegi9wNn9vYj1qsgBPmFB5iFHMt9ggWJ+gmqwvZDaAdMOSm7EHchx+8CpkkEcw+6CC+mNxAM6pRhY04iWHM9hEkgmkEfUm5Aj9CLoWL/Rj8uOym0N+GIphd0IuxN9RLMPIchW6gRzCNoAvfhyY/cHkDLnTzPILpBP+1CEYwgr/5BXz3pQbcRMqSAAAAAElFTkSuQmCC\"></td><td style='text-align:center;vertical-align:middle; margin: 0.5em;border:1px #90999f solid;border-collapse:collapse'><img style='max-width: 100px; max-height:100px;display:inline' src=\"data:image/png;base64,iVBORw0KGgoAAAANSUhEUgAAAHAAAABwCAAAAADji6uXAAAABGdBTUEAALGPC/xhBQAAAAJiS0dEAP+Hj8y/AAAAB3RJTUUH4QkdAB4nz+QFAAAAAqlJREFUaN7t2ltoz2Ecx/FFznJo5MI5ppiLJRcoxygJFw6l1e7I1NoNWZKIFHdCXAk3KFIOJSSFKBcrmyTNOaIo5zPzftf+pfW3v6n9nj99X1dr+/1+n//a93l+z/N9VtKcsZIIjMAIjMAIbP6BCPx3Aj/hNZ7iDu7iEV61qMdFXIPXvME3RGBxBPrAI1iHNViOZZiAEZiEaZiF+diBPaiG1/p1Iz4iAtMEWizrMQx90Qvd0BmdfuH3DK+C4UPgPX6443iBCEwT6AA+hoWwOPrBgJ4ox2QMQg9swWkcxT7swgFchx88AtME6jnO4wxmw7AZuAwn84NYDK9x4nayfwsL5RnyTeYRmG3gd3yAD9qIwdiKl3Ax9R4WxhN8Qe4+f+a9+RZcEZhtYO5m//C+jEdiCh7ABxa6N58IzD4wF+okXAMHvxO0k4LF1N7NTQSmCcyFPoQv3zFYif1oQntCIzBdoL7iFCowAONQh5uwgCKw+APlBvMS3HQOhZtTC+gKfFkXKqAITB8oH9wANy1zUIqlOIfWm5cILM5AC8OBbrNvJ7rAxsMSXEVbhROB6QJd+Dro3WT60j0Lw1bBplFXjMdutG4GRWDaQDcyDuZ7uIDtqISbmrEYDsN6YyYOwY1qBKYPNMgmjw0gG62bsQCjYKPPpl53OODLYHN2LTw0aesXiMCODXTSdbFrkbi4PQmD5sKH9oEF4kC3wTAPHqJ4KOKhl4X1DhGYJvAzHuMW9sIDLAf3aBhgM8FDkOmohY0FF8RO5B6Mef+fNIsisOMCPTTeholwYDsZ98dAuGGZitU4gdvwJeuCuNAhcwRmF+jBxibYKHBStlgWYQU24DAsKF+uv2ugR2DaQB/ipO1C10F8H07gN+A/fPxNMzYCsw3MSgRGYARG4H8Y+BORGpOIxIFv6QAAAABJRU5ErkJg\"></td><td style='text-align:center;vertical-align:middle; margin: 0.5em;border:1px #90999f solid;border-collapse:collapse'><img style='max-width: 100px; max-height:100px;display:inline' src=\"data:image/png;base64,iVBORw0KGgoAAAANSUhEUgAAAHAAAABwCAAAAADji6uXAAAABGdBTUEAALGPC/xhBQAAAAJiS0dEAP+Hj8y/AAAAB3RJTUUH4QkdAB4nz+QFAAAAAipJREFUaN7t2U9oznEcwPEdxqhJktu21hBLHKQV7WIHWf6WcthBnB2Ew47+XWQOG9oOo9WK1ZxIKQ4cFFrCihKFIiZErObPNu93PU/tMv0c9vv+rM/r8tTz9Pzel+/z+32/n6diMmcVEYxgBCMYwQhGMIIJghMYn6L8nn7jZ4mf+foDv+DnEUwf9Evf8b5kBK/wtOQmLuE8fL8fPbiFz4hg+qCL4CEu4jQOYC+2Yhda0ITtOIm1WIdTeIMIpg9+Qxe80FLUYgnmYgGqUINDOILD6MYwxhDB9EG/1IcNWIlKzMEybEQj9uEeXuAtvsCb+nTXjGC+QR+qQziOo3DBuEjaMQgXylWMYjKjCOYblD/+J7iP9diEB/DG/hofkTUWwTRBuXj8YW9BK57jXyIRTB+UG+Jj8EHsRjeC/1/Qg80z1MMNcAfcLJU/i2Dxg/KG7cbYh3AD9sMNlAuqPHCIYLGDcrBwAc1Yjt1wI/UJWRZPBNMHXRxe/AZ2YBE24xqmO4RGsFhBD5sf4MZ4DxwwrMJZfEUEix30YHMHDvL8wTtoMLgGvchyjQjmH/SG7J8fDtHPwcNMHaqxEA5kT+AxIlisoCEXiYfPK9gGN0/zMB+r4UDWm7h/omSJRTCfoCFvwo/QCQdBDtcNOVRfgYO4jXf42zA2gmmCXuAu2mBoMRym+5DdictwMWU9vEQw/6AXeokBnIF/XnlYuY6sB5YIpg3OtAhGMIIRnIXBP3fsn9ZjThQiAAAAAElFTkSuQmCC\"></td><td style='text-align:center;vertical-align:middle; margin: 0.5em;border:1px #90999f solid;border-collapse:collapse'><img style='max-width: 100px; max-height:100px;display:inline' src=\"data:image/png;base64,iVBORw0KGgoAAAANSUhEUgAAAHAAAABwCAAAAADji6uXAAAABGdBTUEAALGPC/xhBQAAAAJiS0dEAP+Hj8y/AAAAB3RJTUUH4QkdAB4nz+QFAAAAAmNJREFUaN7t2U9oznEcwPGFDRsRmrSDFJqDpETisiJ/5ioHubhJ3Bx2wEWZg7ggXBRrrXEgWku2ixvhIKKUbCXDJsx/4/2u51dif57Vnuf7PPm8Lpv9+b1Xvr/v83w/v4pfRVYRwQhGMIIRjOB/GBxCBMsn+A49uIAmnMFzRDBd0P/wH3/4lvMZH/Aej3EeR3EczViOVTiBV4hgmqCxj7iHi2iFF9uPnViLLViDRViC9diKTTiIu/APjGCaoD6hA3WYgsmYBD/3o//28+lYh3NoRxeeYBDj2rwjOOFB9eMYNsIFkkVmYyWWYQ72wM3bTeELvuPvWATTBOVFHuIW6jELu/ECD3ASZzFcIIKlEZQX8wV3L1wkLfDrPzGAl8jnOhFMF8yid7AUbgTZi+tQTgRLPygjpzEXNzDe349g+qC80X0TvBj7cBMRLK+g3AA8eE6Fb6588+vhJ4LlE/SF1wNnA2qwDdcxVjSCpRPMos/gQaYWm9ENh0gRLO1gNvTzkOPHK5gHD6lH8AYjvamKYJqgv+wC8eIODByc38Y1HII3/Ux4yDkFh7cjXSuCxQ0aMeDAx4XwFJdwAI1YiGrMQCUc1F7GV0QwbTALvcV9+MLqEGE7VmABqpANbL3hN8CHW70Y7XAawcIHvbldJI9wFbvgQxAHet7cLo5pMOrXd6ANDv8cHPnHjrYQI1j4oLFOOID1gj4EcYFU58yHQ6HD8CDqhuBAfaxQBIsX7IMPKN2cDbohr4aLx4eVDoU8fPpz+UYiWNygm7YLwQf+r+EQyAePAzl+P99hbATTBAstghGM4D9+AzpJh9dpOf71AAAAAElFTkSuQmCC\"></td><td style='text-align:center;vertical-align:middle; margin: 0.5em;border:1px #90999f solid;border-collapse:collapse'><img style='max-width: 100px; max-height:100px;display:inline' src=\"data:image/png;base64,iVBORw0KGgoAAAANSUhEUgAAAHAAAABwCAAAAADji6uXAAAABGdBTUEAALGPC/xhBQAAAAJiS0dEAP+Hj8y/AAAAB3RJTUUH4QkdAB4nz+QFAAAAAqFJREFUaN7t2kuITmEcgPHJdVi4k0vJJVIiyXWBjdwKC2JDoUY2KBaKBYUFjXILiYUSC5EkhaKU3BYsXEIuiQW5329jPE99ZyN9M4M55y3/30rTmOerec//nPc9U1Gbs4oIRjCCEfzPg9/wGe9wCUdwEBdwDnuxE8fwCBFMJ/gJD3EUm7EGkzEcY7ASizAAXTEbFxHB4oLf8QZGXBjLMAXt0AxNS/y34VVYjir4vQfgoqlBBPMPGruJtZiKPjBUiebojP7ojo7YhKu4jXt4jLf4ih+IYP7BL3AQT0RbNEELuEi6YC62wQ80Hw6D96itpwg2ftCL1V/+eszCTAyBcQf1CXgjfo0ruAUXSATTCcob7h1chjfSaozCDJzF7y7oCKYV9Ae6ED7AG/EpTEJv+MDk12tKIphm8Nf4CxyGA2Ag/ACv4KamodEI5h+UP/QZ9qMfHOJLsRUOejep9R0GESwmmEWfwkE+AoYHYwV86HoOH6IjmG5QLgw3mh7+TEdfeJDgRtSN6xPUFY1gscEs6tB2obhgRqMXpsHB4IAoNwQiWHww4yDwYj+EYWiFcfDm7DCPYPpBF4abHg+C5sGDvk7YAB+wIph+8CVOwsNZb8gt4cHfOpQ7ZIhg8UEv6uvYiPHoiTZoj5HYDjesEUwvmA3r01iCQTDk4bsvuCZgC27AQ94IphN0SLsI7mMPPLT1gKiyxJcmC+GD8AOUi0Uw/6D/+TzcvLhQfOj1Avdm66D2ZdgOXIMPx3V9+AjmF/QliH/csQ8LMBTd0Bq+tPQl5mKcgcOgIQd8Ecwn6A12NcaiBzogO9Sbg13we8ptWiJYbPAuPCCoLtmN4/CPrRzQDvM/feEVwXyCHtC5ID7CTadD3BfNfv1vXlZGML9gY4rgP/cTiSKmuJ9uRSoAAAAASUVORK5C\"></td><td style='text-align:center;vertical-align:middle; margin: 0.5em;border:1px #90999f solid;border-collapse:collapse'><img style='max-width: 100px; max-height:100px;display:inline' src=\"data:image/png;base64,iVBORw0KGgoAAAANSUhEUgAAAHAAAABwCAAAAADji6uXAAAABGdBTUEAALGPC/xhBQAAAAJiS0dEAP+Hj8y/AAAAB3RJTUUH4QkdAB4nz+QFAAAAAwxJREFUaN7t2lmIjlEcx/HJbuxki6xlSyJJQkiKG2UtQyhSEhcuEKWICyWlcIOQhLKHSES2CBEpska4s+8M32+9T83FrDXv84z8Pzczve/znN/UnHOec/7nKfiTsoIIjMAIjMD/MLAYv1GcE4H/VqBBX/EOH/AJSfAvfIHf+/krPMUzfITXe99P3MN1eF0EphvoDdewF0dxEv6+E7uxFQdxHNuxAetwE/swC6MxFV73AxGYbqD//COYiF4YgGEYldMfQzEGfj4QQ7AaY9EOnTEft1DhwI/Aag/0n3weM+HN9XIK0Qh1UB/+rIXWGI/lmIN5WImzcNBHYPqBTtJOxg7q6RgBG60NQ1qiJ7qgAew0Xnsxx0n7JZzkkzYjMN1AfYehZ7ALDnA7jsGTsAVrMA52krswwA5XWnsRmH6gXEzZwAssRVtMwTG8hx3jBHxAv0V5bUVgNoGJ51iGxnBhdAPJZuczXBRXtOGJwGwDXVQdRj84UZ/GN1SljQjMNtDN5X0sQnesxW24+bTjRGDND3RQu0ndDzctvTEZbkRdMPngrSg4ArMNlA/iR1gPQzthMNyEXoEP4PJCIzD7QDlhP8RmuAHtAUOX4DKSImAE1txA2Xksyp6Ci+I26Iq5cBIo674IzDYwKbC7SXVB5SB3M7MAFhgsEg2Ck7ufl9ZxIjD9wGSzYifx4fsYDu49sIhXBCfwumgOH8h+7x9VWnsRmF5gyQMtB7ibTw9JFmI4HOQOdjtLQzRBX7g49vqy2o3A/AeWPKR8jUvYCAvtfWBAYU4LJIuo2XBh5UKqZEE2AtMJtIO42TToDa7CCXgTZsBCuo0b0hQdYFFhGlbBznQHTuiVKgxFYLUGOrh9kD7ABSSHIg5iG24GD0Es6HWDxXSLtDvgJO0gr2xBIQLzE2jYObgRGQknZQe3Qa3ggYgHx35nkC8JuCG1IFuVoAjMX6DFuhXwJYCOaA8nZAe2m80JWIxt8PC/qgXZCMx/oBP2E3i4fwC+lOOkbcAh+OKNh1xlHUBGYPaB1dFIBGYa+Be+oAPplVGc4AAAAABJRU5ErkJg\"></td><td style='text-align:center;vertical-align:middle; margin: 0.5em;border:1px #90999f solid;border-collapse:collapse'><img style='max-width: 100px; max-height:100px;display:inline' src=\"data:image/png;base64,iVBORw0KGgoAAAANSUhEUgAAAHAAAABwCAAAAADji6uXAAAABGdBTUEAALGPC/xhBQAAAAJiS0dEAP+Hj8y/AAAAB3RJTUUH4QkdAB4nz+QFAAAAAlBJREFUaN7t2j1IVXEYgHEXC60IJRsMigwpqCUpcq7BoSEo0yCiIVrCIWoooqBCooZoikSMiKIlCCMnQ/oaoqAvUkQisw+KoKSibzN9HvDCJQhvwr3nXHp/y5XL9TwO5/zP/7zXkrECK4lgBCMYwf84+HtCBIsz+AmDeA1/HkUEiyfowR9gB1pwAG24j3f4ih/4hQimM+jFbrABlZiJalRhAfwjzqIHT2E8gukKypPjHJpgqBSGfZ2NJViNXbgHP/+3xSGCyQT95fe4gGVYhGasx3xMRy024SDWYiVO4AWy4xFMJpiJXsMqbMZjfEY7NuIQruAwlmMhtuEOIpiOoIv4ADwxtqAPvv8S3XiEb/AkuYuruI43yD5OBJMLyk3wMayDBxyBmyffdzOV+ZzvG/e9PzdXEUw26AV8A26odsKT6Cf+5RgRTDaojzgCF+c9cPMbweIKygGDN+EVOIMviGBxBV2Qb8IHmA3w5pvrsCiC6Qh6c/VEOY65OIpcT5wIFj44OsEN0Ss8hA81t3ARDhZ8eLmNCKYn6IX9Hd5sh/AEbp5cqB3QboVDojUoh0O/83ADHMHkg17AvfCkuIS92A+HPXWowAxMQxkcCjkc8uEml01xBPMbdHDQj91wAFSDOZgFD+xFbszXeXDIV49GuChMFotg/oMaRhe2Yyn8MmQxPFl8dSi7D604iQ64iDvAjWA6gi7cRr34Hc5dximcRiccuD7DcxjxYp/sC64IFjaYzYXAzdNbfIALe2aBnuo/gkSwsMF8iGAEIxjBCEYwhcFxfc5Exldwd9QAAAAASUVORK5C\"></td></tr></tbody></table>"
      ],
      "text/plain": [
       "8×2 Array{Array{ColorTypes.Gray{Float32},2},2}:\n",
       " ColorTypes.Gray{Float32}[Gray{Float32}(1.0) Gray{Float32}(1.0) … Gray{Float32}(1.0) Gray{Float32}(1.0); Gray{Float32}(1.0) Gray{Float32}(1.0) … Gray{Float32}(1.0) Gray{Float32}(1.0); … ; Gray{Float32}(1.0) Gray{Float32}(1.0) … Gray{Float32}(1.0) Gray{Float32}(1.0); Gray{Float32}(1.0) Gray{Float32}(1.0) … Gray{Float32}(1.0) Gray{Float32}(1.0)]       …  ColorTypes.Gray{Float32}[Gray{Float32}(1.0) Gray{Float32}(1.0) … Gray{Float32}(1.0) Gray{Float32}(1.0); Gray{Float32}(1.0) Gray{Float32}(1.0) … Gray{Float32}(1.0) Gray{Float32}(1.0); … ; Gray{Float32}(1.0) Gray{Float32}(1.0) … Gray{Float32}(1.0) Gray{Float32}(1.0); Gray{Float32}(1.0) Gray{Float32}(1.0) … Gray{Float32}(1.0) Gray{Float32}(1.0)]         \n",
       " ColorTypes.Gray{Float32}[Gray{Float32}(1.0) Gray{Float32}(1.0) … Gray{Float32}(1.0) Gray{Float32}(1.0); Gray{Float32}(1.0) Gray{Float32}(1.0) … Gray{Float32}(1.0) Gray{Float32}(1.0); … ; Gray{Float32}(1.0) Gray{Float32}(0.971794) … Gray{Float32}(1.0) Gray{Float32}(1.0); Gray{Float32}(1.0) Gray{Float32}(1.0) … Gray{Float32}(1.0) Gray{Float32}(1.0)]     ColorTypes.Gray{Float32}[Gray{Float32}(1.0) Gray{Float32}(1.0) … Gray{Float32}(1.0) Gray{Float32}(1.0); Gray{Float32}(1.0) Gray{Float32}(1.0) … Gray{Float32}(1.0) Gray{Float32}(1.0); … ; Gray{Float32}(1.0) Gray{Float32}(1.0) … Gray{Float32}(1.0) Gray{Float32}(1.0); Gray{Float32}(1.0) Gray{Float32}(1.0) … Gray{Float32}(1.0) Gray{Float32}(1.0)]         \n",
       " ColorTypes.Gray{Float32}[Gray{Float32}(1.0) Gray{Float32}(1.0) … Gray{Float32}(1.0) Gray{Float32}(1.0); Gray{Float32}(1.0) Gray{Float32}(1.0) … Gray{Float32}(1.0) Gray{Float32}(1.0); … ; Gray{Float32}(1.0) Gray{Float32}(1.0) … Gray{Float32}(1.0) Gray{Float32}(1.0); Gray{Float32}(1.0) Gray{Float32}(1.0) … Gray{Float32}(1.0) Gray{Float32}(1.0)]          ColorTypes.Gray{Float32}[Gray{Float32}(1.0) Gray{Float32}(1.0) … Gray{Float32}(1.0) Gray{Float32}(1.0); Gray{Float32}(1.0) Gray{Float32}(1.0) … Gray{Float32}(1.0) Gray{Float32}(1.0); … ; Gray{Float32}(1.0) Gray{Float32}(1.0) … Gray{Float32}(1.0) Gray{Float32}(1.0); Gray{Float32}(1.0) Gray{Float32}(1.0) … Gray{Float32}(1.0) Gray{Float32}(1.0)]         \n",
       " ColorTypes.Gray{Float32}[Gray{Float32}(1.0) Gray{Float32}(1.0) … Gray{Float32}(1.0) Gray{Float32}(1.0); Gray{Float32}(1.0) Gray{Float32}(1.0) … Gray{Float32}(1.0) Gray{Float32}(1.0); … ; Gray{Float32}(1.0) Gray{Float32}(1.0) … Gray{Float32}(1.0) Gray{Float32}(1.0); Gray{Float32}(1.0) Gray{Float32}(1.0) … Gray{Float32}(1.0) Gray{Float32}(1.0)]          ColorTypes.Gray{Float32}[Gray{Float32}(1.0) Gray{Float32}(1.0) … Gray{Float32}(1.0) Gray{Float32}(1.0); Gray{Float32}(1.0) Gray{Float32}(1.0) … Gray{Float32}(1.0) Gray{Float32}(1.0); … ; Gray{Float32}(1.0) Gray{Float32}(1.0) … Gray{Float32}(1.0) Gray{Float32}(1.0); Gray{Float32}(1.0) Gray{Float32}(1.0) … Gray{Float32}(1.0) Gray{Float32}(1.0)]         \n",
       " ColorTypes.Gray{Float32}[Gray{Float32}(1.0) Gray{Float32}(1.0) … Gray{Float32}(1.0) Gray{Float32}(1.0); Gray{Float32}(1.0) Gray{Float32}(1.0) … Gray{Float32}(1.0) Gray{Float32}(1.0); … ; Gray{Float32}(1.0) Gray{Float32}(1.0) … Gray{Float32}(1.0) Gray{Float32}(1.0); Gray{Float32}(1.0) Gray{Float32}(1.0) … Gray{Float32}(1.0) Gray{Float32}(1.0)]          ColorTypes.Gray{Float32}[Gray{Float32}(1.0) Gray{Float32}(1.0) … Gray{Float32}(1.0) Gray{Float32}(1.0); Gray{Float32}(1.0) Gray{Float32}(1.0) … Gray{Float32}(1.0) Gray{Float32}(1.0); … ; Gray{Float32}(1.0) Gray{Float32}(1.0) … Gray{Float32}(1.0) Gray{Float32}(1.0); Gray{Float32}(1.0) Gray{Float32}(1.0) … Gray{Float32}(1.0) Gray{Float32}(1.0)]         \n",
       " ColorTypes.Gray{Float32}[Gray{Float32}(1.0) Gray{Float32}(1.0) … Gray{Float32}(1.0) Gray{Float32}(1.0); Gray{Float32}(1.0) Gray{Float32}(1.0) … Gray{Float32}(1.0) Gray{Float32}(1.0); … ; Gray{Float32}(1.0) Gray{Float32}(1.0) … Gray{Float32}(1.0) Gray{Float32}(1.0); Gray{Float32}(1.0) Gray{Float32}(1.0) … Gray{Float32}(1.0) Gray{Float32}(1.0)]       …  ColorTypes.Gray{Float32}[Gray{Float32}(1.0) Gray{Float32}(1.0) … Gray{Float32}(1.0) Gray{Float32}(1.0); Gray{Float32}(1.0) Gray{Float32}(1.0) … Gray{Float32}(1.0) Gray{Float32}(1.0); … ; Gray{Float32}(1.0) Gray{Float32}(1.0) … Gray{Float32}(1.0) Gray{Float32}(1.0); Gray{Float32}(1.0) Gray{Float32}(1.0) … Gray{Float32}(1.0) Gray{Float32}(1.0)]         \n",
       " ColorTypes.Gray{Float32}[Gray{Float32}(1.0) Gray{Float32}(1.0) … Gray{Float32}(1.0) Gray{Float32}(1.0); Gray{Float32}(1.0) Gray{Float32}(1.0) … Gray{Float32}(1.0) Gray{Float32}(1.0); … ; Gray{Float32}(1.0) Gray{Float32}(1.0) … Gray{Float32}(1.0) Gray{Float32}(1.0); Gray{Float32}(1.0) Gray{Float32}(1.0) … Gray{Float32}(1.0) Gray{Float32}(1.0)]          ColorTypes.Gray{Float32}[Gray{Float32}(1.0) Gray{Float32}(1.0) … Gray{Float32}(1.0) Gray{Float32}(1.0); Gray{Float32}(1.0) Gray{Float32}(1.0) … Gray{Float32}(1.0) Gray{Float32}(1.0); … ; Gray{Float32}(0.969688) Gray{Float32}(0.87171) … Gray{Float32}(1.0) Gray{Float32}(1.0); Gray{Float32}(1.0) Gray{Float32}(1.0) … Gray{Float32}(1.0) Gray{Float32}(1.0)]\n",
       " ColorTypes.Gray{Float32}[Gray{Float32}(1.0) Gray{Float32}(1.0) … Gray{Float32}(1.0) Gray{Float32}(1.0); Gray{Float32}(1.0) Gray{Float32}(1.0) … Gray{Float32}(1.0) Gray{Float32}(1.0); … ; Gray{Float32}(1.0) Gray{Float32}(1.0) … Gray{Float32}(1.0) Gray{Float32}(1.0); Gray{Float32}(1.0) Gray{Float32}(1.0) … Gray{Float32}(1.0) Gray{Float32}(1.0)]          ColorTypes.Gray{Float32}[Gray{Float32}(1.0) Gray{Float32}(1.0) … Gray{Float32}(1.0) Gray{Float32}(1.0); Gray{Float32}(1.0) Gray{Float32}(1.0) … Gray{Float32}(1.0) Gray{Float32}(1.0); … ; Gray{Float32}(1.0) Gray{Float32}(1.0) … Gray{Float32}(1.0) Gray{Float32}(1.0); Gray{Float32}(1.0) Gray{Float32}(1.0) … Gray{Float32}(1.0) Gray{Float32}(1.0)]         "
      ]
     },
     "execution_count": 15,
     "metadata": {},
     "output_type": "execute_result"
    }
   ],
   "source": [
    "[MNIST.convert2image(augment(train_x[1,:,:], pl)) for i in 1:8, j in 1:2]"
   ]
  },
  {
   "cell_type": "markdown",
   "metadata": {},
   "source": [
    "As we can see, we can achieve a wide range of effects, from\n",
    "more subtle to more pronounced. The important part is that all\n",
    "examples are still clearly representative of the true label.\n",
    "\n",
    "Next, we have to adapt the function `train_baseline` to make\n",
    "use of our augmentation pipeline. To integrate Augmentor\n",
    "efficiently, there are three necessary changes we have to\n",
    "make.\n",
    "\n",
    "1. Preallocate a buffer with the same size and element type\n",
    "   that each batch has.\n",
    "\n",
    "   ```\n",
    "   augmented_x = zeros(Float32, batchsize, 28, 28)\n",
    "   ```\n",
    "\n",
    "2. Add a call to [`augmentbatch!`](@ref) in the inner loop of\n",
    "   the batch iterator using our pipeline and buffer.\n",
    "\n",
    "   ```\n",
    "   augmentbatch!(augmented_x, batch_x, pl, ObsDim.First())\n",
    "   ```\n",
    "\n",
    "3. Replace `x=>batch_x` with `x=>augmented_x` in the call to\n",
    "   TensorFlow's `run(session, ...)`.\n",
    "\n",
    "Applying these changes to our `train_baseline` function\n",
    "will give us something similar to the following function.\n",
    "Note how all the other parts of the function remain exactly\n",
    "the same as before."
   ]
  },
  {
   "cell_type": "code",
   "execution_count": 16,
   "metadata": {},
   "outputs": [
    {
     "data": {
      "text/plain": [
       "train_augmented (generic function with 1 method)"
      ]
     },
     "execution_count": 16,
     "metadata": {},
     "output_type": "execute_result"
    }
   ],
   "source": [
    "function train_augmented(; epochs=500, batchsize=100, reset=true)\n",
    "    reset && run(session, global_variables_initializer())\n",
    "    log = MVHistory()\n",
    "    augm_x = zeros(Float32, batchsize, size(train_x,2), size(train_x,3))\n",
    "    for epoch in 1:epochs\n",
    "        for (batch_x, batch_y) in eachbatch(shuffleobs((train_x, train_y), obsdim=1), size=batchsize, obsdim=1)\n",
    "            augmentbatch!(CPUThreads(), augm_x, batch_x, pl, ObsDim.First())\n",
    "            run(session, optimizer, Dict(x=>augm_x, y=>batch_y, keep_prob=>0.5))\n",
    "        end\n",
    "\n",
    "        if (epoch % 50) == 0\n",
    "            train = run(session, accuracy, Dict(x=>train_x, y=>train_y, keep_prob=>1.0))\n",
    "            test  = run(session, accuracy, Dict(x=>test_x,  y=>test_y,  keep_prob=>1.0))\n",
    "            @trace log epoch train test\n",
    "            msg = \"epoch \" * lpad(epoch,4) * \": train accuracy \" * rpad(round(train,3),5,\"0\") * \", test accuracy \" * rpad(round(test,3),5,\"0\")\n",
    "            println(msg)\n",
    "        end\n",
    "    end\n",
    "    log\n",
    "end"
   ]
  },
  {
   "cell_type": "markdown",
   "metadata": {},
   "source": [
    "You may have noticed in the code above that we also pass a\n",
    "`CPUThreads()` as the first argument to [`augmentbatch!`](@ref).\n",
    "This instructs Augmentor to process the images of the batch in\n",
    "parallel using multi-threading. For this to work properly you\n",
    "will need to set the environment variable `JULIA_NUM_THREADS`\n",
    "to the number of threads you wish to use. You can check how\n",
    "many threads are used with the function `Threads.nthreads()`"
   ]
  },
  {
   "cell_type": "code",
   "execution_count": 17,
   "metadata": {},
   "outputs": [
    {
     "name": "stdout",
     "output_type": "stream",
     "text": [
      "Threads.nthreads() = 12\n"
     ]
    }
   ],
   "source": [
    "@show Threads.nthreads();"
   ]
  },
  {
   "cell_type": "markdown",
   "metadata": {},
   "source": [
    "Now that all pieces are in place, let us train our network\n",
    "once more. We will use the same parameters except that now\n",
    "instead of the original training images we will be using\n",
    "randomly augmented images. This will cause every epoch to be\n",
    "different."
   ]
  },
  {
   "cell_type": "code",
   "execution_count": 18,
   "metadata": {},
   "outputs": [
    {
     "name": "stdout",
     "output_type": "stream",
     "text": [
      "epoch   50: train accuracy 0.650, test accuracy 0.574\n",
      "epoch  100: train accuracy 0.812, test accuracy 0.729\n",
      "epoch  150: train accuracy 0.852, test accuracy 0.772\n",
      "epoch  200: train accuracy 0.868, test accuracy 0.794\n",
      "epoch  250: train accuracy 0.878, test accuracy 0.814\n",
      "epoch  300: train accuracy 0.898, test accuracy 0.828\n",
      "epoch  350: train accuracy 0.922, test accuracy 0.833\n",
      "epoch  400: train accuracy 0.932, test accuracy 0.844\n",
      "epoch  450: train accuracy 0.934, test accuracy 0.853\n",
      "epoch  500: train accuracy 0.940, test accuracy 0.852\n",
      "epoch  550: train accuracy 0.946, test accuracy 0.864\n",
      "epoch  600: train accuracy 0.954, test accuracy 0.874\n",
      "epoch  650: train accuracy 0.960, test accuracy 0.872\n",
      "epoch  700: train accuracy 0.962, test accuracy 0.872\n",
      "epoch  750: train accuracy 0.974, test accuracy 0.884\n",
      "epoch  800: train accuracy 0.978, test accuracy 0.894\n",
      "epoch  850: train accuracy 0.984, test accuracy 0.896\n",
      "epoch  900: train accuracy 0.978, test accuracy 0.902\n",
      "epoch  950: train accuracy 0.984, test accuracy 0.902\n",
      "epoch 1000: train accuracy 0.988, test accuracy 0.909\n",
      "124.314467 seconds (120.96 M allocations: 127.304 GiB, 8.08% gc time)\n"
     ]
    }
   ],
   "source": [
    "train_augmented(epochs=1) # warm-up\n",
    "augmented_log = @time train_augmented(epochs=1000);"
   ]
  },
  {
   "cell_type": "markdown",
   "metadata": {},
   "source": [
    "As we can see, our network reaches far better results on our\n",
    "testset than our baseline network did. However, we can also\n",
    "see that the training took quite a bit longer than before.\n",
    "This difference generally decreases as the complexity of the\n",
    "utilized neural network increases. Yet another way to improve\n",
    "performance (aside from simplifying the augmentation pipeline)\n",
    "would be to increase the number of available threads.\n",
    "\n",
    "## Visualizing the Results\n",
    "\n",
    "Before we end this tutorial, let us make use the\n",
    "[Plots.jl](https://github.com/JuliaPlots/Plots.jl) package to\n",
    "visualize and discuss the recorded training curves.\n",
    "We will plot the accuracy curves of both networks side by side\n",
    "in order to get a good feeling about their differences."
   ]
  },
  {
   "cell_type": "code",
   "execution_count": 19,
   "metadata": {},
   "outputs": [
    {
     "name": "stderr",
     "output_type": "stream",
     "text": [
      "WARNING: No working GUI backend found for matplotlib\n"
     ]
    },
    {
     "data": {
      "text/plain": [
       "Plots.PyPlotBackend()"
      ]
     },
     "execution_count": 19,
     "metadata": {},
     "output_type": "execute_result"
    }
   ],
   "source": [
    "using Plots\n",
    "pyplot()"
   ]
  },
  {
   "cell_type": "code",
   "execution_count": 22,
   "metadata": {},
   "outputs": [
    {
     "data": {
      "text/html": [
       "<img src=\"data:image/png;base64,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\" />"
      ]
     },
     "execution_count": 22,
     "metadata": {},
     "output_type": "execute_result"
    }
   ],
   "source": [
    "plt = plot(\n",
    "    plot(baseline_log,  title=\"Accuracy (baseline)\",  ylim=(.5,1)),\n",
    "    plot(augmented_log, title=\"Accuracy (augmented)\", ylim=(.5,1)),\n",
    "    size = (900, 400),\n",
    "    markersize = 1\n",
    ")\n",
    "plt"
   ]
  },
  {
   "cell_type": "markdown",
   "metadata": {},
   "source": [
    "Note how the accuracy on the (unaltered) training set\n",
    "increases much faster for the baseline network than for the\n",
    "augmented one. This is to be expected, since our augmented\n",
    "network doesn't actually use the unaltered images for\n",
    "training, and thus has not actually seen them. Given this\n",
    "information, it is worth pointing out explicitly how the\n",
    "accuracy on training set is still greater than on the test set\n",
    "for the augmented network as well. This is also not a\n",
    "surprise, given that the augmented images are likely more\n",
    "similar to their original ones than to the test images.\n",
    "\n",
    "For the baseline network, the accuracy on the test set\n",
    "plateaus quite quickly (around 85%). For the augmented network\n",
    "on the other hand, it the accuracy keeps increasing for quite\n",
    "a while longer. If you let the network train long enough you\n",
    "can achieve around 97% even before it stops learning.\n",
    "\n",
    "## References\n",
    "\n",
    "**MNIST1998**: LeCun, Yan, Corinna Cortes, Christopher J.C. Burges. [\"The MNIST database of handwritten digits\"](http://yann.lecun.com/exdb/mnist/) Website. 1998."
   ]
  }
 ],
 "metadata": {
  "kernelspec": {
   "display_name": "Julia 0.6.1-pre",
   "language": "julia",
   "name": "julia-0.6"
  },
  "language_info": {
   "file_extension": ".jl",
   "mimetype": "application/julia",
   "name": "julia",
   "version": "0.6.1"
  }
 },
 "nbformat": 4,
 "nbformat_minor": 2
}
