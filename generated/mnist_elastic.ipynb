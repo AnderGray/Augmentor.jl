{
 "cells": [
  {
   "cell_type": "markdown",
   "metadata": {},
   "source": [
    "# [MNIST: Elastic Distortions](@id elastic)"
   ]
  },
  {
   "cell_type": "markdown",
   "metadata": {},
   "source": [
    "In this example we are going to use Augmentor on the famous\n",
    "**MNIST database of handwritten digits** [MNIST1998] to\n",
    "reproduce the elastic distortions discussed in [SIMARD2003].\n",
    "It may be interesting to point out, that the way Augmentor\n",
    "implements distortions is a little different to how it is\n",
    "described by the authors of the paper.\n",
    "This is for a couple of reasons, most notably that we want the\n",
    "parameters for our deformations to be independent of the size\n",
    "of image it is applied on. As a consequence the\n",
    "parameter-numbers specified in the paper are not 1-to-1\n",
    "transferable to Augmentor."
   ]
  },
  {
   "cell_type": "markdown",
   "metadata": {},
   "source": [
    "If the effects are sensible for the dataset, then applying\n",
    "elastic distortions can be a really effective way to improve\n",
    "the generalization ability of the network.\n",
    "That said, our implementation of [`ElasticDistortion`](@ref)\n",
    "has a lot of possible parameters to choose from. To that end,\n",
    "we will introduce a simple strategy for interactively\n",
    "exploring the parameter space on our dataset of interest."
   ]
  },
  {
   "cell_type": "markdown",
   "metadata": {},
   "source": [
    "## Loading the MNIST Trainingset"
   ]
  },
  {
   "cell_type": "markdown",
   "metadata": {},
   "source": [
    "In order to access and visualize the MNIST images we employ\n",
    "the help of two additional Julia packages. In the interest of\n",
    "time and space we will not go into great detail about their\n",
    "functionality. Feel free to click on their respective names to\n",
    "find out more information about the utility they can provide.\n",
    "\n",
    "- [Images.jl](https://github.com/JuliaImages/Images.jl) will\n",
    "  provide us with the necessary tools for working with image\n",
    "  data in Julia.\n",
    "\n",
    "- [MLDatasets.jl](https://github.com/JuliaML/MLDatasets.jl)\n",
    "  has an MNIST submodule that offers a convenience interface\n",
    "  to read the MNIST database."
   ]
  },
  {
   "cell_type": "markdown",
   "metadata": {},
   "source": [
    "The function `MNIST.traintensor` returns the MNIST training\n",
    "images corresponding to the given indices as a\n",
    "multi-dimensional array. These images are stored in the native\n",
    "horizontal-major memory layout as a single floating point\n",
    "array, where all values are scaled to be between 0.0 and 1.0."
   ]
  },
  {
   "cell_type": "code",
   "execution_count": 1,
   "metadata": {},
   "outputs": [
    {
     "name": "stdout",
     "output_type": "stream",
     "text": [
      "summary(train_tensor) = \"28×28×60000 Array{N0f8,3}\"\n"
     ]
    }
   ],
   "source": [
    "using Images, MLDatasets\n",
    "train_tensor = MNIST.traintensor()\n",
    "@show summary(train_tensor);"
   ]
  },
  {
   "cell_type": "markdown",
   "metadata": {},
   "source": [
    "This horizontal-major format is the standard way of utilizing\n",
    "this dataset for training machine learning models.\n",
    "In this tutorial, however, we are more interested in working\n",
    "with the MNIST images as actual Julia images in vertical-major\n",
    "layout, and as black digits on white background."
   ]
  },
  {
   "cell_type": "markdown",
   "metadata": {},
   "source": [
    "We can convert the \"tensor\" to a `Colorant` array using the\n",
    "provided function `MNIST.convert2image`.\n",
    "This way, Julia knows we are dealing with image data and can\n",
    "tell programming environments such as Juypter how to visualize\n",
    "it. If you are working in the terminal you may want to use the\n",
    "package [ImageInTerminal.jl](https://github.com/JuliaImages/ImageInTerminal.jl)"
   ]
  },
  {
   "cell_type": "code",
   "execution_count": 2,
   "metadata": {},
   "outputs": [
    {
     "data": {
      "image/png": "[encoded data removed]",
      "text/plain": [
       "28×28 Array{Gray{N0f8},2}:\n",
       " Gray{N0f8}(1.0)  Gray{N0f8}(1.0)  …  Gray{N0f8}(1.0)  Gray{N0f8}(1.0)\n",
       " Gray{N0f8}(1.0)  Gray{N0f8}(1.0)     Gray{N0f8}(1.0)  Gray{N0f8}(1.0)\n",
       " Gray{N0f8}(1.0)  Gray{N0f8}(1.0)     Gray{N0f8}(1.0)  Gray{N0f8}(1.0)\n",
       " Gray{N0f8}(1.0)  Gray{N0f8}(1.0)     Gray{N0f8}(1.0)  Gray{N0f8}(1.0)\n",
       " Gray{N0f8}(1.0)  Gray{N0f8}(1.0)     Gray{N0f8}(1.0)  Gray{N0f8}(1.0)\n",
       " Gray{N0f8}(1.0)  Gray{N0f8}(1.0)  …  Gray{N0f8}(1.0)  Gray{N0f8}(1.0)\n",
       " Gray{N0f8}(1.0)  Gray{N0f8}(1.0)     Gray{N0f8}(1.0)  Gray{N0f8}(1.0)\n",
       " Gray{N0f8}(1.0)  Gray{N0f8}(1.0)     Gray{N0f8}(1.0)  Gray{N0f8}(1.0)\n",
       " Gray{N0f8}(1.0)  Gray{N0f8}(1.0)     Gray{N0f8}(1.0)  Gray{N0f8}(1.0)\n",
       " Gray{N0f8}(1.0)  Gray{N0f8}(1.0)     Gray{N0f8}(1.0)  Gray{N0f8}(1.0)\n",
       " Gray{N0f8}(1.0)  Gray{N0f8}(1.0)  …  Gray{N0f8}(1.0)  Gray{N0f8}(1.0)\n",
       " Gray{N0f8}(1.0)  Gray{N0f8}(1.0)     Gray{N0f8}(1.0)  Gray{N0f8}(1.0)\n",
       " Gray{N0f8}(1.0)  Gray{N0f8}(1.0)     Gray{N0f8}(1.0)  Gray{N0f8}(1.0)\n",
       " ⋮                                 ⋱                                  \n",
       " Gray{N0f8}(1.0)  Gray{N0f8}(1.0)     Gray{N0f8}(1.0)  Gray{N0f8}(1.0)\n",
       " Gray{N0f8}(1.0)  Gray{N0f8}(1.0)     Gray{N0f8}(1.0)  Gray{N0f8}(1.0)\n",
       " Gray{N0f8}(1.0)  Gray{N0f8}(1.0)     Gray{N0f8}(1.0)  Gray{N0f8}(1.0)\n",
       " Gray{N0f8}(1.0)  Gray{N0f8}(1.0)     Gray{N0f8}(1.0)  Gray{N0f8}(1.0)\n",
       " Gray{N0f8}(1.0)  Gray{N0f8}(1.0)  …  Gray{N0f8}(1.0)  Gray{N0f8}(1.0)\n",
       " Gray{N0f8}(1.0)  Gray{N0f8}(1.0)     Gray{N0f8}(1.0)  Gray{N0f8}(1.0)\n",
       " Gray{N0f8}(1.0)  Gray{N0f8}(1.0)     Gray{N0f8}(1.0)  Gray{N0f8}(1.0)\n",
       " Gray{N0f8}(1.0)  Gray{N0f8}(1.0)     Gray{N0f8}(1.0)  Gray{N0f8}(1.0)\n",
       " Gray{N0f8}(1.0)  Gray{N0f8}(1.0)     Gray{N0f8}(1.0)  Gray{N0f8}(1.0)\n",
       " Gray{N0f8}(1.0)  Gray{N0f8}(1.0)  …  Gray{N0f8}(1.0)  Gray{N0f8}(1.0)\n",
       " Gray{N0f8}(1.0)  Gray{N0f8}(1.0)     Gray{N0f8}(1.0)  Gray{N0f8}(1.0)\n",
       " Gray{N0f8}(1.0)  Gray{N0f8}(1.0)     Gray{N0f8}(1.0)  Gray{N0f8}(1.0)"
      ]
     },
     "execution_count": 2,
     "metadata": {},
     "output_type": "execute_result"
    }
   ],
   "source": [
    "train_images = MNIST.convert2image(train_tensor)\n",
    "img_1 = train_images[:,:,1] # show first image"
   ]
  },
  {
   "cell_type": "markdown",
   "metadata": {},
   "source": [
    "## Visualizing the Effects"
   ]
  },
  {
   "cell_type": "markdown",
   "metadata": {},
   "source": [
    "Before applying an operation (or pipeline of operations) on\n",
    "some dataset to train a network, we strongly recommend\n",
    "investing some time in selecting a decent set of hyper\n",
    "parameters for the operation(s). A useful tool for tasks like\n",
    "this is the package [Interact.jl](https://github.com/JuliaGizmos/Interact.jl).\n",
    "We will use this package to define a number of widgets for\n",
    "controlling the parameters to our operation."
   ]
  },
  {
   "cell_type": "markdown",
   "metadata": {},
   "source": [
    "Note that while the code below only focuses on configuring\n",
    "the parameters of a single operation, specifically\n",
    "[`ElasticDistortion`](@ref), it could also be adapted to tweak\n",
    "a whole pipeline. Take a look at the corresponding section in\n",
    "[High-level Interface](@ref pipeline) for more information\n",
    "on how to define and use a pipeline."
   ]
  },
  {
   "cell_type": "code",
   "execution_count": 3,
   "metadata": {},
   "outputs": [
    {
     "data": {
      "text/html": [
       "<div id=\"interact-js-shim\">\n",
       "    <script charset=\"utf-8\">\n",
       "(function (IPython, $, _, MathJax) {\n",
       "    $.event.special.destroyed = {\n",
       "\tremove: function(o) {\n",
       "\t    if (o.handler) {\n",
       "\t\to.handler.apply(this, arguments)\n",
       "\t    }\n",
       "\t}\n",
       "    }\n",
       "\n",
       "    var OutputArea = IPython.version >= \"4.0.0\" ? require(\"notebook/js/outputarea\").OutputArea : IPython.OutputArea;\n",
       "\n",
       "    var redrawValue = function (container, type, val) {\n",
       "\tvar selector = $(\"<div/>\");\n",
       "\tvar oa = new OutputArea(_.extend(selector, {\n",
       "\t    selector: selector,\n",
       "\t    prompt_area: true,\n",
       "\t    events: IPython.events,\n",
       "\t    keyboard_manager: IPython.keyboard_manager\n",
       "\t})); // Hack to work with IPython 2.1.0\n",
       "\n",
       "\tswitch (type) {\n",
       "\tcase \"image/png\":\n",
       "            var _src = 'data:' + type + ';base64,' + val;\n",
       "\t    $(container).find(\"img\").attr('src', _src);\n",
       "\t    break;\n",
       "\tcase \"text/latex\":\n",
       "\t\tif (MathJax){\n",
       "\t\t\tvar math = MathJax.Hub.getAllJax(container)[0];\n",
       "\t\t\tMathJax.Hub.Queue([\"Text\", math, val.replace(/^\\${1,2}|\\${1,2}$/g, '')]);\n",
       "\t\t\tbreak;\n",
       "\t\t}\n",
       "\tdefault:\n",
       "\t    var toinsert = OutputArea.append_map[type].apply(\n",
       "\t\toa, [val, {}, selector]\n",
       "\t    );\n",
       "\t    $(container).empty().append(toinsert.contents());\n",
       "\t    selector.remove();\n",
       "\t}\n",
       "    }\n",
       "\n",
       "\n",
       "    $(document).ready(function() {\n",
       "\tfunction initComm(evt, data) {\n",
       "\t    var comm_manager = data.kernel.comm_manager;\n",
       "        //_.extend(comm_manager.targets, require(\"widgets/js/widget\"))\n",
       "\t    comm_manager.register_target(\"Signal\", function (comm) {\n",
       "            comm.on_msg(function (msg) {\n",
       "                var val = msg.content.data.value;\n",
       "                $(\".signal-\" + comm.comm_id).each(function() {\n",
       "                var type = $(this).data(\"type\");\n",
       "                if (typeof(val[type]) !== \"undefined\" && val[type] !== null) {\n",
       "                    redrawValue(this, type, val[type], type);\n",
       "                }\n",
       "                });\n",
       "                delete val;\n",
       "                delete msg.content.data.value;\n",
       "            });\n",
       "\t    });\n",
       "\n",
       "\t    // coordingate with Comm and redraw Signals\n",
       "\t    // XXX: Test using Reactive here to improve performance\n",
       "\t    $([IPython.events]).on(\n",
       "\t\t'output_appended.OutputArea', function (event, type, value, md, toinsert) {\n",
       "\t\t    if (md && md.reactive) {\n",
       "                // console.log(md.comm_id);\n",
       "                toinsert.addClass(\"signal-\" + md.comm_id);\n",
       "                toinsert.data(\"type\", type);\n",
       "                // Signal back indicating the mimetype required\n",
       "                var comm_manager = IPython.notebook.kernel.comm_manager;\n",
       "                var comm = comm_manager.comms[md.comm_id];\n",
       "                comm.then(function (c) {\n",
       "                    c.send({action: \"subscribe_mime\",\n",
       "                       mime: type});\n",
       "                    toinsert.bind(\"destroyed\", function() {\n",
       "                        c.send({action: \"unsubscribe_mime\",\n",
       "                               mime: type});\n",
       "                    });\n",
       "                })\n",
       "\t\t    }\n",
       "\t    });\n",
       "\t}\n",
       "\n",
       "\ttry {\n",
       "\t    // try to initialize right away. otherwise, wait on the status_started event.\n",
       "\t    initComm(undefined, IPython.notebook);\n",
       "\t} catch (e) {\n",
       "\t    $([IPython.events]).on('kernel_created.Kernel kernel_created.Session', initComm);\n",
       "\t}\n",
       "    });\n",
       "})(IPython, jQuery, _, MathJax);\n",
       "</script>\n",
       "    <script>\n",
       "        window.interactLoadedFlag = true\n",
       "       $(\"#interact-js-shim\").bind(\"destroyed\", function () {\n",
       "           if (window.interactLoadedFlag) {\n",
       "               console.warn(\"JavaScript required by Interact will be removed if you remove this cell or run using Interact more than once.\")\n",
       "           }\n",
       "       })\n",
       "       $([IPython.events]).on(\"kernel_starting.Kernel kernel_restarting.Kernel\", function () { window.interactLoadedFlag = false })\n",
       "   </script>\n",
       "</div>"
      ]
     },
     "metadata": {},
     "output_type": "display_data"
    },
    {
     "data": {
      "application/vnd.jupyter.widget-view+json": {
       "model_id": "b9586e3a-ed4c-4cff-b826-041e7c82dd31",
       "version_major": 2,
       "version_minor": 0
      }
     },
     "metadata": {},
     "output_type": "display_data"
    },
    {
     "data": {
      "text/html": [],
      "text/plain": [
       "Interact.Checkbox(1: \"input\" = true Bool , \"unpaused\", true)"
      ]
     },
     "metadata": {},
     "output_type": "display_data"
    },
    {
     "data": {
      "text/plain": [
       "1.299760103225708"
      ]
     },
     "metadata": {
      "comm_id": "52e508e8-454d-4722-a15d-d0130a93401d",
      "reactive": true
     },
     "output_type": "display_data"
    },
    {
     "data": {
      "application/vnd.jupyter.widget-view+json": {
       "model_id": "6528d9ac-cffd-4817-b55b-eb9030da67b8",
       "version_major": 2,
       "version_minor": 0
      }
     },
     "metadata": {},
     "output_type": "display_data"
    },
    {
     "data": {
      "text/html": [],
      "text/plain": [
       "Interact.Options{:SelectionSlider,Any}(4: \"input-2\" = 50 Any , \"image_index\", 50, \"50\", 50, Interact.OptionDict(DataStructures.OrderedDict{Any,Any}(\"1\"=>1,\"2\"=>2,\"3\"=>3,\"4\"=>4,\"5\"=>5,\"6\"=>6,\"7\"=>7,\"8\"=>8,\"9\"=>9,\"10\"=>10…), Dict{Any,Any}(Pair{Any,Any}(68, \"68\"),Pair{Any,Any}(2, \"2\"),Pair{Any,Any}(89, \"89\"),Pair{Any,Any}(11, \"11\"),Pair{Any,Any}(39, \"39\"),Pair{Any,Any}(46, \"46\"),Pair{Any,Any}(85, \"85\"),Pair{Any,Any}(25, \"25\"),Pair{Any,Any}(55, \"55\"),Pair{Any,Any}(42, \"42\")…)), Any[], Any[], true, \"horizontal\")"
      ]
     },
     "metadata": {},
     "output_type": "display_data"
    },
    {
     "data": {
      "application/vnd.jupyter.widget-view+json": {
       "model_id": "1dcc4f57-771f-4125-ade5-6e982ece8abb",
       "version_major": 2,
       "version_minor": 0
      }
     },
     "metadata": {},
     "output_type": "display_data"
    },
    {
     "data": {
      "text/html": [],
      "text/plain": [
       "Interact.Options{:SelectionSlider,Any}(6: \"input-3\" = 11 Any , \"grid_size\", 11, \"11\", 9, Interact.OptionDict(DataStructures.OrderedDict{Any,Any}(\"3\"=>3,\"4\"=>4,\"5\"=>5,\"6\"=>6,\"7\"=>7,\"8\"=>8,\"9\"=>9,\"10\"=>10,\"11\"=>11,\"12\"=>12…), Dict{Any,Any}(Pair{Any,Any}(16, \"16\"),Pair{Any,Any}(11, \"11\"),Pair{Any,Any}(7, \"7\"),Pair{Any,Any}(9, \"9\"),Pair{Any,Any}(10, \"10\"),Pair{Any,Any}(19, \"19\"),Pair{Any,Any}(17, \"17\"),Pair{Any,Any}(8, \"8\"),Pair{Any,Any}(6, \"6\"),Pair{Any,Any}(4, \"4\")…)), Any[], Any[], true, \"horizontal\")"
      ]
     },
     "metadata": {},
     "output_type": "display_data"
    },
    {
     "data": {
      "application/vnd.jupyter.widget-view+json": {
       "model_id": "ab0e4da1-f89f-490b-8809-40a7d9c8b6df",
       "version_major": 2,
       "version_minor": 0
      }
     },
     "metadata": {},
     "output_type": "display_data"
    },
    {
     "data": {
      "text/html": [],
      "text/plain": [
       "Interact.Options{:SelectionSlider,Any}(8: \"input-4\" = 0.3 Any , \"scale\", 0.3, \"0.3\", 3, Interact.OptionDict(DataStructures.OrderedDict{Any,Any}(\"0.1\"=>0.1,\"0.2\"=>0.2,\"0.3\"=>0.3,\"0.4\"=>0.4,\"0.5\"=>0.5), Dict{Any,Any}(Pair{Any,Any}(0.4, \"0.4\"),Pair{Any,Any}(0.3, \"0.3\"),Pair{Any,Any}(0.5, \"0.5\"),Pair{Any,Any}(0.2, \"0.2\"),Pair{Any,Any}(0.1, \"0.1\"))), Any[], Any[], true, \"horizontal\")"
      ]
     },
     "metadata": {},
     "output_type": "display_data"
    },
    {
     "data": {
      "application/vnd.jupyter.widget-view+json": {
       "model_id": "23fcb912-9b2c-457a-86a0-080247a06160",
       "version_major": 2,
       "version_minor": 0
      }
     },
     "metadata": {},
     "output_type": "display_data"
    },
    {
     "data": {
      "text/html": [],
      "text/plain": [
       "Interact.Options{:SelectionSlider,Any}(10: \"input-5\" = 3 Any , \"sigma\", 3, \"3\", 3, Interact.OptionDict(DataStructures.OrderedDict{Any,Any}(\"1\"=>1,\"2\"=>2,\"3\"=>3,\"4\"=>4,\"5\"=>5), Dict{Any,Any}(Pair{Any,Any}(4, \"4\"),Pair{Any,Any}(2, \"2\"),Pair{Any,Any}(3, \"3\"),Pair{Any,Any}(5, \"5\"),Pair{Any,Any}(1, \"1\"))), Any[], Any[], true, \"horizontal\")"
      ]
     },
     "metadata": {},
     "output_type": "display_data"
    },
    {
     "data": {
      "application/vnd.jupyter.widget-view+json": {
       "model_id": "4150ca58-e069-4fd3-aca4-ae6d737e1bd2",
       "version_major": 2,
       "version_minor": 0
      }
     },
     "metadata": {},
     "output_type": "display_data"
    },
    {
     "data": {
      "text/html": [],
      "text/plain": [
       "Interact.Options{:SelectionSlider,Any}(12: \"input-6\" = 3 Any , \"iterations\", 3, \"3\", 3, Interact.OptionDict(DataStructures.OrderedDict{Any,Any}(\"1\"=>1,\"2\"=>2,\"3\"=>3,\"4\"=>4,\"5\"=>5,\"6\"=>6), Dict{Any,Any}(Pair{Any,Any}(4, \"4\"),Pair{Any,Any}(2, \"2\"),Pair{Any,Any}(3, \"3\"),Pair{Any,Any}(5, \"5\"),Pair{Any,Any}(6, \"6\"),Pair{Any,Any}(1, \"1\"))), Any[], Any[], true, \"horizontal\")"
      ]
     },
     "metadata": {},
     "output_type": "display_data"
    },
    {
     "data": {
      "application/vnd.jupyter.widget-view+json": {
       "model_id": "8ff7a4df-ab81-4828-8f59-aaae5b32b940",
       "version_major": 2,
       "version_minor": 0
      }
     },
     "metadata": {},
     "output_type": "display_data"
    },
    {
     "data": {
      "text/html": [],
      "text/plain": [
       "Interact.Checkbox(14: \"input-7\" = true Bool , \"free_border\", true)"
      ]
     },
     "metadata": {},
     "output_type": "display_data"
    },
    {
     "data": {
      "image/png": "[encoded data removed]",
      "text/plain": [
       "28×28 Array{Gray{N0f8},2}:\n",
       " Gray{N0f8}(1.0)  Gray{N0f8}(1.0)  …  Gray{N0f8}(1.0)  Gray{N0f8}(1.0)\n",
       " Gray{N0f8}(1.0)  Gray{N0f8}(1.0)     Gray{N0f8}(1.0)  Gray{N0f8}(1.0)\n",
       " Gray{N0f8}(1.0)  Gray{N0f8}(1.0)     Gray{N0f8}(1.0)  Gray{N0f8}(1.0)\n",
       " Gray{N0f8}(1.0)  Gray{N0f8}(1.0)     Gray{N0f8}(1.0)  Gray{N0f8}(1.0)\n",
       " Gray{N0f8}(1.0)  Gray{N0f8}(1.0)     Gray{N0f8}(1.0)  Gray{N0f8}(1.0)\n",
       " Gray{N0f8}(1.0)  Gray{N0f8}(1.0)  …  Gray{N0f8}(1.0)  Gray{N0f8}(1.0)\n",
       " Gray{N0f8}(1.0)  Gray{N0f8}(1.0)     Gray{N0f8}(1.0)  Gray{N0f8}(1.0)\n",
       " Gray{N0f8}(1.0)  Gray{N0f8}(1.0)     Gray{N0f8}(1.0)  Gray{N0f8}(1.0)\n",
       " Gray{N0f8}(1.0)  Gray{N0f8}(1.0)     Gray{N0f8}(1.0)  Gray{N0f8}(1.0)\n",
       " Gray{N0f8}(1.0)  Gray{N0f8}(1.0)     Gray{N0f8}(1.0)  Gray{N0f8}(1.0)\n",
       " Gray{N0f8}(1.0)  Gray{N0f8}(1.0)  …  Gray{N0f8}(1.0)  Gray{N0f8}(1.0)\n",
       " Gray{N0f8}(1.0)  Gray{N0f8}(1.0)     Gray{N0f8}(1.0)  Gray{N0f8}(1.0)\n",
       " Gray{N0f8}(1.0)  Gray{N0f8}(1.0)     Gray{N0f8}(1.0)  Gray{N0f8}(1.0)\n",
       " ⋮                                 ⋱                                  \n",
       " Gray{N0f8}(1.0)  Gray{N0f8}(1.0)     Gray{N0f8}(1.0)  Gray{N0f8}(1.0)\n",
       " Gray{N0f8}(1.0)  Gray{N0f8}(1.0)     Gray{N0f8}(1.0)  Gray{N0f8}(1.0)\n",
       " Gray{N0f8}(1.0)  Gray{N0f8}(1.0)     Gray{N0f8}(1.0)  Gray{N0f8}(1.0)\n",
       " Gray{N0f8}(1.0)  Gray{N0f8}(1.0)     Gray{N0f8}(1.0)  Gray{N0f8}(1.0)\n",
       " Gray{N0f8}(1.0)  Gray{N0f8}(1.0)  …  Gray{N0f8}(1.0)  Gray{N0f8}(1.0)\n",
       " Gray{N0f8}(1.0)  Gray{N0f8}(1.0)     Gray{N0f8}(1.0)  Gray{N0f8}(1.0)\n",
       " Gray{N0f8}(1.0)  Gray{N0f8}(1.0)     Gray{N0f8}(1.0)  Gray{N0f8}(1.0)\n",
       " Gray{N0f8}(1.0)  Gray{N0f8}(1.0)     Gray{N0f8}(1.0)  Gray{N0f8}(1.0)\n",
       " Gray{N0f8}(1.0)  Gray{N0f8}(1.0)     Gray{N0f8}(1.0)  Gray{N0f8}(1.0)\n",
       " Gray{N0f8}(1.0)  Gray{N0f8}(1.0)  …  Gray{N0f8}(1.0)  Gray{N0f8}(1.0)\n",
       " Gray{N0f8}(1.0)  Gray{N0f8}(1.0)     Gray{N0f8}(1.0)  Gray{N0f8}(1.0)\n",
       " Gray{N0f8}(1.0)  Gray{N0f8}(1.0)     Gray{N0f8}(1.0)  Gray{N0f8}(1.0)"
      ]
     },
     "execution_count": 3,
     "metadata": {
      "comm_id": "5b89eed0-6444-476a-8c48-87f54c7a7d04",
      "reactive": true
     },
     "output_type": "execute_result"
    }
   ],
   "source": [
    "# These two package will provide us with the capabilities\n",
    "# to perform interactive visualisations in a jupyter notebook\n",
    "using Augmentor, Interact, Reactive\n",
    "\n",
    "# The manipulate macro will turn the parameters of the\n",
    "# loop into interactive widgets.\n",
    "@manipulate for\n",
    "        unpaused = true,\n",
    "        ticks = fpswhen(signal(unpaused), 5.),\n",
    "        image_index = 1:100,\n",
    "        grid_size = 3:20,\n",
    "        scale = .1:.1:.5,\n",
    "        sigma = 1:5,\n",
    "        iterations = 1:6,\n",
    "        free_border = true\n",
    "    op = ElasticDistortion(grid_size, grid_size, # equal width & height\n",
    "                           sigma = sigma,\n",
    "                           scale = scale,\n",
    "                           iter = iterations,\n",
    "                           border = free_border)\n",
    "    augment(train_images[:, :, image_index], op)\n",
    "end"
   ]
  },
  {
   "cell_type": "markdown",
   "metadata": {},
   "source": [
    "Congratulations! With just a few simple lines of code, you\n",
    "created a simple interactive tool to visualize your image\n",
    "augmentation pipeline. Once you found a set of parameters that\n",
    "you think are appropriate for your dataset you can go ahead\n",
    "and train your model."
   ]
  },
  {
   "cell_type": "markdown",
   "metadata": {},
   "source": [
    "## References\n",
    "\n",
    "**MNIST1998**: LeCun, Yan, Corinna Cortes, Christopher J.C. Burges. [\"The MNIST database of handwritten digits\"](http://yann.lecun.com/exdb/mnist/) Website. 1998.\n",
    "\n",
    "**SIMARD2003**: Simard, Patrice Y., David Steinkraus, and John C. Platt. [\"Best practices for convolutional neural networks applied to visual document analysis.\"](https://www.microsoft.com/en-us/research/publication/best-practices-for-convolutional-neural-networks-applied-to-visual-document-analysis/) ICDAR. Vol. 3. 2003."
   ]
  },
  {
   "cell_type": "code",
   "execution_count": 4,
   "metadata": {},
   "outputs": [],
   "source": []
  }
 ],
 "metadata": {
  "kernelspec": {
   "display_name": "Julia 0.6.3",
   "language": "julia",
   "name": "julia-0.6"
  },
  "language_info": {
   "file_extension": ".jl",
   "mimetype": "application/julia",
   "name": "julia",
   "version": "0.6.3"
  }
 },
 "nbformat": 4,
 "nbformat_minor": 2
}
