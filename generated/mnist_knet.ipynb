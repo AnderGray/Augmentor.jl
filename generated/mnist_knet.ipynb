{
 "cells": [
  {
   "cell_type": "markdown",
   "metadata": {},
   "source": [
    "# MNIST: Knet.jl CNN"
   ]
  },
  {
   "cell_type": "markdown",
   "metadata": {},
   "source": [
    "In this tutorial we will adapt the\n",
    "[MNIST example](http://denizyuret.github.io/Knet.jl/latest/tutorial.html#Convolutional-neural-network-1)\n",
    "from [Knet.jl](https://github.com/denizyuret/Knet.jl)\n",
    "to utilize a custom augmentation pipeline.\n",
    "In order to showcase the effect that image augmentation can\n",
    "have on a neural network's ability to generalize, we will\n",
    "limit the training set to just the first 500 images (of the\n",
    "available 60,000!). For more information on the dataset see\n",
    "[MNIST1998]."
   ]
  },
  {
   "cell_type": "markdown",
   "metadata": {},
   "source": [
    "## Preparing the MNIST dataset"
   ]
  },
  {
   "cell_type": "markdown",
   "metadata": {},
   "source": [
    "In order to access, prepare, and visualize the MNIST images we\n",
    "employ the help of three additional Julia packages. In the\n",
    "interest of time and space we will not go into great detail\n",
    "about their functionality. Feel free to click on their\n",
    "respective names to find out more information about the\n",
    "utility they can provide.\n",
    "\n",
    "- [MLDatasets.jl](https://github.com/JuliaML/MLDatasets.jl)\n",
    "  has an MNIST submodule that offers a convenience interface\n",
    "  to read the MNIST database.\n",
    "\n",
    "- [Images.jl](https://github.com/JuliaImages/Images.jl) will\n",
    "  provide us with the necessary tools to process and display\n",
    "  the image data in Julia / Juypter.\n",
    "\n",
    "- [MLDataUtils.jl](https://github.com/JuliaML/MLDataUtils.jl)\n",
    "  implements a variety of functions to convert and partition\n",
    "  Machine Learning datasets. This will help us prepare the\n",
    "  MNIST data to be used with Knet.jl."
   ]
  },
  {
   "cell_type": "code",
   "execution_count": 1,
   "metadata": {},
   "outputs": [
    {
     "name": "stderr",
     "output_type": "stream",
     "text": [
      "\u001b[1m\u001b[33mWARNING: \u001b[39m\u001b[22m\u001b[33mRegisterDataDep(name::String, message::String, remotepath, hash=nothing; fetch_method=download, post_fetch_method=identity) is deprecated, use register(DataDep(name::String, message::String, remotepath, hash; fetch_method=fetch_method, post_fetch_method=post_fetch_method)) instead.\u001b[39m\n",
      "Stacktrace:\n",
      " [1] \u001b[1mdepwarn\u001b[22m\u001b[22m\u001b[1m(\u001b[22m\u001b[22m::String, ::Symbol\u001b[1m)\u001b[22m\u001b[22m at \u001b[1m./deprecated.jl:70\u001b[22m\u001b[22m\n",
      " [2] \u001b[1m#RegisterDataDep#31\u001b[22m\u001b[22m\u001b[1m(\u001b[22m\u001b[22m::Function, ::Function, ::Function, ::String, ::String, ::Array{String,1}, ::String\u001b[1m)\u001b[22m\u001b[22m at \u001b[1m./deprecated.jl:57\u001b[22m\u001b[22m\n",
      " [3] \u001b[1mRegisterDataDep\u001b[22m\u001b[22m\u001b[1m(\u001b[22m\u001b[22m::String, ::String, ::Array{String,1}, ::String\u001b[1m)\u001b[22m\u001b[22m at \u001b[1m./deprecated.jl:57\u001b[22m\u001b[22m\n",
      " [4] \u001b[1m__init__\u001b[22m\u001b[22m\u001b[1m(\u001b[22m\u001b[22m\u001b[1m)\u001b[22m\u001b[22m at \u001b[1m/home/csto/.julia/v0.6/MLDatasets/src/SVHN2/SVHN2.jl:86\u001b[22m\u001b[22m\n",
      " [5] \u001b[1m_include_from_serialized\u001b[22m\u001b[22m\u001b[1m(\u001b[22m\u001b[22m::String\u001b[1m)\u001b[22m\u001b[22m at \u001b[1m./loading.jl:157\u001b[22m\u001b[22m\n",
      " [6] \u001b[1m_require_from_serialized\u001b[22m\u001b[22m\u001b[1m(\u001b[22m\u001b[22m::Int64, ::Symbol, ::String, ::Bool\u001b[1m)\u001b[22m\u001b[22m at \u001b[1m./loading.jl:200\u001b[22m\u001b[22m\n",
      " [7] \u001b[1m_require_search_from_serialized\u001b[22m\u001b[22m\u001b[1m(\u001b[22m\u001b[22m::Int64, ::Symbol, ::String, ::Bool\u001b[1m)\u001b[22m\u001b[22m at \u001b[1m./loading.jl:236\u001b[22m\u001b[22m\n",
      " [8] \u001b[1m_require\u001b[22m\u001b[22m\u001b[1m(\u001b[22m\u001b[22m::Symbol\u001b[1m)\u001b[22m\u001b[22m at \u001b[1m./loading.jl:441\u001b[22m\u001b[22m\n",
      " [9] \u001b[1mrequire\u001b[22m\u001b[22m\u001b[1m(\u001b[22m\u001b[22m::Symbol\u001b[1m)\u001b[22m\u001b[22m at \u001b[1m./loading.jl:405\u001b[22m\u001b[22m\n",
      " [10] \u001b[1minclude_string\u001b[22m\u001b[22m\u001b[1m(\u001b[22m\u001b[22m::String, ::String\u001b[1m)\u001b[22m\u001b[22m at \u001b[1m./loading.jl:522\u001b[22m\u001b[22m\n",
      " [11] \u001b[1mexecute_request\u001b[22m\u001b[22m\u001b[1m(\u001b[22m\u001b[22m::ZMQ.Socket, ::IJulia.Msg\u001b[1m)\u001b[22m\u001b[22m at \u001b[1m/home/csto/.julia/v0.6/IJulia/src/execute_request.jl:158\u001b[22m\u001b[22m\n",
      " [12] \u001b[1m(::Compat.#inner#18{Array{Any,1},IJulia.#execute_request,Tuple{ZMQ.Socket,IJulia.Msg}})\u001b[22m\u001b[22m\u001b[1m(\u001b[22m\u001b[22m\u001b[1m)\u001b[22m\u001b[22m at \u001b[1m/home/csto/.julia/v0.6/Compat/src/Compat.jl:378\u001b[22m\u001b[22m\n",
      " [13] \u001b[1meventloop\u001b[22m\u001b[22m\u001b[1m(\u001b[22m\u001b[22m::ZMQ.Socket\u001b[1m)\u001b[22m\u001b[22m at \u001b[1m/home/csto/.julia/v0.6/IJulia/src/eventloop.jl:8\u001b[22m\u001b[22m\n",
      " [14] \u001b[1m(::IJulia.##14#17)\u001b[22m\u001b[22m\u001b[1m(\u001b[22m\u001b[22m\u001b[1m)\u001b[22m\u001b[22m at \u001b[1m./task.jl:335\u001b[22m\u001b[22m\n",
      "while loading In[1], in expression starting on line 1\n"
     ]
    }
   ],
   "source": [
    "using Images, MLDatasets, MLDataUtils\n",
    "srand(42);"
   ]
  },
  {
   "cell_type": "markdown",
   "metadata": {},
   "source": [
    "As you may have seen previously in the\n",
    "[elastic distortions tutorial](@ref elastic), the function\n",
    "`MNIST.traintensor` returns the MNIST training images\n",
    "corresponding to the given indices as a multi-dimensional\n",
    "array. These images are stored in the native horizontal-major\n",
    "memory layout as a single array. Because we specify that\n",
    "the `eltype` of that array should be `Float32`, all the\n",
    "individual values are scaled to be between `0.0` and `1.0`.\n",
    "Also note, how the observations are laid out along the last\n",
    "array dimension"
   ]
  },
  {
   "cell_type": "code",
   "execution_count": 2,
   "metadata": {},
   "outputs": [
    {
     "name": "stdout",
     "output_type": "stream",
     "text": [
      "summary(MNIST.traintensor(Float32, 1:500)) = \"28×28×500 Array{Float32,3}\"\n"
     ]
    }
   ],
   "source": [
    "@show summary(MNIST.traintensor(Float32, 1:500));"
   ]
  },
  {
   "cell_type": "markdown",
   "metadata": {},
   "source": [
    "The corresponding label of each image is stored as an integer\n",
    "value between `0` and `9`. That means that if the label has\n",
    "the value `3`, then the corresponding image is known to be a\n",
    "handwritten \"3\". To show a more concrete example, the\n",
    "following code reveals that the first training image denotes a\n",
    "\"5\" and the second training image a \"0\" (etc)."
   ]
  },
  {
   "cell_type": "code",
   "execution_count": 3,
   "metadata": {},
   "outputs": [
    {
     "name": "stdout",
     "output_type": "stream",
     "text": [
      "summary(MNIST.trainlabels(1:500)) = \"500-element Array{Int64,1}\"\n",
      "First eight labels: 5, 0, 4, 1, 9, 2, 1, 3\n"
     ]
    }
   ],
   "source": [
    "@show summary(MNIST.trainlabels(1:500))\n",
    "println(\"First eight labels: \", join(MNIST.trainlabels(1:8),\", \"))"
   ]
  },
  {
   "cell_type": "markdown",
   "metadata": {},
   "source": [
    "For Knet we will require a slightly format for the images\n",
    "and also the labels. More specifically, we add an additional\n",
    "singleton dimension of length 1 to our image array. Think of\n",
    "this as our single color channel (because MNIST images are gray).\n",
    "Additionally we will convert our labels to proper 1-based indices.\n",
    "This is because some functions provided by Knet expect the labels\n",
    "to be in this format. We will do all this by creating a little\n",
    "utility function that we will name `prepare_mnist`."
   ]
  },
  {
   "cell_type": "code",
   "execution_count": 4,
   "metadata": {},
   "outputs": [
    {
     "data": {
      "text/plain": [
       "prepare_mnist"
      ]
     },
     "execution_count": 4,
     "metadata": {},
     "output_type": "execute_result"
    }
   ],
   "source": [
    "\"\"\"\n",
    "    prepare_mnist(images, labels) -> (X, Y)\n",
    "\n",
    "Change the dimension layout x1×x2×N of the given array\n",
    "`images` to x1×x2×1×N and return the result as `X`.\n",
    "The given integer vector `labels` is transformed into\n",
    "an integer vector denoting 1-based class indices.\n",
    "\"\"\"\n",
    "function prepare_mnist(images, labels)\n",
    "    X = reshape(images, (28, 28, 1, :))\n",
    "    Y = convertlabel(LabelEnc.Indices{Int8}, labels, 0:9)\n",
    "    X, Y\n",
    "end"
   ]
  },
  {
   "cell_type": "markdown",
   "metadata": {},
   "source": [
    "With `prepare_mnist` defined, we can now use it in conjunction\n",
    "with the functions in the `MLDatasets.MNIST` sub-module to load\n",
    "and prepare our training set. Recall that for this tutorial only\n",
    "the first 500 images of the training set will be used."
   ]
  },
  {
   "cell_type": "code",
   "execution_count": 5,
   "metadata": {},
   "outputs": [
    {
     "name": "stdout",
     "output_type": "stream",
     "text": [
      "summary(train_x) = \"28×28×1×500 Array{Float32,4}\"\n",
      "summary(train_y) = \"500-element Array{Int8,1}\"\n"
     ]
    },
    {
     "data": {
      "text/html": [
       "<table><tbody><tr><td style='text-align:center;vertical-align:middle; margin: 0.5em;border:1px #90999f solid;border-collapse:collapse'><img style='max-width: 100px; max-height:100px;display:inline' src=\"data:image/png;base64,iVBORw0KGgoAAAANSUhEUgAAAHAAAABwCAAAAADji6uXAAAABGdBTUEAALGPC/xhBQAAAAJiS0dEAP+Hj8y/AAAAB3RJTUUH4gcJBwAJJOMtkgAAAZxJREFUaN7t2r0rRXEcx/Hb9ZASsioGmVhkUMqiKDaFwWSQQVZFpNgsJv4ByoiMBhmZFBkUi/K0SEomT+9POXW7nTqXuudBn9dyb93ueS/3d87vfM/NfcUs56CDDjrooIMOOpiC4DueCqxgDsO4wzhyqMEyHEw+eIMrbGIKY8iHaMEI9L4OvTiCg8kGT9GIfIRKbGHnxzEuEXZMB+MNamG3ISzSgyFogdcj6sfnYDJB2cMkNhDEuvAKfX4BnRAcTG9QXvAJHVjBbZQacDAdwcAsFOzDBxzMXlCLXTFFD+Bg9oJyDV1wtfGdwDp0UnAwO0HZRQOCC/Iq7uFgdoJyjgEE0WncwsHsBOUZuhGtgKL9cDBbwUA1FNRr2DDIwXQGz7CEQQSLvxNRG2QHkw9qaDeDJhQOiqqgQVHU9x1MLviANbSieNDXjX2UchwH4w8+4hDtCBvSalP8mwGDg/EFNWAfRdiQXQ+yNLh9Q6khB+MLnkAPHptRHKrFAoIB+184WP6g/gRQGOnAPBahm5e/hhyML1huDjrooIP/MPgNqMMZJ8UsgboAAAAASUVORK5C\"></td><td style='text-align:center;vertical-align:middle; margin: 0.5em;border:1px #90999f solid;border-collapse:collapse'><img style='max-width: 100px; max-height:100px;display:inline' src=\"data:image/png;base64,iVBORw0KGgoAAAANSUhEUgAAAHAAAABwCAAAAADji6uXAAAABGdBTUEAALGPC/xhBQAAAAJiS0dEAP+Hj8y/AAAAB3RJTUUH4gcJBwAJJOMtkgAAAbZJREFUaN7t2L0rRWEAx/HbVUopL4PyEkabSRELZWOxkCi7GEwGMrHJn2DGohiMSpEiVkbKIJsU0/X9yVMnOc5JOedc/T7LvZ2ee75neM45z31KlYyVHHTQQQcddPCfBS8whzL0eQkHqyd4hSbURDTDweoInqMDmiwKNaIF+n6KNzhYzOALTtAFnTwE+7CHcGwdDhYzOIPojR6Cso0R6NgUHCxeUC9bPazLn4axCX1vxzX2UcIkHCxW8OvLdgzPOMQGHhHG6gLqEbegcjD74A2moRPpJdsLPajjxoeHgX7jYP7BV4xDJ2jAEZ5wj6TgEBzMP6hFbbjZj1FJwcFiBQcQXrZpYh8nhH4zCAfzDR6gDpoAW0gbDJNmHg7mG9yFftiKBySF9KBfhoKj0CLLwWIEu5EmtgKN74Re1HFjHcw+uIifYvqjo0Wvxk4g6eIczC64A93EmgRxY7SpEDYaZpEUczDbYJg0tViAJscddFx/cHQhCunBoM28MzhYzGDQhh5Ej2mxu4o0IQezD2rjoB/fbahrgyjpoe5g/kHRAngN0eASbvGbmIPZB/+Cgw466KCDDhYw+A5wdjn4H8GI2wAAAABJRU5ErkJg\"></td><td style='text-align:center;vertical-align:middle; margin: 0.5em;border:1px #90999f solid;border-collapse:collapse'><img style='max-width: 100px; max-height:100px;display:inline' src=\"data:image/png;base64,iVBORw0KGgoAAAANSUhEUgAAAHAAAABwCAAAAADji6uXAAAABGdBTUEAALGPC/xhBQAAAAJiS0dEAP+Hj8y/AAAAB3RJTUUH4gcJBwAJJOMtkgAAAVVJREFUaN7t2b8uBFEYhvFBRCJCIvGnlS1UEq07kGBLFYlKoqLanmY3cQUKEYmGwhVoNHRCRY1CJ1qJ8LzdFjvYEztfjry/bmf22+cUZzIz2eKzYoWDDjrooIMOOuhgBsELTOEBDsYEL3GO1GATS3AwLriLNaTEPrCJOdzDwZhgDanBZ/RhHWXfcbD3wRmkBheh4B4cjAneYRipwQUoeA0HY4K6eWogJfiCaWj+EQ7GBDegAYW7DWqRmp3FKxyMDeqF5DeRN5xiBUPQ7Am+m3GwmuAZ2o/f4gb72MYWRjGCCSxDnwdQ9gDsYDVB/VA/xjHfRse0kEGMQTfaHWiDPOEdk9D5nzaag70NSgv1Dg5R9nB0AC1IL0IOxgdTrELBBhzMO3gFBx10MC5Y4BgO5hvUpjmCg3kH9SeJg/kGdeE7mG9QF3ylm8bBPw92w0EHHXTwHwa/AAmpEmV9KgHnAAAAAElFTkSuQmCC\"></td><td style='text-align:center;vertical-align:middle; margin: 0.5em;border:1px #90999f solid;border-collapse:collapse'><img style='max-width: 100px; max-height:100px;display:inline' src=\"data:image/png;base64,iVBORw0KGgoAAAANSUhEUgAAAHAAAABwCAAAAADji6uXAAAABGdBTUEAALGPC/xhBQAAAAJiS0dEAP+Hj8y/AAAAB3RJTUUH4gcJBwAJJOMtkgAAASxJREFUaN7t2aFuwlAUh/GmqViCQMDU3LAoLMkEhgfYC0wg5vcCIzwEkmBm9wBk2ZY9AHYO3EhmliCQ7DtJb1IFtCHrPcv/8ye/irb39jbZ/3GJQIECBQoUKFBgxOCEUkrojQT6AmfUoIwMfSeBvsBHyvIE+gMX1CLDurSmHQn0AX7QFYUbZk7HZgTGBY4ozRvQKTMC4wG/ySC7Wdr0QgL9gCvqUQDHdOqswDjAKYUN05B+SKAf8JmaZOANbajMvMB6QXvg00J3VPaCBdYL3lNW6JME+gGXdE0Bu6WymMB6wUsKWJ+2JNAXGDa91hNVwQTWB9pCaz9AwsJrB3gC/YD20rYDPIMu6IEOHcAKjA98pfDx2aGqkECBAquDX2SHBwL9gudOoECBAv8h+AtjF6KlHhmAugAAAABJRU5ErkJg\"></td><td style='text-align:center;vertical-align:middle; margin: 0.5em;border:1px #90999f solid;border-collapse:collapse'><img style='max-width: 100px; max-height:100px;display:inline' src=\"data:image/png;base64,iVBORw0KGgoAAAANSUhEUgAAAHAAAABwCAAAAADji6uXAAAABGdBTUEAALGPC/xhBQAAAAJiS0dEAP+Hj8y/AAAAB3RJTUUH4gcJBwAJJOMtkgAAAXRJREFUaN7t2bErRWEcxvGTa5BiUgzYyGI1WMSCyYQ/AmUxKWVTyqDMBosRk0lZMCuTySQWiSgGvk/dX51F54RO77k9n+ne897e7x1+nXPPudlXxTIHHXTQQQcddNBBBx100EFcYQmjaGvawSF0XOsOphvUpr1oQKEpKNxo0rFFOJhe8BMX6II2nsQZPvCCWURwGw6mF9xHDMYMnhFrB4i1QTzCwbSC69AwaMMV5GMygggeoWg/B6sNbkKxDszhDbH2jmN0Qp/ZQFHMwWqDT4iLrWL5tVuMIYZlAa9wMK3gA2LDO+j9FsbRjTgZtOMEZWIOVhvU0PQhfhw1cgbQD73WZ8rGHKw2KLq57IGCw1jDDe4xAQVX4WC6wZ+cI4O+yC4crF/wFHEyKLp5cTDNoDhY72DrT2nrB/fgYL2D14gLsIP1DMoQNDSXcLCewXjwrj+8dIPjYP2Cetg+DUXn8eeHew5WHozoMhQtOzgOphX8DQf/3Tdbyyamcn4srAAAAABJRU5ErkJg\"></td><td style='text-align:center;vertical-align:middle; margin: 0.5em;border:1px #90999f solid;border-collapse:collapse'><img style='max-width: 100px; max-height:100px;display:inline' src=\"data:image/png;base64,iVBORw0KGgoAAAANSUhEUgAAAHAAAABwCAAAAADji6uXAAAABGdBTUEAALGPC/xhBQAAAAJiS0dEAP+Hj8y/AAAAB3RJTUUH4gcJBwAJJOMtkgAAAbtJREFUaN7t2T8o5nEAx/Enlutw2SiKUiyKdNdNZuXPopTBZGFRNiZyuhvOdAOLQRmwMjCxYGCwKiQUoXCnlDvKvT/1fOvpVzyl/Pqqz2t5/nx/v+97+f17vk/mKWUZBx100EEHHXTQwciCtzjDNL7jHg6+j+Ah+tGAwhwDcDDu4C76UAQFClCFeuhzGbSNg/EFf0OhUuQeJHU4wh7Cd+twML7gDAoTanECjTsYf7AVYcIadOMYYXwJDsYdPMUoNnGB5LgeohyMO5hPLxx8X8Ff+AH9gNHrFyjWjEc4GGfwDttoR0FWBuF9BQ6Qbx4H0w/+wxYqoQOjGJq8CyUIJ3w5fuIvHIwnqJ0XESb9hg1o7ArJRQVZwEsLRA6mF9TBMowwURtuoLFLfIZO+A8YQSfCti1YxU6Wg+kHdRMdgnb+hElcQ2O6gH+FxrSosAZ9/wcr6IH2CfFqOJh+cAraWBfneegkX4Yu2GFhbwxhUSFpDm1ZWnBwMP2gbqaa9COaoIMj9wI9jnwPvM9xMJ1gI5I31g5MYB8PeE3MwfSC+iNyFoPQD85z5HvAdTCu4Fty0EEHHXTQQQcdfAP/Af1Wl1ghsDN/AAAAAElFTkSuQmCC\"></td><td style='text-align:center;vertical-align:middle; margin: 0.5em;border:1px #90999f solid;border-collapse:collapse'><img style='max-width: 100px; max-height:100px;display:inline' src=\"data:image/png;base64,iVBORw0KGgoAAAANSUhEUgAAAHAAAABwCAAAAADji6uXAAAABGdBTUEAALGPC/xhBQAAAAJiS0dEAP+Hj8y/AAAAB3RJTUUH4gcJBwAJJOMtkgAAANNJREFUaN7t2rEJAkEURdFh7cASBDOLsAQTmzDQHrSDtRexETNBE2MTc30PHNhUg9W33NvAST5/mNktz54rgICAgICAAwDXqqiZuirALPCixqpRI3VUgFngQy0UYC7oNgowF7yruQLMBW9qoiq4U58ewoC/Bd1WVdDtFWAW6ADzQV9mmneAmeDwpxQQEBCw3+W9VIB5YHdo3EkBZoEr1QX9WASYBbYKMBt0U1UXuJf5WQFmgf5gUofGKGAeeFCA2aAf1/3zAGAu+G2AgICAgIB/CL4AdSaCtfJhq3UAAAAASUVORK5C\"></td><td style='text-align:center;vertical-align:middle; margin: 0.5em;border:1px #90999f solid;border-collapse:collapse'><img style='max-width: 100px; max-height:100px;display:inline' src=\"data:image/png;base64,iVBORw0KGgoAAAANSUhEUgAAAHAAAABwCAAAAADji6uXAAAABGdBTUEAALGPC/xhBQAAAAJiS0dEAP+Hj8y/AAAAB3RJTUUH4gcJBwAJJOMtkgAAAYJJREFUaN7t2T8vBFEUhvGJbRQkJBqFoNEoSKgVNBoS8QkoVCsUGrYTn0AhFCoSIUpahegkCjQqQqGS0Phb8JxkJ9nczMxuY+aQ99dtZnOeLWZ2794bfecsUlBBBRVUUEEFFSw4eINrbCBCU4IpfEBBX0GLLKEbXSjBhpdSzOAFCvoJTiAcmhU0Z1DQT3Ad8aBOVLCCStUoFPQd/MJ91SPC6/aQx18IZhrvUNBPsJ4DtCAOLiDtvQr6C+4hfPDTfnwV9BXcRT+aURsbwisU9BW8xSpGaoSLqHZs4QFZsxTMP3iJXoSLpDA4iUY+vILFBHsQbh4kbSocQ0F/QXOHNZzjKrCI+MZR0G8wyzMU/NvBfSjoM/iJI2QtarfRCgX9BU8xDhtim0Hh9SfsoA1xzDYVTqCgj+AA4kFlLAeGUbsQHsMh6sUULCaYxoK24T6HNzQSUzC/4AVmkRTqwyDmYX90Gg0pmG/Q2EHHJjpgITv8sNdJByUK+gz+FgUVVFDBfxj8AZOdD6lRVWPoAAAAAElFTkSuQmCC\"></td></tr></tbody></table><div><small>(a vector displayed as a row to save space)</small></div>"
      ],
      "text/plain": [
       "8-element Array{Array{ColorTypes.Gray{Float32},2},1}:\n",
       " ColorTypes.Gray{Float32}[Gray{Float32}(1.0) Gray{Float32}(1.0) … Gray{Float32}(1.0) Gray{Float32}(1.0); Gray{Float32}(1.0) Gray{Float32}(1.0) … Gray{Float32}(1.0) Gray{Float32}(1.0); … ; Gray{Float32}(1.0) Gray{Float32}(1.0) … Gray{Float32}(1.0) Gray{Float32}(1.0); Gray{Float32}(1.0) Gray{Float32}(1.0) … Gray{Float32}(1.0) Gray{Float32}(1.0)]\n",
       " ColorTypes.Gray{Float32}[Gray{Float32}(1.0) Gray{Float32}(1.0) … Gray{Float32}(1.0) Gray{Float32}(1.0); Gray{Float32}(1.0) Gray{Float32}(1.0) … Gray{Float32}(1.0) Gray{Float32}(1.0); … ; Gray{Float32}(1.0) Gray{Float32}(1.0) … Gray{Float32}(1.0) Gray{Float32}(1.0); Gray{Float32}(1.0) Gray{Float32}(1.0) … Gray{Float32}(1.0) Gray{Float32}(1.0)]\n",
       " ColorTypes.Gray{Float32}[Gray{Float32}(1.0) Gray{Float32}(1.0) … Gray{Float32}(1.0) Gray{Float32}(1.0); Gray{Float32}(1.0) Gray{Float32}(1.0) … Gray{Float32}(1.0) Gray{Float32}(1.0); … ; Gray{Float32}(1.0) Gray{Float32}(1.0) … Gray{Float32}(1.0) Gray{Float32}(1.0); Gray{Float32}(1.0) Gray{Float32}(1.0) … Gray{Float32}(1.0) Gray{Float32}(1.0)]\n",
       " ColorTypes.Gray{Float32}[Gray{Float32}(1.0) Gray{Float32}(1.0) … Gray{Float32}(1.0) Gray{Float32}(1.0); Gray{Float32}(1.0) Gray{Float32}(1.0) … Gray{Float32}(1.0) Gray{Float32}(1.0); … ; Gray{Float32}(1.0) Gray{Float32}(1.0) … Gray{Float32}(1.0) Gray{Float32}(1.0); Gray{Float32}(1.0) Gray{Float32}(1.0) … Gray{Float32}(1.0) Gray{Float32}(1.0)]\n",
       " ColorTypes.Gray{Float32}[Gray{Float32}(1.0) Gray{Float32}(1.0) … Gray{Float32}(1.0) Gray{Float32}(1.0); Gray{Float32}(1.0) Gray{Float32}(1.0) … Gray{Float32}(1.0) Gray{Float32}(1.0); … ; Gray{Float32}(1.0) Gray{Float32}(1.0) … Gray{Float32}(1.0) Gray{Float32}(1.0); Gray{Float32}(1.0) Gray{Float32}(1.0) … Gray{Float32}(1.0) Gray{Float32}(1.0)]\n",
       " ColorTypes.Gray{Float32}[Gray{Float32}(1.0) Gray{Float32}(1.0) … Gray{Float32}(1.0) Gray{Float32}(1.0); Gray{Float32}(1.0) Gray{Float32}(1.0) … Gray{Float32}(1.0) Gray{Float32}(1.0); … ; Gray{Float32}(1.0) Gray{Float32}(1.0) … Gray{Float32}(1.0) Gray{Float32}(1.0); Gray{Float32}(1.0) Gray{Float32}(1.0) … Gray{Float32}(1.0) Gray{Float32}(1.0)]\n",
       " ColorTypes.Gray{Float32}[Gray{Float32}(1.0) Gray{Float32}(1.0) … Gray{Float32}(1.0) Gray{Float32}(1.0); Gray{Float32}(1.0) Gray{Float32}(1.0) … Gray{Float32}(1.0) Gray{Float32}(1.0); … ; Gray{Float32}(1.0) Gray{Float32}(1.0) … Gray{Float32}(1.0) Gray{Float32}(1.0); Gray{Float32}(1.0) Gray{Float32}(1.0) … Gray{Float32}(1.0) Gray{Float32}(1.0)]\n",
       " ColorTypes.Gray{Float32}[Gray{Float32}(1.0) Gray{Float32}(1.0) … Gray{Float32}(1.0) Gray{Float32}(1.0); Gray{Float32}(1.0) Gray{Float32}(1.0) … Gray{Float32}(1.0) Gray{Float32}(1.0); … ; Gray{Float32}(1.0) Gray{Float32}(1.0) … Gray{Float32}(1.0) Gray{Float32}(1.0); Gray{Float32}(1.0) Gray{Float32}(1.0) … Gray{Float32}(1.0) Gray{Float32}(1.0)]"
      ]
     },
     "execution_count": 5,
     "metadata": {},
     "output_type": "execute_result"
    }
   ],
   "source": [
    "train_x, train_y = prepare_mnist(MNIST.traintensor(Float32, 1:500), MNIST.trainlabels(1:500))\n",
    "@show summary(train_x) summary(train_y);\n",
    "[MNIST.convert2image(train_x[:,:,1,i]) for i in 1:8]"
   ]
  },
  {
   "cell_type": "markdown",
   "metadata": {},
   "source": [
    "Similarly, we use `MNIST.testtensor` and `MNIST.testlabels`\n",
    "to load the full MNIST test set. We will utilize that data to\n",
    "measure how well the network is able to generalize with and\n",
    "without augmentation."
   ]
  },
  {
   "cell_type": "code",
   "execution_count": 6,
   "metadata": {},
   "outputs": [
    {
     "name": "stdout",
     "output_type": "stream",
     "text": [
      "summary(test_x) = \"28×28×1×10000 Array{Float32,4}\"\n",
      "summary(test_y) = \"10000-element Array{Int8,1}\"\n"
     ]
    },
    {
     "data": {
      "text/html": [
       "<table><tbody><tr><td style='text-align:center;vertical-align:middle; margin: 0.5em;border:1px #90999f solid;border-collapse:collapse'><img style='max-width: 100px; max-height:100px;display:inline' src=\"data:image/png;base64,iVBORw0KGgoAAAANSUhEUgAAAHAAAABwCAAAAADji6uXAAAABGdBTUEAALGPC/xhBQAAAAJiS0dEAP+Hj8y/AAAAB3RJTUUH4gcJBwAKvep8KAAAAUxJREFUaN7t2T1Lw1AYhuEofkxapOAgRVE6lyIu3YvgD3AQHDq6uzkILk46+ivaSQSXOvi5OHYoooOrUoUuDiLq/Q6BUiRtoZjz0udaQuAc7gwnCcmJfv5ZpKCCCiqooIIKKqigggqOVLCKdVSwg2s8QkE/wWWMdZlFqYdN3EPB9IN1HOMcdtxGDhZeROeFTGIB8fkuFEw/+Jd3XKCNeocbvCILC55AwTCDSWoYRwFvUNBX8AXziGDhpLEKhhnch93wc2hAQV9Be3BPwYKX6DVewfCCe7BYGZ9Q0FfwA6uYxi36maNgWMED2ILZQL9zFAwneIYJZHAHBX0FW1iBLZgtDDJXwfSDX1iDxfJ4goK+gg+If+KdYtD5CqYbfMYSLHaEbyjoKxh/uJikzRAFwwxeYQYK+g0eIo7Zi7cJBX0Gi0jaCFEw3OCwKDh0v1maUDW5byRtAAAAAElFTkSuQmCC\"></td><td style='text-align:center;vertical-align:middle; margin: 0.5em;border:1px #90999f solid;border-collapse:collapse'><img style='max-width: 100px; max-height:100px;display:inline' src=\"data:image/png;base64,iVBORw0KGgoAAAANSUhEUgAAAHAAAABwCAAAAADji6uXAAAABGdBTUEAALGPC/xhBQAAAAJiS0dEAP+Hj8y/AAAAB3RJTUUH4gcJBwAKvep8KAAAAWxJREFUaN7t2T9KA0EYhvEl+Cc5gOIFbAQFq2DrBUQRxc7CJiAYtbISJBbGW3gDtRcrG1uxEEFtbNRKLLTR54P9YFliYGN0ZvH9NYGZ3X2aGTLZJJ9/LFFQQQUV/MfBQ+xhEUmqgSMoGH9wCZVvjOMBCsYbzMcmsIk5+Ng+FIwzeIlB2EMncYdX2Nw7pmFz21AwzuAJBmCxR2TnbKEMw4JnUDDOoLnHC/LjU/CNr2DcwU7aqMJiM3iDguUJnsJjYzhHkfsVDB/chW/4DRS9X8GwQTv81mCxVfiBSsFyBO0QNQKLjeIWRWMKhg3aF61v+C30ElMwXPAY/sNlFr1seAXDBZ9RRz8WjIJhgjvw2AJ+smAUDBP0DW/yL4cULF/wCk85H7Dr7NPHbtDIWIe/eFAwbLCTZTSxgm7XtaBgmOA8KgUMoZqyP8raqQsoGCZoDtDKyC+QNfjcNbo9S8EwwX5SUEEFFVRQQQUV/AVfk8/GSO0xe44AAAAASUVORK5C\"></td><td style='text-align:center;vertical-align:middle; margin: 0.5em;border:1px #90999f solid;border-collapse:collapse'><img style='max-width: 100px; max-height:100px;display:inline' src=\"data:image/png;base64,iVBORw0KGgoAAAANSUhEUgAAAHAAAABwCAAAAADji6uXAAAABGdBTUEAALGPC/xhBQAAAAJiS0dEAP+Hj8y/AAAAB3RJTUUH4gcJBwAKvep8KAAAAP5JREFUaN7t17EKQVEcx/ErNmWwGCw2ZmVQ3sFiMhkZsdgVuycwKjHYlQwewGYyegFSUnz/b+De5N6/ft/5nD5nOOd0TvD6cYFAgQIFChT4h+CJUjQjgT7BBaVpRQJ9giPK0afjBSYLPFKWeiTQJ7gku7h3JNAnWKMSXUmgP/BMtmHKFGaewOSAczKwQQJ9gkMycEMC/YEHylOV7iTQHzimgNoUdq7AZIAtskO/JoH+wAsVqEJRFiswfnBKtmE6JNAn2CUD+yTQJ1gkA7ck0B+4pwwJ9AsOyDD7xDxJoC/wRvZwMnBCUTCB8YIPqlOTDBfoD/xWAgUKFChQYALBN0FqaMNwssMBAAAAAElFTkSuQmCC\"></td><td style='text-align:center;vertical-align:middle; margin: 0.5em;border:1px #90999f solid;border-collapse:collapse'><img style='max-width: 100px; max-height:100px;display:inline' src=\"data:image/png;base64,iVBORw0KGgoAAAANSUhEUgAAAHAAAABwCAAAAADji6uXAAAABGdBTUEAALGPC/xhBQAAAAJiS0dEAP+Hj8y/AAAAB3RJTUUH4gcJBwAKvep8KAAAAX5JREFUaN7t2TFKxEAAheGwpLQVFCsVvYEKdmolVlrYeAJBEBG29QaCIh7EQi3V2hOIoLbaamOz/g92YAjJxiJmJ/K+cjbk3yLJTCbZoGWZgw466KCDDv6D4Cf20cMSXuFgt4JPyIcUvYCD3Qm+YxUOdjN4hjXkEQV3cY57OJh2UCfPC+KxeTzCwTSDm8jQK5jELOIxB9ML3mEOxYvmAFfQDX+CMH4JB9MJvmAK8U2uG7yPL4TjtBiehn6fwCm+4eD4g8VF7wY+UHasJuH4jz3DwbSCy3hD1bG6cFbgYHrB306sekhokyFM1HtwcPzBY4SLpi7YyI3vYOPBRdQFtdGghVY8UWsyrnpIOJhe8BDxAlmL5gdUHe9gWkG9qCoQB7cw6pwOthtcQJiAr4dmEMbKNhoGNRxsN6gXy/hlJi8o22hwMK1gvFlQFdTv69CiKd5ocDCNoGjz7ghVwcY/djn4Z98Pb7ANhXZwC42N2mhwMK1gUxx00EEHHXQwweAPj37H6mOlHRsAAAAASUVORK5C\"></td><td style='text-align:center;vertical-align:middle; margin: 0.5em;border:1px #90999f solid;border-collapse:collapse'><img style='max-width: 100px; max-height:100px;display:inline' src=\"data:image/png;base64,iVBORw0KGgoAAAANSUhEUgAAAHAAAABwCAAAAADji6uXAAAABGdBTUEAALGPC/xhBQAAAAJiS0dEAP+Hj8y/AAAAB3RJTUUH4gcJBwAKvep8KAAAAWpJREFUaN7t2C9LBFEUhvFhZwVxMRk0uc2kFotBEMxW/4DgF7CZtLgmm7BBs939BAp+AUGDwSrYFARhxaBhfQ7sBZlw71hmz8j7i7uHeSbcmbt7s0HFMgUVVFBBBRVUUMERBu/QRmzmCs9Q0GfwBDOIzexhCwr6C35jBangBRbwAQV9Ba+R4xCxuVPY3CsU9BN8wBTm0EdsdhUK+gvay3gct4jNvSFDAwr6CfYwiXmkbmwfFlvDFxT0EdyEPcjniM09YRpjuEFsVsHqgu+YhQUHCbYx21yZxaVgdcEX2EV2kLpIWFzbUNBP8BNLWIRtrrEbawydQUE/QRMWwzIuC45gC8r+qOZDqZe8gtUHH7GBCeQFtuHaIUMT4TNbaAr6Cgb36BWE73YRgmWupeBogjHHCEE7gFCwfsEOwgZcZl5Bf8Hfi0bBegYPYLEWFKxn0H5M2SF8FwrWM7iO1IGegr6Df6Wgggoq+A+DPyetH0UqU2yjAAAAAElFTkSuQmCC\"></td><td style='text-align:center;vertical-align:middle; margin: 0.5em;border:1px #90999f solid;border-collapse:collapse'><img style='max-width: 100px; max-height:100px;display:inline' src=\"data:image/png;base64,iVBORw0KGgoAAAANSUhEUgAAAHAAAABwCAAAAADji6uXAAAABGdBTUEAALGPC/xhBQAAAAJiS0dEAP+Hj8y/AAAAB3RJTUUH4gcJBwAKvep8KAAAARZJREFUaN7t2jFqAmEQhmGXINYJpLPwAFrFziPYpA6BoOAhRA9hId7BRsTCC4iNTQ4RUiW1iIToO+CA5a6IuyPf2w9P88/C7v6lw40rCRQoUKBAgQIFFhBcUEJj+iOBscBfqlJyaksCY4EzcuyN/klgHHBHTXJwSWnmBBYH3JBjZUo7J7A4YJ8cbJPAeGCLDKvQJwmMBa7JD8wTZZkVWAxwRA4OSGA88J0Me6QvEhgLXNEDGVijrPMC8wfn5EvfI4HxwPOltxcagbFAe1D70jcoKyYwf3BKvvRDEhgPnJBhz/RDAuOBr2TgC+1JYCzQgDoZaB+FLsEE5gvaD+UOGfhBAuOB1jd1yS4JCIwJXiOBAgUKvEPwCL6Qb7RFSoE/AAAAAElFTkSuQmCC\"></td><td style='text-align:center;vertical-align:middle; margin: 0.5em;border:1px #90999f solid;border-collapse:collapse'><img style='max-width: 100px; max-height:100px;display:inline' src=\"data:image/png;base64,iVBORw0KGgoAAAANSUhEUgAAAHAAAABwCAAAAADji6uXAAAABGdBTUEAALGPC/xhBQAAAAJiS0dEAP+Hj8y/AAAAB3RJTUUH4gcJBwAKvep8KAAAAYlJREFUaN7t2L8rxGEAx/FzZVIGKcrILtksfuxKBoP8iGIy6oqUP8NgMDAZbWcwmJmYRGLyoyRJsfD+lG9d1/F8L93z/Z4+r+3unuf7/g7P3T3fp/AZWcFBBx100EEHHXQwo+A9hrGGa4TGP+MAH3Aw++ATOtGKKaSJ9aIdF3Aw2+AjxlDECkIxWYXGb6PW5w7GDZZR/PaAUOwcLZjECxzMNqgf7GUotoM0sW4ouIufxjkYLziDAgbxilBwC4ot4LdxDsYLzkILZhy1NkOJN2ygAxofujEH4wdlBBMoV1nHEJJxaTZZDsYLnqAHycX0pS5WqXyvD5dwMD9B0YPMEUrQxbtQqnCGJDiHUMzB+MGQK+hGBpBmo+xg/oLz0II5RNo5DuYnuA8tGB0AncLB5gvqoUXBadQzz8H8BHWA0IZ6FoyD+QkmBwjaVNU718F8BPuhP95F6LUOY2/gYPMFl7AHHQA29GHGwYYFk0MFhW/hYPMEjzGKTdzhHWnnOpiP4F846KCDDv7D4BdJCaWG1fnkAQAAAABJRU5ErkJg\"></td><td style='text-align:center;vertical-align:middle; margin: 0.5em;border:1px #90999f solid;border-collapse:collapse'><img style='max-width: 100px; max-height:100px;display:inline' src=\"data:image/png;base64,iVBORw0KGgoAAAANSUhEUgAAAHAAAABwCAAAAADji6uXAAAABGdBTUEAALGPC/xhBQAAAAJiS0dEAP+Hj8y/AAAAB3RJTUUH4gcJBwAKvep8KAAAAW9JREFUaN7t2r8rhVEcx/GHTBT5VRYxkNFmlIWyKRPDLaWUgWyMdv+CTYkFsz9CBkkMZFBikCJKvD/l1BO6bqnrfOvz2p5z676X0/me+3SL9zorHHTQQQcddNBBBx108I/BByxiFK9wMFZwC31o/HQHB+MEr9GFBqTgDO7hYIzgMhQpB6UdG3iBg/kGL9EKBYYxgXK0BzdwMN/gPrRZNHT1/IxNDEDrBUZQ6yHgYP2DO9Dm2EN5fRLpMBjDIxzMMzgFffE8yuvdSMFV1BJz8H+CadPo4D7FLnSBakIHFOzECRzMM6hDWZelr5coDeJzDEHPC3Awz6Acog0atoouQYNYn61Ba/24gIN5BlN0DisoD9snpAO+AgfzDVazDQV78duF2ME8g2/QUFZ0HQ7GC8oRmqHoGRyMFxS96NMwnoYOdQfjBW8xCEWP4WC8oFxBwVk4GDMo42jBTy8aHIwR1B8M9AP1AA7GDFbjoIMOfvMBmh6tJn9qocwAAAAASUVORK5C\"></td></tr></tbody></table><div><small>(a vector displayed as a row to save space)</small></div>"
      ],
      "text/plain": [
       "8-element Array{Array{ColorTypes.Gray{Float32},2},1}:\n",
       " ColorTypes.Gray{Float32}[Gray{Float32}(1.0) Gray{Float32}(1.0) … Gray{Float32}(1.0) Gray{Float32}(1.0); Gray{Float32}(1.0) Gray{Float32}(1.0) … Gray{Float32}(1.0) Gray{Float32}(1.0); … ; Gray{Float32}(1.0) Gray{Float32}(1.0) … Gray{Float32}(1.0) Gray{Float32}(1.0); Gray{Float32}(1.0) Gray{Float32}(1.0) … Gray{Float32}(1.0) Gray{Float32}(1.0)]\n",
       " ColorTypes.Gray{Float32}[Gray{Float32}(1.0) Gray{Float32}(1.0) … Gray{Float32}(1.0) Gray{Float32}(1.0); Gray{Float32}(1.0) Gray{Float32}(1.0) … Gray{Float32}(1.0) Gray{Float32}(1.0); … ; Gray{Float32}(1.0) Gray{Float32}(1.0) … Gray{Float32}(1.0) Gray{Float32}(1.0); Gray{Float32}(1.0) Gray{Float32}(1.0) … Gray{Float32}(1.0) Gray{Float32}(1.0)]\n",
       " ColorTypes.Gray{Float32}[Gray{Float32}(1.0) Gray{Float32}(1.0) … Gray{Float32}(1.0) Gray{Float32}(1.0); Gray{Float32}(1.0) Gray{Float32}(1.0) … Gray{Float32}(1.0) Gray{Float32}(1.0); … ; Gray{Float32}(1.0) Gray{Float32}(1.0) … Gray{Float32}(1.0) Gray{Float32}(1.0); Gray{Float32}(1.0) Gray{Float32}(1.0) … Gray{Float32}(1.0) Gray{Float32}(1.0)]\n",
       " ColorTypes.Gray{Float32}[Gray{Float32}(1.0) Gray{Float32}(1.0) … Gray{Float32}(1.0) Gray{Float32}(1.0); Gray{Float32}(1.0) Gray{Float32}(1.0) … Gray{Float32}(1.0) Gray{Float32}(1.0); … ; Gray{Float32}(1.0) Gray{Float32}(1.0) … Gray{Float32}(1.0) Gray{Float32}(1.0); Gray{Float32}(1.0) Gray{Float32}(1.0) … Gray{Float32}(1.0) Gray{Float32}(1.0)]\n",
       " ColorTypes.Gray{Float32}[Gray{Float32}(1.0) Gray{Float32}(1.0) … Gray{Float32}(1.0) Gray{Float32}(1.0); Gray{Float32}(1.0) Gray{Float32}(1.0) … Gray{Float32}(1.0) Gray{Float32}(1.0); … ; Gray{Float32}(1.0) Gray{Float32}(1.0) … Gray{Float32}(1.0) Gray{Float32}(1.0); Gray{Float32}(1.0) Gray{Float32}(1.0) … Gray{Float32}(1.0) Gray{Float32}(1.0)]\n",
       " ColorTypes.Gray{Float32}[Gray{Float32}(1.0) Gray{Float32}(1.0) … Gray{Float32}(1.0) Gray{Float32}(1.0); Gray{Float32}(1.0) Gray{Float32}(1.0) … Gray{Float32}(1.0) Gray{Float32}(1.0); … ; Gray{Float32}(1.0) Gray{Float32}(1.0) … Gray{Float32}(1.0) Gray{Float32}(1.0); Gray{Float32}(1.0) Gray{Float32}(1.0) … Gray{Float32}(1.0) Gray{Float32}(1.0)]\n",
       " ColorTypes.Gray{Float32}[Gray{Float32}(1.0) Gray{Float32}(1.0) … Gray{Float32}(1.0) Gray{Float32}(1.0); Gray{Float32}(1.0) Gray{Float32}(1.0) … Gray{Float32}(1.0) Gray{Float32}(1.0); … ; Gray{Float32}(1.0) Gray{Float32}(1.0) … Gray{Float32}(1.0) Gray{Float32}(1.0); Gray{Float32}(1.0) Gray{Float32}(1.0) … Gray{Float32}(1.0) Gray{Float32}(1.0)]\n",
       " ColorTypes.Gray{Float32}[Gray{Float32}(1.0) Gray{Float32}(1.0) … Gray{Float32}(1.0) Gray{Float32}(1.0); Gray{Float32}(1.0) Gray{Float32}(1.0) … Gray{Float32}(1.0) Gray{Float32}(1.0); … ; Gray{Float32}(1.0) Gray{Float32}(1.0) … Gray{Float32}(1.0) Gray{Float32}(1.0); Gray{Float32}(1.0) Gray{Float32}(1.0) … Gray{Float32}(1.0) Gray{Float32}(1.0)]"
      ]
     },
     "execution_count": 6,
     "metadata": {},
     "output_type": "execute_result"
    }
   ],
   "source": [
    "test_x, test_y = prepare_mnist(MNIST.testtensor(Float32), MNIST.testlabels())\n",
    "@show summary(test_x) summary(test_y);\n",
    "[MNIST.convert2image(test_x[:,:,1,i]) for i in 1:8]"
   ]
  },
  {
   "cell_type": "markdown",
   "metadata": {},
   "source": [
    "## Defining the Network"
   ]
  },
  {
   "cell_type": "markdown",
   "metadata": {},
   "source": [
    "With the dataset prepared, we can now define and instantiate\n",
    "our neural network. To keep things simple, we will use the same\n",
    "convolutional network as defined in the\n",
    "[MNIST example](http://denizyuret.github.io/Knet.jl/latest/tutorial.html#Convolutional-neural-network-1)\n",
    "of the Knet.jl package."
   ]
  },
  {
   "cell_type": "code",
   "execution_count": 7,
   "metadata": {},
   "outputs": [],
   "source": [
    "using Knet"
   ]
  },
  {
   "cell_type": "markdown",
   "metadata": {},
   "source": [
    "The first thing we will do is define the forward pass through\n",
    "the network. This will effectively outline the computation\n",
    "graph of the network architecture. Note how this does not\n",
    "define some details, such as the number of neurons per layer.\n",
    "We will define those later when initializing our\n",
    "vector of weight arrays `w`."
   ]
  },
  {
   "cell_type": "code",
   "execution_count": 8,
   "metadata": {},
   "outputs": [
    {
     "data": {
      "text/plain": [
       "forward"
      ]
     },
     "execution_count": 8,
     "metadata": {},
     "output_type": "execute_result"
    }
   ],
   "source": [
    "\"\"\"\n",
    "    forward(w, x) -> a\n",
    "\n",
    "Compute the forward pass for the given minibatch `x` by using the\n",
    "neural network parameters in `w`. The resulting (unnormalized)\n",
    "activations of the last layer are returned as `a`.\n",
    "\"\"\"\n",
    "function forward(w, x)\n",
    "    # conv1 (2x2 maxpool)\n",
    "    a1 = pool(relu.(conv4(w[1], x)  .+ w[2]))\n",
    "    # conv2 (2x2 maxpool)\n",
    "    a2 = pool(relu.(conv4(w[3], a1) .+ w[4]))\n",
    "    # dense1 (relu)\n",
    "    a3 = relu.(w[5] * mat(a2) .+ w[6])\n",
    "    # dense2 (identity)\n",
    "    a4 = w[7] * a3 .+ w[8]\n",
    "    return a4\n",
    "end"
   ]
  },
  {
   "cell_type": "markdown",
   "metadata": {},
   "source": [
    "In order to be able to train our network we need to choose a\n",
    "cost function. Because this is a classification problem we will\n",
    "use the negative log-likelihood (provided by `Knet.nll`).\n",
    "With the cost function defined we can the simply use the\n",
    "higher-order function `grad` to create a new function `costgrad`\n",
    "that computes us the corresponding gradients."
   ]
  },
  {
   "cell_type": "code",
   "execution_count": 9,
   "metadata": {},
   "outputs": [
    {
     "data": {
      "text/plain": [
       "(::gradfun) (generic function with 1 method)"
      ]
     },
     "execution_count": 9,
     "metadata": {},
     "output_type": "execute_result"
    }
   ],
   "source": [
    "\"\"\"\n",
    "    cost(w, x, y) -> AbstractFloat\n",
    "\n",
    "Compute the per-instance negative log-likelihood for the data\n",
    "in the minibatch `(x, y)` given the network with the current\n",
    "parameters in `w`.\n",
    "\"\"\"\n",
    "cost(w, x, y) = nll(forward(w, x), y)\n",
    "costgrad = grad(cost)"
   ]
  },
  {
   "cell_type": "markdown",
   "metadata": {},
   "source": [
    "Aside from the cost function that we need for training, we\n",
    "would also like a more interpretable performance measurement.\n",
    "In this tutorial we will use \"accuracy\" for its simplicity\n",
    "and because we know that the class distribution for MNIST\n",
    "is close to uniform."
   ]
  },
  {
   "cell_type": "code",
   "execution_count": 10,
   "metadata": {},
   "outputs": [
    {
     "data": {
      "text/plain": [
       "acc"
      ]
     },
     "execution_count": 10,
     "metadata": {},
     "output_type": "execute_result"
    }
   ],
   "source": [
    "\"\"\"\n",
    "    acc(w, X, Y; [batchsize]) -> Float64\n",
    "\n",
    "Compute the accuracy for the data in `(X,Y)` given the network\n",
    "with the current parameters in `w`. The resulting value is\n",
    "computed by iterating over the data in minibatches of size\n",
    "`batchsize`.\n",
    "\"\"\"\n",
    "function acc(w, X, Y; batchsize = 100)\n",
    "    sum = 0; count = 0\n",
    "    for (x_cpu, y) in eachbatch((X, Y), maxsize = batchsize)\n",
    "        x = KnetArray{Float32}(x_cpu)\n",
    "        sum += Int(accuracy(forward(w,x), y, average = false))\n",
    "        count += length(y)\n",
    "    end\n",
    "    return sum / count\n",
    "end"
   ]
  },
  {
   "cell_type": "markdown",
   "metadata": {},
   "source": [
    "Before we can train or even just use our network, we need to\n",
    "define how we initialize `w`, which is our the vector of\n",
    "parameter arrays. The dimensions of these individual arrays\n",
    "specify the filter sizes and number of neurons.\n",
    "It can be helpful to compare the indices here with the indices\n",
    "used in our `forward` function to see which array corresponds\n",
    "to which computation node of our network."
   ]
  },
  {
   "cell_type": "code",
   "execution_count": 11,
   "metadata": {},
   "outputs": [
    {
     "data": {
      "text/plain": [
       "weights (generic function with 2 methods)"
      ]
     },
     "execution_count": 11,
     "metadata": {},
     "output_type": "execute_result"
    }
   ],
   "source": [
    "function weights(atype = KnetArray{Float32})\n",
    "    w = Array{Any}(8)\n",
    "    # conv1\n",
    "    w[1] = xavier(5,5,1,20)\n",
    "    w[2] = zeros(1,1,20,1)\n",
    "    # conv2\n",
    "    w[3] = xavier(5,5,20,50)\n",
    "    w[4] = zeros(1,1,50,1)\n",
    "    # dense1\n",
    "    w[5] = xavier(500,800)\n",
    "    w[6] = zeros(500,1)\n",
    "    # dense2\n",
    "    w[7] = xavier(10,500)\n",
    "    w[8] = zeros(10,1)\n",
    "    return map(a->convert(atype,a), w)\n",
    "end"
   ]
  },
  {
   "cell_type": "markdown",
   "metadata": {},
   "source": [
    "## Training without Augmentation"
   ]
  },
  {
   "cell_type": "markdown",
   "metadata": {},
   "source": [
    "In order to get an intuition for how useful augmentation can\n",
    "be, we need a sensible baseline to compare to. To that end, we\n",
    "will first train the network we just defined using only the\n",
    "(unaltered) 500 training examples."
   ]
  },
  {
   "cell_type": "markdown",
   "metadata": {},
   "source": [
    "The package\n",
    "[ValueHistories.jl](https://github.com/JuliaML/ValueHistories.jl)\n",
    "will help us record the accuracy during the training process.\n",
    "We will use those logs later to visualize the differences\n",
    "between having augmentation or no augmentation."
   ]
  },
  {
   "cell_type": "code",
   "execution_count": 12,
   "metadata": {},
   "outputs": [],
   "source": [
    "using ValueHistories"
   ]
  },
  {
   "cell_type": "markdown",
   "metadata": {},
   "source": [
    "To keep things simple, we will not overly optimize our\n",
    "training function. Thus, we will be content with using a\n",
    "closure. Because both, the baseline and the augmented version,\n",
    "will share this \"inefficiency\", we should still get a decent\n",
    "enough picture of their performance differences."
   ]
  },
  {
   "cell_type": "code",
   "execution_count": 13,
   "metadata": {},
   "outputs": [
    {
     "data": {
      "text/plain": [
       "train_baseline (generic function with 1 method)"
      ]
     },
     "execution_count": 13,
     "metadata": {},
     "output_type": "execute_result"
    }
   ],
   "source": [
    "function train_baseline(; epochs = 500, batchsize = 100, lr = .03)\n",
    "    w = weights()\n",
    "    log = MVHistory()\n",
    "    for epoch in 1:epochs\n",
    "        for (batch_x_cpu, batch_y) in eachbatch((train_x ,train_y), batchsize)\n",
    "            batch_x = KnetArray{Float32}(batch_x_cpu)\n",
    "            g = costgrad(w, batch_x, batch_y)\n",
    "            Knet.update!(w, g, lr = lr)\n",
    "        end\n",
    "\n",
    "        if (epoch % 5) == 0\n",
    "            train = acc(w, train_x, train_y)\n",
    "            test  = acc(w, test_x,  test_y)\n",
    "            @trace log epoch train test\n",
    "            msg = \"epoch \" * lpad(epoch,4) * \": train accuracy \" * rpad(round(train,3),5,\"0\") * \", test accuracy \" * rpad(round(test,3),5,\"0\")\n",
    "            println(msg)\n",
    "        end\n",
    "    end\n",
    "    log\n",
    "end"
   ]
  },
  {
   "cell_type": "markdown",
   "metadata": {},
   "source": [
    "Aside from the accuracy, we will also keep an eye on the\n",
    "training time. In particular we would like to see if and how\n",
    "the addition of augmentation causes our training time to\n",
    "increase."
   ]
  },
  {
   "cell_type": "code",
   "execution_count": 14,
   "metadata": {},
   "outputs": [
    {
     "name": "stdout",
     "output_type": "stream",
     "text": [
      "epoch    5: train accuracy 0.550, test accuracy 0.460\n",
      "epoch   10: train accuracy 0.694, test accuracy 0.592\n",
      "epoch   15: train accuracy 0.820, test accuracy 0.749\n",
      "epoch   20: train accuracy 0.862, test accuracy 0.781\n",
      "epoch   25: train accuracy 0.888, test accuracy 0.815\n",
      "epoch   30: train accuracy 0.896, test accuracy 0.850\n",
      "epoch   35: train accuracy 0.920, test accuracy 0.867\n",
      "epoch   40: train accuracy 0.930, test accuracy 0.875\n",
      "epoch   45: train accuracy 0.938, test accuracy 0.882\n",
      "epoch   50: train accuracy 0.952, test accuracy 0.885\n",
      "epoch   55: train accuracy 0.964, test accuracy 0.889\n",
      "epoch   60: train accuracy 0.968, test accuracy 0.891\n",
      "epoch   65: train accuracy 0.974, test accuracy 0.893\n",
      "epoch   70: train accuracy 0.978, test accuracy 0.894\n",
      "epoch   75: train accuracy 0.982, test accuracy 0.896\n",
      "epoch   80: train accuracy 0.988, test accuracy 0.898\n",
      "epoch   85: train accuracy 0.994, test accuracy 0.899\n",
      "epoch   90: train accuracy 0.996, test accuracy 0.899\n",
      "epoch   95: train accuracy 0.998, test accuracy 0.901\n",
      "epoch  100: train accuracy 1.000, test accuracy 0.901\n",
      "epoch  105: train accuracy 1.000, test accuracy 0.902\n",
      "epoch  110: train accuracy 1.000, test accuracy 0.902\n",
      "epoch  115: train accuracy 1.000, test accuracy 0.902\n",
      "epoch  120: train accuracy 1.000, test accuracy 0.903\n",
      "epoch  125: train accuracy 1.000, test accuracy 0.903\n",
      "epoch  130: train accuracy 1.000, test accuracy 0.903\n",
      "epoch  135: train accuracy 1.000, test accuracy 0.903\n",
      "epoch  140: train accuracy 1.000, test accuracy 0.903\n",
      "epoch  145: train accuracy 1.000, test accuracy 0.903\n",
      "epoch  150: train accuracy 1.000, test accuracy 0.903\n",
      "epoch  155: train accuracy 1.000, test accuracy 0.903\n",
      "epoch  160: train accuracy 1.000, test accuracy 0.903\n",
      "epoch  165: train accuracy 1.000, test accuracy 0.903\n",
      "epoch  170: train accuracy 1.000, test accuracy 0.903\n",
      "epoch  175: train accuracy 1.000, test accuracy 0.903\n",
      "epoch  180: train accuracy 1.000, test accuracy 0.903\n",
      "epoch  185: train accuracy 1.000, test accuracy 0.903\n",
      "epoch  190: train accuracy 1.000, test accuracy 0.903\n",
      "epoch  195: train accuracy 1.000, test accuracy 0.902\n",
      "epoch  200: train accuracy 1.000, test accuracy 0.902\n",
      "  6.969078 seconds (3.21 M allocations: 277.250 MiB, 1.11% gc time)\n"
     ]
    }
   ],
   "source": [
    "train_baseline(epochs=1) # warm-up\n",
    "baseline_log = @time train_baseline(epochs=200);"
   ]
  },
  {
   "cell_type": "markdown",
   "metadata": {},
   "source": [
    "As we can see, the accuracy on the training set is around a\n",
    "100%, while the accuracy on the test set peaks around 90%. For\n",
    "a mere 500 training examples, this isn't actually that bad of\n",
    "a result."
   ]
  },
  {
   "cell_type": "markdown",
   "metadata": {},
   "source": [
    "## Integrating Augmentor"
   ]
  },
  {
   "cell_type": "markdown",
   "metadata": {},
   "source": [
    "Now that we have a network architecture with a baseline to\n",
    "compare to, let us finally see what it takes to add Augmentor\n",
    "to our experiment. First, we need to include the package to\n",
    "our experiment."
   ]
  },
  {
   "cell_type": "code",
   "execution_count": 15,
   "metadata": {},
   "outputs": [],
   "source": [
    "using Augmentor"
   ]
  },
  {
   "cell_type": "markdown",
   "metadata": {},
   "source": [
    "The next step, and maybe the most human-hour consuming part of\n",
    "adding image augmentation to a prediction problem, is to\n",
    "design and select a sensible augmentation pipeline. Take a\n",
    "look at the [elastic distortions tutorial](@ref elastic) for\n",
    "an example of how to do just that."
   ]
  },
  {
   "cell_type": "markdown",
   "metadata": {},
   "source": [
    "For this example, we already choose a quite complicated but\n",
    "promising augmentation pipeline for you. This pipeline was\n",
    "designed to yield a large variation of effects as well as to\n",
    "showcase how even deep pipelines are quite efficient in terms\n",
    "of performance."
   ]
  },
  {
   "cell_type": "code",
   "execution_count": 16,
   "metadata": {},
   "outputs": [
    {
     "data": {
      "text/plain": [
       "10-step Augmentor.ImmutablePipeline:\n",
       "  1.) Reshape array to 28×28\n",
       "  2.) Permute dimension order to (2, 1)\n",
       "  3.) Either: (50%) ShearX by ϕ ∈ -5:5 degree. (50%) ShearY by ψ ∈ -5:5 degree.\n",
       "  4.) Rotate by θ ∈ -15:15 degree\n",
       "  5.) Crop a 28×28 window around the center\n",
       "  6.) Zoom by I ∈ {0.9×0.9, 1.0×1.0, 1.1×1.1, 1.2×1.2}\n",
       "  7.) Cache into temporary buffer\n",
       "  8.) Distort using a smoothed and normalized 10×10 grid with pinned border\n",
       "  9.) Permute dimension order to (2, 1)\n",
       " 10.) Reshape array to 28×28×1"
      ]
     },
     "execution_count": 16,
     "metadata": {},
     "output_type": "execute_result"
    }
   ],
   "source": [
    "pl = Reshape(28,28) |>\n",
    "     PermuteDims(2,1) |>\n",
    "     ShearX(-5:5) * ShearY(-5:5) |>\n",
    "     Rotate(-15:15) |>\n",
    "     CropSize(28,28) |>\n",
    "     Zoom(0.9:0.1:1.2) |>\n",
    "     CacheImage() |>\n",
    "     ElasticDistortion(10) |>\n",
    "     PermuteDims(2,1) |>\n",
    "     Reshape(28,28,1)"
   ]
  },
  {
   "cell_type": "markdown",
   "metadata": {},
   "source": [
    "Most of the used operations are quite self explanatory, but\n",
    "there are some details about this pipeline worth pointing out\n",
    "explicitly."
   ]
  },
  {
   "cell_type": "markdown",
   "metadata": {},
   "source": [
    "1. We use the operation [`PermuteDims`](@ref) to convert the\n",
    "   horizontal-major MNIST image to a julia-native\n",
    "   vertical-major image. The vertical-major image is then\n",
    "   processed and converted back to a horizontal-major array.\n",
    "   We mainly do this here to showcase the option, but it is\n",
    "   also to keep consistent with how the data is usually used\n",
    "   in the literature. Alternatively, one could just work with\n",
    "   the MNIST data in a vertical-major format all the way\n",
    "   through without any issue."
   ]
  },
  {
   "cell_type": "markdown",
   "metadata": {},
   "source": [
    "2. As counter-intuitive as it sounds, the operation\n",
    "   [`CacheImage`](@ref) right before\n",
    "   [`ElasticDistortion`](@ref) is actually used to improve\n",
    "   performance. If we were to omit it, then the whole pipeline\n",
    "   would be applied in one single pass. In this case, applying\n",
    "   distortions on top of affine transformations lazily is in\n",
    "   fact less efficient than using a temporary variable."
   ]
  },
  {
   "cell_type": "markdown",
   "metadata": {},
   "source": [
    "With the pipeline now defined, let us quickly peek at what\n",
    "kind of effects we can achieve with it. In particular, lets\n",
    "apply the pipeline multiple times to the first training image\n",
    "and look at what kind of results it produces."
   ]
  },
  {
   "cell_type": "code",
   "execution_count": 17,
   "metadata": {},
   "outputs": [
    {
     "data": {
      "text/html": [
       "<table><tbody><tr><td style='text-align:center;vertical-align:middle; margin: 0.5em;border:1px #90999f solid;border-collapse:collapse'><img style='max-width: 100px; max-height:100px;display:inline' src=\"data:image/png;base64,iVBORw0KGgoAAAANSUhEUgAAAHAAAABwCAAAAADji6uXAAAABGdBTUEAALGPC/xhBQAAAAJiS0dEAP+Hj8y/AAAAB3RJTUUH4gcJBwAv9u6obwAAAthJREFUaN7t2kmoTnEYx/GbTJmHBTJFumKDJIpYUEqGFQuhiKi7ESlkXEiIhCwUioWEhaGIlJKUYYOIMiUyz/Nwr++33lNvFs57655zjzyf1X3fznt+p+7zn09VXc6qIjACIzAC/8PAH/hU8hHf4XdfSt7hAW7jPl7jFyKw8QNr8RxnsB8HsRPbsQHr4OcdWIWlWIazOIEVWIRtuIlviMB8A/3H38JMtEJLdEE1eqI7qkt6oz+Gowbj0Ad+Nx0+7BNEYL6BFs0jWAze1MAmaIam6IhOaA4/j8JCWECzMQ0+7GacRgTmHyg754uwcc+AIS1gQXizieiBbtgIrz2H4ziGk7DRP0Nqw4/ATALlgOugagc+CDbm5bgKb2oH7cNcgYP0W7yCv3FwdrAuv18E5h9YW3IUgzEBDrJ27p9h0CkYlHavCGycwMR1OLAOgxOr5EG+wgmyf0dgsQPtyFfDCdNeWDCV/jYCixH4E5fQC7NwHjb2vy0+I7BYgXqJ+XDilCxSXLRG4L8T6ITKYhkBQx2MnfSmbQZFYHEC9R6HMBSdMRc+xAdUMghHYOMHWhwuMPdgJLrCBY2TLIsqAosfaGEY+hRu+rgp5KC8EnbuEVjcwCTIxYsHIi5Et6AdDB0CC8fJVgQWKzBZeLrBcw8HsAZzMBoGtsYY3EBa44/A/AINsQAsEg8kD2Mx3FjoCwffNnCT3QOUBXiItEE4ArMPNMQJkYckd+EmkJsJk+HmbHt4aNIWDr5jsRZe54S4LkUEZhPo5txj3IGd8hEsgY17EgbCIjHEAvHzVDiR8nDEovIeaR13BGYX6IGUnfJ6zMN4uInngaSN2yLpAAdZH2I3rsEDETtrg+q1QRuBDR54Gb7QMQUeRlocDqq+HNAPA2DxeM0FvEB9QiIw+0AHWSdIHlrtw1Zsgi/o7IIHXRbWG1TSuCMw/8ByyYKl/OW5Pw+OI7DYgVmLwAb3G6FY6wlANT3+AAAAAElFTkSuQmCC\"></td><td style='text-align:center;vertical-align:middle; margin: 0.5em;border:1px #90999f solid;border-collapse:collapse'><img style='max-width: 100px; max-height:100px;display:inline' src=\"data:image/png;base64,iVBORw0KGgoAAAANSUhEUgAAAHAAAABwCAAAAADji6uXAAAABGdBTUEAALGPC/xhBQAAAAJiS0dEAP+Hj8y/AAAAB3RJTUUH4gcJBwAv9u6obwAAA0RJREFUaN7t2lmIjWEcx/GJse8hKYQsd4wtpISUpSQlZL8gyZooe/a1uHGhlCRbSQqFXIjkgiRkiUQY+z52Bt9vvW+dTsyZqXPecy6ez4UxZ5r39148y//5P1P0J2FFITAEhsAqB/5GOX6hPOJnqT9PFQILJ9Bf/oYXuI07eIhHeIJXeIeXeAq//4TX8Oel8Gc/kfoiITC5wB/wFw9jDmZhOdZiBRZiFZZgKbZgP3bAz9djD+7hBnyhEJhs4Hdcgw9sgxqojcZoCT/rgGaoiepohFZoh+4YDV9wFMbjKEJgcoEu0rewHcPQEe3RFIZXixSjLnyRBjC8PgZiJqahC3zBqQiByQXKxfky9mEDFmMQGsJBYpAvMQTjMAAOml5w0p+HA2UzXCgqHDQhMCeBDpwyPMddnMAMOLHroSdcyE/hAnZjMtbAjdrffYPSyBeEwGQDFRfC73ES8+HCbKj/d1BZPFksucmexk34ffrL+zUEJh8Y+4wrWITecMBYPLk4xA/zwPMBfv3fc0Jg/gItjD2o7MJw9IUF1mNU9hkhML+BDgwnuIu0RW1XjMFeXEd8WAmBhRsoJ7SNhU1w4nfGSGyEi7gHoBBY2IFuxl9xEXNRAg8pI3AQNpHihTwEFmZgzEX8GKbAw0trLIAbdKaBEwILI9CBYfP1OMaiDtyQ3Zw9+ITAwg60mCqLvIULgI2iFpiO+wiB+Q2MLzUcGD7cRoAHFC9DbNhaRDnpd0ZsAtngs7k3CTYfqnSYCYFZDbQR4AWXh89nsMC16eOEttkzEX1gEVwSsUFkU9aCyuIq0yYcAnMT6ED5CBs6V3EGWzEBNti7oTmc4LVggF9t1DpYvCzxkHoWFQ2YEJi7QA8oRzAUPeBg6AQf5qSOL0RsrLvZWjT5Ev1hIbUOh5Bp8w2BuQm0cb4S8QWIE7k44iDxMsTPvezy8Dkbq3EAl2Dx+wA2+TINmBCYm8DBaAsHQxN4kezAiS8o+2EeDHDz9Q8BLILdlF3s3aTTG+ohMNlAJ68LtJdUy+Ak3gYvm8/BBd2FwYsSH57+R1hVFQKzH+g/Fj4WTG6+FruGxH904+CwqKrMpA6B+Qv8l3iAZCMkBOYnMFdCYNb9BUbb9hu0fcOFAAAAAElFTkSuQmCC\"></td></tr><tr><td style='text-align:center;vertical-align:middle; margin: 0.5em;border:1px #90999f solid;border-collapse:collapse'><img style='max-width: 100px; max-height:100px;display:inline' src=\"data:image/png;base64,iVBORw0KGgoAAAANSUhEUgAAAHAAAABwCAAAAADji6uXAAAABGdBTUEAALGPC/xhBQAAAAJiS0dEAP+Hj8y/AAAAB3RJTUUH4gcJBwAv9u6obwAAAt1JREFUaN7t2kmojWEcx/GbWYZkSCiLK1lYCGUqJSVDMpRS2BgiWZCNsJEk2RhLIRKK7BRliAxJNliYM98i8xwuru+37rtRb/e8Oec5Z/H/bO7int7fWfyf//O8/+fUNSVWF4ERGIEVCWzES1zBcVzGK0Rg7Qb+wle8xTs8wC7Mx2IcwnNEYG0F/sFv/MATnMROWCQrUY+BWILz+IgIrJ1AF7bFYdBVrMNkjMYyTMQErIFfxGKysCKwuoEWSbbAXdj74cIejk5ojfHYiqPwizxDXrFEYNrA73iP69iOWRgAQzqgI9rCgrGQ/OxPNJUgAisfaIN+hINYiMHojFbohlGYhDHYgLwFHoHVC3TheggaBAvDAmmPNhiCvbCYLjQrtVgiMF2gm+1jzIaNeiYskB6Yjjuwsfs5/xYJi8A0gXIxWxhurKdhE/DA5IbrwddNuWhQBKYNVGMzX15eYDUsork4hZuwyfvlihRPBKYL/Df8FrZgLAyeAcMP4C4+w807AmszMAt9DQvGhu4QoTv6YwocDN1DS6ERWL3ATNYIzmIj5sGDcleMwBl8QV4ziMDqByob9Png25iDLvDAPA0X8Q0RWLuBsnhc6EfgwKgfHDgMxT781zQxAisaaMH40uqF1iqMRC9YNH3gwGEbylY0EVj2QAd/XkwuhxcjDh0cGvWEL6x7YDHlDRsisHqBNmsvQLwIsVn3Rju42D1QLYX/86LSgsk7TEVg+kAXug+4j91wSGShOOzrCy+9NuMaHDa09HIagekDP8BBrJeU42CTdnDrsG8qvHi+gU8oZbgQgekCXbgNWI9hcJP1pcW/DuB9iXHo9xBFLksisPKBBr3BCayAD/eS2SCHtIuwCZfgRWWpQRGYLtACcPDqYdZDrQ3aQC+dF8AfEJyDP5QrelkZgWkCbcAehHbAzdUN1yZtAR2DjfopfCEty2VXBJY9MHMY/rhjLQyySRd9eAQmCfwLAxoUmEa2gGMAAAAASUVORK5C\"></td><td style='text-align:center;vertical-align:middle; margin: 0.5em;border:1px #90999f solid;border-collapse:collapse'><img style='max-width: 100px; max-height:100px;display:inline' src=\"data:image/png;base64,iVBORw0KGgoAAAANSUhEUgAAAHAAAABwCAAAAADji6uXAAAABGdBTUEAALGPC/xhBQAAAAJiS0dEAP+Hj8y/AAAAB3RJTUUH4gcJBwAv9u6obwAAAplJREFUaN7t2kuITmEcgPGpcRlSQkoumWHKxt2QcYlGZGFjoaSwVDYWFtOEsFGzoISMwoZCRrObxYzLzIJCkeSyEDOU3CI07rfnqe/b6cz3lTnnqP9vNzXmOeo97/mf9/sqfqesIoIRjGAEI/hXv/AJT3ADjxDBfAcNfEEf3uI9WrERm9GNCOYv+BPf8Q2vcRHHsQdnUYcZ2IVniGB+gi4OAw9xDV04hlWYjYXYhA04invwwiKYbdCIN/NjXMJJbEM9xqISgzABO+CN/gBuAi6qpP9ABAc+6D+4iUMwsgZzMQ5VGA6j4+GCOQc3hf4WXwTTC36Ef2QBRsFIZYE/L8N2uEnvxVWUGotgOkFvejfpBkzBPBgaijm4gK/4gB68QwTzFXTIdRN2w94JB9yVGI318GK8qHIiEUw3KDdjB6fncDM/gflws3ZQeorPBT8QwfwFi1xAxm+hCTPhAvICOnAZHiA4cLkZ+PsRzFewyIXjUHwQ01CDRViORrih38ZLJL3IRDC7oLzBX8EFswK1GINJcEPYijPwQCFpM4hgdkF5Yzs0ebM7LHsotBYOWT6g18EDWjeBCOYzWIy6oTtIvcF5TISHDA7KvtwkHSxEMPtgkS+uDsUOyy6aIViM64jg/xHshAezUzEMvrz6ML6PCOY76MvqKThAjcRgVMPFcxdJG3cEsw06GPXiMGahqsCDoyNwwCrl70Qwm6AxvxTQDAMetI/AUrTAC+nvJSaC2QQdmByUPFQ4gOnwoNaHrTf+abxAOYdDEUwv6MGdh3je1C4OX1ZcLA5Mq9EGX2xKOQyKYPpBH6I+TPdhCTw8mAw/vNyNK/CDknJCEUw36CB7B34ouQX70Q6/HOABnl++KnexRDDd4ECK4D/3BwbCBpdkDseKAAAAAElFTkSuQmCC\"></td></tr><tr><td style='text-align:center;vertical-align:middle; margin: 0.5em;border:1px #90999f solid;border-collapse:collapse'><img style='max-width: 100px; max-height:100px;display:inline' src=\"data:image/png;base64,iVBORw0KGgoAAAANSUhEUgAAAHAAAABwCAAAAADji6uXAAAABGdBTUEAALGPC/xhBQAAAAJiS0dEAP+Hj8y/AAAAB3RJTUUH4gcJBwAv9u6obwAAAh5JREFUaN7t2T1IlWEchnFBKDErbShRwcFaRIwiagjED1qCNhFxUSFckrY0NIdwqwYHAwcRFMRBxMElwgYRGgRxUMTSSLEoKvwgs7RMrxscgkSPR895znD/JhHOewm+z/993uckbcdZkoMOOuiggw466KCDDh5TcAPfsYavmMEk3mIIrXiCCTiYGEFdfAHD6MIzNOMhqlCCClQjH1mohf4IB8MG/+INKpG96wJOIQ1ncBJX0YQOdOMF3mMLDoYN6gP6x9fgEs4iGefRgEbcxmPM4Qc0FPYKORgmKMt4Bd0Id5CLdvw7uDUUdIMddC0HwwTlDz7hPq6jD78RyWcdTIygrKITedCCH4EGtB7O+y10BxMnqIX9EdooXcRN3MUgNLg1CCJZ/A6GC8omXkMbpiIUoBgt0ID/AgcTOyi/oAU/gHJoQ5wDDfaX0EbqSJsoB2Me/IlZ9OAWTiADDzAKPZj3GwAOhgvqItr49qMOl3EaejkthF5Gp3HQdRwME9RGeBHPcQPpSIF+1kHeFDQQIrmWg2GC36ADHx3i6UbJhA4axnDYlxoH4xvUYl+HDs7LcA5XoIMg3SjRvJQ6GN/gZ/RCMS10vYw+hb4QicmhgoPHFtRLyzz0UL2GVGhga7Or3x/mEMHBMEG9rDyCYvpipBT6gusDog05GN/gOOpxD23QQcIKIj1IdzB8cAnvoOGtA9hoB7WD4YKx5KCDDv5nB0NX3Nbe+DsrAAAAAElFTkSuQmCC\"></td><td style='text-align:center;vertical-align:middle; margin: 0.5em;border:1px #90999f solid;border-collapse:collapse'><img style='max-width: 100px; max-height:100px;display:inline' src=\"data:image/png;base64,iVBORw0KGgoAAAANSUhEUgAAAHAAAABwCAAAAADji6uXAAAABGdBTUEAALGPC/xhBQAAAAJiS0dEAP+Hj8y/AAAAB3RJTUUH4gcJBwAv9u6obwAAAm1JREFUaN7t2Vtoj2EcwPHlfJw5JCVnu9hKDpELIfeSw40UDdduJGsbSW1SDkkUF5KUUHKIpBApNVwwK0pzyAXJMefzvt/yXpn//Ju975t+n7u1er+rPe/zPP/fv+RnykoiGMEIRjCCEfyPgt/xAS9/+YgfiGC+gj70C97hFV7gHm7jCg6hAVtxHOfgz7U4ga+IYHZBF8EdHEM9lmEOhqE3uqIXhqIcS7ECY1GJzXiNCGYXfIy1MOCDe6ALumEIRmM4/F1/bMF+7MFeXMV7RDC7oC/7NkzFRExCH5RhHgwcxXrMRiPewg39OYy1tZlHML2gHuIUDmMfpmAM1uEWvuEZzuMJOnwAR/CfB+Uh6iH8AKsxDlW4BAMe0p9gvL1nRTCbYMKX+jLmYwI24BGS6N8+J4LZBX2wi+MGvEyNwlx46DbD30Uw38Ek6gK5iCVwE5iBGvgh5zMimO9gwgvSNWzCdHgor0ET2otGMB9B+aK3YBdmwQW0EW7ohTbzCOYn6OXKoZ6BI+gJhwm70dYwIYL5CbogfKCH7kk44PPDTV84cJiJm/jTxTiC2QWTS9R9GHKY4CVqMirgwMGFY9ChYATzFXShOCjygN2BhRgPh3pGBmAE3MAXodClOILpB425SXtpqoOLpB8czA7ENCyHh6+L6S4KPS+C6QY9ZB3wHcRKjER3OHA3vB1n4Gbtl2HJHxjBfAQdBF2HAyAvR6XwgB2ExXARFfNlcwTTDfqPv4AF8MPmYDhg90vLA/Dy6wfPYkIRTD94GqtQjZ04Cy9HvuDFDGQjmE1Qb/AUvtxeoFwkHQlFMP1gZ4lgBCP4m1YwTmmnvlNi9gAAAABJRU5ErkJg\"></td></tr><tr><td style='text-align:center;vertical-align:middle; margin: 0.5em;border:1px #90999f solid;border-collapse:collapse'><img style='max-width: 100px; max-height:100px;display:inline' src=\"data:image/png;base64,iVBORw0KGgoAAAANSUhEUgAAAHAAAABwCAAAAADji6uXAAAABGdBTUEAALGPC/xhBQAAAAJiS0dEAP+Hj8y/AAAAB3RJTUUH4gcJBwAv9u6obwAAAwFJREFUaN7t2lmoTVEcx/GbS2aZRYZkyJAQGSLxQIQoY4bkBaWkZChEhgceiFeRvBlfkEjGMpQpGUKZMz6YZy7fb91dup17zzWcs8/D//Mm9+zffvivtdf6r1X0M8+KIrDgA5/iFK7iPSKw8ANL8Bk+fDcGoA7m4zYisHADDXqHO9iLHdiEnmiPebiMr4jAwgv8gVc4hBUYjRGYiKnYgIv4gLK/jcD0Ag35Ah/yHEcwAZ3QGVOwBcdxHx9hYUVgYQR+xxNYJGswDPVQFcXogpXwb8oO9AhMJzD5qFocl7ATi9ELDWBIdRjaGAOxFRZWtpePwNwHfoMT8xVswyz0RTNUQ220wWBMhh/aZXDxm61gIjD3gQ5wJ961GIJ2aIgaKC7lZG0BGfAAj3EDr5Fpso7A/AZaMA8xAw5oB3lzGOpE7b9dJJ2DBVJSKltIBOYvUJ+wBwuwCH5Yp6EjWmM1zuIlfME/CYvA/ATKyfse/AC/wT646O2AfvAlXAi74XTTcg1vYWMh20tEYH4CEy6KHNi3sB2zMQg2DiZhJtzEzMFGHIbNoEwb0QhMJ/D34Bc4g80Yg27oCieDlrCgbCwsxVH4Mf/rDWkE/vfAJNQNziMcg4vkVbCQxqEtXCg3xVw4IdhYiMDCCUxYDD7ISf0Z7sKHj0RNuNlxQnBCz7RBjcD0AxPJIjhp9Ln5qYWkaGwSZfpdBBZOoMXjQsuGumFN4CFXf3hoUl6DIQLTD7RQXCRdgBueFnCzWh/DcRBO8uX9PgLTD3Sz4mLXxZKbVBu1dTEWB+CkXtHvIzC9QIvFhsN1LEcrWCyGjYKL30yXPSKwcAI9rLwJD7s8oHTR2wjTcRL+f2WeE4H5D7RY/JjaTPdQuQdsulfBUOyHjaTKNmojML+BbkY8ADmP9egNF7sWTB/sgpd4KhMUgekEuvE8gfHwkNLDLge7Fwe8NGdT9p8PSiIwJ4FOxDZl18HLjV4Q8KDLCwIL4WKpoiZsBKYf6ID3gqMD3UHeHUtwGn8bFIE5C/wFnXBs6S8mUi0AAAAASUVORK5C\"></td><td style='text-align:center;vertical-align:middle; margin: 0.5em;border:1px #90999f solid;border-collapse:collapse'><img style='max-width: 100px; max-height:100px;display:inline' src=\"data:image/png;base64,iVBORw0KGgoAAAANSUhEUgAAAHAAAABwCAAAAADji6uXAAAABGdBTUEAALGPC/xhBQAAAAJiS0dEAP+Hj8y/AAAAB3RJTUUH4gcJBwAv9u6obwAAAmRJREFUaN7t2k9oz2EcwPHVGubPkVoif9ZayYUpycG/xNJyMk27TUmR424OTrJWohzIgRMhfw9Tcpgm5rBdMBYihJph8595vw+7bfYzPL9n9Xldfmu173uH5/s8z/f5/kqGEiuJYAQjmCT4Ez/gZwTzDnrRT/iAQbxCD7rxAiP9TQTzCH7HRzzFBRzDaezALGzANUQwj6A37zcMwMAdnEUL9mA5VmE7/FyDg3iOCBY/aOw9buMEmrEZ1SjDZEzCJpzEeXjT92G0a0YwbfArHCSNWIiZmAZDc7ECxvfCiBO4E/rvrhnBtEEn6ftowmKsRCkqcAAdOI4rGCpQBNMG5ULrhb3xz2EpXGDvwYnBDdRbRDDfoLywG9672IgadKHQSASLHxyOvsZ+zMFRuKnydxGcGEG5uD7EWrgA16EVz+BEH8H8g/LBpg3e/G6qKrEPjzHWBiqCeQTlBrkTu2FwPvz5DSI4MYLD0V5sgw83HghdxGdEMP+gE/VLXMdWlMMHnEtw4xzBvINe0A2xC+96zMZULIKDJoL5Bt0Iv8NlbIGL7xR4w6/DYTyAC3QE8wwaOwUvPgNO2AtQDw8cnsCH1pFeUkawuEEHgQ+dR+CB7HQYmwc3TjfgQbwT+lixCKYPenDnIbsvtnx4cZL2ZvcFlwez/iNupgoJRTB90IX0DBpQBWO+JKmFE7gTQSEPoBFMH/wCv8DhoFgNF1oP85ZgJ67CF1t/MlAimDb4CL5c9rDAB5Rl2IVDuIXxDpYIpgvehF/k8AZ3kLjBbYcHs07m4x0sEUwXdFD0428uGsHiBv+3CP5zvwBWVOuXgUn1xwAAAABJRU5ErkJg\"></td></tr><tr><td style='text-align:center;vertical-align:middle; margin: 0.5em;border:1px #90999f solid;border-collapse:collapse'><img style='max-width: 100px; max-height:100px;display:inline' src=\"data:image/png;base64,iVBORw0KGgoAAAANSUhEUgAAAHAAAABwCAAAAADji6uXAAAABGdBTUEAALGPC/xhBQAAAAJiS0dEAP+Hj8y/AAAAB3RJTUUH4gcJBwAv9u6obwAAAq1JREFUaN7t2luITVEcgPFpxiVCEXKPSCSKB0Qe5C5EkSSXIkoKuT1IHsSDyCNFkhJCuT14UESIFCFEIeROhMad79PZdZqHM8dl9t7p/3uZmWZmf6dmrbXXXmcqfqSsIoIRjGAEI/jLtxq+F0Qwn8GveI0XuIsbuIMHuAk/vsRTvIMvIIL5CX7GJczHLMzEZIzFcHTFSCzGCizHWuzBQzzCB0Qwu+BH7ENvtEATNEQVKlGvoKqgMdpjDLZiGTbgGr4ggukHncTnsBDj0BfNUVnQCl3QCc1gcCCWYA0GoTWm4h4imH5QLsiXcRKb4ACqj85wwu/EZrggdMRqnMBhuAjMxUY8RwSzCeoTXsELTUQbLMJZvIXfuwAX8KN4Bm/aLt4OFr8ua+JHsM6Ceg8vOg894A35OJINcDVu4QnceBX/bvEmOYLZBb2If/ztGIJJcNI7aMq9RgSzDSbR+5iD/piGA7gNN7zlPJRGMNugF3QB2I/xcAM1Gm6YnPQu8hHMdzCJeoiwF1Ng1A3yNnjDrblwRzB/wSTqQdAhTIdRB5EbKDdPpRaACOYn6OBw8HhDNuiD6gxcQakFIILZBD1c8AbrxL6KU3Ci+8DpZqoBkofU8/BAKYLZBpNB4S86wU9jCxZgADzsaQkPhjwQaoTu8JDBn//tiR/Bfx70cN1JfREe+rjhLT7Yc5D4eU8Mhgd/K+EL+6M3SiL410ED1QVn4APKLrhJ6gYP2JvCQdIBQ7EeB+Hh0GO4YNcWi2DdBV2Qd8CQB6o+oPSBE9pFuS2GYRV8QQ6oNygnEMF0gscwAr3QDh7AOrEN+vls7IaHB6VurhHMLuhNcx18E7kfRmEClsKB5IGBh3jl/oNHBNMPyknsg4hvUvmgeQTX4QNmbQcFEcxHMC0RjGAEI/gfBn8CZU0USA7ZP40AAAAASUVORK5C\"></td><td style='text-align:center;vertical-align:middle; margin: 0.5em;border:1px #90999f solid;border-collapse:collapse'><img style='max-width: 100px; max-height:100px;display:inline' src=\"data:image/png;base64,iVBORw0KGgoAAAANSUhEUgAAAHAAAABwCAAAAADji6uXAAAABGdBTUEAALGPC/xhBQAAAAJiS0dEAP+Hj8y/AAAAB3RJTUUH4gcJBwAv9u6obwAAAtxJREFUaN7t2kmojWEcx/EbGXOVIWFh6JIhkQiJklIkGSIWMi+EsLAQMkSRlVhgR5EFikQyrRQyZFhQyJTZlXnm+n7LWzeLc84t9zlv+X82dzrv83sXz/h/bkVNYhURGIERGIH/UeAPfMV7PMVzvMZbvMMnfMNPRGD+Ag17jAvYh1VYiBkYj4lYj0O4hJO4gUf4jr/b88UiMG3gMyxBd7RBq1oq0RTt0AvDMAYL4Isdh+G+xAH49SYiMG2gA9tO0R8d0R7N0QCN0Bit4Qv4vX/rgIGYg5WYBH+2kx1BBKYNdOCfxyYsxlwMQjPYabphCqaiL+xEvoiNL8JMjMRwzMIDRGDaQL3BbVzFaayFA90ONB37cRY7MA5V2A5f1M87AZzBZdRuNwLTBbo5cuF0Qa3GMdgpOmMprsDPfMFFrIZhPvsLPpc9H4HlCcz4sA3fgxOBE/oIHEbWmKF2MDfLxdqLwPSBGQ82bo5WoB+W4Ql8oVLbiMDyBtrwRzjInbyHYC88sNYlNALLF5iFGuDi2xtOAptxHXaqCMx/YBb6AuuQHWA8+Di5u4GOwPwHygX5FiwWdYWTwG64ABcr9kVgPgJlgfYUJqMTPKAehQXcQpN5BOYn0EZf4SBGoScsKFjULfRcBOYn0AH+GS/hAdViXx9sgb+PwPwGGmQB9yG8JDkBC3hN0BLz4eVYBOYv0CA3wS68TtJugOfBwp5Fv4aw8LccTuARmJ9AJ2kXWzuJQRZqvbA0xE5S+YcDfzB2olB7EZgu0CALs+ewBxvgQtsFLeBA95LLjuLBdDbcDN9FBJY30MXzPrzk2IppsEE3u152ebHlJeYAjMZGuCH2YtmJoaaICKz/wDvYhgnoAQd0W1hAMGgoLM66AbZA+wGlFoUisP4D7TBuimzQg6adYizcGK3BLlyDh5hSikARmD7QC0Y3uf7DnJfOboYczC7AFti93KrrxUgEpg1MIQL/ud8ZLbNZd2Wu/QAAAABJRU5ErkJg\"></td></tr><tr><td style='text-align:center;vertical-align:middle; margin: 0.5em;border:1px #90999f solid;border-collapse:collapse'><img style='max-width: 100px; max-height:100px;display:inline' src=\"data:image/png;base64,iVBORw0KGgoAAAANSUhEUgAAAHAAAABwCAAAAADji6uXAAAABGdBTUEAALGPC/xhBQAAAAJiS0dEAP+Hj8y/AAAAB3RJTUUH4gcJBwAv9u6obwAAAwdJREFUaN7t2kmozWEYx/FbZM48RJGhiAwZNqLITDJkHkopoYRYKCxQihALspBMkWEniRTFQkQsTMmUzCQz13R9v3X/dZLuPbq85yyez+p2z/D7L553et5TUpZYSQRGYARWOfBHuW94g8e4g1v4jIe4i2fwfRFY+MDveIXrOIbVWIQ5GIUBGIbxOApfn43J8D17YXgEFibwCyyCw1iOseiAZqiPGqiONhiExfAhuqEtBmMzXiAC0wc6sC9gI4ajIxqjNhrBUP+uhZmwOHbAB5uPhdiEk/iECEwb+BPPMQEWRk1UL9ca4zAL/dAKe+DgtsBu4gacKJzQnyB3Eo/AtIEO4qxA6qIOhuIQzmA3puESSpH7+dJyTv653x2BaQL1ESsxCdPRDhbIKrzHB9zDcbiZMqQsDxGYLtDBeg5HYHEMQWc4yLPNsJPyazjR5xMWgWkD9Q5v4UI8ES7CW+HmKt+ACCxcoAPZYnDyvYgpcHPrZtdDqIfPr8h3wEdg+sBcboS2oTtGwwnbjZLBuQtvBBZvoIvxecyFC/FILIAPcQUuwL9vliKwuAL9Mg8rBzACHmicBPpiBTx0PkI+E0EEFiYwO5zYiLVx4AGmK1qiB2zm7YOvGxqBxReYcUG2WeumajtsABncHAOxAR5w/tRcj8DiCJQF5EbYYBdhm3hZ06E/DsIDawQWb6AFYUPhPs5iKdrDBqCHnfXwYSKw+AKzYrEJewrrMAN90AQ22206GFjRIhyBhQm0UGwwXMUWTIULbws0QFN0gf/fiYq+KwLTBxr2EhbKEvSEC249GOQC7IWzl82n4YNVqWgi8J8Geoh5il0YA5vsXpY0RCd46bUGNhncBBtW0QYqAtMGushehhfHTspOztXgAcZD6Vp44fUANnHzbbRH4P8LzAarhXIbFoONPJsHhnn57CbJBu0JeKHpglxZkURgukA/7A/g9mMeLBQnZwN7wcXVQ+g1VDZBR2BhAm3COgm7ufVHVL1hI3YZbPo4yG22/83lZASmDZSNuap+YQQmD/wFVFcriUR8TTAAAAAASUVORK5C\"></td><td style='text-align:center;vertical-align:middle; margin: 0.5em;border:1px #90999f solid;border-collapse:collapse'><img style='max-width: 100px; max-height:100px;display:inline' src=\"data:image/png;base64,iVBORw0KGgoAAAANSUhEUgAAAHAAAABwCAAAAADji6uXAAAABGdBTUEAALGPC/xhBQAAAAJiS0dEAP+Hj8y/AAAAB3RJTUUH4gcJBwAv9u6obwAAAyxJREFUaN7t2knIzVEYx/E3mTMTNsYMEZGpZIhkCBlCWJgKocwLwwYb4wYZUqQIWQiFIiGSoQwRkinzPGaev996b93eeqfFvf+7eD4b9Xrv+SnnPPec55y8f1mWF4E5F/gXv/ELP/ERT/EQL/AFEZi7gQY4+HmcxWVsxmgMxAKcwg9EYPKBqcnhh7/iJbZiPoZiBKahM2qgJabjBPz9CMxuoIMX/JkfegInxn4sRy80QVM4SWZhEhZiE87gPf4gArMX6F+6oL/hHe7jCg5jDaagP9qiJiqgDVZiH/y9S3gAC3nB8SMws4Eu7NQX6C0cxXpYhEeiNSqhLCrkq4w+uInHeI3PsECkT5YIzE6gi/siXMDd0RGt4OKug4ooD4tzAzREM0xFeoEuSgRmNtAFfxvzUBcGOEHKpDHMf8wojMV4bEAE5kagX7wu2iNwwC6wSNeDYS56f7YNN2BxOAAnmoeZCEw+MMUCfhwbsQJj4MKvj5kwyAnmYbOwIh2ByQbKSfAKd7AXLnYL9TLcxd80JQ2LwOwGysEMNnQG3ERNhg0EJ01pgiIwmcAUv1wt6MPRDatwDY/wFqWZOBGYTKAs6HswAD0xG6vhIdRDjAdYi3hx4RGYXKCDPYebXgu5BxwbeP3gofUqPIwWVxAiMLlA2XRwse/CRDSHm2MPOBOwE/dQ1MSJwGQDU6E2XW3geaiZg+r5emA7bAoWFhqByQemuLmyoF+HzaNyaASbuJ8QgbkdaIG2kJ+GhdsCYKDNviUwsLDPRmCygS56B/PiZC2GoQWqojZ6Yws+IAJzK9ANlIO4yHfAxp9NIieKTb9a8OL5GNwQFzVWBGY30CAH8LByCIvhl6yNPi9MnCztsQhuhNMfeURgsoEG2Xy1IeRAPvLwcYdFukq+xhiMdXAyfUdxYRGY+UD/071wPgebBePQAQ7uRteFblgneCF2ED4IKclkicDsBFqgT8KHAjbyfJhTDS5yi7R/tsNSXICHFr+USxoWgZkPfAY3QV3hwwDD3BxZoIfABvtueDFtYSjtJUkEZj7Qh8ReUPbFIPgwYC68uPRRowXhDUpzQRmBGQ/8D/QwdfobAqREAAAAAElFTkSuQmCC\"></td></tr><tr><td style='text-align:center;vertical-align:middle; margin: 0.5em;border:1px #90999f solid;border-collapse:collapse'><img style='max-width: 100px; max-height:100px;display:inline' src=\"data:image/png;base64,iVBORw0KGgoAAAANSUhEUgAAAHAAAABwCAAAAADji6uXAAAABGdBTUEAALGPC/xhBQAAAAJiS0dEAP+Hj8y/AAAAB3RJTUUH4gcJBwAv9u6obwAAAsdJREFUaN7t2luITVEcx/Ep19xSDAohScjkkqRMpBQhJMIDHoaIklIueeARkdySIvIiJZTILQ/kRblfklsilxQxiDEu32/tXac8zFHO3lv9Pw9z5qw5Z/92zdprrf1fu+pXxqoiMAIjMAIjMAL/w8CfaMQXfEfa3piw7Qds+wrbIrBYgR9xG5dwH1dxDU9wA3dxE+dwEX7mFV6iARGYf+AbbMIcLMISzMNEzEIdpmICJmEz9mAB5mInHiMNj8DsA+thUAe0Q1d0RAs0T7SH7wdjBTyZavTBdBzCc0RgPoHfsAujUIPWaAZfu6AzWqIn7Cy7sQ4rsQZHcBZ3EIH5BDqhOlAfxHrYYdpgJOZjNvphGV7gER7AQd3vOUG/wwdEYD6BcpHkl45jKIbhBF7jAlbhPPysiy5DXFCliy7b0oVWBOYTKAcAL2I7ixOwHcL2T3iItFM0JQLzC/QffwvTMBMueG0r/XsEFjtQLopXwwXvSbxHuUERWIxACwv7MBxe/MdQ7gUfgcUIdEK1wGDYAHgTehmeSEUu/Aj854Hy4HaWWrTCWjgBp4ukCCx+oAf2pmUremMEDsMTicDiBhrSkPgMJ96nmAxvUB0I7iEC8w1MN0QcoL1xqU9YLHcBfAWncBTe1FhUHweLe91xAKUbKRGYXaBBTqpnYGFgL7ZhP7ZgKewUUzAeYzAa/m5xz0A7zg64qRKB2Qd6AVtIdXHbH33RAxZeu6ET0gJ7W1jYsyBrm+8t1A6CJ+yAEIHZBzoY20GGwAN5QDc+XCC5+eGrB7aDOOH2wkBY4LPwPhaL4c1qU2ERWJlAfzixuqnoJsdCuBFpAag2MQPLsQEbsR0O1i6eLNBeh0W+CMwvUGkh/RmccE/DoroH9KEBHw5wkLBzvIWTsxOuJ1vujUwEVjawlJOyC6n0oR25wPrbQl4E5hdYSREYgRH4h9+R6yJIh31cxgAAAABJRU5ErkJg\"></td><td style='text-align:center;vertical-align:middle; margin: 0.5em;border:1px #90999f solid;border-collapse:collapse'><img style='max-width: 100px; max-height:100px;display:inline' src=\"data:image/png;base64,iVBORw0KGgoAAAANSUhEUgAAAHAAAABwCAAAAADji6uXAAAABGdBTUEAALGPC/xhBQAAAAJiS0dEAP+Hj8y/AAAAB3RJTUUH4gcJBwAv9u6obwAAAk9JREFUaN7t2UuITXEcwPEJ4xEikzzynKJYDAvy3lDKiiwsPEZEmvLIyopQItlQKFFCEWmaslAsaJqNqVkgUiy8xjuPMIMxfL91b92myR3TuP+Tfp/VdLtzvqfu+f//5/xP2a8SK4tgBCMYwQhGMIIRjGAEuxFsxWs04znu4Q7u4wk+4TOe4QGe4isimI1gGx5iP7ZgG7bCv2uwHquwERuwCX5+A0exE1fRggimCfrFBszBMAzFKIxGBQZiAIZgOCZgCTajEtPhyb5BBNMEHcC3sAbzMAb90AuGDFRhHMoxCydxDAdwHLfxAxFME3Tgv8IVXMIKjIQXz2w4sA9jO5bC0As057zFdxQeM4KlDaod32B8H2ZiEU7DAe3k4KJ8Ey7Ihf+njseLYOmDcuC+hIvvNKzDdXgS+e/8zCl2rAimCfrje0N8AS7Gq1GLj/DzroQimDaYj/qgshxGq3EGTfiCrkYjmC4oJ4BzWIixMLwLj/Cnh9AIZieo97gGH0rHYxL24C4KJ/MIZjfoBOCN02OchdEpOIgPiGD2g14YLrzeVDkRTEZfLIabSJ3d/EYwfdADu8gauYy9cKNhAdwwGoyVcAOh2OCPYGmC/vBuBhhxg70eR7AME2GgPwbBzb75cEPhHYqdfAT/fdAXHnU4DzfPvWGaixEoz/FCmYG1OARPyE2gbj2QRrDHg8byA7oPnJh7wwtkKhzwp9AIF+GOm3cRTB+UDycXsRs74GR9Ar648qWlE3SxhTaCaYOdMfI3G0ARzF6wp0QwghGM4H8Y/A2Ror7336C8TAAAAABJRU5ErkJg\"></td></tr><tr><td style='text-align:center;vertical-align:middle; margin: 0.5em;border:1px #90999f solid;border-collapse:collapse'><img style='max-width: 100px; max-height:100px;display:inline' src=\"data:image/png;base64,iVBORw0KGgoAAAANSUhEUgAAAHAAAABwCAAAAADji6uXAAAABGdBTUEAALGPC/xhBQAAAAJiS0dEAP+Hj8y/AAAAB3RJTUUH4gcJBwAv9u6obwAAAxlJREFUaN7t2lmoTVEcx3GZQyGZIkMks5SQTJnlBRFJIiHKI8KDMmcsLzwY8kBukgdJZChjxiQezHOReZ6H77f2rptyD7p3n6P+n5e77znnrt+pu/Za/73WKvcjY+UiMAIj8J8DvyfS6y/4nPiAp3iCV/iI9LMRmN9A/8jG3sDGbuIiTqAIW1GUWIdFWIINuIDzOIjLsI0IzDbQTvEcZxP7sBwzMQV90DXRCc3QAl6PxgJMx2CMx068QARmE2hn8Z98DCMxEN3RBjbaCJUSFVE+URO9YdBUDEDbxCxcQQRmE6iX2IGGqJGoijSgCnyvCWrB92x4FXZjC1ZjKRbiAErspRFY6oGfcBh2FhtujuowrDJ8zQ41CYPQAV5fxSPcx13cg9fv8Q0RmF2gN/81LMNwTIYdxLDGmAYn2OPYiDnYhl/b+AongvS1CMwuUBa152BD++HAXBt2EifUt7Az3MJJ3MaPHCIw20Bv1HewCH6G+XDyHYejSB9w7Bi5giIwP4GyQYMtih0EHLQtqpxQi9/QEVi4gSk7jw80PdEKPoxaaEXg/xNox3kAC1sDfTA9BYskO1QEFn6gLI5Pw0WD1hgFF4IOwQeVPxnEIzC/gfJmt6jqAQvjdpgNiyiLrt8tzEZg4QTa4ENswhDUQXvMxRm4wB6BhR0ob3AH8u0YiwZwUchC2QW8CCz8wDQ0XYTvDxdru8Av4eZKBBZ+oDf4a1hEjYCB9bEGJRVVEZjfQIthF4Ieww1JNyYnwsXbCmgKF+bdiI7A/AcWX1y1AHZh6DqOYB66wYC6cJOrHvrCYqqkLx2BZRuYHhS4gUvwkIALtHuxAhPQES7SurlVDU6+hvuAugd+sQjMNtCDNzbshzdjPWZgDNwgGYbOKB7itR2mF9xM3gU3ufyyOR9mIrDUAz2MsxhD0RI25sakDbuxXCGRTrAWSg7Ya+HmyR2kh65yhUVg2QV62MaHSxcIDHMw9qCHh3T6wUM4hqyEi0Buank4xAk5V0AEln1g8V8ceD305iTrRoiDtj99zQHCAupvNrYiMPvALERgqfsJKV1MKpovigsAAAAASUVORK5C\"></td><td style='text-align:center;vertical-align:middle; margin: 0.5em;border:1px #90999f solid;border-collapse:collapse'><img style='max-width: 100px; max-height:100px;display:inline' src=\"data:image/png;base64,iVBORw0KGgoAAAANSUhEUgAAAHAAAABwCAAAAADji6uXAAAABGdBTUEAALGPC/xhBQAAAAJiS0dEAP+Hj8y/AAAAB3RJTUUH4gcJBwAv9u6obwAAAlZJREFUaN7t2U1oz3EcwPFd5GllrSWnmZHLXJBiBzkZZZGDi8iVkBzcFslDO5AorVZD7p4LOzjIhgORg8yWCUseI0/zsHm/a7/bv///v4Pf/2t9XpfNVr+32vf33ff7WdVozqoiGMEIRjCCEZxgwRH8xjd8wo8xfi2CaQd/4h2e4j4u4wxu4hx2YB8GEMHKB10Y3/EWPvw0fNhmrEALmrEU27AaM7AR/YhgZYMujsfYj4WYjVrUYBqmw39PxWK04yi60AP/oxGsbHAYt7EbjZgDF8Qk+LEVe7AOW/EEn/EVbuKFnhnBfIP6gHs4DzfmTZiJNbiI53DTvgZjpZ4XwfyD+gMPRq9xEvVYiztwc3dxuUj8PIJpBjNfcBe+6LNwFh6CywlFMI2gD/bl9iX35ffwdBwPUOiXbQTTC2ZRLzIdmI9F2AUPW8UuohFMJ5gZwgkswVy0oQ+lohFMJ+iDX+EYlsHoQbxABP+PoJfVj3gIF4wX1OW4Cr8XwfSCI2M88LowPExdgi//BkyGi+cKPBhHMJ1gNkg35IbtAeoIHCKsxDzUoRoekLMLTgTTCHoRdcjjRdRh3QGsh4M+D8IO96bAjXsLHDy8QbFnRjCfoD/0bHPuxmH4ci+AC8ShbAMcym7HdThQ98I6WkIE8wl6uXyEU1gFh+uG/CXrUMjBrAvoFoy4WZc7WIhgPkEvJTvRBBeIw3UHCC6cQ7gBL6VuDOVEIph/cBCd2AsD/vHqAnrhRv4L4w1FMN+gL74Hpmd4iffwBTc0nmFsBCsX/JciGMEIRnACBv8CkcMr9oWQeXgAAAAASUVORK5C\"></td></tr></tbody></table>"
      ],
      "text/plain": [
       "8×2 Array{Array{ColorTypes.Gray{Float32},2},2}:\n",
       " ColorTypes.Gray{Float32}[Gray{Float32}(1.0) Gray{Float32}(1.0) … Gray{Float32}(1.0) Gray{Float32}(1.0); Gray{Float32}(1.0) Gray{Float32}(1.0) … Gray{Float32}(1.0) Gray{Float32}(1.0); … ; Gray{Float32}(1.0) Gray{Float32}(1.0) … Gray{Float32}(1.0) Gray{Float32}(1.0); Gray{Float32}(1.0) Gray{Float32}(1.0) … Gray{Float32}(1.0) Gray{Float32}(1.0)]  …  ColorTypes.Gray{Float32}[Gray{Float32}(1.0) Gray{Float32}(1.0) … Gray{Float32}(1.0) Gray{Float32}(1.0); Gray{Float32}(1.0) Gray{Float32}(1.0) … Gray{Float32}(1.0) Gray{Float32}(1.0); … ; Gray{Float32}(1.0) Gray{Float32}(1.0) … Gray{Float32}(1.0) Gray{Float32}(1.0); Gray{Float32}(1.0) Gray{Float32}(1.0) … Gray{Float32}(1.0) Gray{Float32}(1.0)]\n",
       " ColorTypes.Gray{Float32}[Gray{Float32}(1.0) Gray{Float32}(1.0) … Gray{Float32}(1.0) Gray{Float32}(1.0); Gray{Float32}(1.0) Gray{Float32}(1.0) … Gray{Float32}(1.0) Gray{Float32}(1.0); … ; Gray{Float32}(1.0) Gray{Float32}(1.0) … Gray{Float32}(1.0) Gray{Float32}(1.0); Gray{Float32}(1.0) Gray{Float32}(1.0) … Gray{Float32}(1.0) Gray{Float32}(1.0)]     ColorTypes.Gray{Float32}[Gray{Float32}(1.0) Gray{Float32}(1.0) … Gray{Float32}(1.0) Gray{Float32}(1.0); Gray{Float32}(1.0) Gray{Float32}(1.0) … Gray{Float32}(1.0) Gray{Float32}(1.0); … ; Gray{Float32}(1.0) Gray{Float32}(1.0) … Gray{Float32}(1.0) Gray{Float32}(1.0); Gray{Float32}(1.0) Gray{Float32}(1.0) … Gray{Float32}(1.0) Gray{Float32}(1.0)]\n",
       " ColorTypes.Gray{Float32}[Gray{Float32}(1.0) Gray{Float32}(1.0) … Gray{Float32}(1.0) Gray{Float32}(1.0); Gray{Float32}(1.0) Gray{Float32}(1.0) … Gray{Float32}(1.0) Gray{Float32}(1.0); … ; Gray{Float32}(1.0) Gray{Float32}(1.0) … Gray{Float32}(1.0) Gray{Float32}(1.0); Gray{Float32}(1.0) Gray{Float32}(1.0) … Gray{Float32}(1.0) Gray{Float32}(1.0)]     ColorTypes.Gray{Float32}[Gray{Float32}(1.0) Gray{Float32}(1.0) … Gray{Float32}(1.0) Gray{Float32}(1.0); Gray{Float32}(1.0) Gray{Float32}(1.0) … Gray{Float32}(1.0) Gray{Float32}(1.0); … ; Gray{Float32}(1.0) Gray{Float32}(1.0) … Gray{Float32}(1.0) Gray{Float32}(1.0); Gray{Float32}(1.0) Gray{Float32}(1.0) … Gray{Float32}(1.0) Gray{Float32}(1.0)]\n",
       " ColorTypes.Gray{Float32}[Gray{Float32}(1.0) Gray{Float32}(1.0) … Gray{Float32}(1.0) Gray{Float32}(1.0); Gray{Float32}(1.0) Gray{Float32}(1.0) … Gray{Float32}(1.0) Gray{Float32}(1.0); … ; Gray{Float32}(1.0) Gray{Float32}(1.0) … Gray{Float32}(1.0) Gray{Float32}(1.0); Gray{Float32}(1.0) Gray{Float32}(1.0) … Gray{Float32}(1.0) Gray{Float32}(1.0)]     ColorTypes.Gray{Float32}[Gray{Float32}(1.0) Gray{Float32}(1.0) … Gray{Float32}(1.0) Gray{Float32}(1.0); Gray{Float32}(1.0) Gray{Float32}(1.0) … Gray{Float32}(1.0) Gray{Float32}(1.0); … ; Gray{Float32}(1.0) Gray{Float32}(1.0) … Gray{Float32}(1.0) Gray{Float32}(1.0); Gray{Float32}(1.0) Gray{Float32}(1.0) … Gray{Float32}(1.0) Gray{Float32}(1.0)]\n",
       " ColorTypes.Gray{Float32}[Gray{Float32}(1.0) Gray{Float32}(1.0) … Gray{Float32}(1.0) Gray{Float32}(1.0); Gray{Float32}(1.0) Gray{Float32}(1.0) … Gray{Float32}(1.0) Gray{Float32}(1.0); … ; Gray{Float32}(1.0) Gray{Float32}(1.0) … Gray{Float32}(1.0) Gray{Float32}(1.0); Gray{Float32}(1.0) Gray{Float32}(1.0) … Gray{Float32}(1.0) Gray{Float32}(1.0)]     ColorTypes.Gray{Float32}[Gray{Float32}(1.0) Gray{Float32}(1.0) … Gray{Float32}(1.0) Gray{Float32}(1.0); Gray{Float32}(1.0) Gray{Float32}(1.0) … Gray{Float32}(1.0) Gray{Float32}(1.0); … ; Gray{Float32}(1.0) Gray{Float32}(1.0) … Gray{Float32}(1.0) Gray{Float32}(1.0); Gray{Float32}(1.0) Gray{Float32}(1.0) … Gray{Float32}(1.0) Gray{Float32}(1.0)]\n",
       " ColorTypes.Gray{Float32}[Gray{Float32}(1.0) Gray{Float32}(1.0) … Gray{Float32}(1.0) Gray{Float32}(1.0); Gray{Float32}(1.0) Gray{Float32}(1.0) … Gray{Float32}(1.0) Gray{Float32}(1.0); … ; Gray{Float32}(1.0) Gray{Float32}(1.0) … Gray{Float32}(1.0) Gray{Float32}(1.0); Gray{Float32}(1.0) Gray{Float32}(1.0) … Gray{Float32}(1.0) Gray{Float32}(1.0)]  …  ColorTypes.Gray{Float32}[Gray{Float32}(1.0) Gray{Float32}(1.0) … Gray{Float32}(1.0) Gray{Float32}(1.0); Gray{Float32}(1.0) Gray{Float32}(1.0) … Gray{Float32}(1.0) Gray{Float32}(1.0); … ; Gray{Float32}(1.0) Gray{Float32}(1.0) … Gray{Float32}(1.0) Gray{Float32}(1.0); Gray{Float32}(1.0) Gray{Float32}(1.0) … Gray{Float32}(1.0) Gray{Float32}(1.0)]\n",
       " ColorTypes.Gray{Float32}[Gray{Float32}(1.0) Gray{Float32}(1.0) … Gray{Float32}(1.0) Gray{Float32}(1.0); Gray{Float32}(1.0) Gray{Float32}(1.0) … Gray{Float32}(1.0) Gray{Float32}(1.0); … ; Gray{Float32}(1.0) Gray{Float32}(1.0) … Gray{Float32}(1.0) Gray{Float32}(1.0); Gray{Float32}(1.0) Gray{Float32}(1.0) … Gray{Float32}(1.0) Gray{Float32}(1.0)]     ColorTypes.Gray{Float32}[Gray{Float32}(1.0) Gray{Float32}(1.0) … Gray{Float32}(1.0) Gray{Float32}(1.0); Gray{Float32}(1.0) Gray{Float32}(1.0) … Gray{Float32}(1.0) Gray{Float32}(1.0); … ; Gray{Float32}(1.0) Gray{Float32}(1.0) … Gray{Float32}(1.0) Gray{Float32}(1.0); Gray{Float32}(1.0) Gray{Float32}(1.0) … Gray{Float32}(1.0) Gray{Float32}(1.0)]\n",
       " ColorTypes.Gray{Float32}[Gray{Float32}(1.0) Gray{Float32}(1.0) … Gray{Float32}(1.0) Gray{Float32}(1.0); Gray{Float32}(1.0) Gray{Float32}(1.0) … Gray{Float32}(1.0) Gray{Float32}(1.0); … ; Gray{Float32}(1.0) Gray{Float32}(1.0) … Gray{Float32}(1.0) Gray{Float32}(1.0); Gray{Float32}(1.0) Gray{Float32}(1.0) … Gray{Float32}(1.0) Gray{Float32}(1.0)]     ColorTypes.Gray{Float32}[Gray{Float32}(1.0) Gray{Float32}(1.0) … Gray{Float32}(1.0) Gray{Float32}(1.0); Gray{Float32}(1.0) Gray{Float32}(1.0) … Gray{Float32}(1.0) Gray{Float32}(1.0); … ; Gray{Float32}(1.0) Gray{Float32}(1.0) … Gray{Float32}(1.0) Gray{Float32}(1.0); Gray{Float32}(1.0) Gray{Float32}(1.0) … Gray{Float32}(1.0) Gray{Float32}(1.0)]"
      ]
     },
     "execution_count": 17,
     "metadata": {},
     "output_type": "execute_result"
    }
   ],
   "source": [
    "[MNIST.convert2image(reshape(augment(train_x[:,:,:,1], pl), (28, 28))) for j in 1:8, i in 1:2]"
   ]
  },
  {
   "cell_type": "markdown",
   "metadata": {},
   "source": [
    "As we can see, we can achieve a wide range of effects, from\n",
    "more subtle to more pronounced. The important part is that all\n",
    "examples are still clearly representative of the true label."
   ]
  },
  {
   "cell_type": "markdown",
   "metadata": {},
   "source": [
    "Next, we have to adapt the function `train_baseline` to make\n",
    "use of our augmentation pipeline. To integrate Augmentor\n",
    "efficiently, there are three necessary changes we have to\n",
    "make."
   ]
  },
  {
   "cell_type": "markdown",
   "metadata": {},
   "source": [
    "1. Preallocate a buffer with the same size and element type\n",
    "   that each batch has.\n",
    "\n",
    "   ```\n",
    "   batch_x_aug = zeros(Float32, 28, 28, 1, batchsize)\n",
    "   ```"
   ]
  },
  {
   "cell_type": "markdown",
   "metadata": {},
   "source": [
    "2. Add a call to [`augmentbatch!`](@ref) in the inner loop of\n",
    "   the batch iterator using our pipeline and buffer.\n",
    "\n",
    "   ```\n",
    "   augmentbatch!(batch_x_aug, batch_x_org, pl)\n",
    "   ```"
   ]
  },
  {
   "cell_type": "markdown",
   "metadata": {},
   "source": [
    "3. Replace `batch_x_org` with `batch_x_aug` in the constructor\n",
    "   of `KnetArray`.\n",
    "\n",
    "   ```\n",
    "   batch_x = KnetArray{Float32}(batch_x_aug)\n",
    "   ```"
   ]
  },
  {
   "cell_type": "markdown",
   "metadata": {},
   "source": [
    "Applying these changes to our `train_baseline` function\n",
    "will give us something similar to the following function.\n",
    "Note how all the other parts of the function remain exactly\n",
    "the same as before."
   ]
  },
  {
   "cell_type": "code",
   "execution_count": 18,
   "metadata": {},
   "outputs": [
    {
     "data": {
      "text/plain": [
       "train_augmented (generic function with 1 method)"
      ]
     },
     "execution_count": 18,
     "metadata": {},
     "output_type": "execute_result"
    }
   ],
   "source": [
    "function train_augmented(; epochs = 500, batchsize = 100, lr = .03)\n",
    "    w = weights()\n",
    "    log = MVHistory()\n",
    "    batch_x_aug = zeros(Float32, size(train_x,1), size(train_x,2), 1, batchsize)\n",
    "    for epoch in 1:epochs\n",
    "        for (batch_x_cpu, batch_y) in eachbatch((train_x ,train_y), batchsize)\n",
    "            augmentbatch!(CPUThreads(), batch_x_aug, batch_x_cpu, pl)\n",
    "            batch_x = KnetArray{Float32}(batch_x_aug)\n",
    "            g = costgrad(w, batch_x, batch_y)\n",
    "            Knet.update!(w, g, lr = lr)\n",
    "        end\n",
    "\n",
    "        if (epoch % 5) == 0\n",
    "            train = acc(w, train_x, train_y)\n",
    "            test  = acc(w, test_x,  test_y)\n",
    "            @trace log epoch train test\n",
    "            msg = \"epoch \" * lpad(epoch,4) * \": train accuracy \" * rpad(round(train,3),5,\"0\") * \", test accuracy \" * rpad(round(test,3),5,\"0\")\n",
    "            println(msg)\n",
    "        end\n",
    "    end\n",
    "    log\n",
    "end"
   ]
  },
  {
   "cell_type": "markdown",
   "metadata": {},
   "source": [
    "You may have noticed in the code above that we also pass a\n",
    "`CPUThreads()` as the first argument to [`augmentbatch!`](@ref).\n",
    "This instructs Augmentor to process the images of the batch in\n",
    "parallel using multi-threading. For this to work properly you\n",
    "will need to set the environment variable `JULIA_NUM_THREADS`\n",
    "to the number of threads you wish to use. You can check how\n",
    "many threads are used with the function `Threads.nthreads()`"
   ]
  },
  {
   "cell_type": "code",
   "execution_count": 19,
   "metadata": {},
   "outputs": [
    {
     "name": "stdout",
     "output_type": "stream",
     "text": [
      "Threads.nthreads() = 10\n"
     ]
    }
   ],
   "source": [
    "@show Threads.nthreads();"
   ]
  },
  {
   "cell_type": "markdown",
   "metadata": {},
   "source": [
    "Now that all pieces are in place, let us train our network\n",
    "once more. We will use the same parameters except that now\n",
    "instead of the original training images we will be using\n",
    "randomly augmented images. This will cause every epoch to be\n",
    "different."
   ]
  },
  {
   "cell_type": "code",
   "execution_count": 20,
   "metadata": {},
   "outputs": [
    {
     "name": "stdout",
     "output_type": "stream",
     "text": [
      "epoch    5: train accuracy 0.520, test accuracy 0.462\n",
      "epoch   10: train accuracy 0.658, test accuracy 0.564\n",
      "epoch   15: train accuracy 0.732, test accuracy 0.678\n",
      "epoch   20: train accuracy 0.786, test accuracy 0.728\n",
      "epoch   25: train accuracy 0.828, test accuracy 0.778\n",
      "epoch   30: train accuracy 0.884, test accuracy 0.846\n",
      "epoch   35: train accuracy 0.870, test accuracy 0.822\n",
      "epoch   40: train accuracy 0.916, test accuracy 0.873\n",
      "epoch   45: train accuracy 0.912, test accuracy 0.866\n",
      "epoch   50: train accuracy 0.914, test accuracy 0.876\n",
      "epoch   55: train accuracy 0.936, test accuracy 0.887\n",
      "epoch   60: train accuracy 0.944, test accuracy 0.910\n",
      "epoch   65: train accuracy 0.940, test accuracy 0.901\n",
      "epoch   70: train accuracy 0.932, test accuracy 0.888\n",
      "epoch   75: train accuracy 0.952, test accuracy 0.910\n",
      "epoch   80: train accuracy 0.952, test accuracy 0.905\n",
      "epoch   85: train accuracy 0.968, test accuracy 0.929\n",
      "epoch   90: train accuracy 0.972, test accuracy 0.927\n",
      "epoch   95: train accuracy 0.968, test accuracy 0.922\n",
      "epoch  100: train accuracy 0.972, test accuracy 0.933\n",
      "epoch  105: train accuracy 0.980, test accuracy 0.934\n",
      "epoch  110: train accuracy 0.978, test accuracy 0.924\n",
      "epoch  115: train accuracy 0.976, test accuracy 0.919\n",
      "epoch  120: train accuracy 0.986, test accuracy 0.939\n",
      "epoch  125: train accuracy 0.982, test accuracy 0.934\n",
      "epoch  130: train accuracy 0.988, test accuracy 0.933\n",
      "epoch  135: train accuracy 0.992, test accuracy 0.935\n",
      "epoch  140: train accuracy 0.994, test accuracy 0.942\n",
      "epoch  145: train accuracy 0.994, test accuracy 0.946\n",
      "epoch  150: train accuracy 0.994, test accuracy 0.946\n",
      "epoch  155: train accuracy 0.994, test accuracy 0.945\n",
      "epoch  160: train accuracy 0.992, test accuracy 0.943\n",
      "epoch  165: train accuracy 0.998, test accuracy 0.946\n",
      "epoch  170: train accuracy 0.998, test accuracy 0.945\n",
      "epoch  175: train accuracy 0.998, test accuracy 0.946\n",
      "epoch  180: train accuracy 0.998, test accuracy 0.950\n",
      "epoch  185: train accuracy 0.996, test accuracy 0.952\n",
      "epoch  190: train accuracy 0.998, test accuracy 0.947\n",
      "epoch  195: train accuracy 0.996, test accuracy 0.952\n",
      "epoch  200: train accuracy 0.998, test accuracy 0.950\n",
      " 24.805563 seconds (39.13 M allocations: 21.675 GiB, 9.24% gc time)\n"
     ]
    }
   ],
   "source": [
    "train_augmented(epochs=1) # warm-up\n",
    "augmented_log = @time train_augmented(epochs=200);"
   ]
  },
  {
   "cell_type": "markdown",
   "metadata": {},
   "source": [
    "As we can see, our network reaches far better results on our\n",
    "testset than our baseline network did. However, we can also\n",
    "see that the training took quite a bit longer than before.\n",
    "This difference generally decreases as the complexity of the\n",
    "utilized neural network increases. Yet another way to improve\n",
    "performance (aside from simplifying the augmentation pipeline)\n",
    "would be to increase the number of available threads."
   ]
  },
  {
   "cell_type": "markdown",
   "metadata": {},
   "source": [
    "## Improving Performance"
   ]
  },
  {
   "cell_type": "markdown",
   "metadata": {},
   "source": [
    "One of the most effective ways to make the most out of the\n",
    "available resources is to augment the next (couple) mini-batch\n",
    "while the current minibatch is being processed on the GPU.\n",
    "We can do this via julia's build in parallel computing\n",
    "capabilities"
   ]
  },
  {
   "cell_type": "markdown",
   "metadata": {},
   "source": [
    "First we need a worker process that will be responsible for\n",
    "augmenting our dataset each epoch. This worker also needs\n",
    "access to a couple of our packages"
   ]
  },
  {
   "cell_type": "code",
   "execution_count": 21,
   "metadata": {},
   "outputs": [],
   "source": [
    "# addprocs(1)\n",
    "# @everywhere using Augmentor, MLDataUtils"
   ]
  },
  {
   "cell_type": "markdown",
   "metadata": {},
   "source": [
    "Next, we replace the inner `eachbatch` loop with a more\n",
    "complicated version using a `RemoteChannel` to exchange and\n",
    "queue the augmented data."
   ]
  },
  {
   "cell_type": "code",
   "execution_count": 22,
   "metadata": {},
   "outputs": [
    {
     "data": {
      "text/plain": [
       "async_train_augmented (generic function with 1 method)"
      ]
     },
     "execution_count": 22,
     "metadata": {},
     "output_type": "execute_result"
    }
   ],
   "source": [
    "function async_train_augmented(; epochs = 500, batchsize = 100, lr = .03)\n",
    "    w = weights()\n",
    "    log = MVHistory()\n",
    "    for epoch in 1:epochs\n",
    "        @sync begin\n",
    "            local_ch = Channel{Tuple}(4) # prepare up to 4 minibatches in adavnce\n",
    "            remote_ch = RemoteChannel(()->local_ch)\n",
    "            @spawn begin\n",
    "                # This block is executed on the worker process\n",
    "                batch_x_aug = zeros(Float32, size(train_x,1), size(train_x,2), 1, batchsize)\n",
    "                for (batch_x_cpu, batch_y) in eachbatch((train_x ,train_y), batchsize)\n",
    "                    # we are still using multithreading\n",
    "                    augmentbatch!(CPUThreads(), batch_x_aug, batch_x_cpu, pl)\n",
    "                    put!(remote_ch, (batch_x_aug, batch_y))\n",
    "                end\n",
    "                close(remote_ch)\n",
    "            end\n",
    "            @async begin\n",
    "                # This block is executed on the main process\n",
    "                for (batch_x_aug, batch_y) in local_ch\n",
    "                    batch_x = KnetArray{Float32}(batch_x_aug)\n",
    "                    g = costgrad(w, batch_x, batch_y)\n",
    "                    Knet.update!(w, g, lr = lr)\n",
    "                end\n",
    "            end\n",
    "        end\n",
    "\n",
    "        if (epoch % 5) == 0\n",
    "            train = acc(w, train_x, train_y)\n",
    "            test  = acc(w, test_x,  test_y)\n",
    "            @trace log epoch train test\n",
    "            msg = \"epoch \" * lpad(epoch,4) * \": train accuracy \" * rpad(round(train,3),5,\"0\") * \", test accuracy \" * rpad(round(test,3),5,\"0\")\n",
    "            println(msg)\n",
    "        end\n",
    "    end\n",
    "    log\n",
    "end"
   ]
  },
  {
   "cell_type": "markdown",
   "metadata": {},
   "source": [
    "Note that for this toy example the overhead of this approach\n",
    "is greater than the benefit."
   ]
  },
  {
   "cell_type": "markdown",
   "metadata": {},
   "source": [
    "## Visualizing the Results"
   ]
  },
  {
   "cell_type": "markdown",
   "metadata": {},
   "source": [
    "Before we end this tutorial, let us make use the\n",
    "[Plots.jl](https://github.com/JuliaPlots/Plots.jl) package to\n",
    "visualize and discuss the recorded training curves.\n",
    "We will plot the accuracy curves of both networks side by side\n",
    "in order to get a good feeling about their differences."
   ]
  },
  {
   "cell_type": "code",
   "execution_count": 23,
   "metadata": {},
   "outputs": [
    {
     "data": {
      "text/plain": [
       "Plots.PyPlotBackend()"
      ]
     },
     "execution_count": 23,
     "metadata": {},
     "output_type": "execute_result"
    }
   ],
   "source": [
    "using Plots\n",
    "pyplot()"
   ]
  },
  {
   "cell_type": "code",
   "execution_count": 24,
   "metadata": {},
   "outputs": [
    {
     "data": {
      "image/png": "[encoded data removed]"
     },
     "execution_count": 24,
     "metadata": {},
     "output_type": "execute_result"
    }
   ],
   "source": [
    "plt = plot(\n",
    "    plot(baseline_log,  title=\"Baseline\",  ylim=(.5,1)),\n",
    "    plot(augmented_log, title=\"Augmented\", ylim=(.5,1)),\n",
    "    size = (900, 400),\n",
    "    xlab = \"Epoch\",\n",
    "    ylab = \"Accuracy\",\n",
    "    markersize = 1\n",
    ")\n",
    "plt"
   ]
  },
  {
   "cell_type": "markdown",
   "metadata": {},
   "source": [
    "Note how the accuracy on the (unaltered) training set\n",
    "increases faster for the baseline network than for the\n",
    "augmented one. This is to be expected, since our augmented\n",
    "network doesn't actually use the unaltered images for\n",
    "training, and thus has not actually seen them. Given this\n",
    "information, it is worth pointing out explicitly how the\n",
    "accuracy on training set is still greater than on the test set\n",
    "for the augmented network as well. This is also not a\n",
    "surprise, given that the augmented images are likely more\n",
    "similar to their original ones than to the test images."
   ]
  },
  {
   "cell_type": "markdown",
   "metadata": {},
   "source": [
    "For the baseline network, the accuracy on the test set\n",
    "plateaus quite quickly (around 90%). For the augmented network\n",
    "on the other hand, it the accuracy keeps increasing for quite\n",
    "a while longer."
   ]
  },
  {
   "cell_type": "markdown",
   "metadata": {},
   "source": [
    "## References\n",
    "\n",
    "**MNIST1998**: LeCun, Yan, Corinna Cortes, Christopher J.C. Burges. [\"The MNIST database of handwritten digits\"](http://yann.lecun.com/exdb/mnist/) Website. 1998."
   ]
  },
  {
   "cell_type": "code",
   "execution_count": 25,
   "metadata": {},
   "outputs": [],
   "source": []
  }
 ],
 "metadata": {
  "kernelspec": {
   "display_name": "Julia 0.6.4",
   "language": "julia",
   "name": "julia-0.6"
  },
  "language_info": {
   "file_extension": ".jl",
   "mimetype": "application/julia",
   "name": "julia",
   "version": "0.6.4"
  }
 },
 "nbformat": 4,
 "nbformat_minor": 2
}
