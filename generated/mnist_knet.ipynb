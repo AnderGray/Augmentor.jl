{
 "cells": [
  {
   "cell_type": "markdown",
   "metadata": {},
   "source": [
    "# MNIST: Knet.jl CNN"
   ]
  },
  {
   "cell_type": "markdown",
   "metadata": {},
   "source": [
    "In this tutorial we will adapt the\n",
    "[MNIST example](http://denizyuret.github.io/Knet.jl/latest/tutorial.html#Convolutional-neural-network-1)\n",
    "from [Knet.jl](https://github.com/denizyuret/Knet.jl)\n",
    "to utilize a custom augmentation pipeline.\n",
    "In order to showcase the effect that image augmentation can\n",
    "have on a neural network's ability to generalize, we will\n",
    "limit the training set to just the first 500 images (of the\n",
    "available 60,000!). For more information on the dataset see\n",
    "[MNIST1998]."
   ]
  },
  {
   "cell_type": "markdown",
   "metadata": {},
   "source": [
    "## Preparing the MNIST dataset"
   ]
  },
  {
   "cell_type": "markdown",
   "metadata": {},
   "source": [
    "In order to access, prepare, and visualize the MNIST images we\n",
    "employ the help of three additional Julia packages. In the\n",
    "interest of time and space we will not go into great detail\n",
    "about their functionality. Feel free to click on their\n",
    "respective names to find out more information about the\n",
    "utility they can provide.\n",
    "\n",
    "- [MLDatasets.jl](https://github.com/JuliaML/MLDatasets.jl)\n",
    "  has an MNIST submodule that offers a convenience interface\n",
    "  to read the MNIST database.\n",
    "\n",
    "- [Images.jl](https://github.com/JuliaImages/Images.jl) will\n",
    "  provide us with the necessary tools to process and display\n",
    "  the image data in Julia / Juypter.\n",
    "\n",
    "- [MLDataUtils.jl](https://github.com/JuliaML/MLDataUtils.jl)\n",
    "  implements a variety of functions to convert and partition\n",
    "  Machine Learning datasets. This will help us prepare the\n",
    "  MNIST data to be used with Knet.jl."
   ]
  },
  {
   "cell_type": "code",
   "execution_count": 1,
   "metadata": {},
   "outputs": [],
   "source": [
    "using Images, MLDatasets, MLDataUtils\n",
    "srand(42);"
   ]
  },
  {
   "cell_type": "markdown",
   "metadata": {},
   "source": [
    "As you may have seen previously in the\n",
    "[elastic distortions tutorial](@ref elastic), the function\n",
    "`MNIST.traintensor` returns the MNIST training images\n",
    "corresponding to the given indices as a multi-dimensional\n",
    "array. These images are stored in the native horizontal-major\n",
    "memory layout as a single array. Because we specify that\n",
    "the `eltype` of that array should be `Float32`, all the\n",
    "individual values are scaled to be between `0.0` and `1.0`.\n",
    "Also note, how the observations are laid out along the last\n",
    "array dimension"
   ]
  },
  {
   "cell_type": "code",
   "execution_count": 2,
   "metadata": {},
   "outputs": [
    {
     "name": "stdout",
     "output_type": "stream",
     "text": [
      "summary(MNIST.traintensor(Float32, 1:500)) = \"28×28×500 Array{Float32,3}\"\n"
     ]
    }
   ],
   "source": [
    "@show summary(MNIST.traintensor(Float32, 1:500));"
   ]
  },
  {
   "cell_type": "markdown",
   "metadata": {},
   "source": [
    "The corresponding label of each image is stored as an integer\n",
    "value between `0` and `9`. That means that if the label has\n",
    "the value `3`, then the corresponding image is known to be a\n",
    "handwritten \"3\". To show a more concrete example, the\n",
    "following code reveals that the first training image denotes a\n",
    "\"5\" and the second training image a \"0\" (etc)."
   ]
  },
  {
   "cell_type": "code",
   "execution_count": 3,
   "metadata": {},
   "outputs": [
    {
     "name": "stdout",
     "output_type": "stream",
     "text": [
      "summary(MNIST.trainlabels(1:500)) = \"500-element Array{Int64,1}\"\n",
      "First eight labels: 5, 0, 4, 1, 9, 2, 1, 3\n"
     ]
    }
   ],
   "source": [
    "@show summary(MNIST.trainlabels(1:500))\n",
    "println(\"First eight labels: \", join(MNIST.trainlabels(1:8),\", \"))"
   ]
  },
  {
   "cell_type": "markdown",
   "metadata": {},
   "source": [
    "For Knet we will require a slightly format for the images\n",
    "and also the labels. More specifically, we add an additional\n",
    "singleton dimension of length 1 to our image array. Think of\n",
    "this as our single color channel (because MNIST images are gray).\n",
    "Additionally we will convert our labels to proper 1-based indices.\n",
    "This is because some functions provided by Knet expect the labels\n",
    "to be in this format. We will do all this by creating a little\n",
    "utility function that we will name `prepare_mnist`."
   ]
  },
  {
   "cell_type": "code",
   "execution_count": 4,
   "metadata": {},
   "outputs": [
    {
     "data": {
      "text/plain": [
       "prepare_mnist"
      ]
     },
     "execution_count": 4,
     "metadata": {},
     "output_type": "execute_result"
    }
   ],
   "source": [
    "\"\"\"\n",
    "    prepare_mnist(images, labels) -> (X, Y)\n",
    "\n",
    "Change the dimension layout x1×x2×N of the given array\n",
    "`images` to x1×x2×1×N and return the result as `X`.\n",
    "The given integer vector `labels` is transformed into\n",
    "an integer vector denoting 1-based class indices.\n",
    "\"\"\"\n",
    "function prepare_mnist(images, labels)\n",
    "    X = reshape(images, (28, 28, 1, :))\n",
    "    Y = convertlabel(LabelEnc.Indices{Int8}, labels, 0:9)\n",
    "    X, Y\n",
    "end"
   ]
  },
  {
   "cell_type": "markdown",
   "metadata": {},
   "source": [
    "With `prepare_mnist` defined, we can now use it in conjunction\n",
    "with the functions in the `MLDatasets.MNIST` sub-module to load\n",
    "and prepare our training set. Recall that for this tutorial only\n",
    "the first 500 images of the training set will be used."
   ]
  },
  {
   "cell_type": "code",
   "execution_count": 5,
   "metadata": {},
   "outputs": [
    {
     "name": "stdout",
     "output_type": "stream",
     "text": [
      "summary(train_x) = \"28×28×1×500 Array{Float32,4}\"\n",
      "summary(train_y) = \"500-element Array{Int8,1}\"\n"
     ]
    },
    {
     "data": {
      "text/html": [
       "<table><tbody><tr><td style='text-align:center;vertical-align:middle; margin: 0.5em;border:1px #90999f solid;border-collapse:collapse'><img style='max-width: 100px; max-height:100px;display:inline' src=\"data:image/png;base64,iVBORw0KGgoAAAANSUhEUgAAAHAAAABwCAAAAADji6uXAAAABGdBTUEAALGPC/xhBQAAAAJiS0dEAP+Hj8y/AAAAB3RJTUUH4gMTFxYImX4amAAAAZxJREFUaN7t2r0rRXEcx/Hb9ZASsioGmVhkUMqiKDaFwWSQQVZFpNgsJv4ByoiMBhmZFBkUi/K0SEomT+9POXW7nTqXuudBn9dyb93ueS/3d87vfM/NfcUs56CDDjrooIMOOpiC4DueCqxgDsO4wzhyqMEyHEw+eIMrbGIKY8iHaMEI9L4OvTiCg8kGT9GIfIRKbGHnxzEuEXZMB+MNamG3ISzSgyFogdcj6sfnYDJB2cMkNhDEuvAKfX4BnRAcTG9QXvAJHVjBbZQacDAdwcAsFOzDBxzMXlCLXTFFD+Bg9oJyDV1wtfGdwDp0UnAwO0HZRQOCC/Iq7uFgdoJyjgEE0WncwsHsBOUZuhGtgKL9cDBbwUA1FNRr2DDIwXQGz7CEQQSLvxNRG2QHkw9qaDeDJhQOiqqgQVHU9x1MLviANbSieNDXjX2UchwH4w8+4hDtCBvSalP8mwGDg/EFNWAfRdiQXQ+yNLh9Q6khB+MLnkAPHptRHKrFAoIB+184WP6g/gRQGOnAPBahm5e/hhyML1huDjrooIP/MPgNqMMZJ8UsgboAAAAASUVORK5C\"></td><td style='text-align:center;vertical-align:middle; margin: 0.5em;border:1px #90999f solid;border-collapse:collapse'><img style='max-width: 100px; max-height:100px;display:inline' src=\"data:image/png;base64,iVBORw0KGgoAAAANSUhEUgAAAHAAAABwCAAAAADji6uXAAAABGdBTUEAALGPC/xhBQAAAAJiS0dEAP+Hj8y/AAAAB3RJTUUH4gMTFxYImX4amAAAAbZJREFUaN7t2L0rRWEAx/HbVUopL4PyEkabSRELZWOxkCi7GEwGMrHJn2DGohiMSpEiVkbKIJsU0/X9yVMnOc5JOedc/T7LvZ2ee75neM45z31KlYyVHHTQQQcddPCfBS8whzL0eQkHqyd4hSbURDTDweoInqMDmiwKNaIF+n6KNzhYzOALTtAFnTwE+7CHcGwdDhYzOIPojR6Cso0R6NgUHCxeUC9bPazLn4axCX1vxzX2UcIkHCxW8OvLdgzPOMQGHhHG6gLqEbegcjD74A2moRPpJdsLPajjxoeHgX7jYP7BV4xDJ2jAEZ5wj6TgEBzMP6hFbbjZj1FJwcFiBQcQXrZpYh8nhH4zCAfzDR6gDpoAW0gbDJNmHg7mG9yFftiKBySF9KBfhoKj0CLLwWIEu5EmtgKN74Re1HFjHcw+uIifYvqjo0Wvxk4g6eIczC64A93EmgRxY7SpEDYaZpEUczDbYJg0tViAJscddFx/cHQhCunBoM28MzhYzGDQhh5Ej2mxu4o0IQezD2rjoB/fbahrgyjpoe5g/kHRAngN0eASbvGbmIPZB/+Cgw466KCDDhYw+A5wdjn4H8GI2wAAAABJRU5ErkJg\"></td><td style='text-align:center;vertical-align:middle; margin: 0.5em;border:1px #90999f solid;border-collapse:collapse'><img style='max-width: 100px; max-height:100px;display:inline' src=\"data:image/png;base64,iVBORw0KGgoAAAANSUhEUgAAAHAAAABwCAAAAADji6uXAAAABGdBTUEAALGPC/xhBQAAAAJiS0dEAP+Hj8y/AAAAB3RJTUUH4gMTFxYImX4amAAAAVVJREFUaN7t2b8uBFEYhvFBRCJCIvGnlS1UEq07kGBLFYlKoqLanmY3cQUKEYmGwhVoNHRCRY1CJ1qJ8LzdFjvYEztfjry/bmf22+cUZzIz2eKzYoWDDjrooIMOOuhgBsELTOEBDsYEL3GO1GATS3AwLriLNaTEPrCJOdzDwZhgDanBZ/RhHWXfcbD3wRmkBheh4B4cjAneYRipwQUoeA0HY4K6eWogJfiCaWj+EQ7GBDegAYW7DWqRmp3FKxyMDeqF5DeRN5xiBUPQ7Am+m3GwmuAZ2o/f4gb72MYWRjGCCSxDnwdQ9gDsYDVB/VA/xjHfRse0kEGMQTfaHWiDPOEdk9D5nzaag70NSgv1Dg5R9nB0AC1IL0IOxgdTrELBBhzMO3gFBx10MC5Y4BgO5hvUpjmCg3kH9SeJg/kGdeE7mG9QF3ylm8bBPw92w0EHHXTwHwa/AAmpEmV9KgHnAAAAAElFTkSuQmCC\"></td><td style='text-align:center;vertical-align:middle; margin: 0.5em;border:1px #90999f solid;border-collapse:collapse'><img style='max-width: 100px; max-height:100px;display:inline' src=\"data:image/png;base64,iVBORw0KGgoAAAANSUhEUgAAAHAAAABwCAAAAADji6uXAAAABGdBTUEAALGPC/xhBQAAAAJiS0dEAP+Hj8y/AAAAB3RJTUUH4gMTFxYImX4amAAAASxJREFUaN7t2aFuwlAUh/GmqViCQMDU3LAoLMkEhgfYC0wg5vcCIzwEkmBm9wBk2ZY9AHYO3EhmliCQ7DtJb1IFtCHrPcv/8ye/irb39jbZ/3GJQIECBQoUKFBgxOCEUkrojQT6AmfUoIwMfSeBvsBHyvIE+gMX1CLDurSmHQn0AX7QFYUbZk7HZgTGBY4ozRvQKTMC4wG/ySC7Wdr0QgL9gCvqUQDHdOqswDjAKYUN05B+SKAf8JmaZOANbajMvMB6QXvg00J3VPaCBdYL3lNW6JME+gGXdE0Bu6WymMB6wUsKWJ+2JNAXGDa91hNVwQTWB9pCaz9AwsJrB3gC/YD20rYDPIMu6IEOHcAKjA98pfDx2aGqkECBAquDX2SHBwL9gudOoECBAv8h+AtjF6KlHhmAugAAAABJRU5ErkJg\"></td><td style='text-align:center;vertical-align:middle; margin: 0.5em;border:1px #90999f solid;border-collapse:collapse'><img style='max-width: 100px; max-height:100px;display:inline' src=\"data:image/png;base64,iVBORw0KGgoAAAANSUhEUgAAAHAAAABwCAAAAADji6uXAAAABGdBTUEAALGPC/xhBQAAAAJiS0dEAP+Hj8y/AAAAB3RJTUUH4gMTFxYImX4amAAAAXRJREFUaN7t2bErRWEcxvGTa5BiUgzYyGI1WMSCyYQ/AmUxKWVTyqDMBosRk0lZMCuTySQWiSgGvk/dX51F54RO77k9n+ne897e7x1+nXPPudlXxTIHHXTQQQcddNBBBx100EFcYQmjaGvawSF0XOsOphvUpr1oQKEpKNxo0rFFOJhe8BMX6II2nsQZPvCCWURwGw6mF9xHDMYMnhFrB4i1QTzCwbSC69AwaMMV5GMygggeoWg/B6sNbkKxDszhDbH2jmN0Qp/ZQFHMwWqDT4iLrWL5tVuMIYZlAa9wMK3gA2LDO+j9FsbRjTgZtOMEZWIOVhvU0PQhfhw1cgbQD73WZ8rGHKw2KLq57IGCw1jDDe4xAQVX4WC6wZ+cI4O+yC4crF/wFHEyKLp5cTDNoDhY72DrT2nrB/fgYL2D14gLsIP1DMoQNDSXcLCewXjwrj+8dIPjYP2Cetg+DUXn8eeHew5WHozoMhQtOzgOphX8DQf/3Tdbyyamcn4srAAAAABJRU5ErkJg\"></td><td style='text-align:center;vertical-align:middle; margin: 0.5em;border:1px #90999f solid;border-collapse:collapse'><img style='max-width: 100px; max-height:100px;display:inline' src=\"data:image/png;base64,iVBORw0KGgoAAAANSUhEUgAAAHAAAABwCAAAAADji6uXAAAABGdBTUEAALGPC/xhBQAAAAJiS0dEAP+Hj8y/AAAAB3RJTUUH4gMTFxYImX4amAAAAbtJREFUaN7t2T8o5nEAx/Enlutw2SiKUiyKdNdNZuXPopTBZGFRNiZyuhvOdAOLQRmwMjCxYGCwKiQUoXCnlDvKvT/1fOvpVzyl/Pqqz2t5/nx/v+97+f17vk/mKWUZBx100EEHHXTQwciCtzjDNL7jHg6+j+Ah+tGAwhwDcDDu4C76UAQFClCFeuhzGbSNg/EFf0OhUuQeJHU4wh7Cd+twML7gDAoTanECjTsYf7AVYcIadOMYYXwJDsYdPMUoNnGB5LgeohyMO5hPLxx8X8Ff+AH9gNHrFyjWjEc4GGfwDttoR0FWBuF9BQ6Qbx4H0w/+wxYqoQOjGJq8CyUIJ3w5fuIvHIwnqJ0XESb9hg1o7ArJRQVZwEsLRA6mF9TBMowwURtuoLFLfIZO+A8YQSfCti1YxU6Wg+kHdRMdgnb+hElcQ2O6gH+FxrSosAZ9/wcr6IH2CfFqOJh+cAraWBfneegkX4Yu2GFhbwxhUSFpDm1ZWnBwMP2gbqaa9COaoIMj9wI9jnwPvM9xMJ1gI5I31g5MYB8PeE3MwfSC+iNyFoPQD85z5HvAdTCu4Fty0EEHHXTQQQcdfAP/Af1Wl1ghsDN/AAAAAElFTkSuQmCC\"></td><td style='text-align:center;vertical-align:middle; margin: 0.5em;border:1px #90999f solid;border-collapse:collapse'><img style='max-width: 100px; max-height:100px;display:inline' src=\"data:image/png;base64,iVBORw0KGgoAAAANSUhEUgAAAHAAAABwCAAAAADji6uXAAAABGdBTUEAALGPC/xhBQAAAAJiS0dEAP+Hj8y/AAAAB3RJTUUH4gMTFxYImX4amAAAANNJREFUaN7t2rEJAkEURdFh7cASBDOLsAQTmzDQHrSDtRexETNBE2MTc30PHNhUg9W33NvAST5/mNktz54rgICAgICAAwDXqqiZuirALPCixqpRI3VUgFngQy0UYC7oNgowF7yruQLMBW9qoiq4U58ewoC/Bd1WVdDtFWAW6ADzQV9mmneAmeDwpxQQEBCw3+W9VIB5YHdo3EkBZoEr1QX9WASYBbYKMBt0U1UXuJf5WQFmgf5gUofGKGAeeFCA2aAf1/3zAGAu+G2AgICAgIB/CL4AdSaCtfJhq3UAAAAASUVORK5C\"></td><td style='text-align:center;vertical-align:middle; margin: 0.5em;border:1px #90999f solid;border-collapse:collapse'><img style='max-width: 100px; max-height:100px;display:inline' src=\"data:image/png;base64,iVBORw0KGgoAAAANSUhEUgAAAHAAAABwCAAAAADji6uXAAAABGdBTUEAALGPC/xhBQAAAAJiS0dEAP+Hj8y/AAAAB3RJTUUH4gMTFxYImX4amAAAAYJJREFUaN7t2T8vBFEUhvGJbRQkJBqFoNEoSKgVNBoS8QkoVCsUGrYTn0AhFCoSIUpahegkCjQqQqGS0Phb8JxkJ9nczMxuY+aQ99dtZnOeLWZ2794bfecsUlBBBRVUUEEFFSw4eINrbCBCU4IpfEBBX0GLLKEbXSjBhpdSzOAFCvoJTiAcmhU0Z1DQT3Ad8aBOVLCCStUoFPQd/MJ91SPC6/aQx18IZhrvUNBPsJ4DtCAOLiDtvQr6C+4hfPDTfnwV9BXcRT+aURsbwisU9BW8xSpGaoSLqHZs4QFZsxTMP3iJXoSLpDA4iUY+vILFBHsQbh4kbSocQ0F/QXOHNZzjKrCI+MZR0G8wyzMU/NvBfSjoM/iJI2QtarfRCgX9BU8xDhtim0Hh9SfsoA1xzDYVTqCgj+AA4kFlLAeGUbsQHsMh6sUULCaYxoK24T6HNzQSUzC/4AVmkRTqwyDmYX90Gg0pmG/Q2EHHJjpgITv8sNdJByUK+gz+FgUVVFDBfxj8AZOdD6lRVWPoAAAAAElFTkSuQmCC\"></td></tr></tbody></table>"
      ],
      "text/plain": [
       "8-element Array{Array{ColorTypes.Gray{Float32},2},1}:\n",
       " ColorTypes.Gray{Float32}[Gray{Float32}(1.0) Gray{Float32}(1.0) … Gray{Float32}(1.0) Gray{Float32}(1.0); Gray{Float32}(1.0) Gray{Float32}(1.0) … Gray{Float32}(1.0) Gray{Float32}(1.0); … ; Gray{Float32}(1.0) Gray{Float32}(1.0) … Gray{Float32}(1.0) Gray{Float32}(1.0); Gray{Float32}(1.0) Gray{Float32}(1.0) … Gray{Float32}(1.0) Gray{Float32}(1.0)]\n",
       " ColorTypes.Gray{Float32}[Gray{Float32}(1.0) Gray{Float32}(1.0) … Gray{Float32}(1.0) Gray{Float32}(1.0); Gray{Float32}(1.0) Gray{Float32}(1.0) … Gray{Float32}(1.0) Gray{Float32}(1.0); … ; Gray{Float32}(1.0) Gray{Float32}(1.0) … Gray{Float32}(1.0) Gray{Float32}(1.0); Gray{Float32}(1.0) Gray{Float32}(1.0) … Gray{Float32}(1.0) Gray{Float32}(1.0)]\n",
       " ColorTypes.Gray{Float32}[Gray{Float32}(1.0) Gray{Float32}(1.0) … Gray{Float32}(1.0) Gray{Float32}(1.0); Gray{Float32}(1.0) Gray{Float32}(1.0) … Gray{Float32}(1.0) Gray{Float32}(1.0); … ; Gray{Float32}(1.0) Gray{Float32}(1.0) … Gray{Float32}(1.0) Gray{Float32}(1.0); Gray{Float32}(1.0) Gray{Float32}(1.0) … Gray{Float32}(1.0) Gray{Float32}(1.0)]\n",
       " ColorTypes.Gray{Float32}[Gray{Float32}(1.0) Gray{Float32}(1.0) … Gray{Float32}(1.0) Gray{Float32}(1.0); Gray{Float32}(1.0) Gray{Float32}(1.0) … Gray{Float32}(1.0) Gray{Float32}(1.0); … ; Gray{Float32}(1.0) Gray{Float32}(1.0) … Gray{Float32}(1.0) Gray{Float32}(1.0); Gray{Float32}(1.0) Gray{Float32}(1.0) … Gray{Float32}(1.0) Gray{Float32}(1.0)]\n",
       " ColorTypes.Gray{Float32}[Gray{Float32}(1.0) Gray{Float32}(1.0) … Gray{Float32}(1.0) Gray{Float32}(1.0); Gray{Float32}(1.0) Gray{Float32}(1.0) … Gray{Float32}(1.0) Gray{Float32}(1.0); … ; Gray{Float32}(1.0) Gray{Float32}(1.0) … Gray{Float32}(1.0) Gray{Float32}(1.0); Gray{Float32}(1.0) Gray{Float32}(1.0) … Gray{Float32}(1.0) Gray{Float32}(1.0)]\n",
       " ColorTypes.Gray{Float32}[Gray{Float32}(1.0) Gray{Float32}(1.0) … Gray{Float32}(1.0) Gray{Float32}(1.0); Gray{Float32}(1.0) Gray{Float32}(1.0) … Gray{Float32}(1.0) Gray{Float32}(1.0); … ; Gray{Float32}(1.0) Gray{Float32}(1.0) … Gray{Float32}(1.0) Gray{Float32}(1.0); Gray{Float32}(1.0) Gray{Float32}(1.0) … Gray{Float32}(1.0) Gray{Float32}(1.0)]\n",
       " ColorTypes.Gray{Float32}[Gray{Float32}(1.0) Gray{Float32}(1.0) … Gray{Float32}(1.0) Gray{Float32}(1.0); Gray{Float32}(1.0) Gray{Float32}(1.0) … Gray{Float32}(1.0) Gray{Float32}(1.0); … ; Gray{Float32}(1.0) Gray{Float32}(1.0) … Gray{Float32}(1.0) Gray{Float32}(1.0); Gray{Float32}(1.0) Gray{Float32}(1.0) … Gray{Float32}(1.0) Gray{Float32}(1.0)]\n",
       " ColorTypes.Gray{Float32}[Gray{Float32}(1.0) Gray{Float32}(1.0) … Gray{Float32}(1.0) Gray{Float32}(1.0); Gray{Float32}(1.0) Gray{Float32}(1.0) … Gray{Float32}(1.0) Gray{Float32}(1.0); … ; Gray{Float32}(1.0) Gray{Float32}(1.0) … Gray{Float32}(1.0) Gray{Float32}(1.0); Gray{Float32}(1.0) Gray{Float32}(1.0) … Gray{Float32}(1.0) Gray{Float32}(1.0)]"
      ]
     },
     "execution_count": 5,
     "metadata": {},
     "output_type": "execute_result"
    }
   ],
   "source": [
    "train_x, train_y = prepare_mnist(MNIST.traintensor(Float32, 1:500), MNIST.trainlabels(1:500))\n",
    "@show summary(train_x) summary(train_y);\n",
    "[MNIST.convert2image(train_x[:,:,1,i]) for i in 1:8]"
   ]
  },
  {
   "cell_type": "markdown",
   "metadata": {},
   "source": [
    "Similarly, we use `MNIST.testtensor` and `MNIST.testlabels`\n",
    "to load the full MNIST test set. We will utilize that data to\n",
    "measure how well the network is able to generalize with and\n",
    "without augmentation."
   ]
  },
  {
   "cell_type": "code",
   "execution_count": 6,
   "metadata": {},
   "outputs": [
    {
     "name": "stdout",
     "output_type": "stream",
     "text": [
      "summary(test_x) = \"28×28×1×10000 Array{Float32,4}\"\n",
      "summary(test_y) = \"10000-element Array{Int8,1}\"\n"
     ]
    },
    {
     "data": {
      "text/html": [
       "<table><tbody><tr><td style='text-align:center;vertical-align:middle; margin: 0.5em;border:1px #90999f solid;border-collapse:collapse'><img style='max-width: 100px; max-height:100px;display:inline' src=\"data:image/png;base64,iVBORw0KGgoAAAANSUhEUgAAAHAAAABwCAAAAADji6uXAAAABGdBTUEAALGPC/xhBQAAAAJiS0dEAP+Hj8y/AAAAB3RJTUUH4gMTFxYJ7nkqDgAAAUxJREFUaN7t2T1Lw1AYhuEofkxapOAgRVE6lyIu3YvgD3AQHDq6uzkILk46+ivaSQSXOvi5OHYoooOrUoUuDiLq/Q6BUiRtoZjz0udaQuAc7gwnCcmJfv5ZpKCCCiqooIIKKqigggqOVLCKdVSwg2s8QkE/wWWMdZlFqYdN3EPB9IN1HOMcdtxGDhZeROeFTGIB8fkuFEw/+Jd3XKCNeocbvCILC55AwTCDSWoYRwFvUNBX8AXziGDhpLEKhhnch93wc2hAQV9Be3BPwYKX6DVewfCCe7BYGZ9Q0FfwA6uYxi36maNgWMED2ILZQL9zFAwneIYJZHAHBX0FW1iBLZgtDDJXwfSDX1iDxfJ4goK+gg+If+KdYtD5CqYbfMYSLHaEbyjoKxh/uJikzRAFwwxeYQYK+g0eIo7Zi7cJBX0Gi0jaCFEw3OCwKDh0v1maUDW5byRtAAAAAElFTkSuQmCC\"></td><td style='text-align:center;vertical-align:middle; margin: 0.5em;border:1px #90999f solid;border-collapse:collapse'><img style='max-width: 100px; max-height:100px;display:inline' src=\"data:image/png;base64,iVBORw0KGgoAAAANSUhEUgAAAHAAAABwCAAAAADji6uXAAAABGdBTUEAALGPC/xhBQAAAAJiS0dEAP+Hj8y/AAAAB3RJTUUH4gMTFxYJ7nkqDgAAAWxJREFUaN7t2T9KA0EYhvEl+Cc5gOIFbAQFq2DrBUQRxc7CJiAYtbISJBbGW3gDtRcrG1uxEEFtbNRKLLTR54P9YFliYGN0ZvH9NYGZ3X2aGTLZJJ9/LFFQQQUV/MfBQ+xhEUmqgSMoGH9wCZVvjOMBCsYbzMcmsIk5+Ng+FIwzeIlB2EMncYdX2Nw7pmFz21AwzuAJBmCxR2TnbKEMw4JnUDDOoLnHC/LjU/CNr2DcwU7aqMJiM3iDguUJnsJjYzhHkfsVDB/chW/4DRS9X8GwQTv81mCxVfiBSsFyBO0QNQKLjeIWRWMKhg3aF61v+C30ElMwXPAY/sNlFr1seAXDBZ9RRz8WjIJhgjvw2AJ+smAUDBP0DW/yL4cULF/wCk85H7Dr7NPHbtDIWIe/eFAwbLCTZTSxgm7XtaBgmOA8KgUMoZqyP8raqQsoGCZoDtDKyC+QNfjcNbo9S8EwwX5SUEEFFVRQQQUV/AVfk8/GSO0xe44AAAAASUVORK5C\"></td><td style='text-align:center;vertical-align:middle; margin: 0.5em;border:1px #90999f solid;border-collapse:collapse'><img style='max-width: 100px; max-height:100px;display:inline' src=\"data:image/png;base64,iVBORw0KGgoAAAANSUhEUgAAAHAAAABwCAAAAADji6uXAAAABGdBTUEAALGPC/xhBQAAAAJiS0dEAP+Hj8y/AAAAB3RJTUUH4gMTFxYJ7nkqDgAAAP5JREFUaN7t17EKQVEcx/ErNmWwGCw2ZmVQ3sFiMhkZsdgVuycwKjHYlQwewGYyegFSUnz/b+De5N6/ft/5nD5nOOd0TvD6cYFAgQIFChT4h+CJUjQjgT7BBaVpRQJ9giPK0afjBSYLPFKWeiTQJ7gku7h3JNAnWKMSXUmgP/BMtmHKFGaewOSAczKwQQJ9gkMycEMC/YEHylOV7iTQHzimgNoUdq7AZIAtskO/JoH+wAsVqEJRFiswfnBKtmE6JNAn2CUD+yTQJ1gkA7ck0B+4pwwJ9AsOyDD7xDxJoC/wRvZwMnBCUTCB8YIPqlOTDBfoD/xWAgUKFChQYALBN0FqaMNwssMBAAAAAElFTkSuQmCC\"></td><td style='text-align:center;vertical-align:middle; margin: 0.5em;border:1px #90999f solid;border-collapse:collapse'><img style='max-width: 100px; max-height:100px;display:inline' src=\"data:image/png;base64,iVBORw0KGgoAAAANSUhEUgAAAHAAAABwCAAAAADji6uXAAAABGdBTUEAALGPC/xhBQAAAAJiS0dEAP+Hj8y/AAAAB3RJTUUH4gMTFxYJ7nkqDgAAAX5JREFUaN7t2TFKxEAAheGwpLQVFCsVvYEKdmolVlrYeAJBEBG29QaCIh7EQi3V2hOIoLbaamOz/g92YAjJxiJmJ/K+cjbk3yLJTCbZoGWZgw466KCDDv6D4Cf20cMSXuFgt4JPyIcUvYCD3Qm+YxUOdjN4hjXkEQV3cY57OJh2UCfPC+KxeTzCwTSDm8jQK5jELOIxB9ML3mEOxYvmAFfQDX+CMH4JB9MJvmAK8U2uG7yPL4TjtBiehn6fwCm+4eD4g8VF7wY+UHasJuH4jz3DwbSCy3hD1bG6cFbgYHrB306sekhokyFM1HtwcPzBY4SLpi7YyI3vYOPBRdQFtdGghVY8UWsyrnpIOJhe8BDxAlmL5gdUHe9gWkG9qCoQB7cw6pwOthtcQJiAr4dmEMbKNhoGNRxsN6gXy/hlJi8o22hwMK1gvFlQFdTv69CiKd5ocDCNoGjz7ghVwcY/djn4Z98Pb7ANhXZwC42N2mhwMK1gUxx00EEHHXQwweAPj37H6mOlHRsAAAAASUVORK5C\"></td><td style='text-align:center;vertical-align:middle; margin: 0.5em;border:1px #90999f solid;border-collapse:collapse'><img style='max-width: 100px; max-height:100px;display:inline' src=\"data:image/png;base64,iVBORw0KGgoAAAANSUhEUgAAAHAAAABwCAAAAADji6uXAAAABGdBTUEAALGPC/xhBQAAAAJiS0dEAP+Hj8y/AAAAB3RJTUUH4gMTFxYJ7nkqDgAAAWpJREFUaN7t2C9LBFEUhvFhZwVxMRk0uc2kFotBEMxW/4DgF7CZtLgmm7BBs939BAp+AUGDwSrYFARhxaBhfQ7sBZlw71hmz8j7i7uHeSbcmbt7s0HFMgUVVFBBBRVUUMERBu/QRmzmCs9Q0GfwBDOIzexhCwr6C35jBangBRbwAQV9Ba+R4xCxuVPY3CsU9BN8wBTm0EdsdhUK+gvay3gct4jNvSFDAwr6CfYwiXmkbmwfFlvDFxT0EdyEPcjniM09YRpjuEFsVsHqgu+YhQUHCbYx21yZxaVgdcEX2EV2kLpIWFzbUNBP8BNLWIRtrrEbawydQUE/QRMWwzIuC45gC8r+qOZDqZe8gtUHH7GBCeQFtuHaIUMT4TNbaAr6Cgb36BWE73YRgmWupeBogjHHCEE7gFCwfsEOwgZcZl5Bf8Hfi0bBegYPYLEWFKxn0H5M2SF8FwrWM7iO1IGegr6Df6Wgggoq+A+DPyetH0UqU2yjAAAAAElFTkSuQmCC\"></td><td style='text-align:center;vertical-align:middle; margin: 0.5em;border:1px #90999f solid;border-collapse:collapse'><img style='max-width: 100px; max-height:100px;display:inline' src=\"data:image/png;base64,iVBORw0KGgoAAAANSUhEUgAAAHAAAABwCAAAAADji6uXAAAABGdBTUEAALGPC/xhBQAAAAJiS0dEAP+Hj8y/AAAAB3RJTUUH4gMTFxYJ7nkqDgAAARZJREFUaN7t2jFqAmEQhmGXINYJpLPwAFrFziPYpA6BoOAhRA9hId7BRsTCC4iNTQ4RUiW1iIToO+CA5a6IuyPf2w9P88/C7v6lw40rCRQoUKBAgQIFFhBcUEJj+iOBscBfqlJyaksCY4EzcuyN/klgHHBHTXJwSWnmBBYH3JBjZUo7J7A4YJ8cbJPAeGCLDKvQJwmMBa7JD8wTZZkVWAxwRA4OSGA88J0Me6QvEhgLXNEDGVijrPMC8wfn5EvfI4HxwPOltxcagbFAe1D70jcoKyYwf3BKvvRDEhgPnJBhz/RDAuOBr2TgC+1JYCzQgDoZaB+FLsEE5gvaD+UOGfhBAuOB1jd1yS4JCIwJXiOBAgUKvEPwCL6Qb7RFSoE/AAAAAElFTkSuQmCC\"></td><td style='text-align:center;vertical-align:middle; margin: 0.5em;border:1px #90999f solid;border-collapse:collapse'><img style='max-width: 100px; max-height:100px;display:inline' src=\"data:image/png;base64,iVBORw0KGgoAAAANSUhEUgAAAHAAAABwCAAAAADji6uXAAAABGdBTUEAALGPC/xhBQAAAAJiS0dEAP+Hj8y/AAAAB3RJTUUH4gMTFxYJ7nkqDgAAAYlJREFUaN7t2L8rxGEAx/FzZVIGKcrILtksfuxKBoP8iGIy6oqUP8NgMDAZbWcwmJmYRGLyoyRJsfD+lG9d1/F8L93z/Z4+r+3unuf7/g7P3T3fp/AZWcFBBx100EEHHXQwo+A9hrGGa4TGP+MAH3Aw++ATOtGKKaSJ9aIdF3Aw2+AjxlDECkIxWYXGb6PW5w7GDZZR/PaAUOwcLZjECxzMNqgf7GUotoM0sW4ouIufxjkYLziDAgbxilBwC4ot4LdxDsYLzkILZhy1NkOJN2ygAxofujEH4wdlBBMoV1nHEJJxaTZZDsYLnqAHycX0pS5WqXyvD5dwMD9B0YPMEUrQxbtQqnCGJDiHUMzB+MGQK+hGBpBmo+xg/oLz0II5RNo5DuYnuA8tGB0AncLB5gvqoUXBadQzz8H8BHWA0IZ6FoyD+QkmBwjaVNU718F8BPuhP95F6LUOY2/gYPMFl7AHHQA29GHGwYYFk0MFhW/hYPMEjzGKTdzhHWnnOpiP4F846KCDDv7D4BdJCaWG1fnkAQAAAABJRU5ErkJg\"></td><td style='text-align:center;vertical-align:middle; margin: 0.5em;border:1px #90999f solid;border-collapse:collapse'><img style='max-width: 100px; max-height:100px;display:inline' src=\"data:image/png;base64,iVBORw0KGgoAAAANSUhEUgAAAHAAAABwCAAAAADji6uXAAAABGdBTUEAALGPC/xhBQAAAAJiS0dEAP+Hj8y/AAAAB3RJTUUH4gMTFxYJ7nkqDgAAAW9JREFUaN7t2r8rhVEcx/GHTBT5VRYxkNFmlIWyKRPDLaWUgWyMdv+CTYkFsz9CBkkMZFBikCJKvD/l1BO6bqnrfOvz2p5z676X0/me+3SL9zorHHTQQQcddNBBBx108I/BByxiFK9wMFZwC31o/HQHB+MEr9GFBqTgDO7hYIzgMhQpB6UdG3iBg/kGL9EKBYYxgXK0BzdwMN/gPrRZNHT1/IxNDEDrBUZQ6yHgYP2DO9Dm2EN5fRLpMBjDIxzMMzgFffE8yuvdSMFV1BJz8H+CadPo4D7FLnSBakIHFOzECRzMM6hDWZelr5coDeJzDEHPC3Awz6Acog0atoouQYNYn61Ba/24gIN5BlN0DisoD9snpAO+AgfzDVazDQV78duF2ME8g2/QUFZ0HQ7GC8oRmqHoGRyMFxS96NMwnoYOdQfjBW8xCEWP4WC8oFxBwVk4GDMo42jBTy8aHIwR1B8M9AP1AA7GDFbjoIMOfvMBmh6tJn9qocwAAAAASUVORK5C\"></td></tr></tbody></table>"
      ],
      "text/plain": [
       "8-element Array{Array{ColorTypes.Gray{Float32},2},1}:\n",
       " ColorTypes.Gray{Float32}[Gray{Float32}(1.0) Gray{Float32}(1.0) … Gray{Float32}(1.0) Gray{Float32}(1.0); Gray{Float32}(1.0) Gray{Float32}(1.0) … Gray{Float32}(1.0) Gray{Float32}(1.0); … ; Gray{Float32}(1.0) Gray{Float32}(1.0) … Gray{Float32}(1.0) Gray{Float32}(1.0); Gray{Float32}(1.0) Gray{Float32}(1.0) … Gray{Float32}(1.0) Gray{Float32}(1.0)]\n",
       " ColorTypes.Gray{Float32}[Gray{Float32}(1.0) Gray{Float32}(1.0) … Gray{Float32}(1.0) Gray{Float32}(1.0); Gray{Float32}(1.0) Gray{Float32}(1.0) … Gray{Float32}(1.0) Gray{Float32}(1.0); … ; Gray{Float32}(1.0) Gray{Float32}(1.0) … Gray{Float32}(1.0) Gray{Float32}(1.0); Gray{Float32}(1.0) Gray{Float32}(1.0) … Gray{Float32}(1.0) Gray{Float32}(1.0)]\n",
       " ColorTypes.Gray{Float32}[Gray{Float32}(1.0) Gray{Float32}(1.0) … Gray{Float32}(1.0) Gray{Float32}(1.0); Gray{Float32}(1.0) Gray{Float32}(1.0) … Gray{Float32}(1.0) Gray{Float32}(1.0); … ; Gray{Float32}(1.0) Gray{Float32}(1.0) … Gray{Float32}(1.0) Gray{Float32}(1.0); Gray{Float32}(1.0) Gray{Float32}(1.0) … Gray{Float32}(1.0) Gray{Float32}(1.0)]\n",
       " ColorTypes.Gray{Float32}[Gray{Float32}(1.0) Gray{Float32}(1.0) … Gray{Float32}(1.0) Gray{Float32}(1.0); Gray{Float32}(1.0) Gray{Float32}(1.0) … Gray{Float32}(1.0) Gray{Float32}(1.0); … ; Gray{Float32}(1.0) Gray{Float32}(1.0) … Gray{Float32}(1.0) Gray{Float32}(1.0); Gray{Float32}(1.0) Gray{Float32}(1.0) … Gray{Float32}(1.0) Gray{Float32}(1.0)]\n",
       " ColorTypes.Gray{Float32}[Gray{Float32}(1.0) Gray{Float32}(1.0) … Gray{Float32}(1.0) Gray{Float32}(1.0); Gray{Float32}(1.0) Gray{Float32}(1.0) … Gray{Float32}(1.0) Gray{Float32}(1.0); … ; Gray{Float32}(1.0) Gray{Float32}(1.0) … Gray{Float32}(1.0) Gray{Float32}(1.0); Gray{Float32}(1.0) Gray{Float32}(1.0) … Gray{Float32}(1.0) Gray{Float32}(1.0)]\n",
       " ColorTypes.Gray{Float32}[Gray{Float32}(1.0) Gray{Float32}(1.0) … Gray{Float32}(1.0) Gray{Float32}(1.0); Gray{Float32}(1.0) Gray{Float32}(1.0) … Gray{Float32}(1.0) Gray{Float32}(1.0); … ; Gray{Float32}(1.0) Gray{Float32}(1.0) … Gray{Float32}(1.0) Gray{Float32}(1.0); Gray{Float32}(1.0) Gray{Float32}(1.0) … Gray{Float32}(1.0) Gray{Float32}(1.0)]\n",
       " ColorTypes.Gray{Float32}[Gray{Float32}(1.0) Gray{Float32}(1.0) … Gray{Float32}(1.0) Gray{Float32}(1.0); Gray{Float32}(1.0) Gray{Float32}(1.0) … Gray{Float32}(1.0) Gray{Float32}(1.0); … ; Gray{Float32}(1.0) Gray{Float32}(1.0) … Gray{Float32}(1.0) Gray{Float32}(1.0); Gray{Float32}(1.0) Gray{Float32}(1.0) … Gray{Float32}(1.0) Gray{Float32}(1.0)]\n",
       " ColorTypes.Gray{Float32}[Gray{Float32}(1.0) Gray{Float32}(1.0) … Gray{Float32}(1.0) Gray{Float32}(1.0); Gray{Float32}(1.0) Gray{Float32}(1.0) … Gray{Float32}(1.0) Gray{Float32}(1.0); … ; Gray{Float32}(1.0) Gray{Float32}(1.0) … Gray{Float32}(1.0) Gray{Float32}(1.0); Gray{Float32}(1.0) Gray{Float32}(1.0) … Gray{Float32}(1.0) Gray{Float32}(1.0)]"
      ]
     },
     "execution_count": 6,
     "metadata": {},
     "output_type": "execute_result"
    }
   ],
   "source": [
    "test_x, test_y = prepare_mnist(MNIST.testtensor(Float32), MNIST.testlabels())\n",
    "@show summary(test_x) summary(test_y);\n",
    "[MNIST.convert2image(test_x[:,:,1,i]) for i in 1:8]"
   ]
  },
  {
   "cell_type": "markdown",
   "metadata": {},
   "source": [
    "## Defining the Network"
   ]
  },
  {
   "cell_type": "markdown",
   "metadata": {},
   "source": [
    "With the dataset prepared, we can now define and instantiate\n",
    "our neural network. To keep things simple, we will use the same\n",
    "convolutional network as defined in the\n",
    "[MNIST example](http://denizyuret.github.io/Knet.jl/latest/tutorial.html#Convolutional-neural-network-1)\n",
    "of the Knet.jl package."
   ]
  },
  {
   "cell_type": "code",
   "execution_count": 7,
   "metadata": {},
   "outputs": [],
   "source": [
    "using Knet"
   ]
  },
  {
   "cell_type": "markdown",
   "metadata": {},
   "source": [
    "The first thing we will do is define the forward pass through\n",
    "the network. This will effectively outline the computation\n",
    "graph of the network architecture. Note how this does not\n",
    "define some details, such as the number of neurons per layer.\n",
    "We will define those later when initializing our\n",
    "vector of weight arrays `w`."
   ]
  },
  {
   "cell_type": "code",
   "execution_count": 8,
   "metadata": {},
   "outputs": [
    {
     "data": {
      "text/plain": [
       "forward"
      ]
     },
     "execution_count": 8,
     "metadata": {},
     "output_type": "execute_result"
    }
   ],
   "source": [
    "\"\"\"\n",
    "    forward(w, x) -> a\n",
    "\n",
    "Compute the forward pass for the given minibatch `x` by using the\n",
    "neural network parameters in `w`. The resulting (unnormalized)\n",
    "activations of the last layer are returned as `a`.\n",
    "\"\"\"\n",
    "function forward(w, x)\n",
    "    # conv1 (2x2 maxpool)\n",
    "    a1 = pool(relu.(conv4(w[1], x)  .+ w[2]))\n",
    "    # conv2 (2x2 maxpool)\n",
    "    a2 = pool(relu.(conv4(w[3], a1) .+ w[4]))\n",
    "    # dense1 (relu)\n",
    "    a3 = relu.(w[5] * mat(a2) .+ w[6])\n",
    "    # dense2 (identity)\n",
    "    a4 = w[7] * a3 .+ w[8]\n",
    "    return a4\n",
    "end"
   ]
  },
  {
   "cell_type": "markdown",
   "metadata": {},
   "source": [
    "In order to be able to train our network we need to choose a\n",
    "cost function. Because this is a classification problem we will\n",
    "use the negative log-likelihood (provided by `Knet.nll`).\n",
    "With the cost function defined we can the simply use the\n",
    "higher-order function `grad` to create a new function `costgrad`\n",
    "that computes us the corresponding gradients."
   ]
  },
  {
   "cell_type": "code",
   "execution_count": 9,
   "metadata": {},
   "outputs": [
    {
     "data": {
      "text/plain": [
       "(::gradfun) (generic function with 1 method)"
      ]
     },
     "execution_count": 9,
     "metadata": {},
     "output_type": "execute_result"
    }
   ],
   "source": [
    "\"\"\"\n",
    "    cost(w, x, y) -> AbstractFloat\n",
    "\n",
    "Compute the per-instance negative log-likelihood for the data\n",
    "in the minibatch `(x, y)` given the network with the current\n",
    "parameters in `w`.\n",
    "\"\"\"\n",
    "cost(w, x, y) = nll(forward(w, x), y)\n",
    "costgrad = grad(cost)"
   ]
  },
  {
   "cell_type": "markdown",
   "metadata": {},
   "source": [
    "Aside from the cost function that we need for training, we\n",
    "would also like a more interpretable performance measurement.\n",
    "In this tutorial we will use \"accuracy\" for its simplicity\n",
    "and because we know that the class distribution for MNIST\n",
    "is close to uniform."
   ]
  },
  {
   "cell_type": "code",
   "execution_count": 10,
   "metadata": {},
   "outputs": [
    {
     "data": {
      "text/plain": [
       "acc"
      ]
     },
     "execution_count": 10,
     "metadata": {},
     "output_type": "execute_result"
    }
   ],
   "source": [
    "\"\"\"\n",
    "    acc(w, X, Y; [batchsize]) -> Float64\n",
    "\n",
    "Compute the accuracy for the data in `(X,Y)` given the network\n",
    "with the current parameters in `w`. The resulting value is\n",
    "computed by iterating over the data in minibatches of size\n",
    "`batchsize`.\n",
    "\"\"\"\n",
    "function acc(w, X, Y; batchsize = 100)\n",
    "    sum = 0; count = 0\n",
    "    for (x_cpu, y) in eachbatch((X, Y), maxsize = batchsize)\n",
    "        x = KnetArray{Float32}(x_cpu)\n",
    "        sum += Int(accuracy(forward(w,x), y, average = false))\n",
    "        count += length(y)\n",
    "    end\n",
    "    return sum / count\n",
    "end"
   ]
  },
  {
   "cell_type": "markdown",
   "metadata": {},
   "source": [
    "Before we can train or even just use our network, we need to\n",
    "define how we initialize `w`, which is our the vector of\n",
    "parameter arrays. The dimensions of these individual arrays\n",
    "specify the filter sizes and number of neurons.\n",
    "It can be helpful to compare the indices here with the indices\n",
    "used in our `forward` function to see which array corresponds\n",
    "to which computation node of our network."
   ]
  },
  {
   "cell_type": "code",
   "execution_count": 11,
   "metadata": {},
   "outputs": [
    {
     "data": {
      "text/plain": [
       "weights (generic function with 2 methods)"
      ]
     },
     "execution_count": 11,
     "metadata": {},
     "output_type": "execute_result"
    }
   ],
   "source": [
    "function weights(atype = KnetArray{Float32})\n",
    "    w = Array{Any}(8)\n",
    "    # conv1\n",
    "    w[1] = xavier(5,5,1,20)\n",
    "    w[2] = zeros(1,1,20,1)\n",
    "    # conv2\n",
    "    w[3] = xavier(5,5,20,50)\n",
    "    w[4] = zeros(1,1,50,1)\n",
    "    # dense1\n",
    "    w[5] = xavier(500,800)\n",
    "    w[6] = zeros(500,1)\n",
    "    # dense2\n",
    "    w[7] = xavier(10,500)\n",
    "    w[8] = zeros(10,1)\n",
    "    return map(a->convert(atype,a), w)\n",
    "end"
   ]
  },
  {
   "cell_type": "markdown",
   "metadata": {},
   "source": [
    "## Training without Augmentation"
   ]
  },
  {
   "cell_type": "markdown",
   "metadata": {},
   "source": [
    "In order to get an intuition for how useful augmentation can\n",
    "be, we need a sensible baseline to compare to. To that end, we\n",
    "will first train the network we just defined using only the\n",
    "(unaltered) 500 training examples."
   ]
  },
  {
   "cell_type": "markdown",
   "metadata": {},
   "source": [
    "The package\n",
    "[ValueHistories.jl](https://github.com/JuliaML/ValueHistories.jl)\n",
    "will help us record the accuracy during the training process.\n",
    "We will use those logs later to visualize the differences\n",
    "between having augmentation or no augmentation."
   ]
  },
  {
   "cell_type": "code",
   "execution_count": 12,
   "metadata": {},
   "outputs": [],
   "source": [
    "using ValueHistories"
   ]
  },
  {
   "cell_type": "markdown",
   "metadata": {},
   "source": [
    "To keep things simple, we will not overly optimize our\n",
    "training function. Thus, we will be content with using a\n",
    "closure. Because both, the baseline and the augmented version,\n",
    "will share this \"inefficiency\", we should still get a decent\n",
    "enough picture of their performance differences."
   ]
  },
  {
   "cell_type": "code",
   "execution_count": 13,
   "metadata": {},
   "outputs": [
    {
     "data": {
      "text/plain": [
       "train_baseline (generic function with 1 method)"
      ]
     },
     "execution_count": 13,
     "metadata": {},
     "output_type": "execute_result"
    }
   ],
   "source": [
    "function train_baseline(; epochs = 500, batchsize = 100, lr = .03)\n",
    "    w = weights()\n",
    "    log = MVHistory()\n",
    "    for epoch in 1:epochs\n",
    "        for (batch_x_cpu, batch_y) in eachbatch((train_x ,train_y), batchsize)\n",
    "            batch_x = KnetArray{Float32}(batch_x_cpu)\n",
    "            g = costgrad(w, batch_x, batch_y)\n",
    "            Knet.update!(w, g, lr = lr)\n",
    "        end\n",
    "\n",
    "        if (epoch % 5) == 0\n",
    "            train = acc(w, train_x, train_y)\n",
    "            test  = acc(w, test_x,  test_y)\n",
    "            @trace log epoch train test\n",
    "            msg = \"epoch \" * lpad(epoch,4) * \": train accuracy \" * rpad(round(train,3),5,\"0\") * \", test accuracy \" * rpad(round(test,3),5,\"0\")\n",
    "            println(msg)\n",
    "        end\n",
    "    end\n",
    "    log\n",
    "end"
   ]
  },
  {
   "cell_type": "markdown",
   "metadata": {},
   "source": [
    "Aside from the accuracy, we will also keep an eye on the\n",
    "training time. In particular we would like to see if and how\n",
    "the addition of augmentation causes our training time to\n",
    "increase."
   ]
  },
  {
   "cell_type": "code",
   "execution_count": 14,
   "metadata": {},
   "outputs": [
    {
     "name": "stdout",
     "output_type": "stream",
     "text": [
      "epoch    5: train accuracy 0.550, test accuracy 0.460\n",
      "epoch   10: train accuracy 0.694, test accuracy 0.592\n",
      "epoch   15: train accuracy 0.820, test accuracy 0.750\n",
      "epoch   20: train accuracy 0.862, test accuracy 0.781\n",
      "epoch   25: train accuracy 0.890, test accuracy 0.815\n",
      "epoch   30: train accuracy 0.896, test accuracy 0.850\n",
      "epoch   35: train accuracy 0.920, test accuracy 0.866\n",
      "epoch   40: train accuracy 0.930, test accuracy 0.875\n",
      "epoch   45: train accuracy 0.938, test accuracy 0.882\n",
      "epoch   50: train accuracy 0.952, test accuracy 0.885\n",
      "epoch   55: train accuracy 0.964, test accuracy 0.889\n",
      "epoch   60: train accuracy 0.968, test accuracy 0.891\n",
      "epoch   65: train accuracy 0.972, test accuracy 0.893\n",
      "epoch   70: train accuracy 0.978, test accuracy 0.894\n",
      "epoch   75: train accuracy 0.982, test accuracy 0.897\n",
      "epoch   80: train accuracy 0.988, test accuracy 0.898\n",
      "epoch   85: train accuracy 0.994, test accuracy 0.898\n",
      "epoch   90: train accuracy 0.996, test accuracy 0.899\n",
      "epoch   95: train accuracy 0.998, test accuracy 0.901\n",
      "epoch  100: train accuracy 1.000, test accuracy 0.901\n",
      "epoch  105: train accuracy 1.000, test accuracy 0.902\n",
      "epoch  110: train accuracy 1.000, test accuracy 0.902\n",
      "epoch  115: train accuracy 1.000, test accuracy 0.902\n",
      "epoch  120: train accuracy 1.000, test accuracy 0.903\n",
      "epoch  125: train accuracy 1.000, test accuracy 0.902\n",
      "epoch  130: train accuracy 1.000, test accuracy 0.903\n",
      "epoch  135: train accuracy 1.000, test accuracy 0.903\n",
      "epoch  140: train accuracy 1.000, test accuracy 0.903\n",
      "epoch  145: train accuracy 1.000, test accuracy 0.903\n",
      "epoch  150: train accuracy 1.000, test accuracy 0.903\n",
      "epoch  155: train accuracy 1.000, test accuracy 0.903\n",
      "epoch  160: train accuracy 1.000, test accuracy 0.903\n",
      "epoch  165: train accuracy 1.000, test accuracy 0.903\n",
      "epoch  170: train accuracy 1.000, test accuracy 0.903\n",
      "epoch  175: train accuracy 1.000, test accuracy 0.903\n",
      "epoch  180: train accuracy 1.000, test accuracy 0.903\n",
      "epoch  185: train accuracy 1.000, test accuracy 0.903\n",
      "epoch  190: train accuracy 1.000, test accuracy 0.903\n",
      "epoch  195: train accuracy 1.000, test accuracy 0.903\n",
      "epoch  200: train accuracy 1.000, test accuracy 0.903\n",
      "  7.097589 seconds (3.22 M allocations: 277.186 MiB, 1.11% gc time)\n"
     ]
    }
   ],
   "source": [
    "train_baseline(epochs=1) # warm-up\n",
    "baseline_log = @time train_baseline(epochs=200);"
   ]
  },
  {
   "cell_type": "markdown",
   "metadata": {},
   "source": [
    "As we can see, the accuracy on the training set is around a\n",
    "100%, while the accuracy on the test set peaks around 90%. For\n",
    "a mere 500 training examples, this isn't actually that bad of\n",
    "a result."
   ]
  },
  {
   "cell_type": "markdown",
   "metadata": {},
   "source": [
    "## Integrating Augmentor"
   ]
  },
  {
   "cell_type": "markdown",
   "metadata": {},
   "source": [
    "Now that we have a network architecture with a baseline to\n",
    "compare to, let us finally see what it takes to add Augmentor\n",
    "to our experiment. First, we need to include the package to\n",
    "our experiment."
   ]
  },
  {
   "cell_type": "code",
   "execution_count": 15,
   "metadata": {},
   "outputs": [],
   "source": [
    "using Augmentor"
   ]
  },
  {
   "cell_type": "markdown",
   "metadata": {},
   "source": [
    "The next step, and maybe the most human-hour consuming part of\n",
    "adding image augmentation to a prediction problem, is to\n",
    "design and select a sensible augmentation pipeline. Take a\n",
    "look at the [elastic distortions tutorial](@ref elastic) for\n",
    "an example of how to do just that."
   ]
  },
  {
   "cell_type": "markdown",
   "metadata": {},
   "source": [
    "For this example, we already choose a quite complicated but\n",
    "promising augmentation pipeline for you. This pipeline was\n",
    "designed to yield a large variation of effects as well as to\n",
    "showcase how even deep pipelines are quite efficient in terms\n",
    "of performance."
   ]
  },
  {
   "cell_type": "code",
   "execution_count": 16,
   "metadata": {},
   "outputs": [
    {
     "data": {
      "text/plain": [
       "10-step Augmentor.ImmutablePipeline:\n",
       "  1.) Reshape array to 28×28\n",
       "  2.) Permute dimension order to (2, 1)\n",
       "  3.) Either: (50%) ShearX by ϕ ∈ -5:5 degree. (50%) ShearY by ψ ∈ -5:5 degree.\n",
       "  4.) Rotate by θ ∈ -15:15 degree\n",
       "  5.) Crop a 28×28 window around the center\n",
       "  6.) Zoom by I ∈ {0.9×0.9, 1.0×1.0, 1.1×1.1, 1.2×1.2}\n",
       "  7.) Cache into temporary buffer\n",
       "  8.) Distort using a smoothed and normalized 10×10 grid with pinned border\n",
       "  9.) Permute dimension order to (2, 1)\n",
       " 10.) Reshape array to 28×28×1"
      ]
     },
     "execution_count": 16,
     "metadata": {},
     "output_type": "execute_result"
    }
   ],
   "source": [
    "pl = Reshape(28,28) |>\n",
    "     PermuteDims(2,1) |>\n",
    "     ShearX(-5:5) * ShearY(-5:5) |>\n",
    "     Rotate(-15:15) |>\n",
    "     CropSize(28,28) |>\n",
    "     Zoom(0.9:0.1:1.2) |>\n",
    "     CacheImage() |>\n",
    "     ElasticDistortion(10) |>\n",
    "     PermuteDims(2,1) |>\n",
    "     Reshape(28,28,1)"
   ]
  },
  {
   "cell_type": "markdown",
   "metadata": {},
   "source": [
    "Most of the used operations are quite self explanatory, but\n",
    "there are some details about this pipeline worth pointing out\n",
    "explicitly."
   ]
  },
  {
   "cell_type": "markdown",
   "metadata": {},
   "source": [
    "1. We use the operation [`PermuteDims`](@ref) to convert the\n",
    "   horizontal-major MNIST image to a julia-native\n",
    "   vertical-major image. The vertical-major image is then\n",
    "   processed and converted back to a horizontal-major array.\n",
    "   We mainly do this here to showcase the option, but it is\n",
    "   also to keep consistent with how the data is usually used\n",
    "   in the literature. Alternatively, one could just work with\n",
    "   the MNIST data in a vertical-major format all the way\n",
    "   through without any issue."
   ]
  },
  {
   "cell_type": "markdown",
   "metadata": {},
   "source": [
    "2. As counter-intuitive as it sounds, the operation\n",
    "   [`CacheImage`](@ref) right before\n",
    "   [`ElasticDistortion`](@ref) is actually used to improve\n",
    "   performance. If we were to omit it, then the whole pipeline\n",
    "   would be applied in one single pass. In this case, applying\n",
    "   distortions on top of affine transformations lazily is in\n",
    "   fact less efficient than using a temporary variable."
   ]
  },
  {
   "cell_type": "markdown",
   "metadata": {},
   "source": [
    "With the pipeline now defined, let us quickly peek at what\n",
    "kind of effects we can achieve with it. In particular, lets\n",
    "apply the pipeline multiple times to the first training image\n",
    "and look at what kind of results it produces."
   ]
  },
  {
   "cell_type": "code",
   "execution_count": 17,
   "metadata": {},
   "outputs": [
    {
     "data": {
      "text/html": [
       "<table><tbody><tr><td style='text-align:center;vertical-align:middle; margin: 0.5em;border:1px #90999f solid;border-collapse:collapse'><img style='max-width: 100px; max-height:100px;display:inline' src=\"data:image/png;base64,iVBORw0KGgoAAAANSUhEUgAAAHAAAABwCAAAAADji6uXAAAABGdBTUEAALGPC/xhBQAAAAJiS0dEAP+Hj8y/AAAAB3RJTUUH4gMTFxYt0nrO3wAAAthJREFUaN7t2kmoTnEYx/GbTJmHBTJFumKDJIpYUEqGFQuhiKi7ESlkXEiIhCwUioWEhaGIlJKUYYOIMiUyz/Nwr++33lNvFs57655zjzyf1X3fznt+p+7zn09VXc6qIjACIzAC/8PAH/hU8hHf4XdfSt7hAW7jPl7jFyKw8QNr8RxnsB8HsRPbsQHr4OcdWIWlWIazOIEVWIRtuIlviMB8A/3H38JMtEJLdEE1eqI7qkt6oz+Gowbj0Ad+Nx0+7BNEYL6BFs0jWAze1MAmaIam6IhOaA4/j8JCWECzMQ0+7GacRgTmHyg754uwcc+AIS1gQXizieiBbtgIrz2H4ziGk7DRP0Nqw4/ATALlgOugagc+CDbm5bgKb2oH7cNcgYP0W7yCv3FwdrAuv18E5h9YW3IUgzEBDrJ27p9h0CkYlHavCGycwMR1OLAOgxOr5EG+wgmyf0dgsQPtyFfDCdNeWDCV/jYCixH4E5fQC7NwHjb2vy0+I7BYgXqJ+XDilCxSXLRG4L8T6ITKYhkBQx2MnfSmbQZFYHEC9R6HMBSdMRc+xAdUMghHYOMHWhwuMPdgJLrCBY2TLIsqAosfaGEY+hRu+rgp5KC8EnbuEVjcwCTIxYsHIi5Et6AdDB0CC8fJVgQWKzBZeLrBcw8HsAZzMBoGtsYY3EBa44/A/AINsQAsEg8kD2Mx3FjoCwffNnCT3QOUBXiItEE4ArMPNMQJkYckd+EmkJsJk+HmbHt4aNIWDr5jsRZe54S4LkUEZhPo5txj3IGd8hEsgY17EgbCIjHEAvHzVDiR8nDEovIeaR13BGYX6IGUnfJ6zMN4uInngaSN2yLpAAdZH2I3rsEDETtrg+q1QRuBDR54Gb7QMQUeRlocDqq+HNAPA2DxeM0FvEB9QiIw+0AHWSdIHlrtw1Zsgi/o7IIHXRbWG1TSuCMw/8ByyYKl/OW5Pw+OI7DYgVmLwAb3G6FY6wlANT3+AAAAAElFTkSuQmCC\"></td><td style='text-align:center;vertical-align:middle; margin: 0.5em;border:1px #90999f solid;border-collapse:collapse'><img style='max-width: 100px; max-height:100px;display:inline' src=\"data:image/png;base64,iVBORw0KGgoAAAANSUhEUgAAAHAAAABwCAAAAADji6uXAAAABGdBTUEAALGPC/xhBQAAAAJiS0dEAP+Hj8y/AAAAB3RJTUUH4gMTFxYt0nrO3wAAAt1JREFUaN7t2kmojWEcx/GbWYZkSCiLK1lYCGUqJSVDMpRS2BgiWZCNsJEk2RhLIRKK7BRliAxJNliYM98i8xwuru+37rtRb/e8Oec5Z/H/bO7int7fWfyf//O8/+fUNSVWF4ERGIEVCWzES1zBcVzGK0Rg7Qb+wle8xTs8wC7Mx2IcwnNEYG0F/sFv/MATnMROWCQrUY+BWILz+IgIrJ1AF7bFYdBVrMNkjMYyTMQErIFfxGKysCKwuoEWSbbAXdj74cIejk5ojfHYiqPwizxDXrFEYNrA73iP69iOWRgAQzqgI9rCgrGQ/OxPNJUgAisfaIN+hINYiMHojFbohlGYhDHYgLwFHoHVC3TheggaBAvDAmmPNhiCvbCYLjQrtVgiMF2gm+1jzIaNeiYskB6Yjjuwsfs5/xYJi8A0gXIxWxhurKdhE/DA5IbrwddNuWhQBKYNVGMzX15eYDUsork4hZuwyfvlihRPBKYL/Df8FrZgLAyeAcMP4C4+w807AmszMAt9DQvGhu4QoTv6YwocDN1DS6ERWL3ATNYIzmIj5sGDcleMwBl8QV4ziMDqByob9Png25iDLvDAPA0X8Q0RWLuBsnhc6EfgwKgfHDgMxT781zQxAisaaMH40uqF1iqMRC9YNH3gwGEbylY0EVj2QAd/XkwuhxcjDh0cGvWEL6x7YDHlDRsisHqBNmsvQLwIsVn3Rju42D1QLYX/86LSgsk7TEVg+kAXug+4j91wSGShOOzrCy+9NuMaHDa09HIagekDP8BBrJeU42CTdnDrsG8qvHi+gU8oZbgQgekCXbgNWI9hcJP1pcW/DuB9iXHo9xBFLksisPKBBr3BCayAD/eS2SCHtIuwCZfgRWWpQRGYLtACcPDqYdZDrQ3aQC+dF8AfEJyDP5QrelkZgWkCbcAehHbAzdUN1yZtAR2DjfopfCEty2VXBJY9MHMY/rhjLQyySRd9eAQmCfwLAxoUmEa2gGMAAAAASUVORK5C\"></td><td style='text-align:center;vertical-align:middle; margin: 0.5em;border:1px #90999f solid;border-collapse:collapse'><img style='max-width: 100px; max-height:100px;display:inline' src=\"data:image/png;base64,iVBORw0KGgoAAAANSUhEUgAAAHAAAABwCAAAAADji6uXAAAABGdBTUEAALGPC/xhBQAAAAJiS0dEAP+Hj8y/AAAAB3RJTUUH4gMTFxYt0nrO3wAAAh5JREFUaN7t2T1IlWEchnFBKDErbShRwcFaRIwiagjED1qCNhFxUSFckrY0NIdwqwYHAwcRFMRBxMElwgYRGgRxUMTSSLEoKvwgs7RMrxscgkSPR895znD/JhHOewm+z/993uckbcdZkoMOOuiggw466KCDDh5TcAPfsYavmMEk3mIIrXiCCTiYGEFdfAHD6MIzNOMhqlCCClQjH1mohf4IB8MG/+INKpG96wJOIQ1ncBJX0YQOdOMF3mMLDoYN6gP6x9fgEs4iGefRgEbcxmPM4Qc0FPYKORgmKMt4Bd0Id5CLdvw7uDUUdIMddC0HwwTlDz7hPq6jD78RyWcdTIygrKITedCCH4EGtB7O+y10BxMnqIX9EdooXcRN3MUgNLg1CCJZ/A6GC8omXkMbpiIUoBgt0ID/AgcTOyi/oAU/gHJoQ5wDDfaX0EbqSJsoB2Me/IlZ9OAWTiADDzAKPZj3GwAOhgvqItr49qMOl3EaejkthF5Gp3HQdRwME9RGeBHPcQPpSIF+1kHeFDQQIrmWg2GC36ADHx3i6UbJhA4axnDYlxoH4xvUYl+HDs7LcA5XoIMg3SjRvJQ6GN/gZ/RCMS10vYw+hb4QicmhgoPHFtRLyzz0UL2GVGhga7Or3x/mEMHBMEG9rDyCYvpipBT6gusDog05GN/gOOpxD23QQcIKIj1IdzB8cAnvoOGtA9hoB7WD4YKx5KCDDv5nB0NX3Nbe+DsrAAAAAElFTkSuQmCC\"></td><td style='text-align:center;vertical-align:middle; margin: 0.5em;border:1px #90999f solid;border-collapse:collapse'><img style='max-width: 100px; max-height:100px;display:inline' src=\"data:image/png;base64,iVBORw0KGgoAAAANSUhEUgAAAHAAAABwCAAAAADji6uXAAAABGdBTUEAALGPC/xhBQAAAAJiS0dEAP+Hj8y/AAAAB3RJTUUH4gMTFxYt0nrO3wAAAwFJREFUaN7t2lmoTVEcx/GbS2aZRYZkyJAQGSLxQIQoY4bkBaWkZChEhgceiFeRvBlfkEjGMpQpGUKZMz6YZy7fb91dup17zzWcs8/D//Mm9+zffvivtdf6r1X0M8+KIrDgA5/iFK7iPSKw8ANL8Bk+fDcGoA7m4zYisHADDXqHO9iLHdiEnmiPebiMr4jAwgv8gVc4hBUYjRGYiKnYgIv4gLK/jcD0Ag35Ah/yHEcwAZ3QGVOwBcdxHx9hYUVgYQR+xxNYJGswDPVQFcXogpXwb8oO9AhMJzD5qFocl7ATi9ELDWBIdRjaGAOxFRZWtpePwNwHfoMT8xVswyz0RTNUQ220wWBMhh/aZXDxm61gIjD3gQ5wJ961GIJ2aIgaKC7lZG0BGfAAj3EDr5Fpso7A/AZaMA8xAw5oB3lzGOpE7b9dJJ2DBVJSKltIBOYvUJ+wBwuwCH5Yp6EjWmM1zuIlfME/CYvA/ATKyfse/AC/wT646O2AfvAlXAi74XTTcg1vYWMh20tEYH4CEy6KHNi3sB2zMQg2DiZhJtzEzMFGHIbNoEwb0QhMJ/D34Bc4g80Yg27oCieDlrCgbCwsxVH4Mf/rDWkE/vfAJNQNziMcg4vkVbCQxqEtXCg3xVw4IdhYiMDCCUxYDD7ISf0Z7sKHj0RNuNlxQnBCz7RBjcD0AxPJIjhp9Ln5qYWkaGwSZfpdBBZOoMXjQsuGumFN4CFXf3hoUl6DIQLTD7RQXCRdgBueFnCzWh/DcRBO8uX9PgLTD3Sz4mLXxZKbVBu1dTEWB+CkXtHvIzC9QIvFhsN1LEcrWCyGjYKL30yXPSKwcAI9rLwJD7s8oHTR2wjTcRL+f2WeE4H5D7RY/JjaTPdQuQdsulfBUOyHjaTKNmojML+BbkY8ADmP9egNF7sWTB/sgpd4KhMUgekEuvE8gfHwkNLDLge7Fwe8NGdT9p8PSiIwJ4FOxDZl18HLjV4Q8KDLCwIL4WKpoiZsBKYf6ID3gqMD3UHeHUtwGn8bFIE5C/wFnXBs6S8mUi0AAAAASUVORK5C\"></td><td style='text-align:center;vertical-align:middle; margin: 0.5em;border:1px #90999f solid;border-collapse:collapse'><img style='max-width: 100px; max-height:100px;display:inline' src=\"data:image/png;base64,iVBORw0KGgoAAAANSUhEUgAAAHAAAABwCAAAAADji6uXAAAABGdBTUEAALGPC/xhBQAAAAJiS0dEAP+Hj8y/AAAAB3RJTUUH4gMTFxYt0nrO3wAAAq1JREFUaN7t2luITVEcgPFpxiVCEXKPSCSKB0Qe5C5EkSSXIkoKuT1IHsSDyCNFkhJCuT14UESIFCFEIeROhMad79PZdZqHM8dl9t7p/3uZmWZmf6dmrbXXXmcqfqSsIoIRjGAEI/jLtxq+F0Qwn8GveI0XuIsbuIMHuAk/vsRTvIMvIIL5CX7GJczHLMzEZIzFcHTFSCzGCizHWuzBQzzCB0Qwu+BH7ENvtEATNEQVKlGvoKqgMdpjDLZiGTbgGr4ggukHncTnsBDj0BfNUVnQCl3QCc1gcCCWYA0GoTWm4h4imH5QLsiXcRKb4ACqj85wwu/EZrggdMRqnMBhuAjMxUY8RwSzCeoTXsELTUQbLMJZvIXfuwAX8KN4Bm/aLt4OFr8ua+JHsM6Ceg8vOg894A35OJINcDVu4QnceBX/bvEmOYLZBb2If/ztGIJJcNI7aMq9RgSzDSbR+5iD/piGA7gNN7zlPJRGMNugF3QB2I/xcAM1Gm6YnPQu8hHMdzCJeoiwF1Ng1A3yNnjDrblwRzB/wSTqQdAhTIdRB5EbKDdPpRaACOYn6OBw8HhDNuiD6gxcQakFIILZBD1c8AbrxL6KU3Ci+8DpZqoBkofU8/BAKYLZBpNB4S86wU9jCxZgADzsaQkPhjwQaoTu8JDBn//tiR/Bfx70cN1JfREe+rjhLT7Yc5D4eU8Mhgd/K+EL+6M3SiL410ED1QVn4APKLrhJ6gYP2JvCQdIBQ7EeB+Hh0GO4YNcWi2DdBV2Qd8CQB6o+oPSBE9pFuS2GYRV8QQ6oNygnEMF0gscwAr3QDh7AOrEN+vls7IaHB6VurhHMLuhNcx18E7kfRmEClsKB5IGBh3jl/oNHBNMPyknsg4hvUvmgeQTX4QNmbQcFEcxHMC0RjGAEI/gfBn8CZU0USA7ZP40AAAAASUVORK5C\"></td><td style='text-align:center;vertical-align:middle; margin: 0.5em;border:1px #90999f solid;border-collapse:collapse'><img style='max-width: 100px; max-height:100px;display:inline' src=\"data:image/png;base64,iVBORw0KGgoAAAANSUhEUgAAAHAAAABwCAAAAADji6uXAAAABGdBTUEAALGPC/xhBQAAAAJiS0dEAP+Hj8y/AAAAB3RJTUUH4gMTFxYt0nrO3wAAAwdJREFUaN7t2kmozWEYx/FbZM48RJGhiAwZNqLITDJkHkopoYRYKCxQihALspBMkWEniRTFQkQsTMmUzCQz13R9v3X/dZLuPbq85yyez+p2z/D7L553et5TUpZYSQRGYARWOfBHuW94g8e4g1v4jIe4i2fwfRFY+MDveIXrOIbVWIQ5GIUBGIbxOApfn43J8D17YXgEFibwCyyCw1iOseiAZqiPGqiONhiExfAhuqEtBmMzXiAC0wc6sC9gI4ajIxqjNhrBUP+uhZmwOHbAB5uPhdiEk/iECEwb+BPPMQEWRk1UL9ca4zAL/dAKe+DgtsBu4gacKJzQnyB3Eo/AtIEO4qxA6qIOhuIQzmA3puESSpH7+dJyTv653x2BaQL1ESsxCdPRDhbIKrzHB9zDcbiZMqQsDxGYLtDBeg5HYHEMQWc4yLPNsJPyazjR5xMWgWkD9Q5v4UI8ES7CW+HmKt+ACCxcoAPZYnDyvYgpcHPrZtdDqIfPr8h3wEdg+sBcboS2oTtGwwnbjZLBuQtvBBZvoIvxecyFC/FILIAPcQUuwL9vliKwuAL9Mg8rBzACHmicBPpiBTx0PkI+E0EEFiYwO5zYiLVx4AGmK1qiB2zm7YOvGxqBxReYcUG2WeumajtsABncHAOxAR5w/tRcj8DiCJQF5EbYYBdhm3hZ06E/DsIDawQWb6AFYUPhPs5iKdrDBqCHnfXwYSKw+AKzYrEJewrrMAN90AQ22206GFjRIhyBhQm0UGwwXMUWTIULbws0QFN0gf/fiYq+KwLTBxr2EhbKEvSEC249GOQC7IWzl82n4YNVqWgi8J8Geoh5il0YA5vsXpY0RCd46bUGNhncBBtW0QYqAtMGushehhfHTspOztXgAcZD6Vp44fUANnHzbbRH4P8LzAarhXIbFoONPJsHhnn57CbJBu0JeKHpglxZkURgukA/7A/g9mMeLBQnZwN7wcXVQ+g1VDZBR2BhAm3COgm7ufVHVL1hI3YZbPo4yG22/83lZASmDZSNuap+YQQmD/wFVFcriUR8TTAAAAAASUVORK5C\"></td><td style='text-align:center;vertical-align:middle; margin: 0.5em;border:1px #90999f solid;border-collapse:collapse'><img style='max-width: 100px; max-height:100px;display:inline' src=\"data:image/png;base64,iVBORw0KGgoAAAANSUhEUgAAAHAAAABwCAAAAADji6uXAAAABGdBTUEAALGPC/xhBQAAAAJiS0dEAP+Hj8y/AAAAB3RJTUUH4gMTFxYt0nrO3wAAAsdJREFUaN7t2luITVEcx/Ep19xSDAohScjkkqRMpBQhJMIDHoaIklIueeARkdySIvIiJZTILQ/kRblfklsilxQxiDEu32/tXac8zFHO3lv9Pw9z5qw5Z/92zdprrf1fu+pXxqoiMAIjMAIjMAL/w8CfaMQXfEfa3piw7Qds+wrbIrBYgR9xG5dwH1dxDU9wA3dxE+dwEX7mFV6iARGYf+AbbMIcLMISzMNEzEIdpmICJmEz9mAB5mInHiMNj8DsA+thUAe0Q1d0RAs0T7SH7wdjBTyZavTBdBzCc0RgPoHfsAujUIPWaAZfu6AzWqIn7Cy7sQ4rsQZHcBZ3EIH5BDqhOlAfxHrYYdpgJOZjNvphGV7gER7AQd3vOUG/wwdEYD6BcpHkl45jKIbhBF7jAlbhPPysiy5DXFCliy7b0oVWBOYTKAcAL2I7ixOwHcL2T3iItFM0JQLzC/QffwvTMBMueG0r/XsEFjtQLopXwwXvSbxHuUERWIxACwv7MBxe/MdQ7gUfgcUIdEK1wGDYAHgTehmeSEUu/Aj854Hy4HaWWrTCWjgBp4ukCCx+oAf2pmUremMEDsMTicDiBhrSkPgMJ96nmAxvUB0I7iEC8w1MN0QcoL1xqU9YLHcBfAWncBTe1FhUHweLe91xAKUbKRGYXaBBTqpnYGFgL7ZhP7ZgKewUUzAeYzAa/m5xz0A7zg64qRKB2Qd6AVtIdXHbH33RAxZeu6ET0gJ7W1jYsyBrm+8t1A6CJ+yAEIHZBzoY20GGwAN5QDc+XCC5+eGrB7aDOOH2wkBY4LPwPhaL4c1qU2ERWJlAfzixuqnoJsdCuBFpAag2MQPLsQEbsR0O1i6eLNBeh0W+CMwvUGkh/RmccE/DoroH9KEBHw5wkLBzvIWTsxOuJ1vujUwEVjawlJOyC6n0oR25wPrbQl4E5hdYSREYgRH4h9+R6yJIh31cxgAAAABJRU5ErkJg\"></td><td style='text-align:center;vertical-align:middle; margin: 0.5em;border:1px #90999f solid;border-collapse:collapse'><img style='max-width: 100px; max-height:100px;display:inline' src=\"data:image/png;base64,iVBORw0KGgoAAAANSUhEUgAAAHAAAABwCAAAAADji6uXAAAABGdBTUEAALGPC/xhBQAAAAJiS0dEAP+Hj8y/AAAAB3RJTUUH4gMTFxYt0nrO3wAAAxlJREFUaN7t2lmoTVEcx3GZQyGZIkMks5SQTJnlBRFJIiHKI8KDMmcsLzwY8kBukgdJZChjxiQezHOReZ6H77f2rptyD7p3n6P+n5e77znnrt+pu/Za/73WKvcjY+UiMAIj8J8DvyfS6y/4nPiAp3iCV/iI9LMRmN9A/8jG3sDGbuIiTqAIW1GUWIdFWIINuIDzOIjLsI0IzDbQTvEcZxP7sBwzMQV90DXRCc3QAl6PxgJMx2CMx068QARmE2hn8Z98DCMxEN3RBjbaCJUSFVE+URO9YdBUDEDbxCxcQQRmE6iX2IGGqJGoijSgCnyvCWrB92x4FXZjC1ZjKRbiAErspRFY6oGfcBh2FhtujuowrDJ8zQ41CYPQAV5fxSPcx13cg9fv8Q0RmF2gN/81LMNwTIYdxLDGmAYn2OPYiDnYhl/b+AongvS1CMwuUBa152BD++HAXBt2EifUt7Az3MJJ3MaPHCIw20Bv1HewCH6G+XDyHYejSB9w7Bi5giIwP4GyQYMtih0EHLQtqpxQi9/QEVi4gSk7jw80PdEKPoxaaEXg/xNox3kAC1sDfTA9BYskO1QEFn6gLI5Pw0WD1hgFF4IOwQeVPxnEIzC/gfJmt6jqAQvjdpgNiyiLrt8tzEZg4QTa4ENswhDUQXvMxRm4wB6BhR0ob3AH8u0YiwZwUchC2QW8CCz8wDQ0XYTvDxdru8Av4eZKBBZ+oDf4a1hEjYCB9bEGJRVVEZjfQIthF4Ieww1JNyYnwsXbCmgKF+bdiI7A/AcWX1y1AHZh6DqOYB66wYC6cJOrHvrCYqqkLx2BZRuYHhS4gUvwkIALtHuxAhPQES7SurlVDU6+hvuAugd+sQjMNtCDNzbshzdjPWZgDNwgGYbOKB7itR2mF9xM3gU3ufyyOR9mIrDUAz2MsxhD0RI25sakDbuxXCGRTrAWSg7Ya+HmyR2kh65yhUVg2QV62MaHSxcIDHMw9qCHh3T6wUM4hqyEi0Buank4xAk5V0AEln1g8V8ceD305iTrRoiDtj99zQHCAupvNrYiMPvALERgqfsJKV1MKpovigsAAAAASUVORK5C\"></td></tr><tr><td style='text-align:center;vertical-align:middle; margin: 0.5em;border:1px #90999f solid;border-collapse:collapse'><img style='max-width: 100px; max-height:100px;display:inline' src=\"data:image/png;base64,iVBORw0KGgoAAAANSUhEUgAAAHAAAABwCAAAAADji6uXAAAABGdBTUEAALGPC/xhBQAAAAJiS0dEAP+Hj8y/AAAAB3RJTUUH4gMTFxYt0nrO3wAAA0RJREFUaN7t2lmIjWEcx/GJse8hKYQsd4wtpISUpSQlZL8gyZooe/a1uHGhlCRbSQqFXIjkgiRkiUQY+z52Bt9vvW+dTsyZqXPecy6ez4UxZ5r39148y//5P1P0J2FFITAEhsAqB/5GOX6hPOJnqT9PFQILJ9Bf/oYXuI07eIhHeIJXeIeXeAq//4TX8Oel8Gc/kfoiITC5wB/wFw9jDmZhOdZiBRZiFZZgKbZgP3bAz9djD+7hBnyhEJhs4Hdcgw9sgxqojcZoCT/rgGaoiepohFZoh+4YDV9wFMbjKEJgcoEu0rewHcPQEe3RFIZXixSjLnyRBjC8PgZiJqahC3zBqQiByQXKxfky9mEDFmMQGsJBYpAvMQTjMAAOml5w0p+HA2UzXCgqHDQhMCeBDpwyPMddnMAMOLHroSdcyE/hAnZjMtbAjdrffYPSyBeEwGQDFRfC73ES8+HCbKj/d1BZPFksucmexk34ffrL+zUEJh8Y+4wrWITecMBYPLk4xA/zwPMBfv3fc0Jg/gItjD2o7MJw9IUF1mNU9hkhML+BDgwnuIu0RW1XjMFeXEd8WAmBhRsoJ7SNhU1w4nfGSGyEi7gHoBBY2IFuxl9xEXNRAg8pI3AQNpHihTwEFmZgzEX8GKbAw0trLIAbdKaBEwILI9CBYfP1OMaiDtyQ3Zw9+ITAwg60mCqLvIULgI2iFpiO+wiB+Q2MLzUcGD7cRoAHFC9DbNhaRDnpd0ZsAtngs7k3CTYfqnSYCYFZDbQR4AWXh89nsMC16eOEttkzEX1gEVwSsUFkU9aCyuIq0yYcAnMT6ED5CBs6V3EGWzEBNti7oTmc4LVggF9t1DpYvCzxkHoWFQ2YEJi7QA8oRzAUPeBg6AQf5qSOL0RsrLvZWjT5Ev1hIbUOh5Bp8w2BuQm0cb4S8QWIE7k44iDxMsTPvezy8Dkbq3EAl2Dx+wA2+TINmBCYm8DBaAsHQxN4kezAiS8o+2EeDHDz9Q8BLILdlF3s3aTTG+ohMNlAJ68LtJdUy+Ak3gYvm8/BBd2FwYsSH57+R1hVFQKzH+g/Fj4WTG6+FruGxH904+CwqKrMpA6B+Qv8l3iAZCMkBOYnMFdCYNb9BUbb9hu0fcOFAAAAAElFTkSuQmCC\"></td><td style='text-align:center;vertical-align:middle; margin: 0.5em;border:1px #90999f solid;border-collapse:collapse'><img style='max-width: 100px; max-height:100px;display:inline' src=\"data:image/png;base64,iVBORw0KGgoAAAANSUhEUgAAAHAAAABwCAAAAADji6uXAAAABGdBTUEAALGPC/xhBQAAAAJiS0dEAP+Hj8y/AAAAB3RJTUUH4gMTFxYt0nrO3wAAAplJREFUaN7t2kuITmEcgPGpcRlSQkoumWHKxt2QcYlGZGFjoaSwVDYWFtOEsFGzoISMwoZCRrObxYzLzIJCkeSyEDOU3CI07rfnqe/b6cz3lTnnqP9vNzXmOeo97/mf9/sqfqesIoIRjGAEI/hXv/AJT3ADjxDBfAcNfEEf3uI9WrERm9GNCOYv+BPf8Q2vcRHHsQdnUYcZ2IVniGB+gi4OAw9xDV04hlWYjYXYhA04invwwiKYbdCIN/NjXMJJbEM9xqISgzABO+CN/gBuAi6qpP9ABAc+6D+4iUMwsgZzMQ5VGA6j4+GCOQc3hf4WXwTTC36Ef2QBRsFIZYE/L8N2uEnvxVWUGotgOkFvejfpBkzBPBgaijm4gK/4gB68QwTzFXTIdRN2w94JB9yVGI318GK8qHIiEUw3KDdjB6fncDM/gflws3ZQeorPBT8QwfwFi1xAxm+hCTPhAvICOnAZHiA4cLkZ+PsRzFewyIXjUHwQ01CDRViORrih38ZLJL3IRDC7oLzBX8EFswK1GINJcEPYijPwQCFpM4hgdkF5Yzs0ebM7LHsotBYOWT6g18EDWjeBCOYzWIy6oTtIvcF5TISHDA7KvtwkHSxEMPtgkS+uDsUOyy6aIViM64jg/xHshAezUzEMvrz6ML6PCOY76MvqKThAjcRgVMPFcxdJG3cEsw06GPXiMGahqsCDoyNwwCrl70Qwm6AxvxTQDAMetI/AUrTAC+nvJSaC2QQdmByUPFQ4gOnwoNaHrTf+abxAOYdDEUwv6MGdh3je1C4OX1ZcLA5Mq9EGX2xKOQyKYPpBH6I+TPdhCTw8mAw/vNyNK/CDknJCEUw36CB7B34ouQX70Q6/HOABnl++KnexRDDd4ECK4D/3BwbCBpdkDseKAAAAAElFTkSuQmCC\"></td><td style='text-align:center;vertical-align:middle; margin: 0.5em;border:1px #90999f solid;border-collapse:collapse'><img style='max-width: 100px; max-height:100px;display:inline' src=\"data:image/png;base64,iVBORw0KGgoAAAANSUhEUgAAAHAAAABwCAAAAADji6uXAAAABGdBTUEAALGPC/xhBQAAAAJiS0dEAP+Hj8y/AAAAB3RJTUUH4gMTFxYt0nrO3wAAAm1JREFUaN7t2Vtoj2EcwPHlfJw5JCVnu9hKDpELIfeSw40UDdduJGsbSW1SDkkUF5KUUHKIpBApNVwwK0pzyAXJMefzvt/yXpn//Ju975t+n7u1er+rPe/zPP/fv+RnykoiGMEIRjCCEfyPgt/xAS9/+YgfiGC+gj70C97hFV7gHm7jCg6hAVtxHOfgz7U4ga+IYHZBF8EdHEM9lmEOhqE3uqIXhqIcS7ECY1GJzXiNCGYXfIy1MOCDe6ALumEIRmM4/F1/bMF+7MFeXMV7RDC7oC/7NkzFRExCH5RhHgwcxXrMRiPewg39OYy1tZlHML2gHuIUDmMfpmAM1uEWvuEZzuMJOnwAR/CfB+Uh6iH8AKsxDlW4BAMe0p9gvL1nRTCbYMKX+jLmYwI24BGS6N8+J4LZBX2wi+MGvEyNwlx46DbD30Uw38Ek6gK5iCVwE5iBGvgh5zMimO9gwgvSNWzCdHgor0ET2otGMB9B+aK3YBdmwQW0EW7ohTbzCOYn6OXKoZ6BI+gJhwm70dYwIYL5CbogfKCH7kk44PPDTV84cJiJm/jTxTiC2QWTS9R9GHKY4CVqMirgwMGFY9ChYATzFXShOCjygN2BhRgPh3pGBmAE3MAXodClOILpB425SXtpqoOLpB8czA7ENCyHh6+L6S4KPS+C6QY9ZB3wHcRKjER3OHA3vB1n4Gbtl2HJHxjBfAQdBF2HAyAvR6XwgB2ExXARFfNlcwTTDfqPv4AF8MPmYDhg90vLA/Dy6wfPYkIRTD94GqtQjZ04Cy9HvuDFDGQjmE1Qb/AUvtxeoFwkHQlFMP1gZ4lgBCP4m1YwTmmnvlNi9gAAAABJRU5ErkJg\"></td><td style='text-align:center;vertical-align:middle; margin: 0.5em;border:1px #90999f solid;border-collapse:collapse'><img style='max-width: 100px; max-height:100px;display:inline' src=\"data:image/png;base64,iVBORw0KGgoAAAANSUhEUgAAAHAAAABwCAAAAADji6uXAAAABGdBTUEAALGPC/xhBQAAAAJiS0dEAP+Hj8y/AAAAB3RJTUUH4gMTFxYt0nrO3wAAAmRJREFUaN7t2k9oz2EcwPHVGubPkVoif9ZayYUpycG/xNJyMk27TUmR424OTrJWohzIgRMhfw9Tcpgm5rBdMBYihJph8595vw+7bfYzPL9n9Xldfmu173uH5/s8z/f5/kqGEiuJYAQjmCT4Ez/gZwTzDnrRT/iAQbxCD7rxAiP9TQTzCH7HRzzFBRzDaezALGzANUQwj6A37zcMwMAdnEUL9mA5VmE7/FyDg3iOCBY/aOw9buMEmrEZ1SjDZEzCJpzEeXjT92G0a0YwbfArHCSNWIiZmAZDc7ECxvfCiBO4E/rvrhnBtEEn6ftowmKsRCkqcAAdOI4rGCpQBNMG5ULrhb3xz2EpXGDvwYnBDdRbRDDfoLywG9672IgadKHQSASLHxyOvsZ+zMFRuKnydxGcGEG5uD7EWrgA16EVz+BEH8H8g/LBpg3e/G6qKrEPjzHWBiqCeQTlBrkTu2FwPvz5DSI4MYLD0V5sgw83HghdxGdEMP+gE/VLXMdWlMMHnEtw4xzBvINe0A2xC+96zMZULIKDJoL5Bt0Iv8NlbIGL7xR4w6/DYTyAC3QE8wwaOwUvPgNO2AtQDw8cnsCH1pFeUkawuEEHgQ+dR+CB7HQYmwc3TjfgQbwT+lixCKYPenDnIbsvtnx4cZL2ZvcFlwez/iNupgoJRTB90IX0DBpQBWO+JKmFE7gTQSEPoBFMH/wCv8DhoFgNF1oP85ZgJ67CF1t/MlAimDb4CL5c9rDAB5Rl2IVDuIXxDpYIpgvehF/k8AZ3kLjBbYcHs07m4x0sEUwXdFD0428uGsHiBv+3CP5zvwBWVOuXgUn1xwAAAABJRU5ErkJg\"></td><td style='text-align:center;vertical-align:middle; margin: 0.5em;border:1px #90999f solid;border-collapse:collapse'><img style='max-width: 100px; max-height:100px;display:inline' src=\"data:image/png;base64,iVBORw0KGgoAAAANSUhEUgAAAHAAAABwCAAAAADji6uXAAAABGdBTUEAALGPC/xhBQAAAAJiS0dEAP+Hj8y/AAAAB3RJTUUH4gMTFxYt0nrO3wAAAtxJREFUaN7t2kmojWEcx/EbGXOVIWFh6JIhkQiJklIkGSIWMi+EsLAQMkSRlVhgR5EFikQyrRQyZFhQyJTZlXnm+n7LWzeLc84t9zlv+X82dzrv83sXz/h/bkVNYhURGIERGIH/UeAPfMV7PMVzvMZbvMMnfMNPRGD+Ag17jAvYh1VYiBkYj4lYj0O4hJO4gUf4jr/b88UiMG3gMyxBd7RBq1oq0RTt0AvDMAYL4Isdh+G+xAH49SYiMG2gA9tO0R8d0R7N0QCN0Bit4Qv4vX/rgIGYg5WYBH+2kx1BBKYNdOCfxyYsxlwMQjPYabphCqaiL+xEvoiNL8JMjMRwzMIDRGDaQL3BbVzFaayFA90ONB37cRY7MA5V2A5f1M87AZzBZdRuNwLTBbo5cuF0Qa3GMdgpOmMprsDPfMFFrIZhPvsLPpc9H4HlCcz4sA3fgxOBE/oIHEbWmKF2MDfLxdqLwPSBGQ82bo5WoB+W4Ql8oVLbiMDyBtrwRzjInbyHYC88sNYlNALLF5iFGuDi2xtOAptxHXaqCMx/YBb6AuuQHWA8+Di5u4GOwPwHygX5FiwWdYWTwG64ABcr9kVgPgJlgfYUJqMTPKAehQXcQpN5BOYn0EZf4SBGoScsKFjULfRcBOYn0AH+GS/hAdViXx9sgb+PwPwGGmQB9yG8JDkBC3hN0BLz4eVYBOYv0CA3wS68TtJugOfBwp5Fv4aw8LccTuARmJ9AJ2kXWzuJQRZqvbA0xE5S+YcDfzB2olB7EZgu0CALs+ewBxvgQtsFLeBA95LLjuLBdDbcDN9FBJY30MXzPrzk2IppsEE3u152ebHlJeYAjMZGuCH2YtmJoaaICKz/wDvYhgnoAQd0W1hAMGgoLM66AbZA+wGlFoUisP4D7TBuimzQg6adYizcGK3BLlyDh5hSikARmD7QC0Y3uf7DnJfOboYczC7AFti93KrrxUgEpg1MIQL/ud8ZLbNZd2Wu/QAAAABJRU5ErkJg\"></td><td style='text-align:center;vertical-align:middle; margin: 0.5em;border:1px #90999f solid;border-collapse:collapse'><img style='max-width: 100px; max-height:100px;display:inline' src=\"data:image/png;base64,iVBORw0KGgoAAAANSUhEUgAAAHAAAABwCAAAAADji6uXAAAABGdBTUEAALGPC/xhBQAAAAJiS0dEAP+Hj8y/AAAAB3RJTUUH4gMTFxYt0nrO3wAAAyxJREFUaN7t2knIzVEYx/E3mTMTNsYMEZGpZIhkCBlCWJgKocwLwwYb4wYZUqQIWQiFIiGSoQwRkinzPGaev996b93eeqfFvf+7eD4b9Xrv+SnnPPec55y8f1mWF4E5F/gXv/ELP/ERT/EQL/AFEZi7gQY4+HmcxWVsxmgMxAKcwg9EYPKBqcnhh7/iJbZiPoZiBKahM2qgJabjBPz9CMxuoIMX/JkfegInxn4sRy80QVM4SWZhEhZiE87gPf4gArMX6F+6oL/hHe7jCg5jDaagP9qiJiqgDVZiH/y9S3gAC3nB8SMws4Eu7NQX6C0cxXpYhEeiNSqhLCrkq4w+uInHeI3PsECkT5YIzE6gi/siXMDd0RGt4OKug4ooD4tzAzREM0xFeoEuSgRmNtAFfxvzUBcGOEHKpDHMf8wojMV4bEAE5kagX7wu2iNwwC6wSNeDYS56f7YNN2BxOAAnmoeZCEw+MMUCfhwbsQJj4MKvj5kwyAnmYbOwIh2ByQbKSfAKd7AXLnYL9TLcxd80JQ2LwOwGysEMNnQG3ERNhg0EJ01pgiIwmcAUv1wt6MPRDatwDY/wFqWZOBGYTKAs6HswAD0xG6vhIdRDjAdYi3hx4RGYXKCDPYebXgu5BxwbeP3gofUqPIwWVxAiMLlA2XRwse/CRDSHm2MPOBOwE/dQ1MSJwGQDU6E2XW3geaiZg+r5emA7bAoWFhqByQemuLmyoF+HzaNyaASbuJ8QgbkdaIG2kJ+GhdsCYKDNviUwsLDPRmCygS56B/PiZC2GoQWqojZ6Yws+IAJzK9ANlIO4yHfAxp9NIieKTb9a8OL5GNwQFzVWBGY30CAH8LByCIvhl6yNPi9MnCztsQhuhNMfeURgsoEG2Xy1IeRAPvLwcYdFukq+xhiMdXAyfUdxYRGY+UD/071wPgebBePQAQ7uRteFblgneCF2ED4IKclkicDsBFqgT8KHAjbyfJhTDS5yi7R/tsNSXICHFr+USxoWgZkPfAY3QV3hwwDD3BxZoIfABvtueDFtYSjtJUkEZj7Qh8ReUPbFIPgwYC68uPRRowXhDUpzQRmBGQ/8D/QwdfobAqREAAAAAElFTkSuQmCC\"></td><td style='text-align:center;vertical-align:middle; margin: 0.5em;border:1px #90999f solid;border-collapse:collapse'><img style='max-width: 100px; max-height:100px;display:inline' src=\"data:image/png;base64,iVBORw0KGgoAAAANSUhEUgAAAHAAAABwCAAAAADji6uXAAAABGdBTUEAALGPC/xhBQAAAAJiS0dEAP+Hj8y/AAAAB3RJTUUH4gMTFxYt0nrO3wAAAk9JREFUaN7t2UuITXEcwPEJ4xEikzzynKJYDAvy3lDKiiwsPEZEmvLIyopQItlQKFFCEWmaslAsaJqNqVkgUiy8xjuPMIMxfL91b92myR3TuP+Tfp/VdLtzvqfu+f//5/xP2a8SK4tgBCMYwQhGMIIRjGAEuxFsxWs04znu4Q7u4wk+4TOe4QGe4isimI1gGx5iP7ZgG7bCv2uwHquwERuwCX5+A0exE1fRggimCfrFBszBMAzFKIxGBQZiAIZgOCZgCTajEtPhyb5BBNMEHcC3sAbzMAb90AuGDFRhHMoxCydxDAdwHLfxAxFME3Tgv8IVXMIKjIQXz2w4sA9jO5bC0As057zFdxQeM4KlDaod32B8H2ZiEU7DAe3k4KJ8Ey7Ihf+njseLYOmDcuC+hIvvNKzDdXgS+e/8zCl2rAimCfrje0N8AS7Gq1GLj/DzroQimDaYj/qgshxGq3EGTfiCrkYjmC4oJ4BzWIixMLwLj/Cnh9AIZieo97gGH0rHYxL24C4KJ/MIZjfoBOCN02OchdEpOIgPiGD2g14YLrzeVDkRTEZfLIabSJ3d/EYwfdADu8gauYy9cKNhAdwwGoyVcAOh2OCPYGmC/vBuBhhxg70eR7AME2GgPwbBzb75cEPhHYqdfAT/fdAXHnU4DzfPvWGaixEoz/FCmYG1OARPyE2gbj2QRrDHg8byA7oPnJh7wwtkKhzwp9AIF+GOm3cRTB+UDycXsRs74GR9Ar648qWlE3SxhTaCaYOdMfI3G0ARzF6wp0QwghGM4H8Y/A2Ror7336C8TAAAAABJRU5ErkJg\"></td><td style='text-align:center;vertical-align:middle; margin: 0.5em;border:1px #90999f solid;border-collapse:collapse'><img style='max-width: 100px; max-height:100px;display:inline' src=\"data:image/png;base64,iVBORw0KGgoAAAANSUhEUgAAAHAAAABwCAAAAADji6uXAAAABGdBTUEAALGPC/xhBQAAAAJiS0dEAP+Hj8y/AAAAB3RJTUUH4gMTFxYt0nrO3wAAAlZJREFUaN7t2U1oz3EcwPFd5GllrSWnmZHLXJBiBzkZZZGDi8iVkBzcFslDO5AorVZD7p4LOzjIhgORg8yWCUseI0/zsHm/a7/bv///v4Pf/2t9XpfNVr+32vf33ff7WdVozqoiGMEIRjCCEZxgwRH8xjd8wo8xfi2CaQd/4h2e4j4u4wxu4hx2YB8GEMHKB10Y3/EWPvw0fNhmrEALmrEU27AaM7AR/YhgZYMujsfYj4WYjVrUYBqmw39PxWK04yi60AP/oxGsbHAYt7EbjZgDF8Qk+LEVe7AOW/EEn/EVbuKFnhnBfIP6gHs4DzfmTZiJNbiI53DTvgZjpZ4XwfyD+gMPRq9xEvVYiztwc3dxuUj8PIJpBjNfcBe+6LNwFh6CywlFMI2gD/bl9iX35ffwdBwPUOiXbQTTC2ZRLzIdmI9F2AUPW8UuohFMJ5gZwgkswVy0oQ+lohFMJ+iDX+EYlsHoQbxABP+PoJfVj3gIF4wX1OW4Cr8XwfSCI2M88LowPExdgi//BkyGi+cKPBhHMJ1gNkg35IbtAeoIHCKsxDzUoRoekLMLTgTTCHoRdcjjRdRh3QGsh4M+D8IO96bAjXsLHDy8QbFnRjCfoD/0bHPuxmH4ci+AC8ShbAMcym7HdThQ98I6WkIE8wl6uXyEU1gFh+uG/CXrUMjBrAvoFoy4WZc7WIhgPkEvJTvRBBeIw3UHCC6cQ7gBL6VuDOVEIph/cBCd2AsD/vHqAnrhRv4L4w1FMN+gL74Hpmd4iffwBTc0nmFsBCsX/JciGMEIRnACBv8CkcMr9oWQeXgAAAAASUVORK5C\"></td></tr></tbody></table>"
      ],
      "text/plain": [
       "8×2 Array{Array{ColorTypes.Gray{Float32},2},2}:\n",
       " ColorTypes.Gray{Float32}[Gray{Float32}(1.0) Gray{Float32}(1.0) … Gray{Float32}(1.0) Gray{Float32}(1.0); Gray{Float32}(1.0) Gray{Float32}(1.0) … Gray{Float32}(1.0) Gray{Float32}(1.0); … ; Gray{Float32}(1.0) Gray{Float32}(1.0) … Gray{Float32}(1.0) Gray{Float32}(1.0); Gray{Float32}(1.0) Gray{Float32}(1.0) … Gray{Float32}(1.0) Gray{Float32}(1.0)]  …  ColorTypes.Gray{Float32}[Gray{Float32}(1.0) Gray{Float32}(1.0) … Gray{Float32}(1.0) Gray{Float32}(1.0); Gray{Float32}(1.0) Gray{Float32}(1.0) … Gray{Float32}(1.0) Gray{Float32}(1.0); … ; Gray{Float32}(1.0) Gray{Float32}(1.0) … Gray{Float32}(1.0) Gray{Float32}(1.0); Gray{Float32}(1.0) Gray{Float32}(1.0) … Gray{Float32}(1.0) Gray{Float32}(1.0)]\n",
       " ColorTypes.Gray{Float32}[Gray{Float32}(1.0) Gray{Float32}(1.0) … Gray{Float32}(1.0) Gray{Float32}(1.0); Gray{Float32}(1.0) Gray{Float32}(1.0) … Gray{Float32}(1.0) Gray{Float32}(1.0); … ; Gray{Float32}(1.0) Gray{Float32}(1.0) … Gray{Float32}(1.0) Gray{Float32}(1.0); Gray{Float32}(1.0) Gray{Float32}(1.0) … Gray{Float32}(1.0) Gray{Float32}(1.0)]     ColorTypes.Gray{Float32}[Gray{Float32}(1.0) Gray{Float32}(1.0) … Gray{Float32}(1.0) Gray{Float32}(1.0); Gray{Float32}(1.0) Gray{Float32}(1.0) … Gray{Float32}(1.0) Gray{Float32}(1.0); … ; Gray{Float32}(1.0) Gray{Float32}(1.0) … Gray{Float32}(1.0) Gray{Float32}(1.0); Gray{Float32}(1.0) Gray{Float32}(1.0) … Gray{Float32}(1.0) Gray{Float32}(1.0)]\n",
       " ColorTypes.Gray{Float32}[Gray{Float32}(1.0) Gray{Float32}(1.0) … Gray{Float32}(1.0) Gray{Float32}(1.0); Gray{Float32}(1.0) Gray{Float32}(1.0) … Gray{Float32}(1.0) Gray{Float32}(1.0); … ; Gray{Float32}(1.0) Gray{Float32}(1.0) … Gray{Float32}(1.0) Gray{Float32}(1.0); Gray{Float32}(1.0) Gray{Float32}(1.0) … Gray{Float32}(1.0) Gray{Float32}(1.0)]     ColorTypes.Gray{Float32}[Gray{Float32}(1.0) Gray{Float32}(1.0) … Gray{Float32}(1.0) Gray{Float32}(1.0); Gray{Float32}(1.0) Gray{Float32}(1.0) … Gray{Float32}(1.0) Gray{Float32}(1.0); … ; Gray{Float32}(1.0) Gray{Float32}(1.0) … Gray{Float32}(1.0) Gray{Float32}(1.0); Gray{Float32}(1.0) Gray{Float32}(1.0) … Gray{Float32}(1.0) Gray{Float32}(1.0)]\n",
       " ColorTypes.Gray{Float32}[Gray{Float32}(1.0) Gray{Float32}(1.0) … Gray{Float32}(1.0) Gray{Float32}(1.0); Gray{Float32}(1.0) Gray{Float32}(1.0) … Gray{Float32}(1.0) Gray{Float32}(1.0); … ; Gray{Float32}(1.0) Gray{Float32}(1.0) … Gray{Float32}(1.0) Gray{Float32}(1.0); Gray{Float32}(1.0) Gray{Float32}(1.0) … Gray{Float32}(1.0) Gray{Float32}(1.0)]     ColorTypes.Gray{Float32}[Gray{Float32}(1.0) Gray{Float32}(1.0) … Gray{Float32}(1.0) Gray{Float32}(1.0); Gray{Float32}(1.0) Gray{Float32}(1.0) … Gray{Float32}(1.0) Gray{Float32}(1.0); … ; Gray{Float32}(1.0) Gray{Float32}(1.0) … Gray{Float32}(1.0) Gray{Float32}(1.0); Gray{Float32}(1.0) Gray{Float32}(1.0) … Gray{Float32}(1.0) Gray{Float32}(1.0)]\n",
       " ColorTypes.Gray{Float32}[Gray{Float32}(1.0) Gray{Float32}(1.0) … Gray{Float32}(1.0) Gray{Float32}(1.0); Gray{Float32}(1.0) Gray{Float32}(1.0) … Gray{Float32}(1.0) Gray{Float32}(1.0); … ; Gray{Float32}(1.0) Gray{Float32}(1.0) … Gray{Float32}(1.0) Gray{Float32}(1.0); Gray{Float32}(1.0) Gray{Float32}(1.0) … Gray{Float32}(1.0) Gray{Float32}(1.0)]     ColorTypes.Gray{Float32}[Gray{Float32}(1.0) Gray{Float32}(1.0) … Gray{Float32}(1.0) Gray{Float32}(1.0); Gray{Float32}(1.0) Gray{Float32}(1.0) … Gray{Float32}(1.0) Gray{Float32}(1.0); … ; Gray{Float32}(1.0) Gray{Float32}(1.0) … Gray{Float32}(1.0) Gray{Float32}(1.0); Gray{Float32}(1.0) Gray{Float32}(1.0) … Gray{Float32}(1.0) Gray{Float32}(1.0)]\n",
       " ColorTypes.Gray{Float32}[Gray{Float32}(1.0) Gray{Float32}(1.0) … Gray{Float32}(1.0) Gray{Float32}(1.0); Gray{Float32}(1.0) Gray{Float32}(1.0) … Gray{Float32}(1.0) Gray{Float32}(1.0); … ; Gray{Float32}(1.0) Gray{Float32}(1.0) … Gray{Float32}(1.0) Gray{Float32}(1.0); Gray{Float32}(1.0) Gray{Float32}(1.0) … Gray{Float32}(1.0) Gray{Float32}(1.0)]  …  ColorTypes.Gray{Float32}[Gray{Float32}(1.0) Gray{Float32}(1.0) … Gray{Float32}(1.0) Gray{Float32}(1.0); Gray{Float32}(1.0) Gray{Float32}(1.0) … Gray{Float32}(1.0) Gray{Float32}(1.0); … ; Gray{Float32}(1.0) Gray{Float32}(1.0) … Gray{Float32}(1.0) Gray{Float32}(1.0); Gray{Float32}(1.0) Gray{Float32}(1.0) … Gray{Float32}(1.0) Gray{Float32}(1.0)]\n",
       " ColorTypes.Gray{Float32}[Gray{Float32}(1.0) Gray{Float32}(1.0) … Gray{Float32}(1.0) Gray{Float32}(1.0); Gray{Float32}(1.0) Gray{Float32}(1.0) … Gray{Float32}(1.0) Gray{Float32}(1.0); … ; Gray{Float32}(1.0) Gray{Float32}(1.0) … Gray{Float32}(1.0) Gray{Float32}(1.0); Gray{Float32}(1.0) Gray{Float32}(1.0) … Gray{Float32}(1.0) Gray{Float32}(1.0)]     ColorTypes.Gray{Float32}[Gray{Float32}(1.0) Gray{Float32}(1.0) … Gray{Float32}(1.0) Gray{Float32}(1.0); Gray{Float32}(1.0) Gray{Float32}(1.0) … Gray{Float32}(1.0) Gray{Float32}(1.0); … ; Gray{Float32}(1.0) Gray{Float32}(1.0) … Gray{Float32}(1.0) Gray{Float32}(1.0); Gray{Float32}(1.0) Gray{Float32}(1.0) … Gray{Float32}(1.0) Gray{Float32}(1.0)]\n",
       " ColorTypes.Gray{Float32}[Gray{Float32}(1.0) Gray{Float32}(1.0) … Gray{Float32}(1.0) Gray{Float32}(1.0); Gray{Float32}(1.0) Gray{Float32}(1.0) … Gray{Float32}(1.0) Gray{Float32}(1.0); … ; Gray{Float32}(1.0) Gray{Float32}(1.0) … Gray{Float32}(1.0) Gray{Float32}(1.0); Gray{Float32}(1.0) Gray{Float32}(1.0) … Gray{Float32}(1.0) Gray{Float32}(1.0)]     ColorTypes.Gray{Float32}[Gray{Float32}(1.0) Gray{Float32}(1.0) … Gray{Float32}(1.0) Gray{Float32}(1.0); Gray{Float32}(1.0) Gray{Float32}(1.0) … Gray{Float32}(1.0) Gray{Float32}(1.0); … ; Gray{Float32}(1.0) Gray{Float32}(1.0) … Gray{Float32}(1.0) Gray{Float32}(1.0); Gray{Float32}(1.0) Gray{Float32}(1.0) … Gray{Float32}(1.0) Gray{Float32}(1.0)]"
      ]
     },
     "execution_count": 17,
     "metadata": {},
     "output_type": "execute_result"
    }
   ],
   "source": [
    "[MNIST.convert2image(reshape(augment(train_x[:,:,:,1], pl), (28, 28))) for i in 1:8, j in 1:2]"
   ]
  },
  {
   "cell_type": "markdown",
   "metadata": {},
   "source": [
    "As we can see, we can achieve a wide range of effects, from\n",
    "more subtle to more pronounced. The important part is that all\n",
    "examples are still clearly representative of the true label."
   ]
  },
  {
   "cell_type": "markdown",
   "metadata": {},
   "source": [
    "Next, we have to adapt the function `train_baseline` to make\n",
    "use of our augmentation pipeline. To integrate Augmentor\n",
    "efficiently, there are three necessary changes we have to\n",
    "make."
   ]
  },
  {
   "cell_type": "markdown",
   "metadata": {},
   "source": [
    "1. Preallocate a buffer with the same size and element type\n",
    "   that each batch has.\n",
    "\n",
    "   ```\n",
    "   batch_x_aug = zeros(Float32, 28, 28, 1, batchsize)\n",
    "   ```"
   ]
  },
  {
   "cell_type": "markdown",
   "metadata": {},
   "source": [
    "2. Add a call to [`augmentbatch!`](@ref) in the inner loop of\n",
    "   the batch iterator using our pipeline and buffer.\n",
    "\n",
    "   ```\n",
    "   augmentbatch!(batch_x_aug, batch_x_org, pl)\n",
    "   ```"
   ]
  },
  {
   "cell_type": "markdown",
   "metadata": {},
   "source": [
    "3. Replace `batch_x_org` with `batch_x_aug` in the constructor\n",
    "   of `KnetArray`.\n",
    "\n",
    "   ```\n",
    "   batch_x = KnetArray{Float32}(batch_x_aug)\n",
    "   ```"
   ]
  },
  {
   "cell_type": "markdown",
   "metadata": {},
   "source": [
    "Applying these changes to our `train_baseline` function\n",
    "will give us something similar to the following function.\n",
    "Note how all the other parts of the function remain exactly\n",
    "the same as before."
   ]
  },
  {
   "cell_type": "code",
   "execution_count": 18,
   "metadata": {},
   "outputs": [
    {
     "data": {
      "text/plain": [
       "train_augmented (generic function with 1 method)"
      ]
     },
     "execution_count": 18,
     "metadata": {},
     "output_type": "execute_result"
    }
   ],
   "source": [
    "function train_augmented(; epochs = 500, batchsize = 100, lr = .03)\n",
    "    w = weights()\n",
    "    log = MVHistory()\n",
    "    batch_x_aug = zeros(Float32, size(train_x,1), size(train_x,2), 1, batchsize)\n",
    "    for epoch in 1:epochs\n",
    "        for (batch_x_cpu, batch_y) in eachbatch((train_x ,train_y), batchsize)\n",
    "            augmentbatch!(CPUThreads(), batch_x_aug, batch_x_cpu, pl)\n",
    "            batch_x = KnetArray{Float32}(batch_x_aug)\n",
    "            g = costgrad(w, batch_x, batch_y)\n",
    "            Knet.update!(w, g, lr = lr)\n",
    "        end\n",
    "\n",
    "        if (epoch % 5) == 0\n",
    "            train = acc(w, train_x, train_y)\n",
    "            test  = acc(w, test_x,  test_y)\n",
    "            @trace log epoch train test\n",
    "            msg = \"epoch \" * lpad(epoch,4) * \": train accuracy \" * rpad(round(train,3),5,\"0\") * \", test accuracy \" * rpad(round(test,3),5,\"0\")\n",
    "            println(msg)\n",
    "        end\n",
    "    end\n",
    "    log\n",
    "end"
   ]
  },
  {
   "cell_type": "markdown",
   "metadata": {},
   "source": [
    "You may have noticed in the code above that we also pass a\n",
    "`CPUThreads()` as the first argument to [`augmentbatch!`](@ref).\n",
    "This instructs Augmentor to process the images of the batch in\n",
    "parallel using multi-threading. For this to work properly you\n",
    "will need to set the environment variable `JULIA_NUM_THREADS`\n",
    "to the number of threads you wish to use. You can check how\n",
    "many threads are used with the function `Threads.nthreads()`"
   ]
  },
  {
   "cell_type": "code",
   "execution_count": 19,
   "metadata": {},
   "outputs": [
    {
     "name": "stdout",
     "output_type": "stream",
     "text": [
      "Threads.nthreads() = 12\n"
     ]
    }
   ],
   "source": [
    "@show Threads.nthreads();"
   ]
  },
  {
   "cell_type": "markdown",
   "metadata": {},
   "source": [
    "Now that all pieces are in place, let us train our network\n",
    "once more. We will use the same parameters except that now\n",
    "instead of the original training images we will be using\n",
    "randomly augmented images. This will cause every epoch to be\n",
    "different."
   ]
  },
  {
   "cell_type": "code",
   "execution_count": 20,
   "metadata": {},
   "outputs": [
    {
     "name": "stdout",
     "output_type": "stream",
     "text": [
      "epoch    5: train accuracy 0.506, test accuracy 0.450\n",
      "epoch   10: train accuracy 0.640, test accuracy 0.558\n",
      "epoch   15: train accuracy 0.712, test accuracy 0.659\n",
      "epoch   20: train accuracy 0.788, test accuracy 0.734\n",
      "epoch   25: train accuracy 0.856, test accuracy 0.805\n",
      "epoch   30: train accuracy 0.866, test accuracy 0.840\n",
      "epoch   35: train accuracy 0.894, test accuracy 0.853\n",
      "epoch   40: train accuracy 0.904, test accuracy 0.864\n",
      "epoch   45: train accuracy 0.904, test accuracy 0.866\n",
      "epoch   50: train accuracy 0.930, test accuracy 0.891\n",
      "epoch   55: train accuracy 0.918, test accuracy 0.879\n",
      "epoch   60: train accuracy 0.938, test accuracy 0.896\n",
      "epoch   65: train accuracy 0.942, test accuracy 0.913\n",
      "epoch   70: train accuracy 0.948, test accuracy 0.916\n",
      "epoch   75: train accuracy 0.944, test accuracy 0.904\n",
      "epoch   80: train accuracy 0.960, test accuracy 0.919\n",
      "epoch   85: train accuracy 0.962, test accuracy 0.923\n",
      "epoch   90: train accuracy 0.972, test accuracy 0.929\n",
      "epoch   95: train accuracy 0.974, test accuracy 0.933\n",
      "epoch  100: train accuracy 0.972, test accuracy 0.928\n",
      "epoch  105: train accuracy 0.976, test accuracy 0.927\n",
      "epoch  110: train accuracy 0.982, test accuracy 0.932\n",
      "epoch  115: train accuracy 0.986, test accuracy 0.940\n",
      "epoch  120: train accuracy 0.994, test accuracy 0.943\n",
      "epoch  125: train accuracy 0.972, test accuracy 0.908\n",
      "epoch  130: train accuracy 0.992, test accuracy 0.945\n",
      "epoch  135: train accuracy 0.994, test accuracy 0.936\n",
      "epoch  140: train accuracy 0.994, test accuracy 0.937\n",
      "epoch  145: train accuracy 0.992, test accuracy 0.937\n",
      "epoch  150: train accuracy 0.996, test accuracy 0.942\n",
      "epoch  155: train accuracy 0.994, test accuracy 0.934\n",
      "epoch  160: train accuracy 0.996, test accuracy 0.934\n",
      "epoch  165: train accuracy 0.998, test accuracy 0.948\n",
      "epoch  170: train accuracy 0.998, test accuracy 0.948\n",
      "epoch  175: train accuracy 0.996, test accuracy 0.950\n",
      "epoch  180: train accuracy 0.998, test accuracy 0.948\n",
      "epoch  185: train accuracy 0.998, test accuracy 0.953\n",
      "epoch  190: train accuracy 0.998, test accuracy 0.955\n",
      "epoch  195: train accuracy 0.996, test accuracy 0.944\n",
      "epoch  200: train accuracy 0.996, test accuracy 0.947\n",
      " 31.956373 seconds (37.81 M allocations: 24.035 GiB, 9.55% gc time)\n"
     ]
    }
   ],
   "source": [
    "train_augmented(epochs=1) # warm-up\n",
    "augmented_log = @time train_augmented(epochs=200);"
   ]
  },
  {
   "cell_type": "markdown",
   "metadata": {},
   "source": [
    "As we can see, our network reaches far better results on our\n",
    "testset than our baseline network did. However, we can also\n",
    "see that the training took quite a bit longer than before.\n",
    "This difference generally decreases as the complexity of the\n",
    "utilized neural network increases. Yet another way to improve\n",
    "performance (aside from simplifying the augmentation pipeline)\n",
    "would be to increase the number of available threads."
   ]
  },
  {
   "cell_type": "markdown",
   "metadata": {},
   "source": [
    "## Improving Performance"
   ]
  },
  {
   "cell_type": "markdown",
   "metadata": {},
   "source": [
    "One of the most effective ways to make the most out of the\n",
    "available resources is to augment the next (couple) mini-batch\n",
    "while the current minibatch is being processed on the GPU.\n",
    "We can do this via julia's build in parallel computing\n",
    "capabilities"
   ]
  },
  {
   "cell_type": "markdown",
   "metadata": {},
   "source": [
    "First we need a worker process that will be responsible for\n",
    "augmenting our dataset each epoch. This worker also needs\n",
    "access to a couple of our packages"
   ]
  },
  {
   "cell_type": "code",
   "execution_count": 21,
   "metadata": {},
   "outputs": [],
   "source": [
    "addprocs(1)\n",
    "@everywhere using Augmentor, MLDataUtils"
   ]
  },
  {
   "cell_type": "markdown",
   "metadata": {},
   "source": [
    "Next, we replace the inner [`eachbatch`](@ref) loop with a\n",
    "more complicated version using a `RemoteChannel` to exchange\n",
    "and queue the augmented data."
   ]
  },
  {
   "cell_type": "code",
   "execution_count": 22,
   "metadata": {},
   "outputs": [
    {
     "data": {
      "text/plain": [
       "async_train_augmented (generic function with 1 method)"
      ]
     },
     "execution_count": 22,
     "metadata": {},
     "output_type": "execute_result"
    }
   ],
   "source": [
    "function async_train_augmented(; epochs = 500, batchsize = 100, lr = .03)\n",
    "    w = weights()\n",
    "    log = MVHistory()\n",
    "    for epoch in 1:epochs\n",
    "        @sync begin\n",
    "            local_ch = Channel{Tuple}(4) # prepare up to 4 minibatches in adavnce\n",
    "            remote_ch = RemoteChannel(()->local_ch)\n",
    "            @spawn begin\n",
    "                # This block is executed on the worker process\n",
    "                batch_x_aug = zeros(Float32, size(train_x,1), size(train_x,2), 1, batchsize)\n",
    "                for (batch_x_cpu, batch_y) in eachbatch((train_x ,train_y), batchsize)\n",
    "                    # we are still using multithreading\n",
    "                    augmentbatch!(CPUThreads(), batch_x_aug, batch_x_cpu, pl)\n",
    "                    put!(remote_ch, (batch_x_aug, batch_y))\n",
    "                end\n",
    "                close(remote_ch)\n",
    "            end\n",
    "            @async begin\n",
    "                # This block is executed on the main process\n",
    "                for (batch_x_aug, batch_y) in local_ch\n",
    "                    batch_x = KnetArray{Float32}(batch_x_aug)\n",
    "                    g = costgrad(w, batch_x, batch_y)\n",
    "                    Knet.update!(w, g, lr = lr)\n",
    "                end\n",
    "            end\n",
    "        end\n",
    "\n",
    "        if (epoch % 5) == 0\n",
    "            train = acc(w, train_x, train_y)\n",
    "            test  = acc(w, test_x,  test_y)\n",
    "            @trace log epoch train test\n",
    "            msg = \"epoch \" * lpad(epoch,4) * \": train accuracy \" * rpad(round(train,3),5,\"0\") * \", test accuracy \" * rpad(round(test,3),5,\"0\")\n",
    "            println(msg)\n",
    "        end\n",
    "    end\n",
    "    log\n",
    "end"
   ]
  },
  {
   "cell_type": "markdown",
   "metadata": {},
   "source": [
    "Note that for this toy example the overhead of this approach\n",
    "is greater than the benefit."
   ]
  },
  {
   "cell_type": "markdown",
   "metadata": {},
   "source": [
    "## Visualizing the Results"
   ]
  },
  {
   "cell_type": "markdown",
   "metadata": {},
   "source": [
    "Before we end this tutorial, let us make use the\n",
    "[Plots.jl](https://github.com/JuliaPlots/Plots.jl) package to\n",
    "visualize and discuss the recorded training curves.\n",
    "We will plot the accuracy curves of both networks side by side\n",
    "in order to get a good feeling about their differences."
   ]
  },
  {
   "cell_type": "code",
   "execution_count": 23,
   "metadata": {},
   "outputs": [
    {
     "name": "stderr",
     "output_type": "stream",
     "text": [
      "WARNING: No working GUI backend found for matplotlib\n"
     ]
    },
    {
     "data": {
      "text/plain": [
       "Plots.PyPlotBackend()"
      ]
     },
     "execution_count": 23,
     "metadata": {},
     "output_type": "execute_result"
    }
   ],
   "source": [
    "using Plots\n",
    "pyplot()"
   ]
  },
  {
   "cell_type": "code",
   "execution_count": 24,
   "metadata": {},
   "outputs": [
    {
     "data": {
      "text/html": [
       "<img src=\"data:image/png;base64,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\" />"
      ]
     },
     "execution_count": 24,
     "metadata": {},
     "output_type": "execute_result"
    }
   ],
   "source": [
    "plt = plot(\n",
    "    plot(baseline_log,  title=\"Baseline\",  ylim=(.5,1)),\n",
    "    plot(augmented_log, title=\"Augmented\", ylim=(.5,1)),\n",
    "    size = (900, 400),\n",
    "    xlab = \"Epoch\",\n",
    "    ylab = \"Accuracy\",\n",
    "    markersize = 1\n",
    ")\n",
    "plt"
   ]
  },
  {
   "cell_type": "markdown",
   "metadata": {},
   "source": [
    "Note how the accuracy on the (unaltered) training set\n",
    "increases faster for the baseline network than for the\n",
    "augmented one. This is to be expected, since our augmented\n",
    "network doesn't actually use the unaltered images for\n",
    "training, and thus has not actually seen them. Given this\n",
    "information, it is worth pointing out explicitly how the\n",
    "accuracy on training set is still greater than on the test set\n",
    "for the augmented network as well. This is also not a\n",
    "surprise, given that the augmented images are likely more\n",
    "similar to their original ones than to the test images."
   ]
  },
  {
   "cell_type": "markdown",
   "metadata": {},
   "source": [
    "For the baseline network, the accuracy on the test set\n",
    "plateaus quite quickly (around 90%). For the augmented network\n",
    "on the other hand, it the accuracy keeps increasing for quite\n",
    "a while longer."
   ]
  },
  {
   "cell_type": "markdown",
   "metadata": {},
   "source": [
    "## References\n",
    "\n",
    "**MNIST1998**: LeCun, Yan, Corinna Cortes, Christopher J.C. Burges. [\"The MNIST database of handwritten digits\"](http://yann.lecun.com/exdb/mnist/) Website. 1998."
   ]
  },
  {
   "cell_type": "code",
   "execution_count": 25,
   "metadata": {},
   "outputs": [],
   "source": []
  }
 ],
 "metadata": {
  "kernelspec": {
   "display_name": "Julia 0.6.3",
   "language": "julia",
   "name": "julia-0.6"
  },
  "language_info": {
   "file_extension": ".jl",
   "mimetype": "application/julia",
   "name": "julia",
   "version": "0.6.3"
  }
 },
 "nbformat": 4,
 "nbformat_minor": 2
}
