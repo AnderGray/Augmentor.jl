{
 "cells": [
  {
   "cell_type": "markdown",
   "metadata": {},
   "source": [
    "# MNIST: Knet.jl CNN"
   ]
  },
  {
   "cell_type": "markdown",
   "metadata": {},
   "source": [
    "In this tutorial we will adapt the\n",
    "[MNIST example](http://denizyuret.github.io/Knet.jl/latest/tutorial.html#Convolutional-neural-network-1)\n",
    "from [Knet.jl](https://github.com/denizyuret/Knet.jl)\n",
    "to utilize a custom augmentation pipeline.\n",
    "In order to showcase the effect that image augmentation can\n",
    "have on a neural network's ability to generalize, we will\n",
    "limit the training set to just the first 500 images (of the\n",
    "available 60,000!). For more information on the dataset see\n",
    "[MNIST1998]."
   ]
  },
  {
   "cell_type": "markdown",
   "metadata": {},
   "source": [
    "## Preparing the MNIST dataset"
   ]
  },
  {
   "cell_type": "markdown",
   "metadata": {},
   "source": [
    "In order to access, prepare, and visualize the MNIST images we\n",
    "employ the help of three additional Julia packages. In the\n",
    "interest of time and space we will not go into great detail\n",
    "about their functionality. Feel free to click on their\n",
    "respective names to find out more information about the\n",
    "utility they can provide.\n",
    "\n",
    "- [MLDatasets.jl](https://github.com/JuliaML/MLDatasets.jl)\n",
    "  has an MNIST submodule that offers a convenience interface\n",
    "  to read the MNIST database.\n",
    "\n",
    "- [Images.jl](https://github.com/JuliaImages/Images.jl) will\n",
    "  provide us with the necessary tools to process and display\n",
    "  the image data in Julia / Juypter.\n",
    "\n",
    "- [MLDataUtils.jl](https://github.com/JuliaML/MLDataUtils.jl)\n",
    "  implements a variety of functions to convert and partition\n",
    "  Machine Learning datasets. This will help us prepare the\n",
    "  MNIST data to be used with Knet.jl."
   ]
  },
  {
   "cell_type": "code",
   "execution_count": 1,
   "metadata": {},
   "outputs": [],
   "source": [
    "using Images, MLDatasets, MLDataUtils\n",
    "srand(42);"
   ]
  },
  {
   "cell_type": "markdown",
   "metadata": {},
   "source": [
    "As you may have seen previously in the\n",
    "[elastic distortions tutorial](@ref elastic), the function\n",
    "`MNIST.traintensor` returns the MNIST training images\n",
    "corresponding to the given indices as a multi-dimensional\n",
    "array. These images are stored in the native horizontal-major\n",
    "memory layout as a single array. Because we specify that\n",
    "the `eltype` of that array should be `Float32`, all the\n",
    "individual values are scaled to be between `0.0` and `1.0`.\n",
    "Also note, how the observations are laid out along the last\n",
    "array dimension"
   ]
  },
  {
   "cell_type": "code",
   "execution_count": 2,
   "metadata": {},
   "outputs": [
    {
     "name": "stdout",
     "output_type": "stream",
     "text": [
      "summary(MNIST.traintensor(Float32, 1:500)) = \"28×28×500 Array{Float32,3}\"\n"
     ]
    }
   ],
   "source": [
    "@show summary(MNIST.traintensor(Float32, 1:500));"
   ]
  },
  {
   "cell_type": "markdown",
   "metadata": {},
   "source": [
    "The corresponding label of each image is stored as an integer\n",
    "value between `0` and `9`. That means that if the label has\n",
    "the value `3`, then the corresponding image is known to be a\n",
    "handwritten \"3\". To show a more concrete example, the\n",
    "following code reveals that the first training image denotes a\n",
    "\"5\" and the second training image a \"0\" (etc)."
   ]
  },
  {
   "cell_type": "code",
   "execution_count": 3,
   "metadata": {},
   "outputs": [
    {
     "name": "stdout",
     "output_type": "stream",
     "text": [
      "summary(MNIST.trainlabels(1:500)) = \"500-element Array{Int64,1}\"\n",
      "First eight labels: 5, 0, 4, 1, 9, 2, 1, 3\n"
     ]
    }
   ],
   "source": [
    "@show summary(MNIST.trainlabels(1:500))\n",
    "println(\"First eight labels: \", join(MNIST.trainlabels(1:8),\", \"))"
   ]
  },
  {
   "cell_type": "markdown",
   "metadata": {},
   "source": [
    "For Knet we will require a slightly format for the images\n",
    "and also the labels. More specifically, we add an additional\n",
    "singleton dimension of length 1 to our image array. Think of\n",
    "this as our single color channel (because MNIST images are gray).\n",
    "Additionally we will convert our labels to proper 1-based indices.\n",
    "This is because some functions provided by Knet expect the labels\n",
    "to be in this format. We will do all this by creating a little\n",
    "utility function that we will name `prepare_mnist`."
   ]
  },
  {
   "cell_type": "code",
   "execution_count": 4,
   "metadata": {},
   "outputs": [
    {
     "data": {
      "text/plain": [
       "prepare_mnist"
      ]
     },
     "execution_count": 4,
     "metadata": {},
     "output_type": "execute_result"
    }
   ],
   "source": [
    "\"\"\"\n",
    "    prepare_mnist(images, labels) -> (X, Y)\n",
    "\n",
    "Change the dimension layout x1×x2×N of the given array\n",
    "`images` to x1×x2×1×N and return the result as `X`.\n",
    "The given integer vector `labels` is transformed into\n",
    "an integer vector denoting 1-based class indices.\n",
    "\"\"\"\n",
    "function prepare_mnist(images, labels)\n",
    "    X = reshape(images, (28, 28, 1, :))\n",
    "    Y = convertlabel(LabelEnc.Indices{Int8}, labels, 0:9)\n",
    "    X, Y\n",
    "end"
   ]
  },
  {
   "cell_type": "markdown",
   "metadata": {},
   "source": [
    "With `prepare_mnist` defined, we can now use it in conjunction\n",
    "with the functions in the `MLDatasets.MNIST` sub-module to load\n",
    "and prepare our training set. Recall that for this tutorial only\n",
    "the first 500 images of the training set will be used."
   ]
  },
  {
   "cell_type": "code",
   "execution_count": 5,
   "metadata": {},
   "outputs": [
    {
     "name": "stdout",
     "output_type": "stream",
     "text": [
      "summary(train_x) = \"28×28×1×500 Array{Float32,4}\"\n",
      "summary(train_y) = \"500-element Array{Int8,1}\"\n"
     ]
    },
    {
     "data": {
      "text/html": [
       "<table><tbody><tr><td style='text-align:center;vertical-align:middle; margin: 0.5em;border:1px #90999f solid;border-collapse:collapse'><img style='max-width: 100px; max-height:100px;display:inline' src=\"data:image/png;base64,iVBORw0KGgoAAAANSUhEUgAAAHAAAABwCAAAAADji6uXAAAABGdBTUEAALGPC/xhBQAAAAJiS0dEAP+Hj8y/AAAAB3RJTUUH4gIEExcf9BFAVAAAAZxJREFUaN7t2r0rRXEcx/Hb9ZASsioGmVhkUMqiKDaFwWSQQVZFpNgsJv4ByoiMBhmZFBkUi/K0SEomT+9POXW7nTqXuudBn9dyb93ueS/3d87vfM/NfcUs56CDDjrooIMOOpiC4DueCqxgDsO4wzhyqMEyHEw+eIMrbGIKY8iHaMEI9L4OvTiCg8kGT9GIfIRKbGHnxzEuEXZMB+MNamG3ISzSgyFogdcj6sfnYDJB2cMkNhDEuvAKfX4BnRAcTG9QXvAJHVjBbZQacDAdwcAsFOzDBxzMXlCLXTFFD+Bg9oJyDV1wtfGdwDp0UnAwO0HZRQOCC/Iq7uFgdoJyjgEE0WncwsHsBOUZuhGtgKL9cDBbwUA1FNRr2DDIwXQGz7CEQQSLvxNRG2QHkw9qaDeDJhQOiqqgQVHU9x1MLviANbSieNDXjX2UchwH4w8+4hDtCBvSalP8mwGDg/EFNWAfRdiQXQ+yNLh9Q6khB+MLnkAPHptRHKrFAoIB+184WP6g/gRQGOnAPBahm5e/hhyML1huDjrooIP/MPgNqMMZJ8UsgboAAAAASUVORK5C\"></td><td style='text-align:center;vertical-align:middle; margin: 0.5em;border:1px #90999f solid;border-collapse:collapse'><img style='max-width: 100px; max-height:100px;display:inline' src=\"data:image/png;base64,iVBORw0KGgoAAAANSUhEUgAAAHAAAABwCAAAAADji6uXAAAABGdBTUEAALGPC/xhBQAAAAJiS0dEAP+Hj8y/AAAAB3RJTUUH4gIEExcf9BFAVAAAAbZJREFUaN7t2L0rRWEAx/HbVUopL4PyEkabSRELZWOxkCi7GEwGMrHJn2DGohiMSpEiVkbKIJsU0/X9yVMnOc5JOedc/T7LvZ2ee75neM45z31KlYyVHHTQQQcddPCfBS8whzL0eQkHqyd4hSbURDTDweoInqMDmiwKNaIF+n6KNzhYzOALTtAFnTwE+7CHcGwdDhYzOIPojR6Cso0R6NgUHCxeUC9bPazLn4axCX1vxzX2UcIkHCxW8OvLdgzPOMQGHhHG6gLqEbegcjD74A2moRPpJdsLPajjxoeHgX7jYP7BV4xDJ2jAEZ5wj6TgEBzMP6hFbbjZj1FJwcFiBQcQXrZpYh8nhH4zCAfzDR6gDpoAW0gbDJNmHg7mG9yFftiKBySF9KBfhoKj0CLLwWIEu5EmtgKN74Re1HFjHcw+uIifYvqjo0Wvxk4g6eIczC64A93EmgRxY7SpEDYaZpEUczDbYJg0tViAJscddFx/cHQhCunBoM28MzhYzGDQhh5Ej2mxu4o0IQezD2rjoB/fbahrgyjpoe5g/kHRAngN0eASbvGbmIPZB/+Cgw466KCDDhYw+A5wdjn4H8GI2wAAAABJRU5ErkJg\"></td><td style='text-align:center;vertical-align:middle; margin: 0.5em;border:1px #90999f solid;border-collapse:collapse'><img style='max-width: 100px; max-height:100px;display:inline' src=\"data:image/png;base64,iVBORw0KGgoAAAANSUhEUgAAAHAAAABwCAAAAADji6uXAAAABGdBTUEAALGPC/xhBQAAAAJiS0dEAP+Hj8y/AAAAB3RJTUUH4gIEExcf9BFAVAAAAVVJREFUaN7t2b8uBFEYhvFBRCJCIvGnlS1UEq07kGBLFYlKoqLanmY3cQUKEYmGwhVoNHRCRY1CJ1qJ8LzdFjvYEztfjry/bmf22+cUZzIz2eKzYoWDDjrooIMOOuhgBsELTOEBDsYEL3GO1GATS3AwLriLNaTEPrCJOdzDwZhgDanBZ/RhHWXfcbD3wRmkBheh4B4cjAneYRipwQUoeA0HY4K6eWogJfiCaWj+EQ7GBDegAYW7DWqRmp3FKxyMDeqF5DeRN5xiBUPQ7Am+m3GwmuAZ2o/f4gb72MYWRjGCCSxDnwdQ9gDsYDVB/VA/xjHfRse0kEGMQTfaHWiDPOEdk9D5nzaag70NSgv1Dg5R9nB0AC1IL0IOxgdTrELBBhzMO3gFBx10MC5Y4BgO5hvUpjmCg3kH9SeJg/kGdeE7mG9QF3ylm8bBPw92w0EHHXTwHwa/AAmpEmV9KgHnAAAAAElFTkSuQmCC\"></td><td style='text-align:center;vertical-align:middle; margin: 0.5em;border:1px #90999f solid;border-collapse:collapse'><img style='max-width: 100px; max-height:100px;display:inline' src=\"data:image/png;base64,iVBORw0KGgoAAAANSUhEUgAAAHAAAABwCAAAAADji6uXAAAABGdBTUEAALGPC/xhBQAAAAJiS0dEAP+Hj8y/AAAAB3RJTUUH4gIEExcf9BFAVAAAASxJREFUaN7t2aFuwlAUh/GmqViCQMDU3LAoLMkEhgfYC0wg5vcCIzwEkmBm9wBk2ZY9AHYO3EhmliCQ7DtJb1IFtCHrPcv/8ye/irb39jbZ/3GJQIECBQoUKFBgxOCEUkrojQT6AmfUoIwMfSeBvsBHyvIE+gMX1CLDurSmHQn0AX7QFYUbZk7HZgTGBY4ozRvQKTMC4wG/ySC7Wdr0QgL9gCvqUQDHdOqswDjAKYUN05B+SKAf8JmaZOANbajMvMB6QXvg00J3VPaCBdYL3lNW6JME+gGXdE0Bu6WymMB6wUsKWJ+2JNAXGDa91hNVwQTWB9pCaz9AwsJrB3gC/YD20rYDPIMu6IEOHcAKjA98pfDx2aGqkECBAquDX2SHBwL9gudOoECBAv8h+AtjF6KlHhmAugAAAABJRU5ErkJg\"></td><td style='text-align:center;vertical-align:middle; margin: 0.5em;border:1px #90999f solid;border-collapse:collapse'><img style='max-width: 100px; max-height:100px;display:inline' src=\"data:image/png;base64,iVBORw0KGgoAAAANSUhEUgAAAHAAAABwCAAAAADji6uXAAAABGdBTUEAALGPC/xhBQAAAAJiS0dEAP+Hj8y/AAAAB3RJTUUH4gIEExcf9BFAVAAAAXRJREFUaN7t2bErRWEcxvGTa5BiUgzYyGI1WMSCyYQ/AmUxKWVTyqDMBosRk0lZMCuTySQWiSgGvk/dX51F54RO77k9n+ne897e7x1+nXPPudlXxTIHHXTQQQcddNBBBx100EFcYQmjaGvawSF0XOsOphvUpr1oQKEpKNxo0rFFOJhe8BMX6II2nsQZPvCCWURwGw6mF9xHDMYMnhFrB4i1QTzCwbSC69AwaMMV5GMygggeoWg/B6sNbkKxDszhDbH2jmN0Qp/ZQFHMwWqDT4iLrWL5tVuMIYZlAa9wMK3gA2LDO+j9FsbRjTgZtOMEZWIOVhvU0PQhfhw1cgbQD73WZ8rGHKw2KLq57IGCw1jDDe4xAQVX4WC6wZ+cI4O+yC4crF/wFHEyKLp5cTDNoDhY72DrT2nrB/fgYL2D14gLsIP1DMoQNDSXcLCewXjwrj+8dIPjYP2Cetg+DUXn8eeHew5WHozoMhQtOzgOphX8DQf/3Tdbyyamcn4srAAAAABJRU5ErkJg\"></td><td style='text-align:center;vertical-align:middle; margin: 0.5em;border:1px #90999f solid;border-collapse:collapse'><img style='max-width: 100px; max-height:100px;display:inline' src=\"data:image/png;base64,iVBORw0KGgoAAAANSUhEUgAAAHAAAABwCAAAAADji6uXAAAABGdBTUEAALGPC/xhBQAAAAJiS0dEAP+Hj8y/AAAAB3RJTUUH4gIEExcf9BFAVAAAAbtJREFUaN7t2T8o5nEAx/Enlutw2SiKUiyKdNdNZuXPopTBZGFRNiZyuhvOdAOLQRmwMjCxYGCwKiQUoXCnlDvKvT/1fOvpVzyl/Pqqz2t5/nx/v+97+f17vk/mKWUZBx100EEHHXTQwciCtzjDNL7jHg6+j+Ah+tGAwhwDcDDu4C76UAQFClCFeuhzGbSNg/EFf0OhUuQeJHU4wh7Cd+twML7gDAoTanECjTsYf7AVYcIadOMYYXwJDsYdPMUoNnGB5LgeohyMO5hPLxx8X8Ff+AH9gNHrFyjWjEc4GGfwDttoR0FWBuF9BQ6Qbx4H0w/+wxYqoQOjGJq8CyUIJ3w5fuIvHIwnqJ0XESb9hg1o7ArJRQVZwEsLRA6mF9TBMowwURtuoLFLfIZO+A8YQSfCti1YxU6Wg+kHdRMdgnb+hElcQ2O6gH+FxrSosAZ9/wcr6IH2CfFqOJh+cAraWBfneegkX4Yu2GFhbwxhUSFpDm1ZWnBwMP2gbqaa9COaoIMj9wI9jnwPvM9xMJ1gI5I31g5MYB8PeE3MwfSC+iNyFoPQD85z5HvAdTCu4Fty0EEHHXTQQQcdfAP/Af1Wl1ghsDN/AAAAAElFTkSuQmCC\"></td><td style='text-align:center;vertical-align:middle; margin: 0.5em;border:1px #90999f solid;border-collapse:collapse'><img style='max-width: 100px; max-height:100px;display:inline' src=\"data:image/png;base64,iVBORw0KGgoAAAANSUhEUgAAAHAAAABwCAAAAADji6uXAAAABGdBTUEAALGPC/xhBQAAAAJiS0dEAP+Hj8y/AAAAB3RJTUUH4gIEExcf9BFAVAAAANNJREFUaN7t2rEJAkEURdFh7cASBDOLsAQTmzDQHrSDtRexETNBE2MTc30PHNhUg9W33NvAST5/mNktz54rgICAgICAAwDXqqiZuirALPCixqpRI3VUgFngQy0UYC7oNgowF7yruQLMBW9qoiq4U58ewoC/Bd1WVdDtFWAW6ADzQV9mmneAmeDwpxQQEBCw3+W9VIB5YHdo3EkBZoEr1QX9WASYBbYKMBt0U1UXuJf5WQFmgf5gUofGKGAeeFCA2aAf1/3zAGAu+G2AgICAgIB/CL4AdSaCtfJhq3UAAAAASUVORK5C\"></td><td style='text-align:center;vertical-align:middle; margin: 0.5em;border:1px #90999f solid;border-collapse:collapse'><img style='max-width: 100px; max-height:100px;display:inline' src=\"data:image/png;base64,iVBORw0KGgoAAAANSUhEUgAAAHAAAABwCAAAAADji6uXAAAABGdBTUEAALGPC/xhBQAAAAJiS0dEAP+Hj8y/AAAAB3RJTUUH4gIEExcf9BFAVAAAAYJJREFUaN7t2T8vBFEUhvGJbRQkJBqFoNEoSKgVNBoS8QkoVCsUGrYTn0AhFCoSIUpahegkCjQqQqGS0Phb8JxkJ9nczMxuY+aQ99dtZnOeLWZ2794bfecsUlBBBRVUUEEFFSw4eINrbCBCU4IpfEBBX0GLLKEbXSjBhpdSzOAFCvoJTiAcmhU0Z1DQT3Ad8aBOVLCCStUoFPQd/MJ91SPC6/aQx18IZhrvUNBPsJ4DtCAOLiDtvQr6C+4hfPDTfnwV9BXcRT+aURsbwisU9BW8xSpGaoSLqHZs4QFZsxTMP3iJXoSLpDA4iUY+vILFBHsQbh4kbSocQ0F/QXOHNZzjKrCI+MZR0G8wyzMU/NvBfSjoM/iJI2QtarfRCgX9BU8xDhtim0Hh9SfsoA1xzDYVTqCgj+AA4kFlLAeGUbsQHsMh6sUULCaYxoK24T6HNzQSUzC/4AVmkRTqwyDmYX90Gg0pmG/Q2EHHJjpgITv8sNdJByUK+gz+FgUVVFDBfxj8AZOdD6lRVWPoAAAAAElFTkSuQmCC\"></td></tr></tbody></table>"
      ],
      "text/plain": [
       "8-element Array{Array{ColorTypes.Gray{Float32},2},1}:\n",
       " ColorTypes.Gray{Float32}[Gray{Float32}(1.0) Gray{Float32}(1.0) … Gray{Float32}(1.0) Gray{Float32}(1.0); Gray{Float32}(1.0) Gray{Float32}(1.0) … Gray{Float32}(1.0) Gray{Float32}(1.0); … ; Gray{Float32}(1.0) Gray{Float32}(1.0) … Gray{Float32}(1.0) Gray{Float32}(1.0); Gray{Float32}(1.0) Gray{Float32}(1.0) … Gray{Float32}(1.0) Gray{Float32}(1.0)]\n",
       " ColorTypes.Gray{Float32}[Gray{Float32}(1.0) Gray{Float32}(1.0) … Gray{Float32}(1.0) Gray{Float32}(1.0); Gray{Float32}(1.0) Gray{Float32}(1.0) … Gray{Float32}(1.0) Gray{Float32}(1.0); … ; Gray{Float32}(1.0) Gray{Float32}(1.0) … Gray{Float32}(1.0) Gray{Float32}(1.0); Gray{Float32}(1.0) Gray{Float32}(1.0) … Gray{Float32}(1.0) Gray{Float32}(1.0)]\n",
       " ColorTypes.Gray{Float32}[Gray{Float32}(1.0) Gray{Float32}(1.0) … Gray{Float32}(1.0) Gray{Float32}(1.0); Gray{Float32}(1.0) Gray{Float32}(1.0) … Gray{Float32}(1.0) Gray{Float32}(1.0); … ; Gray{Float32}(1.0) Gray{Float32}(1.0) … Gray{Float32}(1.0) Gray{Float32}(1.0); Gray{Float32}(1.0) Gray{Float32}(1.0) … Gray{Float32}(1.0) Gray{Float32}(1.0)]\n",
       " ColorTypes.Gray{Float32}[Gray{Float32}(1.0) Gray{Float32}(1.0) … Gray{Float32}(1.0) Gray{Float32}(1.0); Gray{Float32}(1.0) Gray{Float32}(1.0) … Gray{Float32}(1.0) Gray{Float32}(1.0); … ; Gray{Float32}(1.0) Gray{Float32}(1.0) … Gray{Float32}(1.0) Gray{Float32}(1.0); Gray{Float32}(1.0) Gray{Float32}(1.0) … Gray{Float32}(1.0) Gray{Float32}(1.0)]\n",
       " ColorTypes.Gray{Float32}[Gray{Float32}(1.0) Gray{Float32}(1.0) … Gray{Float32}(1.0) Gray{Float32}(1.0); Gray{Float32}(1.0) Gray{Float32}(1.0) … Gray{Float32}(1.0) Gray{Float32}(1.0); … ; Gray{Float32}(1.0) Gray{Float32}(1.0) … Gray{Float32}(1.0) Gray{Float32}(1.0); Gray{Float32}(1.0) Gray{Float32}(1.0) … Gray{Float32}(1.0) Gray{Float32}(1.0)]\n",
       " ColorTypes.Gray{Float32}[Gray{Float32}(1.0) Gray{Float32}(1.0) … Gray{Float32}(1.0) Gray{Float32}(1.0); Gray{Float32}(1.0) Gray{Float32}(1.0) … Gray{Float32}(1.0) Gray{Float32}(1.0); … ; Gray{Float32}(1.0) Gray{Float32}(1.0) … Gray{Float32}(1.0) Gray{Float32}(1.0); Gray{Float32}(1.0) Gray{Float32}(1.0) … Gray{Float32}(1.0) Gray{Float32}(1.0)]\n",
       " ColorTypes.Gray{Float32}[Gray{Float32}(1.0) Gray{Float32}(1.0) … Gray{Float32}(1.0) Gray{Float32}(1.0); Gray{Float32}(1.0) Gray{Float32}(1.0) … Gray{Float32}(1.0) Gray{Float32}(1.0); … ; Gray{Float32}(1.0) Gray{Float32}(1.0) … Gray{Float32}(1.0) Gray{Float32}(1.0); Gray{Float32}(1.0) Gray{Float32}(1.0) … Gray{Float32}(1.0) Gray{Float32}(1.0)]\n",
       " ColorTypes.Gray{Float32}[Gray{Float32}(1.0) Gray{Float32}(1.0) … Gray{Float32}(1.0) Gray{Float32}(1.0); Gray{Float32}(1.0) Gray{Float32}(1.0) … Gray{Float32}(1.0) Gray{Float32}(1.0); … ; Gray{Float32}(1.0) Gray{Float32}(1.0) … Gray{Float32}(1.0) Gray{Float32}(1.0); Gray{Float32}(1.0) Gray{Float32}(1.0) … Gray{Float32}(1.0) Gray{Float32}(1.0)]"
      ]
     },
     "execution_count": 5,
     "metadata": {},
     "output_type": "execute_result"
    }
   ],
   "source": [
    "train_x, train_y = prepare_mnist(MNIST.traintensor(Float32, 1:500), MNIST.trainlabels(1:500))\n",
    "@show summary(train_x) summary(train_y);\n",
    "[MNIST.convert2image(train_x[:,:,1,i]) for i in 1:8]"
   ]
  },
  {
   "cell_type": "markdown",
   "metadata": {},
   "source": [
    "Similarly, we use `MNIST.testtensor` and `MNIST.testlabels`\n",
    "to load the full MNIST test set. We will utilize that data to\n",
    "measure how well the network is able to generalize with and\n",
    "without augmentation."
   ]
  },
  {
   "cell_type": "code",
   "execution_count": 6,
   "metadata": {},
   "outputs": [
    {
     "name": "stdout",
     "output_type": "stream",
     "text": [
      "summary(test_x) = \"28×28×1×10000 Array{Float32,4}\"\n",
      "summary(test_y) = \"10000-element Array{Int8,1}\"\n"
     ]
    },
    {
     "data": {
      "text/html": [
       "<table><tbody><tr><td style='text-align:center;vertical-align:middle; margin: 0.5em;border:1px #90999f solid;border-collapse:collapse'><img style='max-width: 100px; max-height:100px;display:inline' src=\"data:image/png;base64,iVBORw0KGgoAAAANSUhEUgAAAHAAAABwCAAAAADji6uXAAAABGdBTUEAALGPC/xhBQAAAAJiS0dEAP+Hj8y/AAAAB3RJTUUH4gIEExcgQndtaQAAAUxJREFUaN7t2T1Lw1AYhuEofkxapOAgRVE6lyIu3YvgD3AQHDq6uzkILk46+ivaSQSXOvi5OHYoooOrUoUuDiLq/Q6BUiRtoZjz0udaQuAc7gwnCcmJfv5ZpKCCCiqooIIKKqigggqOVLCKdVSwg2s8QkE/wWWMdZlFqYdN3EPB9IN1HOMcdtxGDhZeROeFTGIB8fkuFEw/+Jd3XKCNeocbvCILC55AwTCDSWoYRwFvUNBX8AXziGDhpLEKhhnch93wc2hAQV9Be3BPwYKX6DVewfCCe7BYGZ9Q0FfwA6uYxi36maNgWMED2ILZQL9zFAwneIYJZHAHBX0FW1iBLZgtDDJXwfSDX1iDxfJ4goK+gg+If+KdYtD5CqYbfMYSLHaEbyjoKxh/uJikzRAFwwxeYQYK+g0eIo7Zi7cJBX0Gi0jaCFEw3OCwKDh0v1maUDW5byRtAAAAAElFTkSuQmCC\"></td><td style='text-align:center;vertical-align:middle; margin: 0.5em;border:1px #90999f solid;border-collapse:collapse'><img style='max-width: 100px; max-height:100px;display:inline' src=\"data:image/png;base64,iVBORw0KGgoAAAANSUhEUgAAAHAAAABwCAAAAADji6uXAAAABGdBTUEAALGPC/xhBQAAAAJiS0dEAP+Hj8y/AAAAB3RJTUUH4gIEExcgQndtaQAAAWxJREFUaN7t2T9KA0EYhvEl+Cc5gOIFbAQFq2DrBUQRxc7CJiAYtbISJBbGW3gDtRcrG1uxEEFtbNRKLLTR54P9YFliYGN0ZvH9NYGZ3X2aGTLZJJ9/LFFQQQUV/MfBQ+xhEUmqgSMoGH9wCZVvjOMBCsYbzMcmsIk5+Ng+FIwzeIlB2EMncYdX2Nw7pmFz21AwzuAJBmCxR2TnbKEMw4JnUDDOoLnHC/LjU/CNr2DcwU7aqMJiM3iDguUJnsJjYzhHkfsVDB/chW/4DRS9X8GwQTv81mCxVfiBSsFyBO0QNQKLjeIWRWMKhg3aF61v+C30ElMwXPAY/sNlFr1seAXDBZ9RRz8WjIJhgjvw2AJ+smAUDBP0DW/yL4cULF/wCk85H7Dr7NPHbtDIWIe/eFAwbLCTZTSxgm7XtaBgmOA8KgUMoZqyP8raqQsoGCZoDtDKyC+QNfjcNbo9S8EwwX5SUEEFFVRQQQUV/AVfk8/GSO0xe44AAAAASUVORK5C\"></td><td style='text-align:center;vertical-align:middle; margin: 0.5em;border:1px #90999f solid;border-collapse:collapse'><img style='max-width: 100px; max-height:100px;display:inline' src=\"data:image/png;base64,iVBORw0KGgoAAAANSUhEUgAAAHAAAABwCAAAAADji6uXAAAABGdBTUEAALGPC/xhBQAAAAJiS0dEAP+Hj8y/AAAAB3RJTUUH4gIEExcgQndtaQAAAP5JREFUaN7t17EKQVEcx/ErNmWwGCw2ZmVQ3sFiMhkZsdgVuycwKjHYlQwewGYyegFSUnz/b+De5N6/ft/5nD5nOOd0TvD6cYFAgQIFChT4h+CJUjQjgT7BBaVpRQJ9giPK0afjBSYLPFKWeiTQJ7gku7h3JNAnWKMSXUmgP/BMtmHKFGaewOSAczKwQQJ9gkMycEMC/YEHylOV7iTQHzimgNoUdq7AZIAtskO/JoH+wAsVqEJRFiswfnBKtmE6JNAn2CUD+yTQJ1gkA7ck0B+4pwwJ9AsOyDD7xDxJoC/wRvZwMnBCUTCB8YIPqlOTDBfoD/xWAgUKFChQYALBN0FqaMNwssMBAAAAAElFTkSuQmCC\"></td><td style='text-align:center;vertical-align:middle; margin: 0.5em;border:1px #90999f solid;border-collapse:collapse'><img style='max-width: 100px; max-height:100px;display:inline' src=\"data:image/png;base64,iVBORw0KGgoAAAANSUhEUgAAAHAAAABwCAAAAADji6uXAAAABGdBTUEAALGPC/xhBQAAAAJiS0dEAP+Hj8y/AAAAB3RJTUUH4gIEExcgQndtaQAAAX5JREFUaN7t2TFKxEAAheGwpLQVFCsVvYEKdmolVlrYeAJBEBG29QaCIh7EQi3V2hOIoLbaamOz/g92YAjJxiJmJ/K+cjbk3yLJTCbZoGWZgw466KCDDv6D4Cf20cMSXuFgt4JPyIcUvYCD3Qm+YxUOdjN4hjXkEQV3cY57OJh2UCfPC+KxeTzCwTSDm8jQK5jELOIxB9ML3mEOxYvmAFfQDX+CMH4JB9MJvmAK8U2uG7yPL4TjtBiehn6fwCm+4eD4g8VF7wY+UHasJuH4jz3DwbSCy3hD1bG6cFbgYHrB306sekhokyFM1HtwcPzBY4SLpi7YyI3vYOPBRdQFtdGghVY8UWsyrnpIOJhe8BDxAlmL5gdUHe9gWkG9qCoQB7cw6pwOthtcQJiAr4dmEMbKNhoGNRxsN6gXy/hlJi8o22hwMK1gvFlQFdTv69CiKd5ocDCNoGjz7ghVwcY/djn4Z98Pb7ANhXZwC42N2mhwMK1gUxx00EEHHXQwweAPj37H6mOlHRsAAAAASUVORK5C\"></td><td style='text-align:center;vertical-align:middle; margin: 0.5em;border:1px #90999f solid;border-collapse:collapse'><img style='max-width: 100px; max-height:100px;display:inline' src=\"data:image/png;base64,iVBORw0KGgoAAAANSUhEUgAAAHAAAABwCAAAAADji6uXAAAABGdBTUEAALGPC/xhBQAAAAJiS0dEAP+Hj8y/AAAAB3RJTUUH4gIEExcgQndtaQAAAWpJREFUaN7t2C9LBFEUhvFhZwVxMRk0uc2kFotBEMxW/4DgF7CZtLgmm7BBs939BAp+AUGDwSrYFARhxaBhfQ7sBZlw71hmz8j7i7uHeSbcmbt7s0HFMgUVVFBBBRVUUMERBu/QRmzmCs9Q0GfwBDOIzexhCwr6C35jBangBRbwAQV9Ba+R4xCxuVPY3CsU9BN8wBTm0EdsdhUK+gvay3gct4jNvSFDAwr6CfYwiXmkbmwfFlvDFxT0EdyEPcjniM09YRpjuEFsVsHqgu+YhQUHCbYx21yZxaVgdcEX2EV2kLpIWFzbUNBP8BNLWIRtrrEbawydQUE/QRMWwzIuC45gC8r+qOZDqZe8gtUHH7GBCeQFtuHaIUMT4TNbaAr6Cgb36BWE73YRgmWupeBogjHHCEE7gFCwfsEOwgZcZl5Bf8Hfi0bBegYPYLEWFKxn0H5M2SF8FwrWM7iO1IGegr6Df6Wgggoq+A+DPyetH0UqU2yjAAAAAElFTkSuQmCC\"></td><td style='text-align:center;vertical-align:middle; margin: 0.5em;border:1px #90999f solid;border-collapse:collapse'><img style='max-width: 100px; max-height:100px;display:inline' src=\"data:image/png;base64,iVBORw0KGgoAAAANSUhEUgAAAHAAAABwCAAAAADji6uXAAAABGdBTUEAALGPC/xhBQAAAAJiS0dEAP+Hj8y/AAAAB3RJTUUH4gIEExcgQndtaQAAARZJREFUaN7t2jFqAmEQhmGXINYJpLPwAFrFziPYpA6BoOAhRA9hId7BRsTCC4iNTQ4RUiW1iIToO+CA5a6IuyPf2w9P88/C7v6lw40rCRQoUKBAgQIFFhBcUEJj+iOBscBfqlJyaksCY4EzcuyN/klgHHBHTXJwSWnmBBYH3JBjZUo7J7A4YJ8cbJPAeGCLDKvQJwmMBa7JD8wTZZkVWAxwRA4OSGA88J0Me6QvEhgLXNEDGVijrPMC8wfn5EvfI4HxwPOltxcagbFAe1D70jcoKyYwf3BKvvRDEhgPnJBhz/RDAuOBr2TgC+1JYCzQgDoZaB+FLsEE5gvaD+UOGfhBAuOB1jd1yS4JCIwJXiOBAgUKvEPwCL6Qb7RFSoE/AAAAAElFTkSuQmCC\"></td><td style='text-align:center;vertical-align:middle; margin: 0.5em;border:1px #90999f solid;border-collapse:collapse'><img style='max-width: 100px; max-height:100px;display:inline' src=\"data:image/png;base64,iVBORw0KGgoAAAANSUhEUgAAAHAAAABwCAAAAADji6uXAAAABGdBTUEAALGPC/xhBQAAAAJiS0dEAP+Hj8y/AAAAB3RJTUUH4gIEExcgQndtaQAAAYlJREFUaN7t2L8rxGEAx/FzZVIGKcrILtksfuxKBoP8iGIy6oqUP8NgMDAZbWcwmJmYRGLyoyRJsfD+lG9d1/F8L93z/Z4+r+3unuf7/g7P3T3fp/AZWcFBBx100EEHHXQwo+A9hrGGa4TGP+MAH3Aw++ATOtGKKaSJ9aIdF3Aw2+AjxlDECkIxWYXGb6PW5w7GDZZR/PaAUOwcLZjECxzMNqgf7GUotoM0sW4ouIufxjkYLziDAgbxilBwC4ot4LdxDsYLzkILZhy1NkOJN2ygAxofujEH4wdlBBMoV1nHEJJxaTZZDsYLnqAHycX0pS5WqXyvD5dwMD9B0YPMEUrQxbtQqnCGJDiHUMzB+MGQK+hGBpBmo+xg/oLz0II5RNo5DuYnuA8tGB0AncLB5gvqoUXBadQzz8H8BHWA0IZ6FoyD+QkmBwjaVNU718F8BPuhP95F6LUOY2/gYPMFl7AHHQA29GHGwYYFk0MFhW/hYPMEjzGKTdzhHWnnOpiP4F846KCDDv7D4BdJCaWG1fnkAQAAAABJRU5ErkJg\"></td><td style='text-align:center;vertical-align:middle; margin: 0.5em;border:1px #90999f solid;border-collapse:collapse'><img style='max-width: 100px; max-height:100px;display:inline' src=\"data:image/png;base64,iVBORw0KGgoAAAANSUhEUgAAAHAAAABwCAAAAADji6uXAAAABGdBTUEAALGPC/xhBQAAAAJiS0dEAP+Hj8y/AAAAB3RJTUUH4gIEExcgQndtaQAAAW9JREFUaN7t2r8rhVEcx/GHTBT5VRYxkNFmlIWyKRPDLaWUgWyMdv+CTYkFsz9CBkkMZFBikCJKvD/l1BO6bqnrfOvz2p5z676X0/me+3SL9zorHHTQQQcddNBBBx108I/BByxiFK9wMFZwC31o/HQHB+MEr9GFBqTgDO7hYIzgMhQpB6UdG3iBg/kGL9EKBYYxgXK0BzdwMN/gPrRZNHT1/IxNDEDrBUZQ6yHgYP2DO9Dm2EN5fRLpMBjDIxzMMzgFffE8yuvdSMFV1BJz8H+CadPo4D7FLnSBakIHFOzECRzMM6hDWZelr5coDeJzDEHPC3Awz6Acog0atoouQYNYn61Ba/24gIN5BlN0DisoD9snpAO+AgfzDVazDQV78duF2ME8g2/QUFZ0HQ7GC8oRmqHoGRyMFxS96NMwnoYOdQfjBW8xCEWP4WC8oFxBwVk4GDMo42jBTy8aHIwR1B8M9AP1AA7GDFbjoIMOfvMBmh6tJn9qocwAAAAASUVORK5C\"></td></tr></tbody></table>"
      ],
      "text/plain": [
       "8-element Array{Array{ColorTypes.Gray{Float32},2},1}:\n",
       " ColorTypes.Gray{Float32}[Gray{Float32}(1.0) Gray{Float32}(1.0) … Gray{Float32}(1.0) Gray{Float32}(1.0); Gray{Float32}(1.0) Gray{Float32}(1.0) … Gray{Float32}(1.0) Gray{Float32}(1.0); … ; Gray{Float32}(1.0) Gray{Float32}(1.0) … Gray{Float32}(1.0) Gray{Float32}(1.0); Gray{Float32}(1.0) Gray{Float32}(1.0) … Gray{Float32}(1.0) Gray{Float32}(1.0)]\n",
       " ColorTypes.Gray{Float32}[Gray{Float32}(1.0) Gray{Float32}(1.0) … Gray{Float32}(1.0) Gray{Float32}(1.0); Gray{Float32}(1.0) Gray{Float32}(1.0) … Gray{Float32}(1.0) Gray{Float32}(1.0); … ; Gray{Float32}(1.0) Gray{Float32}(1.0) … Gray{Float32}(1.0) Gray{Float32}(1.0); Gray{Float32}(1.0) Gray{Float32}(1.0) … Gray{Float32}(1.0) Gray{Float32}(1.0)]\n",
       " ColorTypes.Gray{Float32}[Gray{Float32}(1.0) Gray{Float32}(1.0) … Gray{Float32}(1.0) Gray{Float32}(1.0); Gray{Float32}(1.0) Gray{Float32}(1.0) … Gray{Float32}(1.0) Gray{Float32}(1.0); … ; Gray{Float32}(1.0) Gray{Float32}(1.0) … Gray{Float32}(1.0) Gray{Float32}(1.0); Gray{Float32}(1.0) Gray{Float32}(1.0) … Gray{Float32}(1.0) Gray{Float32}(1.0)]\n",
       " ColorTypes.Gray{Float32}[Gray{Float32}(1.0) Gray{Float32}(1.0) … Gray{Float32}(1.0) Gray{Float32}(1.0); Gray{Float32}(1.0) Gray{Float32}(1.0) … Gray{Float32}(1.0) Gray{Float32}(1.0); … ; Gray{Float32}(1.0) Gray{Float32}(1.0) … Gray{Float32}(1.0) Gray{Float32}(1.0); Gray{Float32}(1.0) Gray{Float32}(1.0) … Gray{Float32}(1.0) Gray{Float32}(1.0)]\n",
       " ColorTypes.Gray{Float32}[Gray{Float32}(1.0) Gray{Float32}(1.0) … Gray{Float32}(1.0) Gray{Float32}(1.0); Gray{Float32}(1.0) Gray{Float32}(1.0) … Gray{Float32}(1.0) Gray{Float32}(1.0); … ; Gray{Float32}(1.0) Gray{Float32}(1.0) … Gray{Float32}(1.0) Gray{Float32}(1.0); Gray{Float32}(1.0) Gray{Float32}(1.0) … Gray{Float32}(1.0) Gray{Float32}(1.0)]\n",
       " ColorTypes.Gray{Float32}[Gray{Float32}(1.0) Gray{Float32}(1.0) … Gray{Float32}(1.0) Gray{Float32}(1.0); Gray{Float32}(1.0) Gray{Float32}(1.0) … Gray{Float32}(1.0) Gray{Float32}(1.0); … ; Gray{Float32}(1.0) Gray{Float32}(1.0) … Gray{Float32}(1.0) Gray{Float32}(1.0); Gray{Float32}(1.0) Gray{Float32}(1.0) … Gray{Float32}(1.0) Gray{Float32}(1.0)]\n",
       " ColorTypes.Gray{Float32}[Gray{Float32}(1.0) Gray{Float32}(1.0) … Gray{Float32}(1.0) Gray{Float32}(1.0); Gray{Float32}(1.0) Gray{Float32}(1.0) … Gray{Float32}(1.0) Gray{Float32}(1.0); … ; Gray{Float32}(1.0) Gray{Float32}(1.0) … Gray{Float32}(1.0) Gray{Float32}(1.0); Gray{Float32}(1.0) Gray{Float32}(1.0) … Gray{Float32}(1.0) Gray{Float32}(1.0)]\n",
       " ColorTypes.Gray{Float32}[Gray{Float32}(1.0) Gray{Float32}(1.0) … Gray{Float32}(1.0) Gray{Float32}(1.0); Gray{Float32}(1.0) Gray{Float32}(1.0) … Gray{Float32}(1.0) Gray{Float32}(1.0); … ; Gray{Float32}(1.0) Gray{Float32}(1.0) … Gray{Float32}(1.0) Gray{Float32}(1.0); Gray{Float32}(1.0) Gray{Float32}(1.0) … Gray{Float32}(1.0) Gray{Float32}(1.0)]"
      ]
     },
     "execution_count": 6,
     "metadata": {},
     "output_type": "execute_result"
    }
   ],
   "source": [
    "test_x, test_y = prepare_mnist(MNIST.testtensor(Float32), MNIST.testlabels())\n",
    "@show summary(test_x) summary(test_y);\n",
    "[MNIST.convert2image(test_x[:,:,1,i]) for i in 1:8]"
   ]
  },
  {
   "cell_type": "markdown",
   "metadata": {},
   "source": [
    "## Defining the Network"
   ]
  },
  {
   "cell_type": "markdown",
   "metadata": {},
   "source": [
    "With the dataset prepared, we can now define and instantiate\n",
    "our neural network. To keep things simple, we will use the same\n",
    "convolutional network as defined in the\n",
    "[MNIST example](http://denizyuret.github.io/Knet.jl/latest/tutorial.html#Convolutional-neural-network-1)\n",
    "of the Knet.jl package."
   ]
  },
  {
   "cell_type": "code",
   "execution_count": 7,
   "metadata": {},
   "outputs": [],
   "source": [
    "using Knet"
   ]
  },
  {
   "cell_type": "markdown",
   "metadata": {},
   "source": [
    "The first thing we will do is define the forward pass through\n",
    "the network. This will effectively outline the computation\n",
    "graph of the network architecture. Note how this does not\n",
    "define some details, such as the number of neurons per layer.\n",
    "We will define those later when initializing our\n",
    "vector of weight arrays `w`."
   ]
  },
  {
   "cell_type": "code",
   "execution_count": 8,
   "metadata": {},
   "outputs": [
    {
     "data": {
      "text/plain": [
       "forward"
      ]
     },
     "execution_count": 8,
     "metadata": {},
     "output_type": "execute_result"
    }
   ],
   "source": [
    "\"\"\"\n",
    "    forward(w, x) -> a\n",
    "\n",
    "Compute the forward pass for the given minibatch `x` by using the\n",
    "neural network parameters in `w`. The resulting (unnormalized)\n",
    "activations of the last layer are returned as `a`.\n",
    "\"\"\"\n",
    "function forward(w, x)\n",
    "    # conv1 (2x2 maxpool)\n",
    "    a1 = pool(relu.(conv4(w[1], x)  .+ w[2]))\n",
    "    # conv2 (2x2 maxpool)\n",
    "    a2 = pool(relu.(conv4(w[3], a1) .+ w[4]))\n",
    "    # dense1 (relu)\n",
    "    a3 = relu.(w[5] * mat(a2) .+ w[6])\n",
    "    # dense2 (identity)\n",
    "    a4 = w[7] * a3 .+ w[8]\n",
    "    return a4\n",
    "end"
   ]
  },
  {
   "cell_type": "markdown",
   "metadata": {},
   "source": [
    "In order to be able to train our network we need to choose a\n",
    "cost function. Because this is a classification problem we will\n",
    "use the negative log-likelihood (provided by `Knet.nll`).\n",
    "With the cost function defined we can the simply use the\n",
    "higher-order function `grad` to create a new function `costgrad`\n",
    "that computes us the corresponding gradients."
   ]
  },
  {
   "cell_type": "code",
   "execution_count": 9,
   "metadata": {},
   "outputs": [
    {
     "data": {
      "text/plain": [
       "(::gradfun) (generic function with 1 method)"
      ]
     },
     "execution_count": 9,
     "metadata": {},
     "output_type": "execute_result"
    }
   ],
   "source": [
    "\"\"\"\n",
    "    cost(w, x, y) -> AbstractFloat\n",
    "\n",
    "Compute the per-instance negative log-likelihood for the data\n",
    "in the minibatch `(x, y)` given the network with the current\n",
    "parameters in `w`.\n",
    "\"\"\"\n",
    "cost(w, x, y) = nll(forward(w, x), y)\n",
    "costgrad = grad(cost)"
   ]
  },
  {
   "cell_type": "markdown",
   "metadata": {},
   "source": [
    "Aside from the cost function that we need for training, we\n",
    "would also like a more interpretable performance measurement.\n",
    "In this tutorial we will use \"accuracy\" for its simplicity\n",
    "and because we know that the class distribution for MNIST\n",
    "is close to uniform."
   ]
  },
  {
   "cell_type": "code",
   "execution_count": 10,
   "metadata": {},
   "outputs": [
    {
     "data": {
      "text/plain": [
       "acc"
      ]
     },
     "execution_count": 10,
     "metadata": {},
     "output_type": "execute_result"
    }
   ],
   "source": [
    "\"\"\"\n",
    "    acc(w, X, Y; [batchsize]) -> Float64\n",
    "\n",
    "Compute the accuracy for the data in `(X,Y)` given the network\n",
    "with the current parameters in `w`. The resulting value is\n",
    "computed by iterating over the data in minibatches of size\n",
    "`batchsize`.\n",
    "\"\"\"\n",
    "function acc(w, X, Y; batchsize = 100)\n",
    "    sum = 0; count = 0\n",
    "    for (x_cpu, y) in eachbatch((X, Y), maxsize = batchsize)\n",
    "        x = KnetArray{Float32}(x_cpu)\n",
    "        sum += Int(accuracy(forward(w,x), y, average = false))\n",
    "        count += length(y)\n",
    "    end\n",
    "    return sum / count\n",
    "end"
   ]
  },
  {
   "cell_type": "markdown",
   "metadata": {},
   "source": [
    "Before we can train or even just use our network, we need to\n",
    "define how we initialize `w`, which is our the vector of\n",
    "parameter arrays. The dimensions of these individual arrays\n",
    "specify the filter sizes and number of neurons.\n",
    "It can be helpful to compare the indices here with the indices\n",
    "used in our `forward` function to see which array corresponds\n",
    "to which computation node of our network."
   ]
  },
  {
   "cell_type": "code",
   "execution_count": 11,
   "metadata": {},
   "outputs": [
    {
     "data": {
      "text/plain": [
       "weights (generic function with 2 methods)"
      ]
     },
     "execution_count": 11,
     "metadata": {},
     "output_type": "execute_result"
    }
   ],
   "source": [
    "function weights(atype = KnetArray{Float32})\n",
    "    w = Array{Any}(8)\n",
    "    # conv1\n",
    "    w[1] = xavier(5,5,1,20)\n",
    "    w[2] = zeros(1,1,20,1)\n",
    "    # conv2\n",
    "    w[3] = xavier(5,5,20,50)\n",
    "    w[4] = zeros(1,1,50,1)\n",
    "    # dense1\n",
    "    w[5] = xavier(500,800)\n",
    "    w[6] = zeros(500,1)\n",
    "    # dense2\n",
    "    w[7] = xavier(10,500)\n",
    "    w[8] = zeros(10,1)\n",
    "    return map(a->convert(atype,a), w)\n",
    "end"
   ]
  },
  {
   "cell_type": "markdown",
   "metadata": {},
   "source": [
    "## Training without Augmentation"
   ]
  },
  {
   "cell_type": "markdown",
   "metadata": {},
   "source": [
    "In order to get an intuition for how useful augmentation can\n",
    "be, we need a sensible baseline to compare to. To that end, we\n",
    "will first train the network we just defined using only the\n",
    "(unaltered) 500 training examples."
   ]
  },
  {
   "cell_type": "markdown",
   "metadata": {},
   "source": [
    "The package\n",
    "[ValueHistories.jl](https://github.com/JuliaML/ValueHistories.jl)\n",
    "will help us record the accuracy during the training process.\n",
    "We will use those logs later to visualize the differences\n",
    "between having augmentation or no augmentation."
   ]
  },
  {
   "cell_type": "code",
   "execution_count": 12,
   "metadata": {},
   "outputs": [],
   "source": [
    "using ValueHistories"
   ]
  },
  {
   "cell_type": "markdown",
   "metadata": {},
   "source": [
    "To keep things simple, we will not overly optimize our\n",
    "training function. Thus, we will be content with using a\n",
    "closure. Because both, the baseline and the augmented version,\n",
    "will share this \"inefficiency\", we should still get a decent\n",
    "enough picture of their performance differences."
   ]
  },
  {
   "cell_type": "code",
   "execution_count": 13,
   "metadata": {},
   "outputs": [
    {
     "data": {
      "text/plain": [
       "train_baseline (generic function with 1 method)"
      ]
     },
     "execution_count": 13,
     "metadata": {},
     "output_type": "execute_result"
    }
   ],
   "source": [
    "function train_baseline(; epochs = 500, batchsize = 100, lr = .03)\n",
    "    w = weights()\n",
    "    log = MVHistory()\n",
    "    for epoch in 1:epochs\n",
    "        for (batch_x_cpu, batch_y) in eachbatch((train_x ,train_y), batchsize)\n",
    "            batch_x = KnetArray{Float32}(batch_x_cpu)\n",
    "            g = costgrad(w, batch_x, batch_y)\n",
    "            Knet.update!(w, g, lr = lr)\n",
    "        end\n",
    "\n",
    "        if (epoch % 5) == 0\n",
    "            train = acc(w, train_x, train_y)\n",
    "            test  = acc(w, test_x,  test_y)\n",
    "            @trace log epoch train test\n",
    "            msg = \"epoch \" * lpad(epoch,4) * \": train accuracy \" * rpad(round(train,3),5,\"0\") * \", test accuracy \" * rpad(round(test,3),5,\"0\")\n",
    "            println(msg)\n",
    "        end\n",
    "    end\n",
    "    log\n",
    "end"
   ]
  },
  {
   "cell_type": "markdown",
   "metadata": {},
   "source": [
    "Aside from the accuracy, we will also keep an eye on the\n",
    "training time. In particular we would like to see if and how\n",
    "the addition of augmentation causes our training time to\n",
    "increase."
   ]
  },
  {
   "cell_type": "code",
   "execution_count": 14,
   "metadata": {},
   "outputs": [
    {
     "name": "stdout",
     "output_type": "stream",
     "text": [
      "epoch    5: train accuracy 0.550, test accuracy 0.460\n",
      "epoch   10: train accuracy 0.694, test accuracy 0.592\n",
      "epoch   15: train accuracy 0.820, test accuracy 0.749\n",
      "epoch   20: train accuracy 0.862, test accuracy 0.781\n",
      "epoch   25: train accuracy 0.890, test accuracy 0.815\n",
      "epoch   30: train accuracy 0.896, test accuracy 0.850\n",
      "epoch   35: train accuracy 0.920, test accuracy 0.866\n",
      "epoch   40: train accuracy 0.930, test accuracy 0.875\n",
      "epoch   45: train accuracy 0.940, test accuracy 0.882\n",
      "epoch   50: train accuracy 0.954, test accuracy 0.885\n",
      "epoch   55: train accuracy 0.964, test accuracy 0.889\n",
      "epoch   60: train accuracy 0.968, test accuracy 0.891\n",
      "epoch   65: train accuracy 0.972, test accuracy 0.893\n",
      "epoch   70: train accuracy 0.978, test accuracy 0.894\n",
      "epoch   75: train accuracy 0.982, test accuracy 0.896\n",
      "epoch   80: train accuracy 0.988, test accuracy 0.898\n",
      "epoch   85: train accuracy 0.994, test accuracy 0.899\n",
      "epoch   90: train accuracy 0.996, test accuracy 0.899\n",
      "epoch   95: train accuracy 0.998, test accuracy 0.901\n",
      "epoch  100: train accuracy 1.000, test accuracy 0.901\n",
      "epoch  105: train accuracy 1.000, test accuracy 0.902\n",
      "epoch  110: train accuracy 1.000, test accuracy 0.902\n",
      "epoch  115: train accuracy 1.000, test accuracy 0.902\n",
      "epoch  120: train accuracy 1.000, test accuracy 0.903\n",
      "epoch  125: train accuracy 1.000, test accuracy 0.902\n",
      "epoch  130: train accuracy 1.000, test accuracy 0.902\n",
      "epoch  135: train accuracy 1.000, test accuracy 0.903\n",
      "epoch  140: train accuracy 1.000, test accuracy 0.903\n",
      "epoch  145: train accuracy 1.000, test accuracy 0.903\n",
      "epoch  150: train accuracy 1.000, test accuracy 0.903\n",
      "epoch  155: train accuracy 1.000, test accuracy 0.903\n",
      "epoch  160: train accuracy 1.000, test accuracy 0.903\n",
      "epoch  165: train accuracy 1.000, test accuracy 0.903\n",
      "epoch  170: train accuracy 1.000, test accuracy 0.903\n",
      "epoch  175: train accuracy 1.000, test accuracy 0.903\n",
      "epoch  180: train accuracy 1.000, test accuracy 0.902\n",
      "epoch  185: train accuracy 1.000, test accuracy 0.903\n",
      "epoch  190: train accuracy 1.000, test accuracy 0.903\n",
      "epoch  195: train accuracy 1.000, test accuracy 0.903\n",
      "epoch  200: train accuracy 1.000, test accuracy 0.903\n",
      "  7.410776 seconds (3.22 M allocations: 277.295 MiB, 1.09% gc time)\n"
     ]
    }
   ],
   "source": [
    "train_baseline(epochs=1) # warm-up\n",
    "baseline_log = @time train_baseline(epochs=200);"
   ]
  },
  {
   "cell_type": "markdown",
   "metadata": {},
   "source": [
    "As we can see, the accuracy on the training set is around a\n",
    "100%, while the accuracy on the test set peaks around 90%. For\n",
    "a mere 500 training examples, this isn't actually that bad of\n",
    "a result."
   ]
  },
  {
   "cell_type": "markdown",
   "metadata": {},
   "source": [
    "## Integrating Augmentor"
   ]
  },
  {
   "cell_type": "markdown",
   "metadata": {},
   "source": [
    "Now that we have a network architecture with a baseline to\n",
    "compare to, let us finally see what it takes to add Augmentor\n",
    "to our experiment. First, we need to include the package to\n",
    "our experiment."
   ]
  },
  {
   "cell_type": "code",
   "execution_count": 15,
   "metadata": {},
   "outputs": [],
   "source": [
    "using Augmentor"
   ]
  },
  {
   "cell_type": "markdown",
   "metadata": {},
   "source": [
    "The next step, and maybe the most human-hour consuming part of\n",
    "adding image augmentation to a prediction problem, is to\n",
    "design and select a sensible augmentation pipeline. Take a\n",
    "look at the [elastic distortions tutorial](@ref elastic) for\n",
    "an example of how to do just that."
   ]
  },
  {
   "cell_type": "markdown",
   "metadata": {},
   "source": [
    "For this example, we already choose a quite complicated but\n",
    "promising augmentation pipeline for you. This pipeline was\n",
    "designed to yield a large variation of effects as well as to\n",
    "showcase how even deep pipelines are quite efficient in terms\n",
    "of performance."
   ]
  },
  {
   "cell_type": "code",
   "execution_count": 16,
   "metadata": {},
   "outputs": [
    {
     "data": {
      "text/plain": [
       "10-step Augmentor.ImmutablePipeline:\n",
       "  1.) Reshape array to 28×28\n",
       "  2.) Permute dimension order to (2, 1)\n",
       "  3.) Either: (50%) ShearX by ϕ ∈ -5:5 degree. (50%) ShearY by ψ ∈ -5:5 degree.\n",
       "  4.) Rotate by θ ∈ -15:15 degree\n",
       "  5.) Crop a 28×28 window around the center\n",
       "  6.) Zoom by I ∈ {0.9×0.9, 1.0×1.0, 1.1×1.1, 1.2×1.2}\n",
       "  7.) Cache into temporary buffer\n",
       "  8.) Distort using a smoothed and normalized 10×10 grid with pinned border\n",
       "  9.) Permute dimension order to (2, 1)\n",
       " 10.) Reshape array to 28×28×1"
      ]
     },
     "execution_count": 16,
     "metadata": {},
     "output_type": "execute_result"
    }
   ],
   "source": [
    "pl = Reshape(28,28) |>\n",
    "     PermuteDims(2,1) |>\n",
    "     ShearX(-5:5) * ShearY(-5:5) |>\n",
    "     Rotate(-15:15) |>\n",
    "     CropSize(28,28) |>\n",
    "     Zoom(0.9:0.1:1.2) |>\n",
    "     CacheImage() |>\n",
    "     ElasticDistortion(10) |>\n",
    "     PermuteDims(2,1) |>\n",
    "     Reshape(28,28,1)"
   ]
  },
  {
   "cell_type": "markdown",
   "metadata": {},
   "source": [
    "Most of the used operations are quite self explanatory, but\n",
    "there are some details about this pipeline worth pointing out\n",
    "explicitly."
   ]
  },
  {
   "cell_type": "markdown",
   "metadata": {},
   "source": [
    "1. We use the operation [`PermuteDims`](@ref) to convert the\n",
    "   horizontal-major MNIST image to a julia-native\n",
    "   vertical-major image. The vertical-major image is then\n",
    "   processed and converted back to a horizontal-major array.\n",
    "   We mainly do this here to showcase the option, but it is\n",
    "   also to keep consistent with how the data is usually used\n",
    "   in the literature. Alternatively, one could just work with\n",
    "   the MNIST data in a vertical-major format all the way\n",
    "   through without any issue."
   ]
  },
  {
   "cell_type": "markdown",
   "metadata": {},
   "source": [
    "2. As counter-intuitive as it sounds, the operation\n",
    "   [`CacheImage`](@ref) right before\n",
    "   [`ElasticDistortion`](@ref) is actually used to improve\n",
    "   performance. If we were to omit it, then the whole pipeline\n",
    "   would be applied in one single pass. In this case, applying\n",
    "   distortions on top of affine transformations lazily is in\n",
    "   fact less efficient than using a temporary variable."
   ]
  },
  {
   "cell_type": "markdown",
   "metadata": {},
   "source": [
    "With the pipeline now defined, let us quickly peek at what\n",
    "kind of effects we can achieve with it. In particular, lets\n",
    "apply the pipeline multiple times to the first training image\n",
    "and look at what kind of results it produces."
   ]
  },
  {
   "cell_type": "code",
   "execution_count": 17,
   "metadata": {},
   "outputs": [
    {
     "data": {
      "text/html": [
       "<table><tbody><tr><td style='text-align:center;vertical-align:middle; margin: 0.5em;border:1px #90999f solid;border-collapse:collapse'><img style='max-width: 100px; max-height:100px;display:inline' src=\"data:image/png;base64,iVBORw0KGgoAAAANSUhEUgAAAHAAAABwCAAAAADji6uXAAAABGdBTUEAALGPC/xhBQAAAAJiS0dEAP+Hj8y/AAAAB3RJTUUH4gIEExgKHlS4cAAAAthJREFUaN7t2kmoTnEYx/GbTJmHBTJFumKDJIpYUEqGFQuhiKi7ESlkXEiIhCwUioWEhaGIlJKUYYOIMiUyz/Nwr++33lNvFs57655zjzyf1X3fznt+p+7zn09VXc6qIjACIzAC/8PAH/hU8hHf4XdfSt7hAW7jPl7jFyKw8QNr8RxnsB8HsRPbsQHr4OcdWIWlWIazOIEVWIRtuIlviMB8A/3H38JMtEJLdEE1eqI7qkt6oz+Gowbj0Ad+Nx0+7BNEYL6BFs0jWAze1MAmaIam6IhOaA4/j8JCWECzMQ0+7GacRgTmHyg754uwcc+AIS1gQXizieiBbtgIrz2H4ziGk7DRP0Nqw4/ATALlgOugagc+CDbm5bgKb2oH7cNcgYP0W7yCv3FwdrAuv18E5h9YW3IUgzEBDrJ27p9h0CkYlHavCGycwMR1OLAOgxOr5EG+wgmyf0dgsQPtyFfDCdNeWDCV/jYCixH4E5fQC7NwHjb2vy0+I7BYgXqJ+XDilCxSXLRG4L8T6ITKYhkBQx2MnfSmbQZFYHEC9R6HMBSdMRc+xAdUMghHYOMHWhwuMPdgJLrCBY2TLIsqAosfaGEY+hRu+rgp5KC8EnbuEVjcwCTIxYsHIi5Et6AdDB0CC8fJVgQWKzBZeLrBcw8HsAZzMBoGtsYY3EBa44/A/AINsQAsEg8kD2Mx3FjoCwffNnCT3QOUBXiItEE4ArMPNMQJkYckd+EmkJsJk+HmbHt4aNIWDr5jsRZe54S4LkUEZhPo5txj3IGd8hEsgY17EgbCIjHEAvHzVDiR8nDEovIeaR13BGYX6IGUnfJ6zMN4uInngaSN2yLpAAdZH2I3rsEDETtrg+q1QRuBDR54Gb7QMQUeRlocDqq+HNAPA2DxeM0FvEB9QiIw+0AHWSdIHlrtw1Zsgi/o7IIHXRbWG1TSuCMw/8ByyYKl/OW5Pw+OI7DYgVmLwAb3G6FY6wlANT3+AAAAAElFTkSuQmCC\"></td><td style='text-align:center;vertical-align:middle; margin: 0.5em;border:1px #90999f solid;border-collapse:collapse'><img style='max-width: 100px; max-height:100px;display:inline' src=\"data:image/png;base64,iVBORw0KGgoAAAANSUhEUgAAAHAAAABwCAAAAADji6uXAAAABGdBTUEAALGPC/xhBQAAAAJiS0dEAP+Hj8y/AAAAB3RJTUUH4gIEExgKHlS4cAAAAt1JREFUaN7t2kmojWEcx/GbWYZkSCiLK1lYCGUqJSVDMpRS2BgiWZCNsJEk2RhLIRKK7BRliAxJNliYM98i8xwuru+37rtRb/e8Oec5Z/H/bO7int7fWfyf//O8/+fUNSVWF4ERGIEVCWzES1zBcVzGK0Rg7Qb+wle8xTs8wC7Mx2IcwnNEYG0F/sFv/MATnMROWCQrUY+BWILz+IgIrJ1AF7bFYdBVrMNkjMYyTMQErIFfxGKysCKwuoEWSbbAXdj74cIejk5ojfHYiqPwizxDXrFEYNrA73iP69iOWRgAQzqgI9rCgrGQ/OxPNJUgAisfaIN+hINYiMHojFbohlGYhDHYgLwFHoHVC3TheggaBAvDAmmPNhiCvbCYLjQrtVgiMF2gm+1jzIaNeiYskB6Yjjuwsfs5/xYJi8A0gXIxWxhurKdhE/DA5IbrwddNuWhQBKYNVGMzX15eYDUsork4hZuwyfvlihRPBKYL/Df8FrZgLAyeAcMP4C4+w807AmszMAt9DQvGhu4QoTv6YwocDN1DS6ERWL3ATNYIzmIj5sGDcleMwBl8QV4ziMDqByob9Png25iDLvDAPA0X8Q0RWLuBsnhc6EfgwKgfHDgMxT781zQxAisaaMH40uqF1iqMRC9YNH3gwGEbylY0EVj2QAd/XkwuhxcjDh0cGvWEL6x7YDHlDRsisHqBNmsvQLwIsVn3Rju42D1QLYX/86LSgsk7TEVg+kAXug+4j91wSGShOOzrCy+9NuMaHDa09HIagekDP8BBrJeU42CTdnDrsG8qvHi+gU8oZbgQgekCXbgNWI9hcJP1pcW/DuB9iXHo9xBFLksisPKBBr3BCayAD/eS2SCHtIuwCZfgRWWpQRGYLtACcPDqYdZDrQ3aQC+dF8AfEJyDP5QrelkZgWkCbcAehHbAzdUN1yZtAR2DjfopfCEty2VXBJY9MHMY/rhjLQyySRd9eAQmCfwLAxoUmEa2gGMAAAAASUVORK5C\"></td><td style='text-align:center;vertical-align:middle; margin: 0.5em;border:1px #90999f solid;border-collapse:collapse'><img style='max-width: 100px; max-height:100px;display:inline' src=\"data:image/png;base64,iVBORw0KGgoAAAANSUhEUgAAAHAAAABwCAAAAADji6uXAAAABGdBTUEAALGPC/xhBQAAAAJiS0dEAP+Hj8y/AAAAB3RJTUUH4gIEExgKHlS4cAAAAh5JREFUaN7t2T1IlWEchnFBKDErbShRwcFaRIwiagjED1qCNhFxUSFckrY0NIdwqwYHAwcRFMRBxMElwgYRGgRxUMTSSLEoKvwgs7RMrxscgkSPR895znD/JhHOewm+z/993uckbcdZkoMOOuiggw466KCDDh5TcAPfsYavmMEk3mIIrXiCCTiYGEFdfAHD6MIzNOMhqlCCClQjH1mohf4IB8MG/+INKpG96wJOIQ1ncBJX0YQOdOMF3mMLDoYN6gP6x9fgEs4iGefRgEbcxmPM4Qc0FPYKORgmKMt4Bd0Id5CLdvw7uDUUdIMddC0HwwTlDz7hPq6jD78RyWcdTIygrKITedCCH4EGtB7O+y10BxMnqIX9EdooXcRN3MUgNLg1CCJZ/A6GC8omXkMbpiIUoBgt0ID/AgcTOyi/oAU/gHJoQ5wDDfaX0EbqSJsoB2Me/IlZ9OAWTiADDzAKPZj3GwAOhgvqItr49qMOl3EaejkthF5Gp3HQdRwME9RGeBHPcQPpSIF+1kHeFDQQIrmWg2GC36ADHx3i6UbJhA4axnDYlxoH4xvUYl+HDs7LcA5XoIMg3SjRvJQ6GN/gZ/RCMS10vYw+hb4QicmhgoPHFtRLyzz0UL2GVGhga7Or3x/mEMHBMEG9rDyCYvpipBT6gusDog05GN/gOOpxD23QQcIKIj1IdzB8cAnvoOGtA9hoB7WD4YKx5KCDDv5nB0NX3Nbe+DsrAAAAAElFTkSuQmCC\"></td><td style='text-align:center;vertical-align:middle; margin: 0.5em;border:1px #90999f solid;border-collapse:collapse'><img style='max-width: 100px; max-height:100px;display:inline' src=\"data:image/png;base64,iVBORw0KGgoAAAANSUhEUgAAAHAAAABwCAAAAADji6uXAAAABGdBTUEAALGPC/xhBQAAAAJiS0dEAP+Hj8y/AAAAB3RJTUUH4gIEExgKHlS4cAAAAwFJREFUaN7t2lmoTVEcx/GbS2aZRYZkyJAQGSLxQIQoY4bkBaWkZChEhgceiFeRvBlfkEjGMpQpGUKZMz6YZy7fb91dup17zzWcs8/D//Mm9+zffvivtdf6r1X0M8+KIrDgA5/iFK7iPSKw8ANL8Bk+fDcGoA7m4zYisHADDXqHO9iLHdiEnmiPebiMr4jAwgv8gVc4hBUYjRGYiKnYgIv4gLK/jcD0Ag35Ah/yHEcwAZ3QGVOwBcdxHx9hYUVgYQR+xxNYJGswDPVQFcXogpXwb8oO9AhMJzD5qFocl7ATi9ELDWBIdRjaGAOxFRZWtpePwNwHfoMT8xVswyz0RTNUQ220wWBMhh/aZXDxm61gIjD3gQ5wJ961GIJ2aIgaKC7lZG0BGfAAj3EDr5Fpso7A/AZaMA8xAw5oB3lzGOpE7b9dJJ2DBVJSKltIBOYvUJ+wBwuwCH5Yp6EjWmM1zuIlfME/CYvA/ATKyfse/AC/wT646O2AfvAlXAi74XTTcg1vYWMh20tEYH4CEy6KHNi3sB2zMQg2DiZhJtzEzMFGHIbNoEwb0QhMJ/D34Bc4g80Yg27oCieDlrCgbCwsxVH4Mf/rDWkE/vfAJNQNziMcg4vkVbCQxqEtXCg3xVw4IdhYiMDCCUxYDD7ISf0Z7sKHj0RNuNlxQnBCz7RBjcD0AxPJIjhp9Ln5qYWkaGwSZfpdBBZOoMXjQsuGumFN4CFXf3hoUl6DIQLTD7RQXCRdgBueFnCzWh/DcRBO8uX9PgLTD3Sz4mLXxZKbVBu1dTEWB+CkXtHvIzC9QIvFhsN1LEcrWCyGjYKL30yXPSKwcAI9rLwJD7s8oHTR2wjTcRL+f2WeE4H5D7RY/JjaTPdQuQdsulfBUOyHjaTKNmojML+BbkY8ADmP9egNF7sWTB/sgpd4KhMUgekEuvE8gfHwkNLDLge7Fwe8NGdT9p8PSiIwJ4FOxDZl18HLjV4Q8KDLCwIL4WKpoiZsBKYf6ID3gqMD3UHeHUtwGn8bFIE5C/wFnXBs6S8mUi0AAAAASUVORK5C\"></td><td style='text-align:center;vertical-align:middle; margin: 0.5em;border:1px #90999f solid;border-collapse:collapse'><img style='max-width: 100px; max-height:100px;display:inline' src=\"data:image/png;base64,iVBORw0KGgoAAAANSUhEUgAAAHAAAABwCAAAAADji6uXAAAABGdBTUEAALGPC/xhBQAAAAJiS0dEAP+Hj8y/AAAAB3RJTUUH4gIEExgKHlS4cAAAAq1JREFUaN7t2luITVEcgPFpxiVCEXKPSCSKB0Qe5C5EkSSXIkoKuT1IHsSDyCNFkhJCuT14UESIFCFEIeROhMad79PZdZqHM8dl9t7p/3uZmWZmf6dmrbXXXmcqfqSsIoIRjGAEI/jLtxq+F0Qwn8GveI0XuIsbuIMHuAk/vsRTvIMvIIL5CX7GJczHLMzEZIzFcHTFSCzGCizHWuzBQzzCB0Qwu+BH7ENvtEATNEQVKlGvoKqgMdpjDLZiGTbgGr4ggukHncTnsBDj0BfNUVnQCl3QCc1gcCCWYA0GoTWm4h4imH5QLsiXcRKb4ACqj85wwu/EZrggdMRqnMBhuAjMxUY8RwSzCeoTXsELTUQbLMJZvIXfuwAX8KN4Bm/aLt4OFr8ua+JHsM6Ceg8vOg894A35OJINcDVu4QnceBX/bvEmOYLZBb2If/ztGIJJcNI7aMq9RgSzDSbR+5iD/piGA7gNN7zlPJRGMNugF3QB2I/xcAM1Gm6YnPQu8hHMdzCJeoiwF1Ng1A3yNnjDrblwRzB/wSTqQdAhTIdRB5EbKDdPpRaACOYn6OBw8HhDNuiD6gxcQakFIILZBD1c8AbrxL6KU3Ci+8DpZqoBkofU8/BAKYLZBpNB4S86wU9jCxZgADzsaQkPhjwQaoTu8JDBn//tiR/Bfx70cN1JfREe+rjhLT7Yc5D4eU8Mhgd/K+EL+6M3SiL410ED1QVn4APKLrhJ6gYP2JvCQdIBQ7EeB+Hh0GO4YNcWi2DdBV2Qd8CQB6o+oPSBE9pFuS2GYRV8QQ6oNygnEMF0gscwAr3QDh7AOrEN+vls7IaHB6VurhHMLuhNcx18E7kfRmEClsKB5IGBh3jl/oNHBNMPyknsg4hvUvmgeQTX4QNmbQcFEcxHMC0RjGAEI/gfBn8CZU0USA7ZP40AAAAASUVORK5C\"></td><td style='text-align:center;vertical-align:middle; margin: 0.5em;border:1px #90999f solid;border-collapse:collapse'><img style='max-width: 100px; max-height:100px;display:inline' src=\"data:image/png;base64,iVBORw0KGgoAAAANSUhEUgAAAHAAAABwCAAAAADji6uXAAAABGdBTUEAALGPC/xhBQAAAAJiS0dEAP+Hj8y/AAAAB3RJTUUH4gIEExgKHlS4cAAAAwdJREFUaN7t2kmozWEYx/FbZM48RJGhiAwZNqLITDJkHkopoYRYKCxQihALspBMkWEniRTFQkQsTMmUzCQz13R9v3X/dZLuPbq85yyez+p2z/D7L553et5TUpZYSQRGYARWOfBHuW94g8e4g1v4jIe4i2fwfRFY+MDveIXrOIbVWIQ5GIUBGIbxOApfn43J8D17YXgEFibwCyyCw1iOseiAZqiPGqiONhiExfAhuqEtBmMzXiAC0wc6sC9gI4ajIxqjNhrBUP+uhZmwOHbAB5uPhdiEk/iECEwb+BPPMQEWRk1UL9ca4zAL/dAKe+DgtsBu4gacKJzQnyB3Eo/AtIEO4qxA6qIOhuIQzmA3puESSpH7+dJyTv653x2BaQL1ESsxCdPRDhbIKrzHB9zDcbiZMqQsDxGYLtDBeg5HYHEMQWc4yLPNsJPyazjR5xMWgWkD9Q5v4UI8ES7CW+HmKt+ACCxcoAPZYnDyvYgpcHPrZtdDqIfPr8h3wEdg+sBcboS2oTtGwwnbjZLBuQtvBBZvoIvxecyFC/FILIAPcQUuwL9vliKwuAL9Mg8rBzACHmicBPpiBTx0PkI+E0EEFiYwO5zYiLVx4AGmK1qiB2zm7YOvGxqBxReYcUG2WeumajtsABncHAOxAR5w/tRcj8DiCJQF5EbYYBdhm3hZ06E/DsIDawQWb6AFYUPhPs5iKdrDBqCHnfXwYSKw+AKzYrEJewrrMAN90AQ22206GFjRIhyBhQm0UGwwXMUWTIULbws0QFN0gf/fiYq+KwLTBxr2EhbKEvSEC249GOQC7IWzl82n4YNVqWgi8J8Geoh5il0YA5vsXpY0RCd46bUGNhncBBtW0QYqAtMGushehhfHTspOztXgAcZD6Vp44fUANnHzbbRH4P8LzAarhXIbFoONPJsHhnn57CbJBu0JeKHpglxZkURgukA/7A/g9mMeLBQnZwN7wcXVQ+g1VDZBR2BhAm3COgm7ufVHVL1hI3YZbPo4yG22/83lZASmDZSNuap+YQQmD/wFVFcriUR8TTAAAAAASUVORK5C\"></td><td style='text-align:center;vertical-align:middle; margin: 0.5em;border:1px #90999f solid;border-collapse:collapse'><img style='max-width: 100px; max-height:100px;display:inline' src=\"data:image/png;base64,iVBORw0KGgoAAAANSUhEUgAAAHAAAABwCAAAAADji6uXAAAABGdBTUEAALGPC/xhBQAAAAJiS0dEAP+Hj8y/AAAAB3RJTUUH4gIEExgKHlS4cAAAAsdJREFUaN7t2luITVEcx/Ep19xSDAohScjkkqRMpBQhJMIDHoaIklIueeARkdySIvIiJZTILQ/kRblfklsilxQxiDEu32/tXac8zFHO3lv9Pw9z5qw5Z/92zdprrf1fu+pXxqoiMAIjMAIjMAL/w8CfaMQXfEfa3piw7Qds+wrbIrBYgR9xG5dwH1dxDU9wA3dxE+dwEX7mFV6iARGYf+AbbMIcLMISzMNEzEIdpmICJmEz9mAB5mInHiMNj8DsA+thUAe0Q1d0RAs0T7SH7wdjBTyZavTBdBzCc0RgPoHfsAujUIPWaAZfu6AzWqIn7Cy7sQ4rsQZHcBZ3EIH5BDqhOlAfxHrYYdpgJOZjNvphGV7gER7AQd3vOUG/wwdEYD6BcpHkl45jKIbhBF7jAlbhPPysiy5DXFCliy7b0oVWBOYTKAcAL2I7ixOwHcL2T3iItFM0JQLzC/QffwvTMBMueG0r/XsEFjtQLopXwwXvSbxHuUERWIxACwv7MBxe/MdQ7gUfgcUIdEK1wGDYAHgTehmeSEUu/Aj854Hy4HaWWrTCWjgBp4ukCCx+oAf2pmUremMEDsMTicDiBhrSkPgMJ96nmAxvUB0I7iEC8w1MN0QcoL1xqU9YLHcBfAWncBTe1FhUHweLe91xAKUbKRGYXaBBTqpnYGFgL7ZhP7ZgKewUUzAeYzAa/m5xz0A7zg64qRKB2Qd6AVtIdXHbH33RAxZeu6ET0gJ7W1jYsyBrm+8t1A6CJ+yAEIHZBzoY20GGwAN5QDc+XCC5+eGrB7aDOOH2wkBY4LPwPhaL4c1qU2ERWJlAfzixuqnoJsdCuBFpAag2MQPLsQEbsR0O1i6eLNBeh0W+CMwvUGkh/RmccE/DoroH9KEBHw5wkLBzvIWTsxOuJ1vujUwEVjawlJOyC6n0oR25wPrbQl4E5hdYSREYgRH4h9+R6yJIh31cxgAAAABJRU5ErkJg\"></td><td style='text-align:center;vertical-align:middle; margin: 0.5em;border:1px #90999f solid;border-collapse:collapse'><img style='max-width: 100px; max-height:100px;display:inline' src=\"data:image/png;base64,iVBORw0KGgoAAAANSUhEUgAAAHAAAABwCAAAAADji6uXAAAABGdBTUEAALGPC/xhBQAAAAJiS0dEAP+Hj8y/AAAAB3RJTUUH4gIEExgKHlS4cAAAAxlJREFUaN7t2lmoTVEcx3GZQyGZIkMks5SQTJnlBRFJIiHKI8KDMmcsLzwY8kBukgdJZChjxiQezHOReZ6H77f2rptyD7p3n6P+n5e77znnrt+pu/Za/73WKvcjY+UiMAIj8J8DvyfS6y/4nPiAp3iCV/iI9LMRmN9A/8jG3sDGbuIiTqAIW1GUWIdFWIINuIDzOIjLsI0IzDbQTvEcZxP7sBwzMQV90DXRCc3QAl6PxgJMx2CMx068QARmE2hn8Z98DCMxEN3RBjbaCJUSFVE+URO9YdBUDEDbxCxcQQRmE6iX2IGGqJGoijSgCnyvCWrB92x4FXZjC1ZjKRbiAErspRFY6oGfcBh2FhtujuowrDJ8zQ41CYPQAV5fxSPcx13cg9fv8Q0RmF2gN/81LMNwTIYdxLDGmAYn2OPYiDnYhl/b+AongvS1CMwuUBa152BD++HAXBt2EifUt7Az3MJJ3MaPHCIw20Bv1HewCH6G+XDyHYejSB9w7Bi5giIwP4GyQYMtih0EHLQtqpxQi9/QEVi4gSk7jw80PdEKPoxaaEXg/xNox3kAC1sDfTA9BYskO1QEFn6gLI5Pw0WD1hgFF4IOwQeVPxnEIzC/gfJmt6jqAQvjdpgNiyiLrt8tzEZg4QTa4ENswhDUQXvMxRm4wB6BhR0ob3AH8u0YiwZwUchC2QW8CCz8wDQ0XYTvDxdru8Av4eZKBBZ+oDf4a1hEjYCB9bEGJRVVEZjfQIthF4Ieww1JNyYnwsXbCmgKF+bdiI7A/AcWX1y1AHZh6DqOYB66wYC6cJOrHvrCYqqkLx2BZRuYHhS4gUvwkIALtHuxAhPQES7SurlVDU6+hvuAugd+sQjMNtCDNzbshzdjPWZgDNwgGYbOKB7itR2mF9xM3gU3ufyyOR9mIrDUAz2MsxhD0RI25sakDbuxXCGRTrAWSg7Ya+HmyR2kh65yhUVg2QV62MaHSxcIDHMw9qCHh3T6wUM4hqyEi0Buank4xAk5V0AEln1g8V8ceD305iTrRoiDtj99zQHCAupvNrYiMPvALERgqfsJKV1MKpovigsAAAAASUVORK5C\"></td></tr><tr><td style='text-align:center;vertical-align:middle; margin: 0.5em;border:1px #90999f solid;border-collapse:collapse'><img style='max-width: 100px; max-height:100px;display:inline' src=\"data:image/png;base64,iVBORw0KGgoAAAANSUhEUgAAAHAAAABwCAAAAADji6uXAAAABGdBTUEAALGPC/xhBQAAAAJiS0dEAP+Hj8y/AAAAB3RJTUUH4gIEExgKHlS4cAAAA0RJREFUaN7t2lmIjWEcx/GJse8hKYQsd4wtpISUpSQlZL8gyZooe/a1uHGhlCRbSQqFXIjkgiRkiUQY+z52Bt9vvW+dTsyZqXPecy6ez4UxZ5r39148y//5P1P0J2FFITAEhsAqB/5GOX6hPOJnqT9PFQILJ9Bf/oYXuI07eIhHeIJXeIeXeAq//4TX8Oel8Gc/kfoiITC5wB/wFw9jDmZhOdZiBRZiFZZgKbZgP3bAz9djD+7hBnyhEJhs4Hdcgw9sgxqojcZoCT/rgGaoiepohFZoh+4YDV9wFMbjKEJgcoEu0rewHcPQEe3RFIZXixSjLnyRBjC8PgZiJqahC3zBqQiByQXKxfky9mEDFmMQGsJBYpAvMQTjMAAOml5w0p+HA2UzXCgqHDQhMCeBDpwyPMddnMAMOLHroSdcyE/hAnZjMtbAjdrffYPSyBeEwGQDFRfC73ES8+HCbKj/d1BZPFksucmexk34ffrL+zUEJh8Y+4wrWITecMBYPLk4xA/zwPMBfv3fc0Jg/gItjD2o7MJw9IUF1mNU9hkhML+BDgwnuIu0RW1XjMFeXEd8WAmBhRsoJ7SNhU1w4nfGSGyEi7gHoBBY2IFuxl9xEXNRAg8pI3AQNpHihTwEFmZgzEX8GKbAw0trLIAbdKaBEwILI9CBYfP1OMaiDtyQ3Zw9+ITAwg60mCqLvIULgI2iFpiO+wiB+Q2MLzUcGD7cRoAHFC9DbNhaRDnpd0ZsAtngs7k3CTYfqnSYCYFZDbQR4AWXh89nsMC16eOEttkzEX1gEVwSsUFkU9aCyuIq0yYcAnMT6ED5CBs6V3EGWzEBNti7oTmc4LVggF9t1DpYvCzxkHoWFQ2YEJi7QA8oRzAUPeBg6AQf5qSOL0RsrLvZWjT5Ev1hIbUOh5Bp8w2BuQm0cb4S8QWIE7k44iDxMsTPvezy8Dkbq3EAl2Dx+wA2+TINmBCYm8DBaAsHQxN4kezAiS8o+2EeDHDz9Q8BLILdlF3s3aTTG+ohMNlAJ68LtJdUy+Ak3gYvm8/BBd2FwYsSH57+R1hVFQKzH+g/Fj4WTG6+FruGxH904+CwqKrMpA6B+Qv8l3iAZCMkBOYnMFdCYNb9BUbb9hu0fcOFAAAAAElFTkSuQmCC\"></td><td style='text-align:center;vertical-align:middle; margin: 0.5em;border:1px #90999f solid;border-collapse:collapse'><img style='max-width: 100px; max-height:100px;display:inline' src=\"data:image/png;base64,iVBORw0KGgoAAAANSUhEUgAAAHAAAABwCAAAAADji6uXAAAABGdBTUEAALGPC/xhBQAAAAJiS0dEAP+Hj8y/AAAAB3RJTUUH4gIEExgKHlS4cAAAAplJREFUaN7t2kuITmEcgPGpcRlSQkoumWHKxt2QcYlGZGFjoaSwVDYWFtOEsFGzoISMwoZCRrObxYzLzIJCkeSyEDOU3CI07rfnqe/b6cz3lTnnqP9vNzXmOeo97/mf9/sqfqesIoIRjGAEI/hXv/AJT3ADjxDBfAcNfEEf3uI9WrERm9GNCOYv+BPf8Q2vcRHHsQdnUYcZ2IVniGB+gi4OAw9xDV04hlWYjYXYhA04invwwiKYbdCIN/NjXMJJbEM9xqISgzABO+CN/gBuAi6qpP9ABAc+6D+4iUMwsgZzMQ5VGA6j4+GCOQc3hf4WXwTTC36Ef2QBRsFIZYE/L8N2uEnvxVWUGotgOkFvejfpBkzBPBgaijm4gK/4gB68QwTzFXTIdRN2w94JB9yVGI318GK8qHIiEUw3KDdjB6fncDM/gflws3ZQeorPBT8QwfwFi1xAxm+hCTPhAvICOnAZHiA4cLkZ+PsRzFewyIXjUHwQ01CDRViORrih38ZLJL3IRDC7oLzBX8EFswK1GINJcEPYijPwQCFpM4hgdkF5Yzs0ebM7LHsotBYOWT6g18EDWjeBCOYzWIy6oTtIvcF5TISHDA7KvtwkHSxEMPtgkS+uDsUOyy6aIViM64jg/xHshAezUzEMvrz6ML6PCOY76MvqKThAjcRgVMPFcxdJG3cEsw06GPXiMGahqsCDoyNwwCrl70Qwm6AxvxTQDAMetI/AUrTAC+nvJSaC2QQdmByUPFQ4gOnwoNaHrTf+abxAOYdDEUwv6MGdh3je1C4OX1ZcLA5Mq9EGX2xKOQyKYPpBH6I+TPdhCTw8mAw/vNyNK/CDknJCEUw36CB7B34ouQX70Q6/HOABnl++KnexRDDd4ECK4D/3BwbCBpdkDseKAAAAAElFTkSuQmCC\"></td><td style='text-align:center;vertical-align:middle; margin: 0.5em;border:1px #90999f solid;border-collapse:collapse'><img style='max-width: 100px; max-height:100px;display:inline' src=\"data:image/png;base64,iVBORw0KGgoAAAANSUhEUgAAAHAAAABwCAAAAADji6uXAAAABGdBTUEAALGPC/xhBQAAAAJiS0dEAP+Hj8y/AAAAB3RJTUUH4gIEExgKHlS4cAAAAm1JREFUaN7t2Vtoj2EcwPHlfJw5JCVnu9hKDpELIfeSw40UDdduJGsbSW1SDkkUF5KUUHKIpBApNVwwK0pzyAXJMefzvt/yXpn//Ju975t+n7u1er+rPe/zPP/fv+RnykoiGMEIRjCCEfyPgt/xAS9/+YgfiGC+gj70C97hFV7gHm7jCg6hAVtxHOfgz7U4ga+IYHZBF8EdHEM9lmEOhqE3uqIXhqIcS7ECY1GJzXiNCGYXfIy1MOCDe6ALumEIRmM4/F1/bMF+7MFeXMV7RDC7oC/7NkzFRExCH5RhHgwcxXrMRiPewg39OYy1tZlHML2gHuIUDmMfpmAM1uEWvuEZzuMJOnwAR/CfB+Uh6iH8AKsxDlW4BAMe0p9gvL1nRTCbYMKX+jLmYwI24BGS6N8+J4LZBX2wi+MGvEyNwlx46DbD30Uw38Ek6gK5iCVwE5iBGvgh5zMimO9gwgvSNWzCdHgor0ET2otGMB9B+aK3YBdmwQW0EW7ohTbzCOYn6OXKoZ6BI+gJhwm70dYwIYL5CbogfKCH7kk44PPDTV84cJiJm/jTxTiC2QWTS9R9GHKY4CVqMirgwMGFY9ChYATzFXShOCjygN2BhRgPh3pGBmAE3MAXodClOILpB425SXtpqoOLpB8czA7ENCyHh6+L6S4KPS+C6QY9ZB3wHcRKjER3OHA3vB1n4Gbtl2HJHxjBfAQdBF2HAyAvR6XwgB2ExXARFfNlcwTTDfqPv4AF8MPmYDhg90vLA/Dy6wfPYkIRTD94GqtQjZ04Cy9HvuDFDGQjmE1Qb/AUvtxeoFwkHQlFMP1gZ4lgBCP4m1YwTmmnvlNi9gAAAABJRU5ErkJg\"></td><td style='text-align:center;vertical-align:middle; margin: 0.5em;border:1px #90999f solid;border-collapse:collapse'><img style='max-width: 100px; max-height:100px;display:inline' src=\"data:image/png;base64,iVBORw0KGgoAAAANSUhEUgAAAHAAAABwCAAAAADji6uXAAAABGdBTUEAALGPC/xhBQAAAAJiS0dEAP+Hj8y/AAAAB3RJTUUH4gIEExgKHlS4cAAAAmRJREFUaN7t2k9oz2EcwPHVGubPkVoif9ZayYUpycG/xNJyMk27TUmR424OTrJWohzIgRMhfw9Tcpgm5rBdMBYihJph8595vw+7bfYzPL9n9Xldfmu173uH5/s8z/f5/kqGEiuJYAQjmCT4Ez/gZwTzDnrRT/iAQbxCD7rxAiP9TQTzCH7HRzzFBRzDaezALGzANUQwj6A37zcMwMAdnEUL9mA5VmE7/FyDg3iOCBY/aOw9buMEmrEZ1SjDZEzCJpzEeXjT92G0a0YwbfArHCSNWIiZmAZDc7ECxvfCiBO4E/rvrhnBtEEn6ftowmKsRCkqcAAdOI4rGCpQBNMG5ULrhb3xz2EpXGDvwYnBDdRbRDDfoLywG9672IgadKHQSASLHxyOvsZ+zMFRuKnydxGcGEG5uD7EWrgA16EVz+BEH8H8g/LBpg3e/G6qKrEPjzHWBiqCeQTlBrkTu2FwPvz5DSI4MYLD0V5sgw83HghdxGdEMP+gE/VLXMdWlMMHnEtw4xzBvINe0A2xC+96zMZULIKDJoL5Bt0Iv8NlbIGL7xR4w6/DYTyAC3QE8wwaOwUvPgNO2AtQDw8cnsCH1pFeUkawuEEHgQ+dR+CB7HQYmwc3TjfgQbwT+lixCKYPenDnIbsvtnx4cZL2ZvcFlwez/iNupgoJRTB90IX0DBpQBWO+JKmFE7gTQSEPoBFMH/wCv8DhoFgNF1oP85ZgJ67CF1t/MlAimDb4CL5c9rDAB5Rl2IVDuIXxDpYIpgvehF/k8AZ3kLjBbYcHs07m4x0sEUwXdFD0428uGsHiBv+3CP5zvwBWVOuXgUn1xwAAAABJRU5ErkJg\"></td><td style='text-align:center;vertical-align:middle; margin: 0.5em;border:1px #90999f solid;border-collapse:collapse'><img style='max-width: 100px; max-height:100px;display:inline' src=\"data:image/png;base64,iVBORw0KGgoAAAANSUhEUgAAAHAAAABwCAAAAADji6uXAAAABGdBTUEAALGPC/xhBQAAAAJiS0dEAP+Hj8y/AAAAB3RJTUUH4gIEExgKHlS4cAAAAtxJREFUaN7t2kmojWEcx/EbGXOVIWFh6JIhkQiJklIkGSIWMi+EsLAQMkSRlVhgR5EFikQyrRQyZFhQyJTZlXnm+n7LWzeLc84t9zlv+X82dzrv83sXz/h/bkVNYhURGIERGIH/UeAPfMV7PMVzvMZbvMMnfMNPRGD+Ag17jAvYh1VYiBkYj4lYj0O4hJO4gUf4jr/b88UiMG3gMyxBd7RBq1oq0RTt0AvDMAYL4Isdh+G+xAH49SYiMG2gA9tO0R8d0R7N0QCN0Bit4Qv4vX/rgIGYg5WYBH+2kx1BBKYNdOCfxyYsxlwMQjPYabphCqaiL+xEvoiNL8JMjMRwzMIDRGDaQL3BbVzFaayFA90ONB37cRY7MA5V2A5f1M87AZzBZdRuNwLTBbo5cuF0Qa3GMdgpOmMprsDPfMFFrIZhPvsLPpc9H4HlCcz4sA3fgxOBE/oIHEbWmKF2MDfLxdqLwPSBGQ82bo5WoB+W4Ql8oVLbiMDyBtrwRzjInbyHYC88sNYlNALLF5iFGuDi2xtOAptxHXaqCMx/YBb6AuuQHWA8+Di5u4GOwPwHygX5FiwWdYWTwG64ABcr9kVgPgJlgfYUJqMTPKAehQXcQpN5BOYn0EZf4SBGoScsKFjULfRcBOYn0AH+GS/hAdViXx9sgb+PwPwGGmQB9yG8JDkBC3hN0BLz4eVYBOYv0CA3wS68TtJugOfBwp5Fv4aw8LccTuARmJ9AJ2kXWzuJQRZqvbA0xE5S+YcDfzB2olB7EZgu0CALs+ewBxvgQtsFLeBA95LLjuLBdDbcDN9FBJY30MXzPrzk2IppsEE3u152ebHlJeYAjMZGuCH2YtmJoaaICKz/wDvYhgnoAQd0W1hAMGgoLM66AbZA+wGlFoUisP4D7TBuimzQg6adYizcGK3BLlyDh5hSikARmD7QC0Y3uf7DnJfOboYczC7AFti93KrrxUgEpg1MIQL/ud8ZLbNZd2Wu/QAAAABJRU5ErkJg\"></td><td style='text-align:center;vertical-align:middle; margin: 0.5em;border:1px #90999f solid;border-collapse:collapse'><img style='max-width: 100px; max-height:100px;display:inline' src=\"data:image/png;base64,iVBORw0KGgoAAAANSUhEUgAAAHAAAABwCAAAAADji6uXAAAABGdBTUEAALGPC/xhBQAAAAJiS0dEAP+Hj8y/AAAAB3RJTUUH4gIEExgKHlS4cAAAAyxJREFUaN7t2knIzVEYx/E3mTMTNsYMEZGpZIhkCBlCWJgKocwLwwYb4wYZUqQIWQiFIiGSoQwRkinzPGaev996b93eeqfFvf+7eD4b9Xrv+SnnPPec55y8f1mWF4E5F/gXv/ELP/ERT/EQL/AFEZi7gQY4+HmcxWVsxmgMxAKcwg9EYPKBqcnhh7/iJbZiPoZiBKahM2qgJabjBPz9CMxuoIMX/JkfegInxn4sRy80QVM4SWZhEhZiE87gPf4gArMX6F+6oL/hHe7jCg5jDaagP9qiJiqgDVZiH/y9S3gAC3nB8SMws4Eu7NQX6C0cxXpYhEeiNSqhLCrkq4w+uInHeI3PsECkT5YIzE6gi/siXMDd0RGt4OKug4ooD4tzAzREM0xFeoEuSgRmNtAFfxvzUBcGOEHKpDHMf8wojMV4bEAE5kagX7wu2iNwwC6wSNeDYS56f7YNN2BxOAAnmoeZCEw+MMUCfhwbsQJj4MKvj5kwyAnmYbOwIh2ByQbKSfAKd7AXLnYL9TLcxd80JQ2LwOwGysEMNnQG3ERNhg0EJ01pgiIwmcAUv1wt6MPRDatwDY/wFqWZOBGYTKAs6HswAD0xG6vhIdRDjAdYi3hx4RGYXKCDPYebXgu5BxwbeP3gofUqPIwWVxAiMLlA2XRwse/CRDSHm2MPOBOwE/dQ1MSJwGQDU6E2XW3geaiZg+r5emA7bAoWFhqByQemuLmyoF+HzaNyaASbuJ8QgbkdaIG2kJ+GhdsCYKDNviUwsLDPRmCygS56B/PiZC2GoQWqojZ6Yws+IAJzK9ANlIO4yHfAxp9NIieKTb9a8OL5GNwQFzVWBGY30CAH8LByCIvhl6yNPi9MnCztsQhuhNMfeURgsoEG2Xy1IeRAPvLwcYdFukq+xhiMdXAyfUdxYRGY+UD/071wPgebBePQAQ7uRteFblgneCF2ED4IKclkicDsBFqgT8KHAjbyfJhTDS5yi7R/tsNSXICHFr+USxoWgZkPfAY3QV3hwwDD3BxZoIfABvtueDFtYSjtJUkEZj7Qh8ReUPbFIPgwYC68uPRRowXhDUpzQRmBGQ/8D/QwdfobAqREAAAAAElFTkSuQmCC\"></td><td style='text-align:center;vertical-align:middle; margin: 0.5em;border:1px #90999f solid;border-collapse:collapse'><img style='max-width: 100px; max-height:100px;display:inline' src=\"data:image/png;base64,iVBORw0KGgoAAAANSUhEUgAAAHAAAABwCAAAAADji6uXAAAABGdBTUEAALGPC/xhBQAAAAJiS0dEAP+Hj8y/AAAAB3RJTUUH4gIEExgKHlS4cAAAAk9JREFUaN7t2UuITXEcwPEJ4xEikzzynKJYDAvy3lDKiiwsPEZEmvLIyopQItlQKFFCEWmaslAsaJqNqVkgUiy8xjuPMIMxfL91b92myR3TuP+Tfp/VdLtzvqfu+f//5/xP2a8SK4tgBCMYwQhGMIIRjGAEuxFsxWs04znu4Q7u4wk+4TOe4QGe4isimI1gGx5iP7ZgG7bCv2uwHquwERuwCX5+A0exE1fRggimCfrFBszBMAzFKIxGBQZiAIZgOCZgCTajEtPhyb5BBNMEHcC3sAbzMAb90AuGDFRhHMoxCydxDAdwHLfxAxFME3Tgv8IVXMIKjIQXz2w4sA9jO5bC0As057zFdxQeM4KlDaod32B8H2ZiEU7DAe3k4KJ8Ey7Ihf+njseLYOmDcuC+hIvvNKzDdXgS+e/8zCl2rAimCfrje0N8AS7Gq1GLj/DzroQimDaYj/qgshxGq3EGTfiCrkYjmC4oJ4BzWIixMLwLj/Cnh9AIZieo97gGH0rHYxL24C4KJ/MIZjfoBOCN02OchdEpOIgPiGD2g14YLrzeVDkRTEZfLIabSJ3d/EYwfdADu8gauYy9cKNhAdwwGoyVcAOh2OCPYGmC/vBuBhhxg70eR7AME2GgPwbBzb75cEPhHYqdfAT/fdAXHnU4DzfPvWGaixEoz/FCmYG1OARPyE2gbj2QRrDHg8byA7oPnJh7wwtkKhzwp9AIF+GOm3cRTB+UDycXsRs74GR9Ar648qWlE3SxhTaCaYOdMfI3G0ARzF6wp0QwghGM4H8Y/A2Ror7336C8TAAAAABJRU5ErkJg\"></td><td style='text-align:center;vertical-align:middle; margin: 0.5em;border:1px #90999f solid;border-collapse:collapse'><img style='max-width: 100px; max-height:100px;display:inline' src=\"data:image/png;base64,iVBORw0KGgoAAAANSUhEUgAAAHAAAABwCAAAAADji6uXAAAABGdBTUEAALGPC/xhBQAAAAJiS0dEAP+Hj8y/AAAAB3RJTUUH4gIEExgKHlS4cAAAAlZJREFUaN7t2U1oz3EcwPFd5GllrSWnmZHLXJBiBzkZZZGDi8iVkBzcFslDO5AorVZD7p4LOzjIhgORg8yWCUseI0/zsHm/a7/bv///v4Pf/2t9XpfNVr+32vf33ff7WdVozqoiGMEIRjCCEZxgwRH8xjd8wo8xfi2CaQd/4h2e4j4u4wxu4hx2YB8GEMHKB10Y3/EWPvw0fNhmrEALmrEU27AaM7AR/YhgZYMujsfYj4WYjVrUYBqmw39PxWK04yi60AP/oxGsbHAYt7EbjZgDF8Qk+LEVe7AOW/EEn/EVbuKFnhnBfIP6gHs4DzfmTZiJNbiI53DTvgZjpZ4XwfyD+gMPRq9xEvVYiztwc3dxuUj8PIJpBjNfcBe+6LNwFh6CywlFMI2gD/bl9iX35ffwdBwPUOiXbQTTC2ZRLzIdmI9F2AUPW8UuohFMJ5gZwgkswVy0oQ+lohFMJ+iDX+EYlsHoQbxABP+PoJfVj3gIF4wX1OW4Cr8XwfSCI2M88LowPExdgi//BkyGi+cKPBhHMJ1gNkg35IbtAeoIHCKsxDzUoRoekLMLTgTTCHoRdcjjRdRh3QGsh4M+D8IO96bAjXsLHDy8QbFnRjCfoD/0bHPuxmH4ci+AC8ShbAMcym7HdThQ98I6WkIE8wl6uXyEU1gFh+uG/CXrUMjBrAvoFoy4WZc7WIhgPkEvJTvRBBeIw3UHCC6cQ7gBL6VuDOVEIph/cBCd2AsD/vHqAnrhRv4L4w1FMN+gL74Hpmd4iffwBTc0nmFsBCsX/JciGMEIRnACBv8CkcMr9oWQeXgAAAAASUVORK5C\"></td></tr></tbody></table>"
      ],
      "text/plain": [
       "8×2 Array{Array{ColorTypes.Gray{Float32},2},2}:\n",
       " ColorTypes.Gray{Float32}[Gray{Float32}(1.0) Gray{Float32}(1.0) … Gray{Float32}(1.0) Gray{Float32}(1.0); Gray{Float32}(1.0) Gray{Float32}(1.0) … Gray{Float32}(1.0) Gray{Float32}(1.0); … ; Gray{Float32}(1.0) Gray{Float32}(1.0) … Gray{Float32}(1.0) Gray{Float32}(1.0); Gray{Float32}(1.0) Gray{Float32}(1.0) … Gray{Float32}(1.0) Gray{Float32}(1.0)]  …  ColorTypes.Gray{Float32}[Gray{Float32}(1.0) Gray{Float32}(1.0) … Gray{Float32}(1.0) Gray{Float32}(1.0); Gray{Float32}(1.0) Gray{Float32}(1.0) … Gray{Float32}(1.0) Gray{Float32}(1.0); … ; Gray{Float32}(1.0) Gray{Float32}(1.0) … Gray{Float32}(1.0) Gray{Float32}(1.0); Gray{Float32}(1.0) Gray{Float32}(1.0) … Gray{Float32}(1.0) Gray{Float32}(1.0)]\n",
       " ColorTypes.Gray{Float32}[Gray{Float32}(1.0) Gray{Float32}(1.0) … Gray{Float32}(1.0) Gray{Float32}(1.0); Gray{Float32}(1.0) Gray{Float32}(1.0) … Gray{Float32}(1.0) Gray{Float32}(1.0); … ; Gray{Float32}(1.0) Gray{Float32}(1.0) … Gray{Float32}(1.0) Gray{Float32}(1.0); Gray{Float32}(1.0) Gray{Float32}(1.0) … Gray{Float32}(1.0) Gray{Float32}(1.0)]     ColorTypes.Gray{Float32}[Gray{Float32}(1.0) Gray{Float32}(1.0) … Gray{Float32}(1.0) Gray{Float32}(1.0); Gray{Float32}(1.0) Gray{Float32}(1.0) … Gray{Float32}(1.0) Gray{Float32}(1.0); … ; Gray{Float32}(1.0) Gray{Float32}(1.0) … Gray{Float32}(1.0) Gray{Float32}(1.0); Gray{Float32}(1.0) Gray{Float32}(1.0) … Gray{Float32}(1.0) Gray{Float32}(1.0)]\n",
       " ColorTypes.Gray{Float32}[Gray{Float32}(1.0) Gray{Float32}(1.0) … Gray{Float32}(1.0) Gray{Float32}(1.0); Gray{Float32}(1.0) Gray{Float32}(1.0) … Gray{Float32}(1.0) Gray{Float32}(1.0); … ; Gray{Float32}(1.0) Gray{Float32}(1.0) … Gray{Float32}(1.0) Gray{Float32}(1.0); Gray{Float32}(1.0) Gray{Float32}(1.0) … Gray{Float32}(1.0) Gray{Float32}(1.0)]     ColorTypes.Gray{Float32}[Gray{Float32}(1.0) Gray{Float32}(1.0) … Gray{Float32}(1.0) Gray{Float32}(1.0); Gray{Float32}(1.0) Gray{Float32}(1.0) … Gray{Float32}(1.0) Gray{Float32}(1.0); … ; Gray{Float32}(1.0) Gray{Float32}(1.0) … Gray{Float32}(1.0) Gray{Float32}(1.0); Gray{Float32}(1.0) Gray{Float32}(1.0) … Gray{Float32}(1.0) Gray{Float32}(1.0)]\n",
       " ColorTypes.Gray{Float32}[Gray{Float32}(1.0) Gray{Float32}(1.0) … Gray{Float32}(1.0) Gray{Float32}(1.0); Gray{Float32}(1.0) Gray{Float32}(1.0) … Gray{Float32}(1.0) Gray{Float32}(1.0); … ; Gray{Float32}(1.0) Gray{Float32}(1.0) … Gray{Float32}(1.0) Gray{Float32}(1.0); Gray{Float32}(1.0) Gray{Float32}(1.0) … Gray{Float32}(1.0) Gray{Float32}(1.0)]     ColorTypes.Gray{Float32}[Gray{Float32}(1.0) Gray{Float32}(1.0) … Gray{Float32}(1.0) Gray{Float32}(1.0); Gray{Float32}(1.0) Gray{Float32}(1.0) … Gray{Float32}(1.0) Gray{Float32}(1.0); … ; Gray{Float32}(1.0) Gray{Float32}(1.0) … Gray{Float32}(1.0) Gray{Float32}(1.0); Gray{Float32}(1.0) Gray{Float32}(1.0) … Gray{Float32}(1.0) Gray{Float32}(1.0)]\n",
       " ColorTypes.Gray{Float32}[Gray{Float32}(1.0) Gray{Float32}(1.0) … Gray{Float32}(1.0) Gray{Float32}(1.0); Gray{Float32}(1.0) Gray{Float32}(1.0) … Gray{Float32}(1.0) Gray{Float32}(1.0); … ; Gray{Float32}(1.0) Gray{Float32}(1.0) … Gray{Float32}(1.0) Gray{Float32}(1.0); Gray{Float32}(1.0) Gray{Float32}(1.0) … Gray{Float32}(1.0) Gray{Float32}(1.0)]     ColorTypes.Gray{Float32}[Gray{Float32}(1.0) Gray{Float32}(1.0) … Gray{Float32}(1.0) Gray{Float32}(1.0); Gray{Float32}(1.0) Gray{Float32}(1.0) … Gray{Float32}(1.0) Gray{Float32}(1.0); … ; Gray{Float32}(1.0) Gray{Float32}(1.0) … Gray{Float32}(1.0) Gray{Float32}(1.0); Gray{Float32}(1.0) Gray{Float32}(1.0) … Gray{Float32}(1.0) Gray{Float32}(1.0)]\n",
       " ColorTypes.Gray{Float32}[Gray{Float32}(1.0) Gray{Float32}(1.0) … Gray{Float32}(1.0) Gray{Float32}(1.0); Gray{Float32}(1.0) Gray{Float32}(1.0) … Gray{Float32}(1.0) Gray{Float32}(1.0); … ; Gray{Float32}(1.0) Gray{Float32}(1.0) … Gray{Float32}(1.0) Gray{Float32}(1.0); Gray{Float32}(1.0) Gray{Float32}(1.0) … Gray{Float32}(1.0) Gray{Float32}(1.0)]  …  ColorTypes.Gray{Float32}[Gray{Float32}(1.0) Gray{Float32}(1.0) … Gray{Float32}(1.0) Gray{Float32}(1.0); Gray{Float32}(1.0) Gray{Float32}(1.0) … Gray{Float32}(1.0) Gray{Float32}(1.0); … ; Gray{Float32}(1.0) Gray{Float32}(1.0) … Gray{Float32}(1.0) Gray{Float32}(1.0); Gray{Float32}(1.0) Gray{Float32}(1.0) … Gray{Float32}(1.0) Gray{Float32}(1.0)]\n",
       " ColorTypes.Gray{Float32}[Gray{Float32}(1.0) Gray{Float32}(1.0) … Gray{Float32}(1.0) Gray{Float32}(1.0); Gray{Float32}(1.0) Gray{Float32}(1.0) … Gray{Float32}(1.0) Gray{Float32}(1.0); … ; Gray{Float32}(1.0) Gray{Float32}(1.0) … Gray{Float32}(1.0) Gray{Float32}(1.0); Gray{Float32}(1.0) Gray{Float32}(1.0) … Gray{Float32}(1.0) Gray{Float32}(1.0)]     ColorTypes.Gray{Float32}[Gray{Float32}(1.0) Gray{Float32}(1.0) … Gray{Float32}(1.0) Gray{Float32}(1.0); Gray{Float32}(1.0) Gray{Float32}(1.0) … Gray{Float32}(1.0) Gray{Float32}(1.0); … ; Gray{Float32}(1.0) Gray{Float32}(1.0) … Gray{Float32}(1.0) Gray{Float32}(1.0); Gray{Float32}(1.0) Gray{Float32}(1.0) … Gray{Float32}(1.0) Gray{Float32}(1.0)]\n",
       " ColorTypes.Gray{Float32}[Gray{Float32}(1.0) Gray{Float32}(1.0) … Gray{Float32}(1.0) Gray{Float32}(1.0); Gray{Float32}(1.0) Gray{Float32}(1.0) … Gray{Float32}(1.0) Gray{Float32}(1.0); … ; Gray{Float32}(1.0) Gray{Float32}(1.0) … Gray{Float32}(1.0) Gray{Float32}(1.0); Gray{Float32}(1.0) Gray{Float32}(1.0) … Gray{Float32}(1.0) Gray{Float32}(1.0)]     ColorTypes.Gray{Float32}[Gray{Float32}(1.0) Gray{Float32}(1.0) … Gray{Float32}(1.0) Gray{Float32}(1.0); Gray{Float32}(1.0) Gray{Float32}(1.0) … Gray{Float32}(1.0) Gray{Float32}(1.0); … ; Gray{Float32}(1.0) Gray{Float32}(1.0) … Gray{Float32}(1.0) Gray{Float32}(1.0); Gray{Float32}(1.0) Gray{Float32}(1.0) … Gray{Float32}(1.0) Gray{Float32}(1.0)]"
      ]
     },
     "execution_count": 17,
     "metadata": {},
     "output_type": "execute_result"
    }
   ],
   "source": [
    "[MNIST.convert2image(reshape(augment(train_x[:,:,:,1], pl), (28, 28))) for i in 1:8, j in 1:2]"
   ]
  },
  {
   "cell_type": "markdown",
   "metadata": {},
   "source": [
    "As we can see, we can achieve a wide range of effects, from\n",
    "more subtle to more pronounced. The important part is that all\n",
    "examples are still clearly representative of the true label."
   ]
  },
  {
   "cell_type": "markdown",
   "metadata": {},
   "source": [
    "Next, we have to adapt the function `train_baseline` to make\n",
    "use of our augmentation pipeline. To integrate Augmentor\n",
    "efficiently, there are three necessary changes we have to\n",
    "make."
   ]
  },
  {
   "cell_type": "markdown",
   "metadata": {},
   "source": [
    "1. Preallocate a buffer with the same size and element type\n",
    "   that each batch has.\n",
    "\n",
    "   ```\n",
    "   batch_x_aug = zeros(Float32, 28, 28, 1, batchsize)\n",
    "   ```"
   ]
  },
  {
   "cell_type": "markdown",
   "metadata": {},
   "source": [
    "2. Add a call to [`augmentbatch!`](@ref) in the inner loop of\n",
    "   the batch iterator using our pipeline and buffer.\n",
    "\n",
    "   ```\n",
    "   augmentbatch!(batch_x_aug, batch_x_org, pl)\n",
    "   ```"
   ]
  },
  {
   "cell_type": "markdown",
   "metadata": {},
   "source": [
    "3. Replace `batch_x_org` with `batch_x_aug` in the constructor\n",
    "   of `KnetArray`.\n",
    "\n",
    "   ```\n",
    "   batch_x = KnetArray{Float32}(batch_x_aug)\n",
    "   ```"
   ]
  },
  {
   "cell_type": "markdown",
   "metadata": {},
   "source": [
    "Applying these changes to our `train_baseline` function\n",
    "will give us something similar to the following function.\n",
    "Note how all the other parts of the function remain exactly\n",
    "the same as before."
   ]
  },
  {
   "cell_type": "code",
   "execution_count": 18,
   "metadata": {},
   "outputs": [
    {
     "data": {
      "text/plain": [
       "train_augmented (generic function with 1 method)"
      ]
     },
     "execution_count": 18,
     "metadata": {},
     "output_type": "execute_result"
    }
   ],
   "source": [
    "function train_augmented(; epochs = 500, batchsize = 100, lr = .03)\n",
    "    w = weights()\n",
    "    log = MVHistory()\n",
    "    batch_x_aug = zeros(Float32, size(train_x,1), size(train_x,2), 1, batchsize)\n",
    "    for epoch in 1:epochs\n",
    "        for (batch_x_cpu, batch_y) in eachbatch((train_x ,train_y), batchsize)\n",
    "            augmentbatch!(CPUThreads(), batch_x_aug, batch_x_cpu, pl)\n",
    "            batch_x = KnetArray{Float32}(batch_x_aug)\n",
    "            g = costgrad(w, batch_x, batch_y)\n",
    "            Knet.update!(w, g, lr = lr)\n",
    "        end\n",
    "\n",
    "        if (epoch % 5) == 0\n",
    "            train = acc(w, train_x, train_y)\n",
    "            test  = acc(w, test_x,  test_y)\n",
    "            @trace log epoch train test\n",
    "            msg = \"epoch \" * lpad(epoch,4) * \": train accuracy \" * rpad(round(train,3),5,\"0\") * \", test accuracy \" * rpad(round(test,3),5,\"0\")\n",
    "            println(msg)\n",
    "        end\n",
    "    end\n",
    "    log\n",
    "end"
   ]
  },
  {
   "cell_type": "markdown",
   "metadata": {},
   "source": [
    "You may have noticed in the code above that we also pass a\n",
    "`CPUThreads()` as the first argument to [`augmentbatch!`](@ref).\n",
    "This instructs Augmentor to process the images of the batch in\n",
    "parallel using multi-threading. For this to work properly you\n",
    "will need to set the environment variable `JULIA_NUM_THREADS`\n",
    "to the number of threads you wish to use. You can check how\n",
    "many threads are used with the function `Threads.nthreads()`"
   ]
  },
  {
   "cell_type": "code",
   "execution_count": 19,
   "metadata": {},
   "outputs": [
    {
     "name": "stdout",
     "output_type": "stream",
     "text": [
      "Threads.nthreads() = 12\n"
     ]
    }
   ],
   "source": [
    "@show Threads.nthreads();"
   ]
  },
  {
   "cell_type": "markdown",
   "metadata": {},
   "source": [
    "Now that all pieces are in place, let us train our network\n",
    "once more. We will use the same parameters except that now\n",
    "instead of the original training images we will be using\n",
    "randomly augmented images. This will cause every epoch to be\n",
    "different."
   ]
  },
  {
   "cell_type": "code",
   "execution_count": 20,
   "metadata": {},
   "outputs": [
    {
     "name": "stdout",
     "output_type": "stream",
     "text": [
      "epoch    5: train accuracy 0.510, test accuracy 0.449\n",
      "epoch   10: train accuracy 0.652, test accuracy 0.560\n",
      "epoch   15: train accuracy 0.738, test accuracy 0.683\n",
      "epoch   20: train accuracy 0.798, test accuracy 0.733\n",
      "epoch   25: train accuracy 0.840, test accuracy 0.789\n",
      "epoch   30: train accuracy 0.844, test accuracy 0.797\n",
      "epoch   35: train accuracy 0.902, test accuracy 0.857\n",
      "epoch   40: train accuracy 0.902, test accuracy 0.857\n",
      "epoch   45: train accuracy 0.912, test accuracy 0.880\n",
      "epoch   50: train accuracy 0.918, test accuracy 0.886\n",
      "epoch   55: train accuracy 0.916, test accuracy 0.890\n",
      "epoch   60: train accuracy 0.920, test accuracy 0.883\n",
      "epoch   65: train accuracy 0.944, test accuracy 0.912\n",
      "epoch   70: train accuracy 0.948, test accuracy 0.911\n",
      "epoch   75: train accuracy 0.944, test accuracy 0.902\n",
      "epoch   80: train accuracy 0.938, test accuracy 0.890\n",
      "epoch   85: train accuracy 0.960, test accuracy 0.920\n",
      "epoch   90: train accuracy 0.962, test accuracy 0.920\n",
      "epoch   95: train accuracy 0.962, test accuracy 0.923\n",
      "epoch  100: train accuracy 0.970, test accuracy 0.927\n",
      "epoch  105: train accuracy 0.974, test accuracy 0.930\n",
      "epoch  110: train accuracy 0.986, test accuracy 0.936\n",
      "epoch  115: train accuracy 0.976, test accuracy 0.928\n",
      "epoch  120: train accuracy 0.984, test accuracy 0.931\n",
      "epoch  125: train accuracy 0.988, test accuracy 0.938\n",
      "epoch  130: train accuracy 0.990, test accuracy 0.939\n",
      "epoch  135: train accuracy 0.994, test accuracy 0.935\n",
      "epoch  140: train accuracy 0.992, test accuracy 0.932\n",
      "epoch  145: train accuracy 0.992, test accuracy 0.938\n",
      "epoch  150: train accuracy 0.998, test accuracy 0.933\n",
      "epoch  155: train accuracy 0.996, test accuracy 0.936\n",
      "epoch  160: train accuracy 0.996, test accuracy 0.944\n",
      "epoch  165: train accuracy 0.998, test accuracy 0.937\n",
      "epoch  170: train accuracy 0.998, test accuracy 0.952\n",
      "epoch  175: train accuracy 0.998, test accuracy 0.942\n",
      "epoch  180: train accuracy 0.998, test accuracy 0.948\n",
      "epoch  185: train accuracy 0.998, test accuracy 0.952\n",
      "epoch  190: train accuracy 0.998, test accuracy 0.948\n",
      "epoch  195: train accuracy 0.996, test accuracy 0.940\n",
      "epoch  200: train accuracy 0.998, test accuracy 0.952\n",
      " 33.553784 seconds (38.19 M allocations: 24.122 GiB, 8.59% gc time)\n"
     ]
    }
   ],
   "source": [
    "train_augmented(epochs=1) # warm-up\n",
    "augmented_log = @time train_augmented(epochs=200);"
   ]
  },
  {
   "cell_type": "markdown",
   "metadata": {},
   "source": [
    "As we can see, our network reaches far better results on our\n",
    "testset than our baseline network did. However, we can also\n",
    "see that the training took quite a bit longer than before.\n",
    "This difference generally decreases as the complexity of the\n",
    "utilized neural network increases. Yet another way to improve\n",
    "performance (aside from simplifying the augmentation pipeline)\n",
    "would be to increase the number of available threads."
   ]
  },
  {
   "cell_type": "markdown",
   "metadata": {},
   "source": [
    "## Visualizing the Results"
   ]
  },
  {
   "cell_type": "markdown",
   "metadata": {},
   "source": [
    "Before we end this tutorial, let us make use the\n",
    "[Plots.jl](https://github.com/JuliaPlots/Plots.jl) package to\n",
    "visualize and discuss the recorded training curves.\n",
    "We will plot the accuracy curves of both networks side by side\n",
    "in order to get a good feeling about their differences."
   ]
  },
  {
   "cell_type": "code",
   "execution_count": 21,
   "metadata": {},
   "outputs": [
    {
     "data": {
      "text/plain": [
       "Plots.PyPlotBackend()"
      ]
     },
     "execution_count": 21,
     "metadata": {},
     "output_type": "execute_result"
    }
   ],
   "source": [
    "using Plots\n",
    "pyplot()"
   ]
  },
  {
   "cell_type": "code",
   "execution_count": 22,
   "metadata": {},
   "outputs": [
    {
     "data": {
      "text/html": [
       "<img src=\"data:image/png;base64,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\" />"
      ]
     },
     "execution_count": 22,
     "metadata": {},
     "output_type": "execute_result"
    }
   ],
   "source": [
    "plt = plot(\n",
    "    plot(baseline_log,  title=\"Baseline\",  ylim=(.5,1)),\n",
    "    plot(augmented_log, title=\"Augmented\", ylim=(.5,1)),\n",
    "    size = (900, 400),\n",
    "    xlab = \"Epoch\",\n",
    "    ylab = \"Accuracy\",\n",
    "    markersize = 1\n",
    ")\n",
    "plt"
   ]
  },
  {
   "cell_type": "markdown",
   "metadata": {},
   "source": [
    "Note how the accuracy on the (unaltered) training set\n",
    "increases faster for the baseline network than for the\n",
    "augmented one. This is to be expected, since our augmented\n",
    "network doesn't actually use the unaltered images for\n",
    "training, and thus has not actually seen them. Given this\n",
    "information, it is worth pointing out explicitly how the\n",
    "accuracy on training set is still greater than on the test set\n",
    "for the augmented network as well. This is also not a\n",
    "surprise, given that the augmented images are likely more\n",
    "similar to their original ones than to the test images."
   ]
  },
  {
   "cell_type": "markdown",
   "metadata": {},
   "source": [
    "For the baseline network, the accuracy on the test set\n",
    "plateaus quite quickly (around 90%). For the augmented network\n",
    "on the other hand, it the accuracy keeps increasing for quite\n",
    "a while longer."
   ]
  },
  {
   "cell_type": "markdown",
   "metadata": {},
   "source": [
    "## References\n",
    "\n",
    "**MNIST1998**: LeCun, Yan, Corinna Cortes, Christopher J.C. Burges. [\"The MNIST database of handwritten digits\"](http://yann.lecun.com/exdb/mnist/) Website. 1998."
   ]
  },
  {
   "cell_type": "code",
   "execution_count": 23,
   "metadata": {},
   "outputs": [],
   "source": []
  }
 ],
 "metadata": {
  "kernelspec": {
   "display_name": "Julia 0.6.3",
   "language": "julia",
   "name": "julia-0.6"
  },
  "language_info": {
   "file_extension": ".jl",
   "mimetype": "application/julia",
   "name": "julia",
   "version": "0.6.3"
  }
 },
 "nbformat": 4,
 "nbformat_minor": 2
}
